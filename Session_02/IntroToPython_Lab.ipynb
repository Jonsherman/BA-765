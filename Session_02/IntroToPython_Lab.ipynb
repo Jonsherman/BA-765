{
  "nbformat": 4,
  "nbformat_minor": 2,
  "metadata": {
    "colab": {
      "name": "S_02_IntroToPython_Lab.ipynb",
      "provenance": [],
      "collapsed_sections": [],
      "include_colab_link": true
    },
    "kernelspec": {
      "name": "python3",
      "display_name": "Python 3"
    }
  },
  "cells": [
    {
      "cell_type": "markdown",
      "source": [
        "<a href=\"https://colab.research.google.com/github/Jonsherman/BA-765/blob/main/Session_02/IntroToPython_Lab.ipynb\" target=\"_parent\"><img src=\"https://colab.research.google.com/assets/colab-badge.svg\" alt=\"Open In Colab\"/></a>"
      ],
      "metadata": {
        "id": "view-in-github",
        "colab_type": "text"
      }
    },
    {
      "cell_type": "markdown",
      "source": [
        "# Intro to Python Lab\n",
        "1.   make a new private github project\n",
        "2.   Save this notebook to a that project\n",
        "3.   Answer the following python questions.\n",
        "4.   Then push the new version of this document to your github project\n",
        "5.   Share your github repository with one person from the class, ask them to share their repository with you too. \n",
        "6.   Check each other's code\n",
        "3.   At the end of the notebook of your peer, add a new Text Cell writing \"Well done!!\" and push it to their repository\n",
        "\n",
        "## WELL DONE!"
      ],
      "metadata": {
        "id": "lhtWbX1WT5DB"
      }
    },
    {
      "cell_type": "code",
      "execution_count": 2,
      "source": [
        "# STARTER CODE:\r\n",
        "x = \"Coding in python is so much fun! Python will be my new superpower!\"\r\n",
        "y = 3\r\n",
        "z = 3.0\r\n"
      ],
      "outputs": [],
      "metadata": {
        "id": "KtoaviMXUC5I"
      }
    },
    {
      "cell_type": "code",
      "execution_count": 3,
      "source": [
        "# Q1:  \r\n",
        "# What is the type of the variable x \r\n",
        "type_of_x = type(x)\r\n",
        "print(type_of_x)\r\n",
        "# How many characters are there in the variable x? (You need to discover a new string function to answer this!)\r\n",
        "lenght_of_x = len(x)\r\n",
        "print(lenght_of_x)\r\n"
      ],
      "outputs": [
        {
          "output_type": "stream",
          "name": "stdout",
          "text": [
            "<class 'str'>\n",
            "66\n"
          ]
        }
      ],
      "metadata": {
        "id": "qRuImhtaTqqi",
        "colab": {
          "base_uri": "https://localhost:8080/"
        },
        "outputId": "b20ecdba-e4d1-4685-f512-553dfa34c7b2"
      }
    },
    {
      "cell_type": "code",
      "execution_count": 4,
      "source": [
        "# Q2:  Print out the variable x in all upper case\r\n",
        "x_all_caps = x.upper()\r\n",
        "print(x_all_caps)\r\n",
        "\r\n"
      ],
      "outputs": [
        {
          "output_type": "stream",
          "name": "stdout",
          "text": [
            "CODING IN PYTHON IS SO MUCH FUN! PYTHON WILL BE MY NEW SUPERPOWER!\n"
          ]
        }
      ],
      "metadata": {
        "id": "Xurjt-nzUPAt",
        "colab": {
          "base_uri": "https://localhost:8080/"
        },
        "outputId": "d2318274-6999-4af5-a1e6-ae2ece80936b"
      }
    },
    {
      "cell_type": "code",
      "execution_count": 5,
      "source": [
        "# Q3:  Print the number of times the word python exists in the variable x.\r\n",
        "# HINT:  you may need to change the case to find the instances\r\n",
        "# Python is case sensitive.\r\n",
        "# You will also need to discover a new string function to answer this!\r\n",
        "count_python = x_all_caps.count('PYTHON')\r\n",
        "count_python_statement = 'The word python exists {} times in variable x.'.format(count_python)\r\n",
        "print(count_python_statement)\r\n"
      ],
      "outputs": [
        {
          "output_type": "stream",
          "name": "stdout",
          "text": [
            "The word python exists 2 times in variable x.\n"
          ]
        }
      ],
      "metadata": {
        "id": "NpiDB0M7UPFH",
        "colab": {
          "base_uri": "https://localhost:8080/"
        },
        "outputId": "514cbc1b-d0d8-4211-9f6f-fdb3de04fefd"
      }
    },
    {
      "cell_type": "code",
      "execution_count": 6,
      "source": [
        "# Q4:  Are the variables y and z equal?\r\n",
        "print(\"Are the variables y and z equal?\")\r\n",
        "if y == z: \r\n",
        "    print(\"Yes\")\r\n",
        "else:\r\n",
        "    print(\"No\")"
      ],
      "outputs": [
        {
          "output_type": "stream",
          "name": "stdout",
          "text": [
            "Are the variables y and z equal?\n",
            "Yes\n"
          ]
        }
      ],
      "metadata": {
        "id": "2Cv69LaAUPH8"
      }
    },
    {
      "cell_type": "markdown",
      "source": [
        "# Question 5\n",
        "\n",
        "Below there are two blocks of code to help you get started with the last question. We will cover installing and importing modules later on, but below is a really awesome package that lets us parse news articles!"
      ],
      "metadata": {
        "id": "cvxXv1RrWGZr"
      }
    },
    {
      "cell_type": "code",
      "execution_count": 7,
      "source": [
        "# Q5 starter code 1:\r\n",
        "! pip install newspaper3k\r\n"
      ],
      "outputs": [
        {
          "output_type": "stream",
          "name": "stdout",
          "text": [
            "Requirement already satisfied: newspaper3k in c:\\programdata\\anaconda3\\lib\\site-packages (0.2.8)\n",
            "Requirement already satisfied: beautifulsoup4>=4.4.1 in c:\\programdata\\anaconda3\\lib\\site-packages (from newspaper3k) (4.9.3)\n",
            "Requirement already satisfied: tldextract>=2.0.1 in c:\\programdata\\anaconda3\\lib\\site-packages (from newspaper3k) (3.1.0)\n",
            "Requirement already satisfied: jieba3k>=0.35.1 in c:\\programdata\\anaconda3\\lib\\site-packages (from newspaper3k) (0.35.1)\n",
            "Requirement already satisfied: feedparser>=5.2.1 in c:\\programdata\\anaconda3\\lib\\site-packages (from newspaper3k) (6.0.8)\n",
            "Requirement already satisfied: cssselect>=0.9.2 in c:\\programdata\\anaconda3\\lib\\site-packages (from newspaper3k) (1.1.0)\n",
            "Requirement already satisfied: PyYAML>=3.11 in c:\\programdata\\anaconda3\\lib\\site-packages (from newspaper3k) (5.3.1)\n",
            "Requirement already satisfied: requests>=2.10.0 in c:\\programdata\\anaconda3\\lib\\site-packages (from newspaper3k) (2.24.0)\n",
            "Requirement already satisfied: feedfinder2>=0.0.4 in c:\\programdata\\anaconda3\\lib\\site-packages (from newspaper3k) (0.0.4)\n",
            "Requirement already satisfied: tinysegmenter==0.3 in c:\\programdata\\anaconda3\\lib\\site-packages (from newspaper3k) (0.3)\n",
            "Requirement already satisfied: lxml>=3.6.0 in c:\\programdata\\anaconda3\\lib\\site-packages (from newspaper3k) (4.6.1)\n",
            "Requirement already satisfied: nltk>=3.2.1 in c:\\programdata\\anaconda3\\lib\\site-packages (from newspaper3k) (3.5)\n",
            "Requirement already satisfied: python-dateutil>=2.5.3 in c:\\programdata\\anaconda3\\lib\\site-packages (from newspaper3k) (2.8.1)\n",
            "Requirement already satisfied: Pillow>=3.3.0 in c:\\programdata\\anaconda3\\lib\\site-packages (from newspaper3k) (8.0.1)\n",
            "Requirement already satisfied: soupsieve>1.2; python_version >= \"3.0\" in c:\\programdata\\anaconda3\\lib\\site-packages (from beautifulsoup4>=4.4.1->newspaper3k) (2.0.1)\n",
            "Requirement already satisfied: filelock>=3.0.8 in c:\\programdata\\anaconda3\\lib\\site-packages (from tldextract>=2.0.1->newspaper3k) (3.0.12)\n",
            "Requirement already satisfied: requests-file>=1.4 in c:\\programdata\\anaconda3\\lib\\site-packages (from tldextract>=2.0.1->newspaper3k) (1.5.1)\n",
            "Requirement already satisfied: idna in c:\\programdata\\anaconda3\\lib\\site-packages (from tldextract>=2.0.1->newspaper3k) (2.10)\n",
            "Requirement already satisfied: sgmllib3k in c:\\programdata\\anaconda3\\lib\\site-packages (from feedparser>=5.2.1->newspaper3k) (1.0.0)\n",
            "Requirement already satisfied: urllib3!=1.25.0,!=1.25.1,<1.26,>=1.21.1 in c:\\programdata\\anaconda3\\lib\\site-packages (from requests>=2.10.0->newspaper3k) (1.25.11)\n",
            "Requirement already satisfied: certifi>=2017.4.17 in c:\\programdata\\anaconda3\\lib\\site-packages (from requests>=2.10.0->newspaper3k) (2020.6.20)\n",
            "Requirement already satisfied: chardet<4,>=3.0.2 in c:\\programdata\\anaconda3\\lib\\site-packages (from requests>=2.10.0->newspaper3k) (3.0.4)\n",
            "Requirement already satisfied: six in c:\\programdata\\anaconda3\\lib\\site-packages (from feedfinder2>=0.0.4->newspaper3k) (1.15.0)\n",
            "Requirement already satisfied: regex in c:\\programdata\\anaconda3\\lib\\site-packages (from nltk>=3.2.1->newspaper3k) (2020.10.15)\n",
            "Requirement already satisfied: joblib in c:\\programdata\\anaconda3\\lib\\site-packages (from nltk>=3.2.1->newspaper3k) (0.17.0)\n",
            "Requirement already satisfied: click in c:\\programdata\\anaconda3\\lib\\site-packages (from nltk>=3.2.1->newspaper3k) (7.1.2)\n",
            "Requirement already satisfied: tqdm in c:\\programdata\\anaconda3\\lib\\site-packages (from nltk>=3.2.1->newspaper3k) (4.50.2)\n"
          ]
        }
      ],
      "metadata": {
        "id": "6FVOaLfJUPKC",
        "colab": {
          "base_uri": "https://localhost:8080/"
        },
        "outputId": "41eb611b-5d5b-422c-8298-dda59d537a4e"
      }
    },
    {
      "cell_type": "code",
      "execution_count": 8,
      "source": [
        "# Q5 starter code 2\r\n",
        "from newspaper import Article\r\n",
        "URL = \"https://www.boston.com/travel/travel/2020/09/18/logan-airport-contactless-food-delivery\"\r\n",
        "article = Article(URL)\r\n",
        "article.download()\r\n",
        "article.parse()\r\n",
        "article_text = article.text"
      ],
      "outputs": [],
      "metadata": {
        "id": "LdxhL0AJUPMH"
      }
    },
    {
      "cell_type": "code",
      "execution_count": null,
      "source": [],
      "outputs": [],
      "metadata": {
        "id": "ZCHf2QfAN3Eb"
      }
    },
    {
      "cell_type": "code",
      "execution_count": 9,
      "source": [
        "# Q5A:  print the variable article_text\r\n",
        "print(article_text)"
      ],
      "outputs": [
        {
          "output_type": "stream",
          "name": "stdout",
          "text": [
            "Travel Logan Airport adds PPE vending machines, expands contactless food delivery American Airlines will also reopen its club lounge next month, with safety measures in place. Food being delivered at the airport by AtYourGate. MarketPlace Logan\n",
            "\n",
            "It is becoming easier for safety-conscious travelers at Logan International Airport to buy food and personal protective equipment amid the coronavirus pandemic.\n",
            "\n",
            "The airport installed PPE vending machines in July and is increasing contactless concession options through Grab and AtYourGate. In-airport app AtYourGate operates at 10 airports nationwide, including Logan, delivering food from airport restaurants such as B. GOOD, Not Your Average Joe’s, Lucca, WPizza, and more to travelers within 30 minutes. In June, AtYourGate partnered with airport e-commerce platform Grab, which means the program will expand this fall, according to Marketplace Logan.\n",
            "\n",
            "“As part of a collaboration between Grab and AtYourGate, passengers [at Logan] can now take advantage of pick-up or delivery options at their favorite eatery and select retail locations without having to download an app,” Binni Patel, marketing and customer service manager for Marketplace Logan, wrote in an e-mail. “Passengers will also be able to order from any participating location throughout the airport instead of just those available in their terminal.”\n",
            "\n",
            "Advertisement:\n",
            "\n",
            "Safety measures implemented among Logan concessions include social distancing signage, face covering requirements, contactless payment options, QR codes for restaurant menus, self-order kiosks at select eateries, plexiglass shields at registers, and more.\n",
            "\n",
            "The PPE vending machines, which offer items such masks, sanitary wipes, hand sanitizer, latex gloves, and thermometers, are located pre-security in Hudson stores and Terminals A and B.\n",
            "\n",
            "“We have made every effort to adjust and improve the Boston Logan Concessions Program to keep employees and passengers safe and healthy,” said Paul McGinn, president of MarketPlace Development, in a statement. “In collaboration with our partners at Massport we have not only made necessary adjustments but also introduced new pilot programs and technology to elevate the options available and further facilitate social distancing for our travelers.”\n",
            "\n",
            "Advertisement:\n",
            "\n",
            "Those flying with American Airlines will also notice a change in Terminal B this fall — the airline is reopening its Admirals Club lounge in October. The lounge is one of seven nationwide reopening next month and will open at 50 percent capacity, according to the airline.\n",
            "\n",
            "The lounge will offer complimentary “customer favorites” such as avocado toast and guacamole with chips served in disposable containers by employees in gloves and masks from behind protective acrylic screens, according to the airline. Travelers will also find pre-packaged cheese cubes, hummus, hard-boiled eggs, and fruit, as well as signature menu items accessible by QR code. Health and safety measures will include mandatory face coverings, glass shields, hand sanitizer stations, and more.\n",
            "\n",
            "Advertisement:\n"
          ]
        }
      ],
      "metadata": {
        "id": "LGApw9lRWSrw",
        "colab": {
          "base_uri": "https://localhost:8080/"
        },
        "outputId": "6a41b24c-9c34-4489-d7d2-85a62c4b7b43"
      }
    },
    {
      "cell_type": "code",
      "execution_count": 10,
      "source": [
        "# Q5B: What is the data type for article_text?\r\n",
        "article_text_type = type(article_text)\r\n",
        "print(article_text_type)"
      ],
      "outputs": [
        {
          "output_type": "stream",
          "name": "stdout",
          "text": [
            "<class 'str'>\n"
          ]
        }
      ],
      "metadata": {
        "id": "fSdeQQwvWUfh",
        "colab": {
          "base_uri": "https://localhost:8080/"
        },
        "outputId": "062a8ff2-e7c0-4abd-c1dd-2aee465d2f68"
      }
    },
    {
      "cell_type": "code",
      "execution_count": 11,
      "source": [
        "# Q5C: Save the lower case version of article text to a new variable, article_lower\r\n",
        "article_lower = article_text.lower()\r\n",
        "print(article_lower)"
      ],
      "outputs": [
        {
          "output_type": "stream",
          "name": "stdout",
          "text": [
            "travel logan airport adds ppe vending machines, expands contactless food delivery american airlines will also reopen its club lounge next month, with safety measures in place. food being delivered at the airport by atyourgate. marketplace logan\n",
            "\n",
            "it is becoming easier for safety-conscious travelers at logan international airport to buy food and personal protective equipment amid the coronavirus pandemic.\n",
            "\n",
            "the airport installed ppe vending machines in july and is increasing contactless concession options through grab and atyourgate. in-airport app atyourgate operates at 10 airports nationwide, including logan, delivering food from airport restaurants such as b. good, not your average joe’s, lucca, wpizza, and more to travelers within 30 minutes. in june, atyourgate partnered with airport e-commerce platform grab, which means the program will expand this fall, according to marketplace logan.\n",
            "\n",
            "“as part of a collaboration between grab and atyourgate, passengers [at logan] can now take advantage of pick-up or delivery options at their favorite eatery and select retail locations without having to download an app,” binni patel, marketing and customer service manager for marketplace logan, wrote in an e-mail. “passengers will also be able to order from any participating location throughout the airport instead of just those available in their terminal.”\n",
            "\n",
            "advertisement:\n",
            "\n",
            "safety measures implemented among logan concessions include social distancing signage, face covering requirements, contactless payment options, qr codes for restaurant menus, self-order kiosks at select eateries, plexiglass shields at registers, and more.\n",
            "\n",
            "the ppe vending machines, which offer items such masks, sanitary wipes, hand sanitizer, latex gloves, and thermometers, are located pre-security in hudson stores and terminals a and b.\n",
            "\n",
            "“we have made every effort to adjust and improve the boston logan concessions program to keep employees and passengers safe and healthy,” said paul mcginn, president of marketplace development, in a statement. “in collaboration with our partners at massport we have not only made necessary adjustments but also introduced new pilot programs and technology to elevate the options available and further facilitate social distancing for our travelers.”\n",
            "\n",
            "advertisement:\n",
            "\n",
            "those flying with american airlines will also notice a change in terminal b this fall — the airline is reopening its admirals club lounge in october. the lounge is one of seven nationwide reopening next month and will open at 50 percent capacity, according to the airline.\n",
            "\n",
            "the lounge will offer complimentary “customer favorites” such as avocado toast and guacamole with chips served in disposable containers by employees in gloves and masks from behind protective acrylic screens, according to the airline. travelers will also find pre-packaged cheese cubes, hummus, hard-boiled eggs, and fruit, as well as signature menu items accessible by qr code. health and safety measures will include mandatory face coverings, glass shields, hand sanitizer stations, and more.\n",
            "\n",
            "advertisement:\n"
          ]
        }
      ],
      "metadata": {
        "id": "ml0rqY2TWcOE",
        "colab": {
          "base_uri": "https://localhost:8080/"
        },
        "outputId": "3cf50aed-adbe-4e5f-ea53-a156cd1cbf07"
      }
    },
    {
      "cell_type": "code",
      "execution_count": 12,
      "source": [
        "# Q5D: How many times does the word Logan appear in the variable article_lower?\r\n",
        "count_logan = article_lower.count('logan')\r\n",
        "count_logan_statement = 'Logan appears {} times in this article.'.format(count_logan)\r\n",
        "print(count_logan_statement)"
      ],
      "outputs": [
        {
          "output_type": "stream",
          "name": "stdout",
          "text": [
            "Logan appears 9 times in this article.\n"
          ]
        }
      ],
      "metadata": {
        "id": "_9EBZHT6W9i7",
        "colab": {
          "base_uri": "https://localhost:8080/"
        },
        "outputId": "795a8887-02ac-4987-bd2f-b16af40450be"
      }
    },
    {
      "cell_type": "markdown",
      "source": [
        "## Fun little code! - Aditya"
      ],
      "metadata": {}
    },
    {
      "cell_type": "code",
      "execution_count": 13,
      "source": [
        "name = \"Hi\"\r\n",
        "salutation = \"Jon!\"\r\n",
        "\r\n",
        "# swap variable!\r\n",
        "name, salutation = salutation, name\r\n",
        "\r\n",
        "print(salutation + \" \" + name)"
      ],
      "outputs": [
        {
          "output_type": "stream",
          "name": "stdout",
          "text": [
            "Hi Jon!\n"
          ]
        }
      ],
      "metadata": {}
    }
  ]
}