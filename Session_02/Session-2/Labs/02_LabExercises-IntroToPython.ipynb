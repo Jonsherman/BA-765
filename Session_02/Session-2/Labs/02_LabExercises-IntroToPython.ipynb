{
  "cells": [
    {
      "cell_type": "markdown",
      "metadata": {
        "colab_type": "text",
        "id": "view-in-github"
      },
      "source": [
        "<a href=\"https://colab.research.google.com/github/Jonsherman/BA-765/blob/main/Session-2/Labs/02_LabExercises-IntroToPython.ipynb\" target=\"_parent\"><img src=\"https://colab.research.google.com/assets/colab-badge.svg\" alt=\"Open In Colab\"/></a>"
      ]
    },
    {
      "cell_type": "markdown",
      "metadata": {
        "id": "lhtWbX1WT5DB"
      },
      "source": [
        "# Lab for Session 1\n",
        "1.   make a new private github project\n",
        "2.   Save this notebook to a that project\n",
        "3.   Answer the following python questions.\n",
        "4.   Then push the new version of this document to your github project\n",
        "5.   Share your github repository with one person from the class, ask them to share their repository with you too. \n",
        "6.   Check each other's code\n",
        "3.   At the end of the notebook of your peer, add a new Text Cell writing \"Well done!!\" and push it to their repository\n",
        "\n",
        "## WELL DONE!"
      ]
    },
    {
      "cell_type": "code",
      "execution_count": null,
      "metadata": {
        "id": "KtoaviMXUC5I"
      },
      "outputs": [],
      "source": [
        "# STARTER CODE:\n",
        "x = \"Coding in python is so much fun! Python will be my new superpower!\"\n",
        "y = 3\n",
        "z = 3.0\n"
      ]
    },
    {
      "cell_type": "markdown",
      "metadata": {},
      "source": []
    },
    {
      "cell_type": "code",
      "execution_count": null,
      "metadata": {
        "colab": {
          "base_uri": "https://localhost:8080/"
        },
        "id": "qRuImhtaTqqi",
        "outputId": "fb3f076e-17d7-4d85-d113-f68c25d751d0"
      },
      "outputs": [
        {
          "name": "stdout",
          "output_type": "stream",
          "text": [
            "Type of the variable x:  <class 'str'>\n",
            "Characters in the variable x:  66\n"
          ]
        }
      ],
      "source": [
        "# Q1:  \n",
        "# What is the type of the variable x\n",
        "print(\"Type of the variable x: \",type(x))\n",
        "# How many characters are there in the variable x? (You need to discover a new string function to answer this!)\n",
        "print(\"Characters in the variable x: \", len(x))"
      ]
    },
    {
      "cell_type": "code",
      "execution_count": null,
      "metadata": {
        "colab": {
          "base_uri": "https://localhost:8080/"
        },
        "id": "Xurjt-nzUPAt",
        "outputId": "f87402cb-04b8-4d68-fabc-b74b17b4ba22"
      },
      "outputs": [
        {
          "name": "stdout",
          "output_type": "stream",
          "text": [
            "Variable x in upper case:  CODING IN PYTHON IS SO MUCH FUN! PYTHON WILL BE MY NEW SUPERPOWER!\n"
          ]
        }
      ],
      "source": [
        "# Q2:  Print out the variable x in all upper case\n",
        "print(\"Variable x in upper case: \", x.upper())"
      ]
    },
    {
      "cell_type": "code",
      "execution_count": null,
      "metadata": {
        "colab": {
          "base_uri": "https://localhost:8080/"
        },
        "id": "NpiDB0M7UPFH",
        "outputId": "dd1497ae-f9d7-4468-f608-c15dfca5fa0f"
      },
      "outputs": [
        {
          "name": "stdout",
          "output_type": "stream",
          "text": [
            "Number of times the word python exists:  2\n"
          ]
        }
      ],
      "source": [
        "# Q3:  Print the number of times the word python exists in the variable x.\n",
        "# HINT:  you may need to change the case to find the instances\n",
        "# Python is case sensitive.\n",
        "# You will also need to discover a new string function to answer this!\n",
        "print(\"Number of times the word python exists: \", x.upper().count(\"PYTHON\"))"
      ]
    },
    {
      "cell_type": "code",
      "execution_count": null,
      "metadata": {
        "colab": {
          "base_uri": "https://localhost:8080/"
        },
        "id": "2Cv69LaAUPH8",
        "outputId": "b8f7902d-122e-4c80-ce76-8e32239b293e"
      },
      "outputs": [
        {
          "name": "stdout",
          "output_type": "stream",
          "text": [
            "Are the variables y and z equal?\n",
            "Yes\n"
          ]
        }
      ],
      "source": [
        "# Q4:  Are the variables y and z equal?\n",
        "print(\"Are the variables y and z equal?\")\n",
        "if y == z: \n",
        "    print(\"Yes\")\n",
        "else:\n",
        "    print(\"No\")"
      ]
    },
    {
      "cell_type": "markdown",
      "metadata": {
        "id": "cvxXv1RrWGZr"
      },
      "source": [
        "# Question 5\n",
        "\n",
        "Below there are two blocks of code to help you get started with the last question. We will cover installing and importing modules later on, but below is a really awesome package that lets us parse news articles!"
      ]
    },
    {
      "cell_type": "code",
      "execution_count": null,
      "metadata": {
        "colab": {
          "base_uri": "https://localhost:8080/"
        },
        "id": "6FVOaLfJUPKC",
        "outputId": "64d7190d-32b8-4894-d614-a7a6b4168465"
      },
      "outputs": [
        {
          "name": "stdout",
          "output_type": "stream",
          "text": [
            "Requirement already satisfied: newspaper3k in c:\\programdata\\anaconda3\\lib\\site-packages (0.2.8)\n",
            "Requirement already satisfied: jieba3k>=0.35.1 in c:\\programdata\\anaconda3\\lib\\site-packages (from newspaper3k) (0.35.1)\n",
            "Requirement already satisfied: requests>=2.10.0 in c:\\programdata\\anaconda3\\lib\\site-packages (from newspaper3k) (2.24.0)\n",
            "Requirement already satisfied: nltk>=3.2.1 in c:\\programdata\\anaconda3\\lib\\site-packages (from newspaper3k) (3.5)\n",
            "Requirement already satisfied: tinysegmenter==0.3 in c:\\programdata\\anaconda3\\lib\\site-packages (from newspaper3k) (0.3)\n",
            "Requirement already satisfied: feedparser>=5.2.1 in c:\\programdata\\anaconda3\\lib\\site-packages (from newspaper3k) (6.0.8)\n",
            "Requirement already satisfied: lxml>=3.6.0 in c:\\programdata\\anaconda3\\lib\\site-packages (from newspaper3k) (4.6.1)\n",
            "Requirement already satisfied: tldextract>=2.0.1 in c:\\programdata\\anaconda3\\lib\\site-packages (from newspaper3k) (3.1.0)\n",
            "Requirement already satisfied: feedfinder2>=0.0.4 in c:\\programdata\\anaconda3\\lib\\site-packages (from newspaper3k) (0.0.4)\n",
            "Requirement already satisfied: cssselect>=0.9.2 in c:\\programdata\\anaconda3\\lib\\site-packages (from newspaper3k) (1.1.0)\n",
            "Requirement already satisfied: beautifulsoup4>=4.4.1 in c:\\programdata\\anaconda3\\lib\\site-packages (from newspaper3k) (4.9.3)\n",
            "Requirement already satisfied: python-dateutil>=2.5.3 in c:\\programdata\\anaconda3\\lib\\site-packages (from newspaper3k) (2.8.1)\n",
            "Requirement already satisfied: Pillow>=3.3.0 in c:\\programdata\\anaconda3\\lib\\site-packages (from newspaper3k) (8.0.1)\n",
            "Requirement already satisfied: PyYAML>=3.11 in c:\\programdata\\anaconda3\\lib\\site-packages (from newspaper3k) (5.3.1)\n",
            "Requirement already satisfied: chardet<4,>=3.0.2 in c:\\programdata\\anaconda3\\lib\\site-packages (from requests>=2.10.0->newspaper3k) (3.0.4)\n",
            "Requirement already satisfied: idna<3,>=2.5 in c:\\programdata\\anaconda3\\lib\\site-packages (from requests>=2.10.0->newspaper3k) (2.10)\n",
            "Requirement already satisfied: urllib3!=1.25.0,!=1.25.1,<1.26,>=1.21.1 in c:\\programdata\\anaconda3\\lib\\site-packages (from requests>=2.10.0->newspaper3k) (1.25.11)\n",
            "Requirement already satisfied: certifi>=2017.4.17 in c:\\programdata\\anaconda3\\lib\\site-packages (from requests>=2.10.0->newspaper3k) (2020.6.20)\n",
            "Requirement already satisfied: click in c:\\programdata\\anaconda3\\lib\\site-packages (from nltk>=3.2.1->newspaper3k) (7.1.2)\n",
            "Requirement already satisfied: tqdm in c:\\programdata\\anaconda3\\lib\\site-packages (from nltk>=3.2.1->newspaper3k) (4.50.2)\n",
            "Requirement already satisfied: regex in c:\\programdata\\anaconda3\\lib\\site-packages (from nltk>=3.2.1->newspaper3k) (2020.10.15)\n",
            "Requirement already satisfied: joblib in c:\\programdata\\anaconda3\\lib\\site-packages (from nltk>=3.2.1->newspaper3k) (0.17.0)\n",
            "Requirement already satisfied: sgmllib3k in c:\\programdata\\anaconda3\\lib\\site-packages (from feedparser>=5.2.1->newspaper3k) (1.0.0)\n",
            "Requirement already satisfied: requests-file>=1.4 in c:\\programdata\\anaconda3\\lib\\site-packages (from tldextract>=2.0.1->newspaper3k) (1.5.1)\n",
            "Requirement already satisfied: filelock>=3.0.8 in c:\\programdata\\anaconda3\\lib\\site-packages (from tldextract>=2.0.1->newspaper3k) (3.0.12)\n",
            "Requirement already satisfied: six in c:\\programdata\\anaconda3\\lib\\site-packages (from feedfinder2>=0.0.4->newspaper3k) (1.15.0)\n",
            "Requirement already satisfied: soupsieve>1.2; python_version >= \"3.0\" in c:\\programdata\\anaconda3\\lib\\site-packages (from beautifulsoup4>=4.4.1->newspaper3k) (2.0.1)\n"
          ]
        }
      ],
      "source": [
        "# Q5 starter code 1:\n",
        "! pip install newspaper3k\n"
      ]
    },
    {
      "cell_type": "code",
      "execution_count": null,
      "metadata": {
        "id": "LdxhL0AJUPMH"
      },
      "outputs": [],
      "source": [
        "# Q5 starter code 2\n",
        "from newspaper import Article\n",
        "URL = \"https://www.boston.com/travel/travel/2020/09/18/logan-airport-contactless-food-delivery\"\n",
        "article = Article(URL)\n",
        "article.download()\n",
        "article.parse()\n",
        "article_text = article.text"
      ]
    },
    {
      "cell_type": "code",
      "execution_count": null,
      "metadata": {
        "id": "ZCHf2QfAN3Eb"
      },
      "outputs": [],
      "source": []
    },
    {
      "cell_type": "code",
      "execution_count": null,
      "metadata": {
        "colab": {
          "base_uri": "https://localhost:8080/"
        },
        "id": "LGApw9lRWSrw",
        "outputId": "167ce908-54df-4323-c34b-f0e875a451ce"
      },
      "outputs": [
        {
          "name": "stdout",
          "output_type": "stream",
          "text": [
            "Travel Logan Airport adds PPE vending machines, expands contactless food delivery American Airlines will also reopen its club lounge next month, with safety measures in place. Food being delivered at the airport by AtYourGate. MarketPlace Logan\n",
            "\n",
            "It is becoming easier for safety-conscious travelers at Logan International Airport to buy food and personal protective equipment amid the coronavirus pandemic.\n",
            "\n",
            "The airport installed PPE vending machines in July and is increasing contactless concession options through Grab and AtYourGate. In-airport app AtYourGate operates at 10 airports nationwide, including Logan, delivering food from airport restaurants such as B. GOOD, Not Your Average Joe’s, Lucca, WPizza, and more to travelers within 30 minutes. In June, AtYourGate partnered with airport e-commerce platform Grab, which means the program will expand this fall, according to Marketplace Logan.\n",
            "\n",
            "“As part of a collaboration between Grab and AtYourGate, passengers [at Logan] can now take advantage of pick-up or delivery options at their favorite eatery and select retail locations without having to download an app,” Binni Patel, marketing and customer service manager for Marketplace Logan, wrote in an e-mail. “Passengers will also be able to order from any participating location throughout the airport instead of just those available in their terminal.”\n",
            "\n",
            "Advertisement:\n",
            "\n",
            "Safety measures implemented among Logan concessions include social distancing signage, face covering requirements, contactless payment options, QR codes for restaurant menus, self-order kiosks at select eateries, plexiglass shields at registers, and more.\n",
            "\n",
            "The PPE vending machines, which offer items such masks, sanitary wipes, hand sanitizer, latex gloves, and thermometers, are located pre-security in Hudson stores and Terminals A and B.\n",
            "\n",
            "“We have made every effort to adjust and improve the Boston Logan Concessions Program to keep employees and passengers safe and healthy,” said Paul McGinn, president of MarketPlace Development, in a statement. “In collaboration with our partners at Massport we have not only made necessary adjustments but also introduced new pilot programs and technology to elevate the options available and further facilitate social distancing for our travelers.”\n",
            "\n",
            "Advertisement:\n",
            "\n",
            "Those flying with American Airlines will also notice a change in Terminal B this fall — the airline is reopening its Admirals Club lounge in October. The lounge is one of seven nationwide reopening next month and will open at 50 percent capacity, according to the airline.\n",
            "\n",
            "The lounge will offer complimentary “customer favorites” such as avocado toast and guacamole with chips served in disposable containers by employees in gloves and masks from behind protective acrylic screens, according to the airline. Travelers will also find pre-packaged cheese cubes, hummus, hard-boiled eggs, and fruit, as well as signature menu items accessible by QR code. Health and safety measures will include mandatory face coverings, glass shields, hand sanitizer stations, and more.\n",
            "\n",
            "Advertisement:\n"
          ]
        }
      ],
      "source": [
        "# Q5A:  print the variable article_text\n",
        "print(article_text)"
      ]
    },
    {
      "cell_type": "code",
      "execution_count": null,
      "metadata": {
        "colab": {
          "base_uri": "https://localhost:8080/"
        },
        "id": "fSdeQQwvWUfh",
        "outputId": "a2de4584-bf24-4e97-b39b-c13c2820995b"
      },
      "outputs": [
        {
          "name": "stdout",
          "output_type": "stream",
          "text": [
            "Article_text data type:  <class 'str'>\n"
          ]
        }
      ],
      "source": [
        "# Q5B: What is the data type for article_text?\n",
        "print(\"Article_text data type: \", type(article_text))"
      ]
    },
    {
      "cell_type": "code",
      "execution_count": null,
      "metadata": {
        "colab": {
          "base_uri": "https://localhost:8080/"
        },
        "id": "ml0rqY2TWcOE",
        "outputId": "c985bb8e-80cd-46b0-d66d-c47adde0a2c7"
      },
      "outputs": [
        {
          "name": "stdout",
          "output_type": "stream",
          "text": [
            "travel logan airport adds ppe vending machines, expands contactless food delivery american airlines will also reopen its club lounge next month, with safety measures in place. food being delivered at the airport by atyourgate. marketplace logan\n",
            "\n",
            "it is becoming easier for safety-conscious travelers at logan international airport to buy food and personal protective equipment amid the coronavirus pandemic.\n",
            "\n",
            "the airport installed ppe vending machines in july and is increasing contactless concession options through grab and atyourgate. in-airport app atyourgate operates at 10 airports nationwide, including logan, delivering food from airport restaurants such as b. good, not your average joe’s, lucca, wpizza, and more to travelers within 30 minutes. in june, atyourgate partnered with airport e-commerce platform grab, which means the program will expand this fall, according to marketplace logan.\n",
            "\n",
            "“as part of a collaboration between grab and atyourgate, passengers [at logan] can now take advantage of pick-up or delivery options at their favorite eatery and select retail locations without having to download an app,” binni patel, marketing and customer service manager for marketplace logan, wrote in an e-mail. “passengers will also be able to order from any participating location throughout the airport instead of just those available in their terminal.”\n",
            "\n",
            "advertisement:\n",
            "\n",
            "safety measures implemented among logan concessions include social distancing signage, face covering requirements, contactless payment options, qr codes for restaurant menus, self-order kiosks at select eateries, plexiglass shields at registers, and more.\n",
            "\n",
            "the ppe vending machines, which offer items such masks, sanitary wipes, hand sanitizer, latex gloves, and thermometers, are located pre-security in hudson stores and terminals a and b.\n",
            "\n",
            "“we have made every effort to adjust and improve the boston logan concessions program to keep employees and passengers safe and healthy,” said paul mcginn, president of marketplace development, in a statement. “in collaboration with our partners at massport we have not only made necessary adjustments but also introduced new pilot programs and technology to elevate the options available and further facilitate social distancing for our travelers.”\n",
            "\n",
            "advertisement:\n",
            "\n",
            "those flying with american airlines will also notice a change in terminal b this fall — the airline is reopening its admirals club lounge in october. the lounge is one of seven nationwide reopening next month and will open at 50 percent capacity, according to the airline.\n",
            "\n",
            "the lounge will offer complimentary “customer favorites” such as avocado toast and guacamole with chips served in disposable containers by employees in gloves and masks from behind protective acrylic screens, according to the airline. travelers will also find pre-packaged cheese cubes, hummus, hard-boiled eggs, and fruit, as well as signature menu items accessible by qr code. health and safety measures will include mandatory face coverings, glass shields, hand sanitizer stations, and more.\n",
            "\n",
            "advertisement:\n"
          ]
        }
      ],
      "source": [
        "# Q5C: Save the lower case version of article text to a new variable, article_lower\n",
        "article_lower = article_text.lower()\n",
        "print(article_lower)"
      ]
    },
    {
      "cell_type": "code",
      "execution_count": null,
      "metadata": {
        "colab": {
          "base_uri": "https://localhost:8080/"
        },
        "id": "_9EBZHT6W9i7",
        "outputId": "beb0f94a-dfda-4f36-a0b5-b278e6212cd8"
      },
      "outputs": [
        {
          "name": "stdout",
          "output_type": "stream",
          "text": [
            "Logan count:  9\n"
          ]
        }
      ],
      "source": [
        "# Q5D: How many times does the word Logan appear in the variable article_lower?\n",
        "print(\"Logan count: \", article_lower.count(\"logan\"))"
      ]
    },
    {
      "cell_type": "code",
      "execution_count": 3,
      "metadata": {
        "colab": {
          "base_uri": "https://localhost:8080/"
        },
        "id": "izFynTlRXD7c",
        "outputId": "4faa3e7e-d3da-4eec-f95e-9e83cb194415"
      },
      "outputs": [
        {
          "name": "stdout",
          "output_type": "stream",
          "text": [
            "Great Code Aditya!\n"
          ]
        }
      ],
      "source": [
        "Did_jon_make_any_edits = 1\n",
        "if Did_jon_make_any_edits == 1:\n",
        "    print(\"Great Code Aditya!\")\n",
        "else:\n",
        "    print(\"Needs work!\")"
      ]
    },
    {
      "cell_type": "markdown",
      "metadata": {
        "id": "kFbkOOaKnHO2"
      },
      "source": [
        "# **Well done! - Alex**\n"
      ]
    }
  ],
  "metadata": {
    "colab": {
      "collapsed_sections": [],
      "include_colab_link": true,
      "name": "02-LabExercises.ipynb",
      "provenance": []
    },
    "interpreter": {
      "hash": "d54f36650e22a68b1e16ad067c04252fc93b1d0cce2a522804985f8fa0dd3c9b"
    },
    "kernelspec": {
      "display_name": "Python 3.9.1 64-bit (conda)",
      "name": "python3"
    },
    "language_info": {
      "name": "python",
      "version": ""
    }
  },
  "nbformat": 4,
  "nbformat_minor": 0
}