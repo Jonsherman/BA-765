{
  "cells": [
    {
      "cell_type": "markdown",
      "metadata": {
        "colab_type": "text",
        "id": "view-in-github"
      },
      "source": [
        "<a href=\"https://colab.research.google.com/github/Jonsherman/BA-765/blob/main/Session_02/ListsTuples_Lab.ipynb\" target=\"_parent\"><img src=\"https://colab.research.google.com/assets/colab-badge.svg\" alt=\"Open In Colab\"/></a>"
      ]
    },
    {
      "cell_type": "markdown",
      "metadata": {
        "id": "pE2044bBAk0X"
      },
      "source": [
        "# Lab Exercise \n",
        "\n",
        "Complete the questions below as part of the Lab exercises."
      ]
    },
    {
      "cell_type": "markdown",
      "metadata": {
        "id": "jUJXLHTeAebu"
      },
      "source": [
        "# Part 1\n",
        "\n",
        "After running the starter code, complete the questions below."
      ]
    },
    {
      "cell_type": "code",
      "execution_count": 2,
      "metadata": {
        "id": "C-XRQaWBAvEC"
      },
      "outputs": [
        {
          "name": "stdout",
          "output_type": "stream",
          "text": [
            "Collecting newspaper3k\n",
            "  Downloading newspaper3k-0.2.8-py3-none-any.whl (211 kB)\n",
            "\u001b[K     |████████████████████████████████| 211 kB 7.6 MB/s \n",
            "\u001b[?25hRequirement already satisfied: python-dateutil>=2.5.3 in /Applications/miniconda3/lib/python3.9/site-packages (from newspaper3k) (2.8.1)\n",
            "Requirement already satisfied: requests>=2.10.0 in /Applications/miniconda3/lib/python3.9/site-packages (from newspaper3k) (2.25.0)\n",
            "Collecting beautifulsoup4>=4.4.1\n",
            "  Downloading beautifulsoup4-4.9.3-py3-none-any.whl (115 kB)\n",
            "\u001b[K     |████████████████████████████████| 115 kB 1.3 MB/s \n",
            "\u001b[?25hCollecting cssselect>=0.9.2\n",
            "  Downloading cssselect-1.1.0-py2.py3-none-any.whl (16 kB)\n",
            "Collecting feedfinder2>=0.0.4\n",
            "  Downloading feedfinder2-0.0.4.tar.gz (3.3 kB)\n",
            "Requirement already satisfied: six in /Applications/miniconda3/lib/python3.9/site-packages (from feedfinder2>=0.0.4->newspaper3k) (1.15.0)\n",
            "Requirement already satisfied: requests>=2.10.0 in /Applications/miniconda3/lib/python3.9/site-packages (from newspaper3k) (2.25.0)\n",
            "Collecting feedparser>=5.2.1\n",
            "  Downloading feedparser-6.0.8-py3-none-any.whl (81 kB)\n",
            "\u001b[K     |████████████████████████████████| 81 kB 8.8 MB/s \n",
            "\u001b[?25hCollecting jieba3k>=0.35.1\n",
            "  Downloading jieba3k-0.35.1.zip (7.4 MB)\n",
            "\u001b[K     |████████████████████████████████| 7.4 MB 13.5 MB/s \n",
            "\u001b[?25hCollecting lxml>=3.6.0\n",
            "  Downloading lxml-4.6.3-cp39-cp39-macosx_10_9_x86_64.whl (4.6 MB)\n",
            "\u001b[K     |████████████████████████████████| 4.6 MB 30.2 MB/s \n",
            "\u001b[?25hCollecting nltk>=3.2.1\n",
            "  Downloading nltk-3.6.2-py3-none-any.whl (1.5 MB)\n",
            "\u001b[K     |████████████████████████████████| 1.5 MB 24.1 MB/s \n",
            "\u001b[?25hRequirement already satisfied: tqdm in /Applications/miniconda3/lib/python3.9/site-packages (from nltk>=3.2.1->newspaper3k) (4.54.1)\n",
            "Collecting click\n",
            "  Downloading click-8.0.1-py3-none-any.whl (97 kB)\n",
            "\u001b[K     |████████████████████████████████| 97 kB 15.1 MB/s \n",
            "\u001b[?25hCollecting joblib\n",
            "  Downloading joblib-1.0.1-py3-none-any.whl (303 kB)\n",
            "\u001b[K     |████████████████████████████████| 303 kB 33.4 MB/s \n",
            "\u001b[?25hCollecting Pillow>=3.3.0\n",
            "  Downloading Pillow-8.3.1-cp39-cp39-macosx_10_10_x86_64.whl (2.9 MB)\n",
            "\u001b[K     |████████████████████████████████| 2.9 MB 16.1 MB/s \n",
            "\u001b[?25hRequirement already satisfied: six in /Applications/miniconda3/lib/python3.9/site-packages (from feedfinder2>=0.0.4->newspaper3k) (1.15.0)\n",
            "Collecting PyYAML>=3.11\n",
            "  Downloading PyYAML-5.4.1-cp39-cp39-macosx_10_9_x86_64.whl (259 kB)\n",
            "\u001b[K     |████████████████████████████████| 259 kB 39.5 MB/s \n",
            "\u001b[?25hCollecting regex\n",
            "  Downloading regex-2021.7.6-cp39-cp39-macosx_10_9_x86_64.whl (285 kB)\n",
            "\u001b[K     |████████████████████████████████| 285 kB 19.3 MB/s \n",
            "\u001b[?25hRequirement already satisfied: certifi>=2017.4.17 in /Applications/miniconda3/lib/python3.9/site-packages (from requests>=2.10.0->newspaper3k) (2020.12.5)\n",
            "Requirement already satisfied: idna<3,>=2.5 in /Applications/miniconda3/lib/python3.9/site-packages (from requests>=2.10.0->newspaper3k) (2.10)\n",
            "Requirement already satisfied: chardet<4,>=3.0.2 in /Applications/miniconda3/lib/python3.9/site-packages (from requests>=2.10.0->newspaper3k) (3.0.4)\n",
            "Requirement already satisfied: urllib3<1.27,>=1.21.1 in /Applications/miniconda3/lib/python3.9/site-packages (from requests>=2.10.0->newspaper3k) (1.25.11)\n",
            "Collecting sgmllib3k\n",
            "  Downloading sgmllib3k-1.0.0.tar.gz (5.8 kB)\n",
            "Collecting soupsieve>1.2\n",
            "  Downloading soupsieve-2.2.1-py3-none-any.whl (33 kB)\n",
            "Collecting tinysegmenter==0.3\n",
            "  Downloading tinysegmenter-0.3.tar.gz (16 kB)\n",
            "Collecting tldextract>=2.0.1\n",
            "  Downloading tldextract-3.1.0-py2.py3-none-any.whl (87 kB)\n",
            "\u001b[K     |████████████████████████████████| 87 kB 19.1 MB/s \n",
            "\u001b[?25hRequirement already satisfied: filelock>=3.0.8 in /Users/jonnysherman/.local/lib/python3.9/site-packages (from tldextract>=2.0.1->newspaper3k) (3.0.12)\n",
            "Requirement already satisfied: requests>=2.10.0 in /Applications/miniconda3/lib/python3.9/site-packages (from newspaper3k) (2.25.0)\n",
            "Requirement already satisfied: idna<3,>=2.5 in /Applications/miniconda3/lib/python3.9/site-packages (from requests>=2.10.0->newspaper3k) (2.10)\n",
            "Collecting requests-file>=1.4\n",
            "  Downloading requests_file-1.5.1-py2.py3-none-any.whl (3.7 kB)\n",
            "Requirement already satisfied: requests>=2.10.0 in /Applications/miniconda3/lib/python3.9/site-packages (from newspaper3k) (2.25.0)\n",
            "Requirement already satisfied: six in /Applications/miniconda3/lib/python3.9/site-packages (from feedfinder2>=0.0.4->newspaper3k) (1.15.0)\n",
            "Building wheels for collected packages: feedfinder2, jieba3k, sgmllib3k, tinysegmenter\n",
            "  Building wheel for feedfinder2 (setup.py) ... \u001b[?25ldone\n",
            "\u001b[?25h  Created wheel for feedfinder2: filename=feedfinder2-0.0.4-py3-none-any.whl size=3356 sha256=193eac4c62f139482778ed791d5facd230fd5eb79c3a2e5602875c61673c98ed\n",
            "  Stored in directory: /Users/jonnysherman/Library/Caches/pip/wheels/43/4a/c2/61a371b2524ac90805391c660d8dc4505705297f25e2b85a5d\n",
            "  Building wheel for jieba3k (setup.py) ... \u001b[?25ldone\n",
            "\u001b[?25h  Created wheel for jieba3k: filename=jieba3k-0.35.1-py3-none-any.whl size=7398406 sha256=60ae1dc721a7788053423ff275e51663e4e9192e584083ae7a47586bf56515df\n",
            "  Stored in directory: /Users/jonnysherman/Library/Caches/pip/wheels/c2/22/59/8214a8d6357e9f540ce1f37f9a4362b6156b4ca81b37f1945f\n",
            "  Building wheel for sgmllib3k (setup.py) ... \u001b[?25ldone\n",
            "\u001b[?25h  Created wheel for sgmllib3k: filename=sgmllib3k-1.0.0-py3-none-any.whl size=6066 sha256=47a4fa20bf8453d4fbdf9d9aa68cdc4e6a4e3151ab93cefa65d45bcc195784ff\n",
            "  Stored in directory: /Users/jonnysherman/Library/Caches/pip/wheels/65/7a/a7/78c287f64e401255dff4c13fdbc672fed5efbfd21c530114e1\n",
            "  Building wheel for tinysegmenter (setup.py) ... \u001b[?25ldone\n",
            "\u001b[?25h  Created wheel for tinysegmenter: filename=tinysegmenter-0.3-py3-none-any.whl size=13536 sha256=0806afa861fff5a4cd9a05d340300b30da382bd22436c7caea8b89a998e50ff3\n",
            "  Stored in directory: /Users/jonnysherman/Library/Caches/pip/wheels/94/ad/df/a2a01300cea47d5695f242f7e925a805970106fd9e4b151468\n",
            "Successfully built feedfinder2 jieba3k sgmllib3k tinysegmenter\n",
            "Installing collected packages: soupsieve, sgmllib3k, requests-file, regex, joblib, click, beautifulsoup4, tldextract, tinysegmenter, PyYAML, Pillow, nltk, lxml, jieba3k, feedparser, feedfinder2, cssselect, newspaper3k\n",
            "Successfully installed Pillow-8.3.1 PyYAML-5.4.1 beautifulsoup4-4.9.3 click-8.0.1 cssselect-1.1.0 feedfinder2-0.0.4 feedparser-6.0.8 jieba3k-0.35.1 joblib-1.0.1 lxml-4.6.3 newspaper3k-0.2.8 nltk-3.6.2 regex-2021.7.6 requests-file-1.5.1 sgmllib3k-1.0.0 soupsieve-2.2.1 tinysegmenter-0.3 tldextract-3.1.0\n"
          ]
        }
      ],
      "source": [
        "# STARTER CODE 1\n",
        "! pip install newspaper3k"
      ]
    },
    {
      "cell_type": "code",
      "execution_count": 4,
      "metadata": {
        "id": "E5p_iRiiA0lm"
      },
      "outputs": [],
      "source": [
        "# STARTER CODE 1\n",
        "from newspaper import Article\n",
        "URL = \"https://www.boston.com/travel/travel/2020/09/16/best-apple-orchard-according-to-readers\"\n",
        "article = Article(URL)\n",
        "article.download()\n",
        "article.parse()\n",
        "article_text = article.text"
      ]
    },
    {
      "cell_type": "code",
      "execution_count": 5,
      "metadata": {
        "id": "SS60gwDzQyna"
      },
      "outputs": [
        {
          "name": "stdout",
          "output_type": "stream",
          "text": [
            "Travel The best apple orchard in New England, according to Boston.com readers It's in Massachusetts. A family picking apples at Honey Pot Hill Orchards in Stow in 2017. John Tlumacki / The Boston Globe\n",
            "\n",
            "When we asked Boston.com readers for the best places to pick apples in New England, more than 100 people named nearly 40 farms across five states. But there was one clear favorite.\n",
            "\n",
            "Honey Pot Hill Orchards in Stow, which received the most mentions by far, offers more than 200 acres of orchards, as well as hayrides, mazes, and farm animals. The next most most mentioned farms by readers: Parlee Farms in Tyngsborough and Russell Orchards in Ipswich.\n",
            "\n",
            "“The apple cider donuts are amazing,” wrote a Boston.com reader about Honey Pot Hill Orchards. “They have a petting zoo for the kids and also a pumpkin patch where you can pick your own pumpkin. Great place.”\n",
            "\n",
            "Advertisement:\n",
            "\n",
            "Two of the farms chosen by readers — Tougas Family Farm in Northborough and Libby & Son U-Picks in Limerick, Maine, were just named among the best apple orchards in America by USA Today.\n",
            "\n",
            "Before plotting your apple-picking adventure this season, it’s a good idea to visit a farm’s website due to COVID-19 restrictions that may include capacity limitations, reservation requirements, and more.\n",
            "\n",
            "Ahead, check out which regional farms Boston.com readers love the most. If there’s a number in parenthesis after the name of a farm, it signifies how many times the farm was chosen by readers as the best.\n",
            "\n",
            "Massachusetts\n",
            "\n",
            "Autumn Hills Orchard in Groton\n",
            "\n",
            "Bartlett’s Orchard in Richmond\n",
            "\n",
            "Belkin Family Lookout Farm in Natick (6)\n",
            "\n",
            "Berlin Orchards in Berlin (2)\n",
            "\n",
            "Bolton Orchards in Bolton (3)\n",
            "\n",
            "Bolton Spring Farms in Bolton (3)\n",
            "\n",
            "Brookfield Orchards in North Brookfield\n",
            "\n",
            "Brooksby Farm in Peabody (2)\n",
            "\n",
            "Carlson Orchards in Harvard (5)\n",
            "\n",
            "Cider Hill Farm in Amesbury (5)\n",
            "\n",
            "Clarkdale Fruit Farms in Deerfield (3)\n",
            "\n",
            "Clearview Farm in Sterling\n",
            "\n",
            "CN Smith Farm in East Bridgewater\n",
            "\n",
            "Doe Orchards in Harvard (5)\n",
            "\n",
            "Dowse Orchards in Sherborn\n",
            "\n",
            "Honey Pot Hill Orchards in Stow (26)\n",
            "\n",
            "Park Hill Orchard in Easthampton (2)\n",
            "\n",
            "Parlee Farms in Tyngsborough (9)\n",
            "\n",
            "Red Apple Farm in Phillipston (4)\n",
            "\n",
            "Russell Orchards in Ipswich (8)\n",
            "\n",
            "Shelburne Farm in Stow (6)\n",
            "\n",
            "Smolak Farms in North Andover (5)\n",
            "\n",
            "Tangerini’s Farm in Millis\n",
            "\n",
            "The Big Apple in Wrentham (3)\n",
            "\n",
            "Tougas Family Farm in Northborough (7)\n",
            "\n",
            "Westward Orchards in Harvard\n",
            "\n",
            "New Hampshire\n",
            "\n",
            "Alyson’s Orchard in Walpole (2)\n",
            "\n",
            "Applecrest Farm Orchards in Hampton Falls (7)\n",
            "\n",
            "Appleview Orchard in Pittsfield\n",
            "\n",
            "Brookdale Fruit Farm in Hollis\n",
            "\n",
            "Lull Farm in Hollis (2)\n",
            "\n",
            "Mack’s Apples in Londonderry (6)\n",
            "\n",
            "Vermont\n",
            "\n",
            "Chapin Orchard in Essex Junction\n",
            "\n",
            "Shelburne Orchards in Shelburne\n",
            "\n",
            "Maine\n",
            "\n",
            "Hope Orchards in Hope\n",
            "\n",
            "Libby & Son U-Picks in Limerick\n",
            "\n",
            "McDougal Orchards in Springvale\n",
            "\n",
            "Rhode Island\n",
            "\n",
            "Barden Family Orchard in North Scituate\n",
            "\n",
            "Advertisement:\n",
            "\n",
            "Did we miss any? Let us know your favorite in the comments below.\n",
            "hello\n"
          ]
        }
      ],
      "source": [
        "# Q1: print out the article_text variable. This is the variable we will be using.\n",
        "print(article_text)\n",
        "print('hello')"
      ]
    },
    {
      "cell_type": "code",
      "execution_count": null,
      "metadata": {
        "id": "j1dOPKBGQ16h"
      },
      "outputs": [],
      "source": [
        "# Q2: how many times does the word apple appear across any case (upper or lower)?\n",
        "article_lower = article_text.lower()\n",
        "count_apple = article_lower.count('apple')\n",
        "print(count_apple)"
      ]
    },
    {
      "cell_type": "code",
      "execution_count": null,
      "metadata": {
        "id": "bTtgcBkBRSQQ"
      },
      "outputs": [],
      "source": [
        "# Q3: how many individual words are there?\n",
        "# TRICKY:  Look at the string methods\n",
        "# Also an opportunity to think about how you might search for help to a problem, \n",
        "# search engines are our friend.\n",
        "article_list = article_lower.split()\n",
        "print(article_list)\n",
        "print(len(article_list))"
      ]
    },
    {
      "cell_type": "code",
      "execution_count": null,
      "metadata": {
        "id": "9Z1ZWCq7RjWg"
      },
      "outputs": [],
      "source": [
        "# Q4:  Building on the solution above, create a list where each entry is a sentence.\n",
        "# use \".\" to define a sentence.\n",
        "sentence_list = article_lower.split('.')\n",
        "print(sentence_list)\n"
      ]
    },
    {
      "cell_type": "code",
      "execution_count": null,
      "metadata": {
        "id": "urg7ESVPRx47"
      },
      "outputs": [],
      "source": [
        "# Q5: How many characters are there in article_text\n",
        "print(len(article_lower))\n"
      ]
    },
    {
      "cell_type": "code",
      "execution_count": null,
      "metadata": {
        "id": "lJcq3d8FSKuW"
      },
      "outputs": [],
      "source": [
        "# Q6: subset article_text to include only the first 100 characters\n",
        "start_of_article = article_lower[:101]\n",
        "print(start_of_article)"
      ]
    },
    {
      "cell_type": "markdown",
      "metadata": {
        "id": "bmQBAJ9oSVvw"
      },
      "source": [
        "# Part 2"
      ]
    },
    {
      "cell_type": "code",
      "execution_count": null,
      "metadata": {
        "id": "NJupRYTMbRyp"
      },
      "outputs": [],
      "source": [
        "# STARTER CODE SNIPPET\n",
        "\n",
        "# our list\n",
        "our_list = [1,2,3,4,5, ['a', 'b', 'c'], 6, 7, 8, 9, 10]\n"
      ]
    },
    {
      "cell_type": "code",
      "execution_count": null,
      "metadata": {
        "id": "jF-wRjq4cOtF"
      },
      "outputs": [],
      "source": [
        "# Q1:  What is the length of the object/variable our_list?\n",
        "len(our_list)"
      ]
    },
    {
      "cell_type": "code",
      "execution_count": null,
      "metadata": {
        "id": "Qt63uzUicQSJ"
      },
      "outputs": [],
      "source": [
        "# Q2: Append the number 11 to the end of the list\n",
        "our_list.append(11)\n",
        "print(our_list)"
      ]
    },
    {
      "cell_type": "code",
      "execution_count": null,
      "metadata": {
        "id": "Bimkvnvsd8WO"
      },
      "outputs": [],
      "source": [
        "# Q3: remove the 11 you just added in Q2\n",
        "our_list.pop()\n",
        "print(our_list)"
      ]
    },
    {
      "cell_type": "code",
      "execution_count": null,
      "metadata": {
        "id": "sKvp0HKQeG9q"
      },
      "outputs": [],
      "source": [
        "# Q4: Create a list that only contains the list of letters\n",
        "# call this variable letters\n",
        "letters_list = our_list[5]\n",
        "print(letters_list)"
      ]
    },
    {
      "cell_type": "code",
      "execution_count": null,
      "metadata": {
        "id": "Qv1LClXBTWX6"
      },
      "outputs": [],
      "source": [
        "# reverse the variable letters\n",
        "letters_list.reverse()\n",
        "print(letters_list)"
      ]
    },
    {
      "cell_type": "code",
      "execution_count": null,
      "metadata": {
        "id": "5TtqX6_hTW3A"
      },
      "outputs": [],
      "source": []
    }
  ],
  "metadata": {
    "colab": {
      "collapsed_sections": [],
      "include_colab_link": true,
      "name": "ListsTuples_Lab.ipynb",
      "private_outputs": true,
      "provenance": []
    },
    "interpreter": {
      "hash": "d54f36650e22a68b1e16ad067c04252fc93b1d0cce2a522804985f8fa0dd3c9b"
    },
    "kernelspec": {
      "display_name": "Python 3.9.1 64-bit (conda)",
      "name": "python3"
    },
    "language_info": {
      "codemirror_mode": {
        "name": "ipython",
        "version": 3
      },
      "file_extension": ".py",
      "mimetype": "text/x-python",
      "name": "python",
      "nbconvert_exporter": "python",
      "pygments_lexer": "ipython3",
      "version": "3.9.1"
    }
  },
  "nbformat": 4,
  "nbformat_minor": 0
}