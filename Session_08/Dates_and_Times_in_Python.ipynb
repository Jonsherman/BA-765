{
  "cells": [
    {
      "cell_type": "markdown",
      "metadata": {
        "id": "Pga2_z9E5GIc"
      },
      "source": [
        "# Working with Dates and Times in python\n",
        "\n",
        "\n",
        "## Resources:\n",
        "\n",
        "https://docs.python.org/3/library/datetime.html#module-datetime"
      ]
    },
    {
      "cell_type": "code",
      "execution_count": 1,
      "metadata": {
        "id": "P31nO2XZ3PbD"
      },
      "outputs": [],
      "source": [
        "# imports\n",
        "import numpy as np\n",
        "from datetime import datetime, timedelta, timezone\n",
        "import time"
      ]
    },
    {
      "cell_type": "markdown",
      "metadata": {
        "id": "fguTEATB3Zt4"
      },
      "source": [
        "# Basics of Dates and Times in Python"
      ]
    },
    {
      "cell_type": "code",
      "execution_count": 7,
      "metadata": {
        "id": "KRd5wwsI3kxH"
      },
      "outputs": [
        {
          "data": {
            "text/plain": [
              "datetime.datetime(2021, 7, 29, 14, 16, 16, 723561)"
            ]
          },
          "execution_count": 7,
          "metadata": {},
          "output_type": "execute_result"
        }
      ],
      "source": [
        "# right now\n",
        "vh = datetime.now()\n",
        "vh"
      ]
    },
    {
      "cell_type": "code",
      "execution_count": 8,
      "metadata": {
        "id": "mNoLQH78oYNV"
      },
      "outputs": [
        {
          "name": "stdout",
          "output_type": "stream",
          "text": [
            "\u001b[0;31mInit signature:\u001b[0m \u001b[0mdatetime\u001b[0m\u001b[0;34m(\u001b[0m\u001b[0mself\u001b[0m\u001b[0;34m,\u001b[0m \u001b[0;34m/\u001b[0m\u001b[0;34m,\u001b[0m \u001b[0;34m*\u001b[0m\u001b[0margs\u001b[0m\u001b[0;34m,\u001b[0m \u001b[0;34m**\u001b[0m\u001b[0mkwargs\u001b[0m\u001b[0;34m)\u001b[0m\u001b[0;34m\u001b[0m\u001b[0;34m\u001b[0m\u001b[0m\n",
            "\u001b[0;31mDocstring:\u001b[0m     \n",
            "datetime(year, month, day[, hour[, minute[, second[, microsecond[,tzinfo]]]]])\n",
            "\n",
            "The year, month and day arguments are required. tzinfo may be None, or an\n",
            "instance of a tzinfo subclass. The remaining arguments may be ints.\n",
            "\u001b[0;31mFile:\u001b[0m           /Applications/miniconda3/lib/python3.9/datetime.py\n",
            "\u001b[0;31mType:\u001b[0m           type\n",
            "\u001b[0;31mSubclasses:\u001b[0m     \n"
          ]
        }
      ],
      "source": [
        "?datetime\n",
        "#?datetime.now"
      ]
    },
    {
      "cell_type": "code",
      "execution_count": 19,
      "metadata": {
        "id": "hwxETd2honBK"
      },
      "outputs": [
        {
          "data": {
            "text/plain": [
              "datetime.datetime(2021, 7, 29, 18, 18, 43, 976901, tzinfo=datetime.timezone.utc)"
            ]
          },
          "execution_count": 19,
          "metadata": {},
          "output_type": "execute_result"
        }
      ],
      "source": [
        "vh = datetime.now(tz=timezone.utc)\n",
        "vh"
      ]
    },
    {
      "cell_type": "code",
      "execution_count": 10,
      "metadata": {
        "id": "aCBZHoHGQAeQ"
      },
      "outputs": [
        {
          "data": {
            "text/plain": [
              "datetime.datetime"
            ]
          },
          "execution_count": 10,
          "metadata": {},
          "output_type": "execute_result"
        }
      ],
      "source": [
        "type(vh)"
      ]
    },
    {
      "cell_type": "code",
      "execution_count": 12,
      "metadata": {
        "id": "vKA6yDNG3mzd"
      },
      "outputs": [
        {
          "data": {
            "text/plain": [
              "datetime.date(2021, 7, 29)"
            ]
          },
          "execution_count": 12,
          "metadata": {},
          "output_type": "execute_result"
        }
      ],
      "source": [
        "# date\n",
        "vh.date()"
      ]
    },
    {
      "cell_type": "code",
      "execution_count": 17,
      "metadata": {
        "id": "Wgt-yKsf3nu-"
      },
      "outputs": [
        {
          "data": {
            "text/plain": [
              "datetime.time(18, 17, 52, 480389)"
            ]
          },
          "execution_count": 17,
          "metadata": {},
          "output_type": "execute_result"
        }
      ],
      "source": [
        "# timestamp\n",
        "vh.time()"
      ]
    },
    {
      "cell_type": "code",
      "execution_count": 18,
      "metadata": {
        "id": "SWzZCWCX3qy6"
      },
      "outputs": [
        {
          "data": {
            "text/plain": [
              "datetime.datetime(2021, 7, 29, 18, 18, 33, 200727)"
            ]
          },
          "execution_count": 18,
          "metadata": {},
          "output_type": "execute_result"
        }
      ],
      "source": [
        "# UTC time - this keeps things consisent\n",
        "datetime.utcnow()"
      ]
    },
    {
      "cell_type": "code",
      "execution_count": 21,
      "metadata": {
        "id": "cKcy8cg33uHe"
      },
      "outputs": [
        {
          "data": {
            "text/plain": [
              "datetime.datetime(2020, 10, 13, 9, 35, 15)"
            ]
          },
          "execution_count": 21,
          "metadata": {},
          "output_type": "execute_result"
        }
      ],
      "source": [
        "# manually create a date or time\n",
        "datetime(2020, 10, 13, 9, 35, 15)"
      ]
    },
    {
      "cell_type": "code",
      "execution_count": 22,
      "metadata": {
        "id": "KpXdulcCQy64"
      },
      "outputs": [
        {
          "data": {
            "text/plain": [
              "datetime.datetime(2020, 10, 5, 0, 0)"
            ]
          },
          "execution_count": 22,
          "metadata": {},
          "output_type": "execute_result"
        }
      ],
      "source": [
        "datetime(2020, 10, 5)"
      ]
    },
    {
      "cell_type": "code",
      "execution_count": 24,
      "metadata": {
        "id": "jfHQq84o3v_8"
      },
      "outputs": [
        {
          "data": {
            "text/plain": [
              "'2021-07-29'"
            ]
          },
          "execution_count": 24,
          "metadata": {},
          "output_type": "execute_result"
        }
      ],
      "source": [
        "# string representation of a date\n",
        "str(vh.date())"
      ]
    },
    {
      "cell_type": "code",
      "execution_count": 25,
      "metadata": {
        "id": "iK0JP4Ya30lL"
      },
      "outputs": [
        {
          "data": {
            "text/plain": [
              "29"
            ]
          },
          "execution_count": 25,
          "metadata": {},
          "output_type": "execute_result"
        }
      ],
      "source": [
        "# extract date parts\n",
        "# NOTE:  Monday is 0, Sunday is 6\n",
        "# https://docs.python.org/3/library/datetime.html#module-datetime\n",
        "vh.day"
      ]
    },
    {
      "cell_type": "code",
      "execution_count": 26,
      "metadata": {
        "id": "-tdWW59M4YfD"
      },
      "outputs": [
        {
          "data": {
            "text/plain": [
              "3"
            ]
          },
          "execution_count": 26,
          "metadata": {},
          "output_type": "execute_result"
        }
      ],
      "source": [
        "# weekday\n",
        "vh.weekday()"
      ]
    },
    {
      "cell_type": "markdown",
      "metadata": {
        "id": "W9yKgnym31zP"
      },
      "source": [
        "# Dates and Times - Let's do some math!"
      ]
    },
    {
      "cell_type": "code",
      "execution_count": 30,
      "metadata": {
        "id": "BfGYDNEd38RY"
      },
      "outputs": [],
      "source": [
        "# create two dates ~ 5 seconds apart\n",
        "x = datetime.utcnow()\n",
        "time.sleep(5)\n",
        "y = datetime.utcnow()"
      ]
    },
    {
      "cell_type": "code",
      "execution_count": 31,
      "metadata": {
        "id": "_yJNfvwRMhnh"
      },
      "outputs": [
        {
          "ename": "TypeError",
          "evalue": "time.sleep() takes exactly one argument (0 given)",
          "output_type": "error",
          "traceback": [
            "\u001b[0;31m---------------------------------------------------------------------------\u001b[0m",
            "\u001b[0;31mTypeError\u001b[0m                                 Traceback (most recent call last)",
            "\u001b[0;32m<ipython-input-31-5bd05a92975d>\u001b[0m in \u001b[0;36m<module>\u001b[0;34m\u001b[0m\n\u001b[0;32m----> 1\u001b[0;31m \u001b[0mtime\u001b[0m\u001b[0;34m.\u001b[0m\u001b[0msleep\u001b[0m\u001b[0;34m(\u001b[0m\u001b[0;34m)\u001b[0m\u001b[0;34m\u001b[0m\u001b[0;34m\u001b[0m\u001b[0m\n\u001b[0m",
            "\u001b[0;31mTypeError\u001b[0m: time.sleep() takes exactly one argument (0 given)"
          ]
        }
      ],
      "source": [
        "time.sleep()"
      ]
    },
    {
      "cell_type": "code",
      "execution_count": 32,
      "metadata": {
        "id": "hV8RtLBJ4Hqy"
      },
      "outputs": [
        {
          "name": "stdout",
          "output_type": "stream",
          "text": [
            "2021-07-29 18:21:53.727407\n",
            "2021-07-29 18:21:58.729923\n"
          ]
        }
      ],
      "source": [
        "# print it out\n",
        "print(x)\n",
        "print(y)"
      ]
    },
    {
      "cell_type": "code",
      "execution_count": 33,
      "metadata": {
        "id": "6oOVBYqA4KoH"
      },
      "outputs": [
        {
          "data": {
            "text/plain": [
              "datetime.timedelta(seconds=5, microseconds=2516)"
            ]
          },
          "execution_count": 33,
          "metadata": {},
          "output_type": "execute_result"
        }
      ],
      "source": [
        "# lets subtract them\n",
        "y -  x"
      ]
    },
    {
      "cell_type": "code",
      "execution_count": 35,
      "metadata": {
        "id": "_oBBHt5_TnyE"
      },
      "outputs": [
        {
          "data": {
            "text/plain": [
              "datetime.timedelta"
            ]
          },
          "execution_count": 35,
          "metadata": {},
          "output_type": "execute_result"
        }
      ],
      "source": [
        "tmp = y - x\n",
        "type(tmp)"
      ]
    },
    {
      "cell_type": "code",
      "execution_count": 36,
      "metadata": {
        "id": "aULQOhSx4OrK"
      },
      "outputs": [],
      "source": [
        "# perhaps we want to extract the parts that we want\n",
        "my_timedelta = y - x"
      ]
    },
    {
      "cell_type": "code",
      "execution_count": 37,
      "metadata": {
        "id": "L_0vbpT2Tx4M"
      },
      "outputs": [
        {
          "data": {
            "text/plain": [
              "5.002516"
            ]
          },
          "execution_count": 37,
          "metadata": {},
          "output_type": "execute_result"
        }
      ],
      "source": [
        "my_timedelta.total_seconds()"
      ]
    },
    {
      "cell_type": "code",
      "execution_count": 38,
      "metadata": {
        "id": "nPEzi0O9Tz-w"
      },
      "outputs": [
        {
          "data": {
            "text/plain": [
              "5"
            ]
          },
          "execution_count": 38,
          "metadata": {},
          "output_type": "execute_result"
        }
      ],
      "source": [
        "int(my_timedelta.total_seconds())"
      ]
    },
    {
      "cell_type": "code",
      "execution_count": 39,
      "metadata": {
        "id": "G8RRX2eEM6I3"
      },
      "outputs": [
        {
          "data": {
            "text/plain": [
              "datetime.datetime(2020, 10, 13, 9, 35, 15)"
            ]
          },
          "execution_count": 39,
          "metadata": {},
          "output_type": "execute_result"
        }
      ],
      "source": [
        "y2 = datetime(2020, 10, 13, 9, 35, 15)\n",
        "y2"
      ]
    },
    {
      "cell_type": "code",
      "execution_count": 40,
      "metadata": {
        "id": "Pl-LBl4HM_nW"
      },
      "outputs": [
        {
          "data": {
            "text/plain": [
              "datetime.datetime(2020, 10, 13, 10, 35, 15)"
            ]
          },
          "execution_count": 40,
          "metadata": {},
          "output_type": "execute_result"
        }
      ],
      "source": [
        "x2 = datetime(2020, 10, 13, 10, 35, 15)\n",
        "x2"
      ]
    },
    {
      "cell_type": "code",
      "execution_count": 41,
      "metadata": {
        "id": "AkXNDzytNE7f"
      },
      "outputs": [
        {
          "data": {
            "text/plain": [
              "-3600.0"
            ]
          },
          "execution_count": 41,
          "metadata": {},
          "output_type": "execute_result"
        }
      ],
      "source": [
        "(y2-x2).total_seconds()"
      ]
    },
    {
      "cell_type": "markdown",
      "metadata": {
        "id": "KytB4En_T3Vb"
      },
      "source": [
        "# Timedeltas"
      ]
    },
    {
      "cell_type": "code",
      "execution_count": 42,
      "metadata": {
        "id": "zmINVn3EUCw7"
      },
      "outputs": [],
      "source": [
        "x = datetime(year= 2021, month = 7, day=29)\n",
        "y = datetime(year = 2021, month=9, day=2)"
      ]
    },
    {
      "cell_type": "code",
      "execution_count": 44,
      "metadata": {
        "id": "IV8YA8huUDcx"
      },
      "outputs": [
        {
          "name": "stdout",
          "output_type": "stream",
          "text": [
            "2021-07-29 00:00:00\n",
            "2021-09-02 00:00:00\n"
          ]
        }
      ],
      "source": [
        "print(x)\n",
        "print(str(y))"
      ]
    },
    {
      "cell_type": "code",
      "execution_count": 45,
      "metadata": {
        "id": "6Y07P3EfUDgg"
      },
      "outputs": [
        {
          "data": {
            "text/plain": [
              "35.0"
            ]
          },
          "execution_count": 45,
          "metadata": {},
          "output_type": "execute_result"
        }
      ],
      "source": [
        "# number of days between these two datetimes\n",
        "(y-x) / timedelta(days=1)"
      ]
    },
    {
      "cell_type": "code",
      "execution_count": 46,
      "metadata": {
        "id": "z2qp2yi0UDjX"
      },
      "outputs": [
        {
          "data": {
            "text/plain": [
              "840.0"
            ]
          },
          "execution_count": 46,
          "metadata": {},
          "output_type": "execute_result"
        }
      ],
      "source": [
        "# how many hours\n",
        "(y-x) / timedelta(hours=1)"
      ]
    },
    {
      "cell_type": "code",
      "execution_count": 47,
      "metadata": {
        "id": "Cd13ZipDUDmk"
      },
      "outputs": [
        {
          "data": {
            "text/plain": [
              "840"
            ]
          },
          "execution_count": 47,
          "metadata": {},
          "output_type": "execute_result"
        }
      ],
      "source": [
        "# check the logic\n",
        "35 * 24"
      ]
    },
    {
      "cell_type": "code",
      "execution_count": 56,
      "metadata": {
        "id": "m09AWYOlUDpY"
      },
      "outputs": [
        {
          "data": {
            "text/plain": [
              "2016.0"
            ]
          },
          "execution_count": 56,
          "metadata": {},
          "output_type": "execute_result"
        }
      ],
      "source": [
        "# how many minutes\n",
        "(y-x) / timedelta(minutes=25)"
      ]
    },
    {
      "cell_type": "code",
      "execution_count": 57,
      "metadata": {
        "id": "HDPpRpJxN9lY"
      },
      "outputs": [
        {
          "data": {
            "text/plain": [
              "5.0"
            ]
          },
          "execution_count": 57,
          "metadata": {},
          "output_type": "execute_result"
        }
      ],
      "source": [
        "(y-x) / timedelta(weeks=1)"
      ]
    },
    {
      "cell_type": "markdown",
      "metadata": {
        "id": "QIuk0iQtUzaS"
      },
      "source": [
        "# To/From Strings\n",
        "\n",
        "Hold onto this resource:\n",
        "https://strftime.org/\n",
        "\n",
        "Also check:\n",
        "https://docs.python.org/3/library/datetime.html#strftime-and-strptime-behavior"
      ]
    },
    {
      "cell_type": "code",
      "execution_count": 60,
      "metadata": {
        "id": "Vu2AgzcUVs9Z"
      },
      "outputs": [],
      "source": [
        "x = '2020-01-01'   #ymd\n",
        "y = '12-31-19'   #mdy\n",
        "z = '2020-01-01 01:25:28' #ymd hms"
      ]
    },
    {
      "cell_type": "code",
      "execution_count": 61,
      "metadata": {
        "id": "yJyYDC6dV-qs"
      },
      "outputs": [
        {
          "data": {
            "text/plain": [
              "datetime.datetime(2020, 1, 1, 0, 0)"
            ]
          },
          "execution_count": 61,
          "metadata": {},
          "output_type": "execute_result"
        }
      ],
      "source": [
        "# parse x\n",
        "datetime.strptime(x, \"%Y-%m-%d\")"
      ]
    },
    {
      "cell_type": "code",
      "execution_count": 63,
      "metadata": {
        "id": "v-qTpE5zV-xK"
      },
      "outputs": [
        {
          "data": {
            "text/plain": [
              "datetime.datetime(2019, 12, 31, 0, 0)"
            ]
          },
          "execution_count": 63,
          "metadata": {},
          "output_type": "execute_result"
        }
      ],
      "source": [
        "# parse y\n",
        "datetime.strptime(y, \"%m-%d-%y\")"
      ]
    },
    {
      "cell_type": "code",
      "execution_count": 64,
      "metadata": {
        "id": "ZNibGcGKP34J"
      },
      "outputs": [
        {
          "name": "stdout",
          "output_type": "stream",
          "text": [
            "\u001b[0;31mInit signature:\u001b[0m \u001b[0mdatetime\u001b[0m\u001b[0;34m(\u001b[0m\u001b[0mself\u001b[0m\u001b[0;34m,\u001b[0m \u001b[0;34m/\u001b[0m\u001b[0;34m,\u001b[0m \u001b[0;34m*\u001b[0m\u001b[0margs\u001b[0m\u001b[0;34m,\u001b[0m \u001b[0;34m**\u001b[0m\u001b[0mkwargs\u001b[0m\u001b[0;34m)\u001b[0m\u001b[0;34m\u001b[0m\u001b[0;34m\u001b[0m\u001b[0m\n",
            "\u001b[0;31mDocstring:\u001b[0m     \n",
            "datetime(year, month, day[, hour[, minute[, second[, microsecond[,tzinfo]]]]])\n",
            "\n",
            "The year, month and day arguments are required. tzinfo may be None, or an\n",
            "instance of a tzinfo subclass. The remaining arguments may be ints.\n",
            "\u001b[0;31mFile:\u001b[0m           /Applications/miniconda3/lib/python3.9/datetime.py\n",
            "\u001b[0;31mType:\u001b[0m           type\n",
            "\u001b[0;31mSubclasses:\u001b[0m     \n"
          ]
        }
      ],
      "source": [
        "?datetime"
      ]
    },
    {
      "cell_type": "code",
      "execution_count": 66,
      "metadata": {
        "id": "I1t2JDbnV-02"
      },
      "outputs": [
        {
          "data": {
            "text/plain": [
              "datetime.datetime(2020, 1, 1, 1, 25, 28)"
            ]
          },
          "execution_count": 66,
          "metadata": {},
          "output_type": "execute_result"
        }
      ],
      "source": [
        "# parse z\n",
        "datetime.strptime(z, \"%Y-%m-%d %H:%M:%S\")"
      ]
    },
    {
      "cell_type": "code",
      "execution_count": 69,
      "metadata": {
        "id": "QG47iCLiV-5D"
      },
      "outputs": [],
      "source": [
        "# utc now\n",
        "vh = datetime.utcnow()"
      ]
    },
    {
      "cell_type": "code",
      "execution_count": 70,
      "metadata": {
        "id": "yheavp0KV-8m"
      },
      "outputs": [
        {
          "data": {
            "text/plain": [
              "datetime.datetime(2021, 7, 29, 18, 46, 17, 391332)"
            ]
          },
          "execution_count": 70,
          "metadata": {},
          "output_type": "execute_result"
        }
      ],
      "source": [
        "vh"
      ]
    },
    {
      "cell_type": "code",
      "execution_count": 80,
      "metadata": {
        "id": "AfgpXwFMV-_m"
      },
      "outputs": [
        {
          "data": {
            "text/plain": [
              "'29-July-21 18_46_17'"
            ]
          },
          "execution_count": 80,
          "metadata": {},
          "output_type": "execute_result"
        }
      ],
      "source": [
        "vh.strftime('%d-%B-%y %H_%M_%S')"
      ]
    },
    {
      "cell_type": "code",
      "execution_count": 85,
      "metadata": {
        "id": "GVatvuCvYS2S"
      },
      "outputs": [
        {
          "data": {
            "text/plain": [
              "'Thursday'"
            ]
          },
          "execution_count": 85,
          "metadata": {},
          "output_type": "execute_result"
        }
      ],
      "source": [
        "# human readable form of the day of the week.\n",
        "vh.strftime('%A')"
      ]
    },
    {
      "cell_type": "markdown",
      "metadata": {
        "id": "xRLk31GGZDEf"
      },
      "source": [
        "# Date Sequences"
      ]
    },
    {
      "cell_type": "code",
      "execution_count": 121,
      "metadata": {
        "id": "760S2hVqZiso"
      },
      "outputs": [],
      "source": [
        "dt = datetime(2021, 7, 29)\n",
        "end = datetime(2021, 7, 30)\n",
        "step = timedelta(hours=1)"
      ]
    },
    {
      "cell_type": "code",
      "execution_count": 122,
      "metadata": {
        "id": "c82cMFjUZi80"
      },
      "outputs": [
        {
          "name": "stdout",
          "output_type": "stream",
          "text": [
            "24.0\n"
          ]
        },
        {
          "data": {
            "text/plain": [
              "float"
            ]
          },
          "execution_count": 122,
          "metadata": {},
          "output_type": "execute_result"
        }
      ],
      "source": [
        "# how much time is in between\n",
        "interval = (end - dt) / timedelta(hours=1)\n",
        "print(interval)\n",
        "type(interval)"
      ]
    },
    {
      "cell_type": "code",
      "execution_count": 123,
      "metadata": {
        "id": "5n0PbFd7ZjCW"
      },
      "outputs": [],
      "source": [
        "# add the timedelta \n",
        "hours = []\n",
        "while dt < end:\n",
        "  hours.append(dt)\n",
        "  dt = dt + step"
      ]
    },
    {
      "cell_type": "code",
      "execution_count": 124,
      "metadata": {
        "id": "LJCBzhahtP3M"
      },
      "outputs": [
        {
          "data": {
            "text/plain": [
              "[datetime.datetime(2021, 7, 29, 0, 0),\n",
              " datetime.datetime(2021, 7, 29, 1, 0),\n",
              " datetime.datetime(2021, 7, 29, 2, 0),\n",
              " datetime.datetime(2021, 7, 29, 3, 0),\n",
              " datetime.datetime(2021, 7, 29, 4, 0),\n",
              " datetime.datetime(2021, 7, 29, 5, 0),\n",
              " datetime.datetime(2021, 7, 29, 6, 0),\n",
              " datetime.datetime(2021, 7, 29, 7, 0),\n",
              " datetime.datetime(2021, 7, 29, 8, 0),\n",
              " datetime.datetime(2021, 7, 29, 9, 0),\n",
              " datetime.datetime(2021, 7, 29, 10, 0),\n",
              " datetime.datetime(2021, 7, 29, 11, 0),\n",
              " datetime.datetime(2021, 7, 29, 12, 0),\n",
              " datetime.datetime(2021, 7, 29, 13, 0),\n",
              " datetime.datetime(2021, 7, 29, 14, 0),\n",
              " datetime.datetime(2021, 7, 29, 15, 0),\n",
              " datetime.datetime(2021, 7, 29, 16, 0),\n",
              " datetime.datetime(2021, 7, 29, 17, 0),\n",
              " datetime.datetime(2021, 7, 29, 18, 0),\n",
              " datetime.datetime(2021, 7, 29, 19, 0),\n",
              " datetime.datetime(2021, 7, 29, 20, 0),\n",
              " datetime.datetime(2021, 7, 29, 21, 0),\n",
              " datetime.datetime(2021, 7, 29, 22, 0),\n",
              " datetime.datetime(2021, 7, 29, 23, 0)]"
            ]
          },
          "execution_count": 124,
          "metadata": {},
          "output_type": "execute_result"
        }
      ],
      "source": [
        "hours"
      ]
    },
    {
      "cell_type": "code",
      "execution_count": 125,
      "metadata": {
        "id": "EKYrKJ3dZjFK"
      },
      "outputs": [
        {
          "data": {
            "text/plain": [
              "24"
            ]
          },
          "execution_count": 125,
          "metadata": {},
          "output_type": "execute_result"
        }
      ],
      "source": [
        "len(hours)"
      ]
    },
    {
      "cell_type": "code",
      "execution_count": 126,
      "metadata": {
        "id": "pP8mUUVYZjKk"
      },
      "outputs": [],
      "source": [
        "# introduce list comprehensions\n",
        "hours2 = [h.strftime('%Y-%m-%d %H:%M:%S') for h in hours]"
      ]
    },
    {
      "cell_type": "code",
      "execution_count": 127,
      "metadata": {
        "id": "TmH9ehiMtbOj"
      },
      "outputs": [
        {
          "data": {
            "text/plain": [
              "['2021-07-29 00:00:00',\n",
              " '2021-07-29 01:00:00',\n",
              " '2021-07-29 02:00:00',\n",
              " '2021-07-29 03:00:00',\n",
              " '2021-07-29 04:00:00',\n",
              " '2021-07-29 05:00:00',\n",
              " '2021-07-29 06:00:00',\n",
              " '2021-07-29 07:00:00',\n",
              " '2021-07-29 08:00:00',\n",
              " '2021-07-29 09:00:00',\n",
              " '2021-07-29 10:00:00',\n",
              " '2021-07-29 11:00:00',\n",
              " '2021-07-29 12:00:00',\n",
              " '2021-07-29 13:00:00',\n",
              " '2021-07-29 14:00:00',\n",
              " '2021-07-29 15:00:00',\n",
              " '2021-07-29 16:00:00',\n",
              " '2021-07-29 17:00:00',\n",
              " '2021-07-29 18:00:00',\n",
              " '2021-07-29 19:00:00',\n",
              " '2021-07-29 20:00:00',\n",
              " '2021-07-29 21:00:00',\n",
              " '2021-07-29 22:00:00',\n",
              " '2021-07-29 23:00:00']"
            ]
          },
          "execution_count": 127,
          "metadata": {},
          "output_type": "execute_result"
        }
      ],
      "source": [
        "hours2[:]"
      ]
    },
    {
      "cell_type": "code",
      "execution_count": 128,
      "metadata": {
        "id": "Eg0LZmzHZjM6"
      },
      "outputs": [
        {
          "data": {
            "text/plain": [
              "list"
            ]
          },
          "execution_count": 128,
          "metadata": {},
          "output_type": "execute_result"
        }
      ],
      "source": [
        "type(hours2)"
      ]
    },
    {
      "cell_type": "code",
      "execution_count": 129,
      "metadata": {
        "id": "JPs6VWzTZjPH"
      },
      "outputs": [
        {
          "data": {
            "text/plain": [
              "24"
            ]
          },
          "execution_count": 129,
          "metadata": {},
          "output_type": "execute_result"
        }
      ],
      "source": [
        "len(hours2)"
      ]
    },
    {
      "cell_type": "markdown",
      "metadata": {
        "id": "2KsyB2FoZjT1"
      },
      "source": [
        "# Numeric Representation of Datetimes"
      ]
    },
    {
      "cell_type": "code",
      "execution_count": 130,
      "metadata": {
        "id": "HxEsTeELcPFG"
      },
      "outputs": [],
      "source": [
        "vh = datetime.utcnow()"
      ]
    },
    {
      "cell_type": "code",
      "execution_count": 137,
      "metadata": {
        "id": "vWCQ-T4CcQNl"
      },
      "outputs": [
        {
          "data": {
            "text/plain": [
              "datetime.datetime(2021, 7, 29, 18, 52, 19, 796510)"
            ]
          },
          "execution_count": 137,
          "metadata": {},
          "output_type": "execute_result"
        }
      ],
      "source": [
        "vh"
      ]
    },
    {
      "cell_type": "code",
      "execution_count": 138,
      "metadata": {
        "id": "9xjnFR0BcQQj"
      },
      "outputs": [
        {
          "data": {
            "text/plain": [
              "1627599139.79651"
            ]
          },
          "execution_count": 138,
          "metadata": {},
          "output_type": "execute_result"
        }
      ],
      "source": [
        "ts = vh.timestamp()\n",
        "ts\n",
        "#time refernece point for code to pass back and forth  "
      ]
    },
    {
      "cell_type": "markdown",
      "metadata": {
        "id": "xaP15SEiup5F"
      },
      "source": [
        "What is this? Looks cryptic!!"
      ]
    },
    {
      "cell_type": "code",
      "execution_count": 139,
      "metadata": {
        "id": "99krNOZScQS6"
      },
      "outputs": [
        {
          "data": {
            "text/plain": [
              "datetime.datetime(2021, 7, 29, 18, 52, 19, 796510)"
            ]
          },
          "execution_count": 139,
          "metadata": {},
          "output_type": "execute_result"
        }
      ],
      "source": [
        "datetime.fromtimestamp(ts)"
      ]
    },
    {
      "cell_type": "markdown",
      "metadata": {
        "id": "iZsNTI2MumSU"
      },
      "source": [
        "How come??"
      ]
    },
    {
      "cell_type": "code",
      "execution_count": 140,
      "metadata": {
        "id": "p1ZpzDYndKAD"
      },
      "outputs": [
        {
          "data": {
            "text/plain": [
              "datetime.datetime(1969, 12, 31, 20, 0)"
            ]
          },
          "execution_count": 140,
          "metadata": {},
          "output_type": "execute_result"
        }
      ],
      "source": [
        "vh - timedelta(seconds=ts)"
      ]
    },
    {
      "cell_type": "markdown",
      "metadata": {
        "id": "Aexor3qJueLp"
      },
      "source": [
        "We have covered the basics of working with datetime module. There is a datacamp resource specifically about this subject. \n",
        "\n",
        "Next: Running simulations with python!"
      ]
    }
  ],
  "metadata": {
    "colab": {
      "collapsed_sections": [],
      "name": "Dates and Times in Python",
      "private_outputs": true,
      "provenance": []
    },
    "interpreter": {
      "hash": "d54f36650e22a68b1e16ad067c04252fc93b1d0cce2a522804985f8fa0dd3c9b"
    },
    "kernelspec": {
      "display_name": "Python 3.9.1 64-bit (conda)",
      "name": "python3"
    },
    "language_info": {
      "name": "python",
      "version": ""
    }
  },
  "nbformat": 4,
  "nbformat_minor": 0
}