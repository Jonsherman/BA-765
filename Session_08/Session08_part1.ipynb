{
  "cells": [
    {
      "cell_type": "markdown",
      "metadata": {
        "id": "YsftaLmWaIdj"
      },
      "source": [
        "# BA765 - Session 08\n",
        "07/29/2021"
      ]
    },
    {
      "cell_type": "markdown",
      "metadata": {
        "id": "1Of4PTQpaMtA"
      },
      "source": [
        "## Outline\n",
        "* Notes: \n",
        "* * Assignment-3 is released. It is shorter than other assignments, helps practice algorithmic thinking.\n",
        "\n",
        "* *  No counter needed - \"enhanced for loop\" (\"for each\" loop)\n",
        "\n",
        "* *  Iterable comprehensions other than list\n",
        "\n",
        "* *  class variables\n",
        "\n",
        "* *  catching exceptions in python\n",
        "\n",
        "* Working with datetime variables with python\n",
        "* Running simulations with python"
      ]
    },
    {
      "cell_type": "markdown",
      "metadata": {
        "id": "T2NdxMuYfI4e"
      },
      "source": [
        "## Note: No counter needed"
      ]
    },
    {
      "cell_type": "code",
      "execution_count": null,
      "metadata": {
        "id": "Zj7Dy0Oaa_Xj"
      },
      "outputs": [],
      "source": [
        "# All python loops are \"enhanced\" - no need for counters:\n",
        "\n",
        "#others:\n",
        "x = [13,5,78]\n",
        "for i in range(len(x)):\n",
        "  print(x[i])\n",
        "\n",
        "print(\"=\"*10)\n",
        "\n",
        "#python:\n",
        "for element in x:\n",
        "  print(element)\n"
      ]
    },
    {
      "cell_type": "markdown",
      "metadata": {
        "id": "PAZbi-itcttk"
      },
      "source": [
        "But sometimes we might need to know the index when we loop, having just the element might not be enough:"
      ]
    },
    {
      "cell_type": "code",
      "execution_count": 1,
      "metadata": {
        "id": "XSZQAlfHcJTo"
      },
      "outputs": [
        {
          "name": "stdout",
          "output_type": "stream",
          "text": [
            "value of 0th index is 13\n",
            "value of 1th index is 5\n",
            "value of 2th index is 78\n",
            "==========\n",
            "value of 0th index is 13\n",
            "value of 1th index is 5\n",
            "value of 2th index is 78\n"
          ]
        }
      ],
      "source": [
        "#others:\n",
        "x = [13,5,78]\n",
        "for i in range(len(x)):\n",
        "  print(\"value of {}th index is {}\".format(i,x[i]))\n",
        "\n",
        "print(\"=\"*10)\n",
        "\n",
        "#python:\n",
        "for i, element in enumerate(x):\n",
        "  print(\"value of {}th index is {}\".format(i,element))"
      ]
    },
    {
      "cell_type": "markdown",
      "metadata": {
        "id": "CY_F5a6Ov1R7"
      },
      "source": [
        "Sometimes the only thing we need is a repeated action, and there is no need to assign a counter variable:"
      ]
    },
    {
      "cell_type": "code",
      "execution_count": 4,
      "metadata": {
        "id": "vSUMlTN3-Io8"
      },
      "outputs": [
        {
          "data": {
            "text/plain": [
              "[17, 9, 82]"
            ]
          },
          "execution_count": 4,
          "metadata": {},
          "output_type": "execute_result"
        }
      ],
      "source": [
        "[i+4 for i in x]"
      ]
    },
    {
      "cell_type": "code",
      "execution_count": 5,
      "metadata": {
        "id": "ePQUE9st-iZO"
      },
      "outputs": [],
      "source": [
        "import random"
      ]
    },
    {
      "cell_type": "code",
      "execution_count": 11,
      "metadata": {
        "id": "BnBqCieZ-YvF"
      },
      "outputs": [
        {
          "name": "stdout",
          "output_type": "stream",
          "text": [
            "[4, 2, 0]\n"
          ]
        }
      ],
      "source": [
        "print([ random.randint(0,10) for _ in range(5) ])"
      ]
    },
    {
      "cell_type": "code",
      "execution_count": 10,
      "metadata": {
        "id": "pcZX9eenv43y"
      },
      "outputs": [
        {
          "name": "stdout",
          "output_type": "stream",
          "text": [
            "[5, 9, 7, 9, 2, 3, 10, 6, 6, 2, 9, 5, 4, 3, 5, 2, 4, 9, 1, 2, 7, 6, 9, 7, 6, 6, 9, 3, 4, 0]\n"
          ]
        }
      ],
      "source": [
        "print([random.randint(0,10) for _ in range(30)])\n",
        "\n",
        "\n",
        "# print([fake.email() for _ in range(10)])"
      ]
    },
    {
      "cell_type": "markdown",
      "metadata": {
        "id": "L6aG3oitc_0s"
      },
      "source": [
        "## Note: Iterable comprehensions"
      ]
    },
    {
      "cell_type": "code",
      "execution_count": 12,
      "metadata": {
        "id": "3T2k7WBEc3HP"
      },
      "outputs": [
        {
          "name": "stdout",
          "output_type": "stream",
          "text": [
            "[0, 1, 2, 3, 4]\n"
          ]
        }
      ],
      "source": [
        "print([i for i in range(5)])"
      ]
    },
    {
      "cell_type": "code",
      "execution_count": 14,
      "metadata": {
        "id": "6IvV5Ca-dYXQ"
      },
      "outputs": [
        {
          "name": "stdout",
          "output_type": "stream",
          "text": [
            "{'mylist': [0, 1, 2, 3, 4]}\n"
          ]
        }
      ],
      "source": [
        "obj1 = dict()\n",
        "obj1['mylist'] = [i for i in range(5)]\n",
        "print(obj1)"
      ]
    },
    {
      "cell_type": "code",
      "execution_count": 15,
      "metadata": {
        "id": "ksc2pPcMdii9"
      },
      "outputs": [
        {
          "name": "stdout",
          "output_type": "stream",
          "text": [
            "{0, 1, 2, 3, 4}\n"
          ]
        },
        {
          "data": {
            "text/plain": [
              "set"
            ]
          },
          "execution_count": 15,
          "metadata": {},
          "output_type": "execute_result"
        }
      ],
      "source": [
        "obj2 = { i for i in range(5)}\n",
        "print(obj2)\n",
        "type(obj2)"
      ]
    },
    {
      "cell_type": "code",
      "execution_count": 16,
      "metadata": {
        "id": "bZ-ZBsiO_pIR"
      },
      "outputs": [
        {
          "ename": "TypeError",
          "evalue": "cannot convert dictionary update sequence element #0 to a sequence",
          "output_type": "error",
          "traceback": [
            "\u001b[0;31m---------------------------------------------------------------------------\u001b[0m",
            "\u001b[0;31mTypeError\u001b[0m                                 Traceback (most recent call last)",
            "\u001b[0;32m<ipython-input-16-841cb4ce7dee>\u001b[0m in \u001b[0;36m<module>\u001b[0;34m\u001b[0m\n\u001b[0;32m----> 1\u001b[0;31m \u001b[0mobj2b\u001b[0m \u001b[0;34m=\u001b[0m \u001b[0mdict\u001b[0m\u001b[0;34m(\u001b[0m\u001b[0;34m{\u001b[0m \u001b[0mi\u001b[0m \u001b[0;32mfor\u001b[0m \u001b[0mi\u001b[0m \u001b[0;32min\u001b[0m \u001b[0mrange\u001b[0m\u001b[0;34m(\u001b[0m\u001b[0;36m5\u001b[0m\u001b[0;34m)\u001b[0m\u001b[0;34m}\u001b[0m\u001b[0;34m)\u001b[0m\u001b[0;34m\u001b[0m\u001b[0;34m\u001b[0m\u001b[0m\n\u001b[0m",
            "\u001b[0;31mTypeError\u001b[0m: cannot convert dictionary update sequence element #0 to a sequence"
          ]
        }
      ],
      "source": [
        "obj2b = dict({ i for i in range(5)})"
      ]
    },
    {
      "cell_type": "code",
      "execution_count": 17,
      "metadata": {
        "id": "gkqCfxbyfa0x"
      },
      "outputs": [],
      "source": [
        "import random"
      ]
    },
    {
      "cell_type": "code",
      "execution_count": 18,
      "metadata": {
        "id": "6JQV8fygdztA"
      },
      "outputs": [
        {
          "name": "stdout",
          "output_type": "stream",
          "text": [
            "{'0': 3, '1': 5, '2': 2, '3': 3, '4': 8}\n"
          ]
        },
        {
          "data": {
            "text/plain": [
              "dict"
            ]
          },
          "execution_count": 18,
          "metadata": {},
          "output_type": "execute_result"
        }
      ],
      "source": [
        "obj3 = dict({str(i):i+random.randint(0,10) for i in range(5)})\n",
        "print(obj3)\n",
        "type(obj3)"
      ]
    },
    {
      "cell_type": "markdown",
      "metadata": {
        "id": "lZrZUbXofk5d"
      },
      "source": [
        "## Note: Class variables"
      ]
    },
    {
      "cell_type": "code",
      "execution_count": 22,
      "metadata": {
        "id": "1EWmAHnFd4vI"
      },
      "outputs": [],
      "source": [
        "#del MyTest\n",
        "#del obj4\n",
        "class MyTest():\n",
        "  '''this class tests class variables'''\n",
        "  qst_course_code = 'BA765'\n",
        "\n",
        "  #access inside init func:\n",
        "  def __init__(self):\n",
        "    self.name = \"intro to programming\"\n",
        "    self.course_number = MyTest.qst_course_code\n",
        "    print(self.qst_course_code)\n",
        "\n",
        "  #access elsewhere:\n",
        "  def update_CN(self,CN=qst_course_code):\n",
        "    self.course_number = CN\n",
        "    print(\"updated the course number as requested.\\n New course number is:\")\n",
        "    return(self.course_number, 'aaa')\n"
      ]
    },
    {
      "cell_type": "code",
      "execution_count": 20,
      "metadata": {
        "id": "n7GbFcn8goU9"
      },
      "outputs": [
        {
          "name": "stdout",
          "output_type": "stream",
          "text": [
            "BA765\n"
          ]
        }
      ],
      "source": [
        "obj4 = MyTest()"
      ]
    },
    {
      "cell_type": "code",
      "execution_count": 26,
      "metadata": {
        "id": "5gKOi3Rmgq90"
      },
      "outputs": [
        {
          "name": "stdout",
          "output_type": "stream",
          "text": [
            "<class '__main__.MyTest'>\n",
            "intro to programming BA765\n"
          ]
        }
      ],
      "source": [
        "print(type(obj4))\n",
        "print(obj4.name, obj4.course_number)"
      ]
    },
    {
      "cell_type": "code",
      "execution_count": 27,
      "metadata": {
        "id": "KPy5K9QihqG3"
      },
      "outputs": [
        {
          "name": "stdout",
          "output_type": "stream",
          "text": [
            "updated the course number as requested.\n",
            " New course number is:\n"
          ]
        },
        {
          "data": {
            "text/plain": [
              "('BA775', 'aaa')"
            ]
          },
          "execution_count": 27,
          "metadata": {},
          "output_type": "execute_result"
        }
      ],
      "source": [
        "obj4.update_CN('BA775')"
      ]
    },
    {
      "cell_type": "code",
      "execution_count": 28,
      "metadata": {
        "id": "-M4em63qg7cq"
      },
      "outputs": [
        {
          "name": "stdout",
          "output_type": "stream",
          "text": [
            "updated the course number as requested.\n",
            " New course number is:\n"
          ]
        },
        {
          "data": {
            "text/plain": [
              "('BA765', 'aaa')"
            ]
          },
          "execution_count": 28,
          "metadata": {},
          "output_type": "execute_result"
        }
      ],
      "source": [
        "obj4.update_CN()"
      ]
    },
    {
      "cell_type": "code",
      "execution_count": null,
      "metadata": {
        "id": "7-aLvEDThyC1"
      },
      "outputs": [],
      "source": []
    },
    {
      "cell_type": "markdown",
      "metadata": {
        "id": "kKphCl6ikhoC"
      },
      "source": [
        "## Note: Catching exceptions\n",
        "Two philosophies in python code design for exceptions:\n",
        "* Look before you leap (LBYL)\n",
        "* Easier to ask forgiveness than permission (EAFP) \n"
      ]
    },
    {
      "cell_type": "code",
      "execution_count": 31,
      "metadata": {
        "id": "QmHaxjebmUPn"
      },
      "outputs": [
        {
          "name": "stdout",
          "output_type": "stream",
          "text": [
            "intro to programming\n"
          ]
        },
        {
          "ename": "AttributeError",
          "evalue": "'MyTest' object has no attribute 'faculty'",
          "output_type": "error",
          "traceback": [
            "\u001b[0;31m---------------------------------------------------------------------------\u001b[0m",
            "\u001b[0;31mAttributeError\u001b[0m                            Traceback (most recent call last)",
            "\u001b[0;32m<ipython-input-31-5cbba9b0173d>\u001b[0m in \u001b[0;36m<module>\u001b[0;34m\u001b[0m\n\u001b[1;32m      1\u001b[0m \u001b[0;31m#Task: Summary of the test object attributes:\u001b[0m\u001b[0;34m\u001b[0m\u001b[0;34m\u001b[0m\u001b[0;34m\u001b[0m\u001b[0m\n\u001b[1;32m      2\u001b[0m \u001b[0mprint\u001b[0m\u001b[0;34m(\u001b[0m\u001b[0mobj4\u001b[0m\u001b[0;34m.\u001b[0m\u001b[0mname\u001b[0m\u001b[0;34m)\u001b[0m\u001b[0;34m\u001b[0m\u001b[0;34m\u001b[0m\u001b[0m\n\u001b[0;32m----> 3\u001b[0;31m \u001b[0mprint\u001b[0m\u001b[0;34m(\u001b[0m\u001b[0mobj4\u001b[0m\u001b[0;34m.\u001b[0m\u001b[0mfaculty\u001b[0m\u001b[0;34m)\u001b[0m\u001b[0;34m\u001b[0m\u001b[0;34m\u001b[0m\u001b[0m\n\u001b[0m",
            "\u001b[0;31mAttributeError\u001b[0m: 'MyTest' object has no attribute 'faculty'"
          ]
        }
      ],
      "source": [
        "#Task: Summary of the test object attributes:\n",
        "print(obj4.name)\n",
        "print(obj4.faculty)"
      ]
    },
    {
      "cell_type": "code",
      "execution_count": 30,
      "metadata": {
        "id": "SQI9lX0Ok8Qm"
      },
      "outputs": [
        {
          "name": "stdout",
          "output_type": "stream",
          "text": [
            "intro to programming\n",
            "obj has no faculty set\n"
          ]
        }
      ],
      "source": [
        "#LBYL\n",
        "#Task: Summary of the test object attributes:\n",
        "if hasattr(obj4, \"name\"):\n",
        "  print(obj4.name)\n",
        "else:\n",
        "  print(\"obj has no name set\")\n",
        "if hasattr(obj4, \"faculty\"):\n",
        "  print(obj4.faculty)\n",
        "else:\n",
        "  print(\"obj has no faculty set\")"
      ]
    },
    {
      "cell_type": "code",
      "execution_count": 32,
      "metadata": {
        "id": "rIit0Sd1lnvp"
      },
      "outputs": [
        {
          "name": "stdout",
          "output_type": "stream",
          "text": [
            "intro to programming\n",
            "obj has no faculty set\n"
          ]
        }
      ],
      "source": [
        "#EAFP\n",
        "#Task: Summary of the test object attributes:\n",
        "try:\n",
        "  print(obj4.name)\n",
        "except:\n",
        "  print(\"obj has no name set\")\n",
        "try:\n",
        "  print(obj4.faculty)\n",
        "except:\n",
        "  print(\"obj has no faculty set\")"
      ]
    },
    {
      "cell_type": "code",
      "execution_count": null,
      "metadata": {
        "id": "vd9vu7BlEMPM"
      },
      "outputs": [],
      "source": [
        "try:\n",
        "  # LBYL\n",
        "  if hasattr(obj4,'faculty'):\n",
        "    print(obj4.faculty)\n",
        "  else:\n",
        "    print(\"obj has no faculty set - this is a message from try\")\n",
        "except:\n",
        "  print(\"obj has no faculty set\")"
      ]
    },
    {
      "cell_type": "code",
      "execution_count": null,
      "metadata": {
        "id": "VyKhNBsiElS6"
      },
      "outputs": [],
      "source": [
        "# what if we don't want to do anything if things go wrong?\n",
        "try:\n",
        "  print(obj4.faculty)\n",
        "except:\n",
        "  pass"
      ]
    },
    {
      "cell_type": "code",
      "execution_count": null,
      "metadata": {
        "id": "4i-kxJATFCdj"
      },
      "outputs": [],
      "source": [
        "#hierarchy of try-except blocks\n",
        "try:\n",
        "  print(obj4.name)\n",
        "  try:\n",
        "    print(obj4.faculty)\n",
        "  except:\n",
        "    print(\"obj has no faculty set\")\n",
        "  print(obj4.num_enrolled_students)\n",
        "except:\n",
        "  print(\"sth went wrong here up!\")"
      ]
    },
    {
      "cell_type": "code",
      "execution_count": 36,
      "metadata": {
        "id": "MSX8935QmcFH"
      },
      "outputs": [
        {
          "name": "stdout",
          "output_type": "stream",
          "text": [
            "obj has no such attribute set\n"
          ]
        }
      ],
      "source": [
        "# We can be more specific on the exception:\n",
        "try:\n",
        "  x=obj4.faculty\n",
        "  print(x)\n",
        "except AttributeError:\n",
        "  print(\"obj has no such attribute set\")\n",
        "except NameError:\n",
        "  print(\"obj is not found - are you sure you have created this?\")"
      ]
    },
    {
      "cell_type": "markdown",
      "metadata": {
        "id": "Pk_3gEJJGsVt"
      },
      "source": [
        "There are many types of exceptions we can catch:\n",
        "\n",
        "\n",
        "https://docs.python.org/3/library/exceptions.html"
      ]
    },
    {
      "cell_type": "code",
      "execution_count": null,
      "metadata": {
        "id": "W1REMml0GsCz"
      },
      "outputs": [],
      "source": []
    },
    {
      "cell_type": "markdown",
      "metadata": {
        "id": "Asm_8pnnnomw"
      },
      "source": [
        "Next: Working with Date/Time variables in Python"
      ]
    }
  ],
  "metadata": {
    "colab": {
      "name": "Session08-part1.ipynb",
      "provenance": []
    },
    "interpreter": {
      "hash": "d54f36650e22a68b1e16ad067c04252fc93b1d0cce2a522804985f8fa0dd3c9b"
    },
    "kernelspec": {
      "display_name": "Python 3.9.1 64-bit (conda)",
      "name": "python3"
    },
    "language_info": {
      "codemirror_mode": {
        "name": "ipython",
        "version": 3
      },
      "file_extension": ".py",
      "mimetype": "text/x-python",
      "name": "python",
      "nbconvert_exporter": "python",
      "pygments_lexer": "ipython3",
      "version": "3.9.1"
    }
  },
  "nbformat": 4,
  "nbformat_minor": 0
}