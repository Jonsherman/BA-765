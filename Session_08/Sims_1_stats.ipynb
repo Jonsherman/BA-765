{
  "cells": [
    {
      "cell_type": "markdown",
      "metadata": {
        "id": "NGM0keXEx3UK"
      },
      "source": [
        "# Running simualtions with Python\n",
        "\n",
        "When we run simulations of events, business decisions etc, we will always run a follow-up analysis of stats:"
      ]
    },
    {
      "cell_type": "markdown",
      "metadata": {
        "id": "x0F7UKpkxfyi"
      },
      "source": [
        "## Warmup Exercise\n",
        "\n",
        "- set the seed to be 765 with numpy\n",
        "- create a 5*3 numpy array from random numbers between 0 and 1.\n",
        "Hint: `np.random.rand()`\n",
        "- multiple the array (elementwise) by 4\n",
        "- make the array 1 dimensional. Hint: `flatten()` or `reshape()`\n",
        "- what is the max value?\n",
        "- identify the index for that largest value? Hint: `argmax()`\n",
        "\n",
        "\n"
      ]
    },
    {
      "cell_type": "code",
      "execution_count": 2,
      "metadata": {},
      "outputs": [],
      "source": [
        "import random as random \n",
        "import numpy as np"
      ]
    },
    {
      "cell_type": "code",
      "execution_count": 3,
      "metadata": {},
      "outputs": [
        {
          "ename": "NameError",
          "evalue": "name 'new_x' is not defined",
          "output_type": "error",
          "traceback": [
            "\u001b[0;31m---------------------------------------------------------------------------\u001b[0m",
            "\u001b[0;31mNameError\u001b[0m                                 Traceback (most recent call last)",
            "\u001b[0;32m<ipython-input-3-0406026d46d2>\u001b[0m in \u001b[0;36m<module>\u001b[0;34m\u001b[0m\n\u001b[0;32m----> 1\u001b[0;31m \u001b[0mnew_x\u001b[0m\u001b[0;34m\u001b[0m\u001b[0;34m\u001b[0m\u001b[0m\n\u001b[0m\u001b[1;32m      2\u001b[0m \u001b[0mnew_x\u001b[0m\u001b[0;34m.\u001b[0m\u001b[0mreshape\u001b[0m\u001b[0;34m(\u001b[0m\u001b[0;36m15\u001b[0m\u001b[0;34m,\u001b[0m\u001b[0;34m)\u001b[0m\u001b[0;34m\u001b[0m\u001b[0;34m\u001b[0m\u001b[0m\n",
            "\u001b[0;31mNameError\u001b[0m: name 'new_x' is not defined"
          ]
        }
      ],
      "source": [
        "new_x\n",
        "new_x.reshape(15,)"
      ]
    },
    {
      "cell_type": "code",
      "execution_count": null,
      "metadata": {},
      "outputs": [
        {
          "name": "stdout",
          "output_type": "stream",
          "text": [
            "3.774252844888631\n",
            "3\n"
          ]
        }
      ],
      "source": [
        "np.random.seed(765)\n",
        "x = np.random.rand(5,3)\n",
        "new_x = x * 4\n",
        "flat_x = new_x.flatten()\n",
        "print(flat_x.max())\n",
        "print(flat_x.argmax())\n"
      ]
    },
    {
      "cell_type": "markdown",
      "metadata": {
        "id": "AUU0BJuzxfyq"
      },
      "source": [
        "# Basic Stats in Python\n",
        "\n",
        "![](https://www.statology.org/wp-content/uploads/2018/10/normal_dist.png)"
      ]
    },
    {
      "cell_type": "code",
      "execution_count": null,
      "metadata": {
        "id": "6sSBGTzWxfyq"
      },
      "outputs": [],
      "source": [
        "# Very useful package for many math/science/engineering tasks\n",
        "# import scipy to start\n",
        "import scipy"
      ]
    },
    {
      "cell_type": "code",
      "execution_count": null,
      "metadata": {
        "id": "Cx_UTwirxfyr"
      },
      "outputs": [
        {
          "name": "stdout",
          "output_type": "stream",
          "text": [
            "Collecting scipy\n",
            "  Downloading scipy-1.7.0-cp39-cp39-macosx_10_9_x86_64.whl (32.1 MB)\n",
            "\u001b[K     |████████████████████████████████| 32.1 MB 7.2 MB/s \n",
            "\u001b[?25hRequirement already satisfied: numpy<1.23.0,>=1.16.5 in /Applications/miniconda3/lib/python3.9/site-packages (from scipy) (1.21.0)\n",
            "Installing collected packages: scipy\n",
            "Successfully installed scipy-1.7.0\n"
          ]
        }
      ],
      "source": [
        "# if you are coding locally and don't have scipy yet:\n",
        "! pip install scipy"
      ]
    },
    {
      "cell_type": "code",
      "execution_count": null,
      "metadata": {
        "id": "ruJ-yze5xfyr"
      },
      "outputs": [],
      "source": [
        "# the module we will use today:\n",
        "from scipy import stats\n",
        "\n",
        "#https://docs.scipy.org/doc/scipy/reference/stats.html"
      ]
    },
    {
      "cell_type": "markdown",
      "metadata": {
        "id": "DK5FCTLtxfyr"
      },
      "source": [
        "## One Sample T-test\n",
        "\n"
      ]
    },
    {
      "cell_type": "code",
      "execution_count": 5,
      "metadata": {
        "id": "vcT_nKYsxfys"
      },
      "outputs": [
        {
          "data": {
            "text/plain": [
              "array([-0.99585943, -1.53814265, -0.58757093,  0.25025828,  0.74253265,\n",
              "       -0.609139  ,  0.83583234, -0.40800033, -0.95577823,  0.23934566,\n",
              "        1.21813532, -0.52902373, -0.89769086, -1.64135507, -0.86241618])"
            ]
          },
          "execution_count": 5,
          "metadata": {},
          "output_type": "execute_result"
        }
      ],
      "source": [
        "# create a 1d array from a normal dist 0/1\n",
        "# size = 15\n",
        "x = np.random.normal(size=15)\n",
        "x"
      ]
    },
    {
      "cell_type": "code",
      "execution_count": null,
      "metadata": {
        "id": "pLT43d2DZx6G"
      },
      "outputs": [],
      "source": [
        "#np.random.normal() - center around 0 , Stdevaiton 1 "
      ]
    },
    {
      "cell_type": "code",
      "execution_count": null,
      "metadata": {
        "id": "00Q40xb7xfys"
      },
      "outputs": [
        {
          "data": {
            "text/plain": [
              "array([ 0.70269132,  0.53887887,  1.03456033,  0.18994755, -2.26443528])"
            ]
          },
          "execution_count": 79,
          "metadata": {},
          "output_type": "execute_result"
        }
      ],
      "source": [
        "x[:5]"
      ]
    },
    {
      "cell_type": "code",
      "execution_count": null,
      "metadata": {
        "id": "qBv8H21qxfys"
      },
      "outputs": [
        {
          "data": {
            "text/plain": [
              "0.13773217973698818"
            ]
          },
          "execution_count": 83,
          "metadata": {},
          "output_type": "execute_result"
        }
      ],
      "source": [
        "x.mean()"
      ]
    },
    {
      "cell_type": "code",
      "execution_count": null,
      "metadata": {
        "id": "x0-gsWSqxfyt"
      },
      "outputs": [
        {
          "data": {
            "text/plain": [
              "Ttest_1sampResult(statistic=-0.3273365660072085, pvalue=0.7434819174007327)"
            ]
          },
          "execution_count": 85,
          "metadata": {},
          "output_type": "execute_result"
        }
      ],
      "source": [
        "# ttest from scipy\n",
        "stats.ttest_1samp(x, 0)\n"
      ]
    },
    {
      "cell_type": "code",
      "execution_count": null,
      "metadata": {
        "id": "6sYZKbqwxfyt"
      },
      "outputs": [],
      "source": [
        "# try this again - larger sample\n",
        "# size = 100\n",
        "x = np.random.normal(size=1000)"
      ]
    },
    {
      "cell_type": "code",
      "execution_count": null,
      "metadata": {
        "id": "6vH3ZERFxfyt"
      },
      "outputs": [
        {
          "data": {
            "text/plain": [
              "Ttest_1sampResult(statistic=1.6603135453792537, pvalue=0.09716520651869501)"
            ]
          },
          "execution_count": 87,
          "metadata": {},
          "output_type": "execute_result"
        }
      ],
      "source": [
        "stats.ttest_1samp(x, 0)"
      ]
    },
    {
      "cell_type": "markdown",
      "metadata": {
        "id": "mXE1wY9dxfyu"
      },
      "source": [
        "> Makes sense right, as sample size increases from the distribution, pvalue gets larger.  Much less unlikely to be from a different dist"
      ]
    },
    {
      "cell_type": "code",
      "execution_count": null,
      "metadata": {
        "id": "008Z2feFxfyu"
      },
      "outputs": [
        {
          "data": {
            "text/plain": [
              "2.371883949764046"
            ]
          },
          "execution_count": 97,
          "metadata": {},
          "output_type": "execute_result"
        }
      ],
      "source": [
        "# another but we shift the data to 2, std=1, size=50\n",
        "z = np.random.normal(loc=2, scale=1, size=50)\n",
        "z.mean()"
      ]
    },
    {
      "cell_type": "code",
      "execution_count": null,
      "metadata": {
        "id": "uIILQLYUxfyu"
      },
      "outputs": [],
      "source": [
        "# save out the result to a variable\n",
        "# result\n",
        "result = stats.ttest_1samp(z, 0)"
      ]
    },
    {
      "cell_type": "code",
      "execution_count": null,
      "metadata": {
        "id": "6bwZLdWaxfyu"
      },
      "outputs": [
        {
          "data": {
            "text/plain": [
              "Ttest_1sampResult(statistic=12.810114630246511, pvalue=2.940448100802464e-17)"
            ]
          },
          "execution_count": 91,
          "metadata": {},
          "output_type": "execute_result"
        }
      ],
      "source": [
        "result"
      ]
    },
    {
      "cell_type": "code",
      "execution_count": null,
      "metadata": {
        "id": "wHv46NI0xfyv"
      },
      "outputs": [
        {
          "data": {
            "text/plain": [
              "scipy.stats.stats.Ttest_1sampResult"
            ]
          },
          "execution_count": 92,
          "metadata": {},
          "output_type": "execute_result"
        }
      ],
      "source": [
        "# type\n",
        "type(result)"
      ]
    },
    {
      "cell_type": "code",
      "execution_count": null,
      "metadata": {
        "id": "Sp5fMy4lxfyv"
      },
      "outputs": [
        {
          "data": {
            "text/plain": [
              "[12.810114630246511, 2.940448100802464e-17]"
            ]
          },
          "execution_count": 93,
          "metadata": {},
          "output_type": "execute_result"
        }
      ],
      "source": [
        "# parse to list\n",
        "list(result)"
      ]
    },
    {
      "cell_type": "markdown",
      "metadata": {
        "id": "Kaa1BcRpxfyw"
      },
      "source": [
        "## Quick Exercise:"
      ]
    },
    {
      "cell_type": "code",
      "execution_count": null,
      "metadata": {
        "id": "0agwxoxdxfyw"
      },
      "outputs": [
        {
          "data": {
            "text/plain": [
              "Ttest_1sampResult(statistic=-12.770672325406384, pvalue=3.3052553589513205e-17)"
            ]
          },
          "execution_count": 113,
          "metadata": {},
          "output_type": "execute_result"
        }
      ],
      "source": [
        "# create an array with mean 85 and standard deviation of 3\n",
        "# test against a population mean of 91\n",
        "# draw 50 samples\n",
        "y = np.random.normal(loc=85, scale=3, size=50)\n",
        "result = stats.ttest_1samp(y, 91) \n",
        "# values are what your sample is , what you are comparing to \n",
        "result"
      ]
    },
    {
      "cell_type": "code",
      "execution_count": null,
      "metadata": {},
      "outputs": [],
      "source": []
    },
    {
      "cell_type": "code",
      "execution_count": null,
      "metadata": {
        "id": "8G3B4tQVxfyw"
      },
      "outputs": [],
      "source": [
        "#grades = np.random.normal(loc=?, scale=?, size=?)"
      ]
    },
    {
      "cell_type": "markdown",
      "metadata": {
        "id": "xIKPZKElxfyx"
      },
      "source": [
        "## Two Sample t-test"
      ]
    },
    {
      "cell_type": "code",
      "execution_count": null,
      "metadata": {
        "id": "8NE3TTJNxfyx"
      },
      "outputs": [],
      "source": [
        "# lets create two random normal, 100/15, 115/15, size=100\n",
        "x = np.random.normal(100, 15, 100)\n",
        "y = np.random.normal(115, 15, 100)"
      ]
    },
    {
      "cell_type": "code",
      "execution_count": null,
      "metadata": {
        "id": "5o2YGBDwxfyx"
      },
      "outputs": [
        {
          "data": {
            "text/plain": [
              "99.47328889257446"
            ]
          },
          "execution_count": 122,
          "metadata": {},
          "output_type": "execute_result"
        }
      ],
      "source": [
        "x.mean()"
      ]
    },
    {
      "cell_type": "code",
      "execution_count": null,
      "metadata": {
        "id": "1pFyO0fExfyx"
      },
      "outputs": [
        {
          "data": {
            "text/plain": [
              "118.45599562518208"
            ]
          },
          "execution_count": 123,
          "metadata": {},
          "output_type": "execute_result"
        }
      ],
      "source": [
        "y.mean()"
      ]
    },
    {
      "cell_type": "code",
      "execution_count": null,
      "metadata": {
        "id": "h1px6H6rxfyy"
      },
      "outputs": [
        {
          "data": {
            "text/plain": [
              "Ttest_indResult(statistic=-9.415081238418447, pvalue=1.247759799182783e-17)"
            ]
          },
          "execution_count": 124,
          "metadata": {},
          "output_type": "execute_result"
        }
      ],
      "source": [
        "stats.ttest_ind(x, y)"
      ]
    },
    {
      "cell_type": "markdown",
      "metadata": {
        "id": "8AQYidDqxfy1"
      },
      "source": [
        "## Chi-square"
      ]
    },
    {
      "cell_type": "code",
      "execution_count": null,
      "metadata": {
        "id": "OrS_S9N2xfy1"
      },
      "outputs": [],
      "source": [
        "## test for independence\n",
        "# 4 sets of rolls of dice, summarized\n",
        "\n",
        "a1 = [6, 4, 5, 10]\n",
        "a2 = [8, 5, 3, 3]\n",
        "a3 = [5, 4, 8, 4]\n",
        "a4 = [4, 11, 7, 13]\n",
        "a5 = [5, 8, 7, 6]\n",
        "a6 = [7, 3, 5, 9]\n",
        "dice = np.array([a1, a2, a3, a4, a5, a6])\n"
      ]
    },
    {
      "cell_type": "code",
      "execution_count": null,
      "metadata": {
        "id": "IqI5RQpYxfy1"
      },
      "outputs": [
        {
          "data": {
            "text/plain": [
              "array([[ 6,  4,  5, 10],\n",
              "       [ 8,  5,  3,  3],\n",
              "       [ 5,  4,  8,  4],\n",
              "       [ 4, 11,  7, 13],\n",
              "       [ 5,  8,  7,  6],\n",
              "       [ 7,  3,  5,  9]])"
            ]
          },
          "execution_count": 117,
          "metadata": {},
          "output_type": "execute_result"
        }
      ],
      "source": [
        "dice"
      ]
    },
    {
      "cell_type": "code",
      "execution_count": null,
      "metadata": {
        "id": "xvelEFDKhf1l"
      },
      "outputs": [
        {
          "data": {
            "text/plain": [
              "array([25, 19, 21, 35, 26, 24])"
            ]
          },
          "execution_count": 118,
          "metadata": {},
          "output_type": "execute_result"
        }
      ],
      "source": [
        "dice.sum(axis=1)"
      ]
    },
    {
      "cell_type": "code",
      "execution_count": null,
      "metadata": {
        "id": "aO18NuuThs4M"
      },
      "outputs": [
        {
          "data": {
            "text/plain": [
              "array([35, 35, 35, 45])"
            ]
          },
          "execution_count": 119,
          "metadata": {},
          "output_type": "execute_result"
        }
      ],
      "source": [
        "dice.sum(axis=0)"
      ]
    },
    {
      "cell_type": "code",
      "execution_count": null,
      "metadata": {
        "id": "bZavEfhwxfy1"
      },
      "outputs": [
        {
          "data": {
            "text/plain": [
              "(16.490612061288754,\n",
              " 0.35021521809742745,\n",
              " 15,\n",
              " array([[ 5.83333333,  5.83333333,  5.83333333,  7.5       ],\n",
              "        [ 4.43333333,  4.43333333,  4.43333333,  5.7       ],\n",
              "        [ 4.9       ,  4.9       ,  4.9       ,  6.3       ],\n",
              "        [ 8.16666667,  8.16666667,  8.16666667, 10.5       ],\n",
              "        [ 6.06666667,  6.06666667,  6.06666667,  7.8       ],\n",
              "        [ 5.6       ,  5.6       ,  5.6       ,  7.2       ]]))"
            ]
          },
          "execution_count": 126,
          "metadata": {},
          "output_type": "execute_result"
        }
      ],
      "source": [
        "stats.chi2_contingency(dice)"
      ]
    },
    {
      "cell_type": "code",
      "execution_count": null,
      "metadata": {
        "id": "aAtAjf4wxfy2"
      },
      "outputs": [
        {
          "data": {
            "text/plain": [
              "0.35021521809742745"
            ]
          },
          "execution_count": 127,
          "metadata": {},
          "output_type": "execute_result"
        }
      ],
      "source": [
        "# another way to unpack the results\n",
        "stat, p, dof, exp = stats.chi2_contingency(dice)\n",
        "p"
      ]
    },
    {
      "cell_type": "markdown",
      "metadata": {
        "id": "su_bCFl8xfy3"
      },
      "source": [
        "## Quick Exercise:\n",
        "\n",
        "The operations manager of a company that manufactures tires wants to determine whether there are any differences in the quality of work among the three daily shifts. She randomly selects 496 tires and carefully inspects them. Each tire is either classified as perfect, satisfactory, or defective, and the shift that produced it is also recorded. The two categorical variables of interest are the shift and condition of the tire produced. The data can be summarized by the accompanying two-way table. Does the data provide sufficient evidence at the 5% significance level to infer that there are differences in quality among the three shifts?\n",
        "\n",
        "\n",
        "\n",
        "|      shift           | Perfect | Satisfactory | Defective |\n",
        "|-----------------|---------|--------------|-----------|\n",
        "| Morning Shift   | 106     | 124          | 1         |\n",
        "| Afternoon Shift | 67      | 85           | 1         |\n",
        "| Night Shift     | 37      | 72           | 3         |\n",
        "\n",
        "Source: https://online.stat.psu.edu/stat500/lesson/8/8.1"
      ]
    }
  ],
  "metadata": {
    "colab": {
      "collapsed_sections": [],
      "name": "Sims_1_stats.ipynb",
      "provenance": [],
      "toc_visible": true
    },
    "interpreter": {
      "hash": "d54f36650e22a68b1e16ad067c04252fc93b1d0cce2a522804985f8fa0dd3c9b"
    },
    "kernelspec": {
      "display_name": "Python 3.9.1 64-bit (conda)",
      "name": "python3"
    },
    "language_info": {
      "codemirror_mode": {
        "name": "ipython",
        "version": 3
      },
      "file_extension": ".py",
      "mimetype": "text/x-python",
      "name": "python",
      "nbconvert_exporter": "python",
      "pygments_lexer": "ipython3",
      "version": "3.9.1"
    }
  },
  "nbformat": 4,
  "nbformat_minor": 0
}