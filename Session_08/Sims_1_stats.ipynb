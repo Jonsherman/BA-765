{
  "cells": [
    {
      "cell_type": "markdown",
      "metadata": {
        "id": "NGM0keXEx3UK"
      },
      "source": [
        "# Running simualtions with Python\n",
        "\n",
        "When we run simulations of events, business decisions etc, we will always run a follow-up analysis of stats:"
      ]
    },
    {
      "cell_type": "markdown",
      "metadata": {
        "id": "x0F7UKpkxfyi"
      },
      "source": [
        "## Warmup Exercise\n",
        "\n",
        "- set the seed to be 765 with numpy\n",
        "- create a 5*3 numpy array from random numbers between 0 and 1.\n",
        "Hint: `np.random.rand()`\n",
        "- multiple the array (elementwise) by 4\n",
        "- make the array 1 dimensional. Hint: `flatten()` or `reshape()`\n",
        "- what is the max value?\n",
        "- identify the index for that largest value? Hint: `argmax()`\n",
        "\n",
        "\n"
      ]
    },
    {
      "cell_type": "code",
      "execution_count": 5,
      "metadata": {},
      "outputs": [],
      "source": [
        "import random \n",
        "import numpy as np"
      ]
    },
    {
      "cell_type": "code",
      "execution_count": null,
      "metadata": {},
      "outputs": [],
      "source": []
    },
    {
      "cell_type": "markdown",
      "metadata": {
        "id": "AUU0BJuzxfyq"
      },
      "source": [
        "# Basic Stats in Python\n",
        "\n",
        "![](https://www.statology.org/wp-content/uploads/2018/10/normal_dist.png)"
      ]
    },
    {
      "cell_type": "code",
      "execution_count": 4,
      "metadata": {
        "id": "6sSBGTzWxfyq"
      },
      "outputs": [],
      "source": [
        "# Very useful package for many math/science/engineering tasks\n",
        "# import scipy to start\n",
        "import scipy"
      ]
    },
    {
      "cell_type": "code",
      "execution_count": 3,
      "metadata": {
        "id": "Cx_UTwirxfyr"
      },
      "outputs": [
        {
          "name": "stdout",
          "output_type": "stream",
          "text": [
            "Collecting scipy\n",
            "  Downloading scipy-1.7.0-cp39-cp39-macosx_10_9_x86_64.whl (32.1 MB)\n",
            "\u001b[K     |████████████████████████████████| 32.1 MB 7.2 MB/s \n",
            "\u001b[?25hRequirement already satisfied: numpy<1.23.0,>=1.16.5 in /Applications/miniconda3/lib/python3.9/site-packages (from scipy) (1.21.0)\n",
            "Installing collected packages: scipy\n",
            "Successfully installed scipy-1.7.0\n"
          ]
        }
      ],
      "source": [
        "# if you are coding locally and don't have scipy yet:\n",
        "! pip install scipy"
      ]
    },
    {
      "cell_type": "code",
      "execution_count": null,
      "metadata": {
        "id": "ruJ-yze5xfyr"
      },
      "outputs": [],
      "source": [
        "# the module we will use today:\n",
        "from scipy import stats\n",
        "\n",
        "#https://docs.scipy.org/doc/scipy/reference/stats.html"
      ]
    },
    {
      "cell_type": "markdown",
      "metadata": {
        "id": "DK5FCTLtxfyr"
      },
      "source": [
        "## One Sample T-test\n",
        "\n"
      ]
    },
    {
      "cell_type": "code",
      "execution_count": null,
      "metadata": {
        "id": "vcT_nKYsxfys"
      },
      "outputs": [],
      "source": [
        "# create a 1d array from a normal dist 0/1\n",
        "# size = 15\n",
        "x = np.random.normal(size=15)"
      ]
    },
    {
      "cell_type": "code",
      "execution_count": null,
      "metadata": {
        "id": "pLT43d2DZx6G"
      },
      "outputs": [],
      "source": [
        "#np.random.normal()"
      ]
    },
    {
      "cell_type": "code",
      "execution_count": null,
      "metadata": {
        "id": "00Q40xb7xfys"
      },
      "outputs": [],
      "source": [
        "x[:5]"
      ]
    },
    {
      "cell_type": "code",
      "execution_count": null,
      "metadata": {
        "id": "qBv8H21qxfys"
      },
      "outputs": [],
      "source": [
        "x.mean()"
      ]
    },
    {
      "cell_type": "code",
      "execution_count": null,
      "metadata": {
        "id": "x0-gsWSqxfyt"
      },
      "outputs": [],
      "source": [
        "# ttest from scipy\n",
        "stats.ttest_1samp(x, 0)\n"
      ]
    },
    {
      "cell_type": "code",
      "execution_count": null,
      "metadata": {
        "id": "6sYZKbqwxfyt"
      },
      "outputs": [],
      "source": [
        "# try this again - larger sample\n",
        "# size = 100\n",
        "x = np.random.normal(size=1000)"
      ]
    },
    {
      "cell_type": "code",
      "execution_count": null,
      "metadata": {
        "id": "6vH3ZERFxfyt"
      },
      "outputs": [],
      "source": [
        "stats.ttest_1samp(x, 0)"
      ]
    },
    {
      "cell_type": "markdown",
      "metadata": {
        "id": "mXE1wY9dxfyu"
      },
      "source": [
        "> Makes sense right, as sample size increases from the distribution, pvalue gets larger.  Much less unlikely to be from a different dist"
      ]
    },
    {
      "cell_type": "code",
      "execution_count": null,
      "metadata": {
        "id": "008Z2feFxfyu"
      },
      "outputs": [],
      "source": [
        "# another but we shift the data to 2, std=1, size=50\n",
        "z = np.random.normal(loc=2, scale=1, size=50)\n",
        "z.mean()"
      ]
    },
    {
      "cell_type": "code",
      "execution_count": null,
      "metadata": {
        "id": "uIILQLYUxfyu"
      },
      "outputs": [],
      "source": [
        "# save out the result to a variable\n",
        "# result\n",
        "result = stats.ttest_1samp(z, 0)"
      ]
    },
    {
      "cell_type": "code",
      "execution_count": null,
      "metadata": {
        "id": "6bwZLdWaxfyu"
      },
      "outputs": [],
      "source": [
        "result"
      ]
    },
    {
      "cell_type": "code",
      "execution_count": null,
      "metadata": {
        "id": "wHv46NI0xfyv"
      },
      "outputs": [],
      "source": [
        "# type\n",
        "type(result)"
      ]
    },
    {
      "cell_type": "code",
      "execution_count": null,
      "metadata": {
        "id": "Sp5fMy4lxfyv"
      },
      "outputs": [],
      "source": [
        "# parse to list\n",
        "list(result)"
      ]
    },
    {
      "cell_type": "markdown",
      "metadata": {
        "id": "Kaa1BcRpxfyw"
      },
      "source": [
        "## Quick Exercise:"
      ]
    },
    {
      "cell_type": "code",
      "execution_count": null,
      "metadata": {
        "id": "0agwxoxdxfyw"
      },
      "outputs": [],
      "source": [
        "# create an array with mean 85 and standard deviation of 3\n",
        "# test against a population mean of 91\n",
        "# draw 50 samples"
      ]
    },
    {
      "cell_type": "code",
      "execution_count": null,
      "metadata": {
        "id": "8G3B4tQVxfyw"
      },
      "outputs": [],
      "source": [
        "#grades = np.random.normal(loc=?, scale=?, size=?)"
      ]
    },
    {
      "cell_type": "markdown",
      "metadata": {
        "id": "xIKPZKElxfyx"
      },
      "source": [
        "## Two Sample t-test"
      ]
    },
    {
      "cell_type": "code",
      "execution_count": null,
      "metadata": {
        "id": "8NE3TTJNxfyx"
      },
      "outputs": [],
      "source": [
        "# lets create two random normal, 100/15, 115/15, size=100\n",
        "x = np.random.normal(100, 15, 100)\n",
        "y = np.random.normal(115, 15, 100)"
      ]
    },
    {
      "cell_type": "code",
      "execution_count": null,
      "metadata": {
        "id": "5o2YGBDwxfyx"
      },
      "outputs": [],
      "source": [
        "x.mean()"
      ]
    },
    {
      "cell_type": "code",
      "execution_count": null,
      "metadata": {
        "id": "1pFyO0fExfyx"
      },
      "outputs": [],
      "source": [
        "y.mean()"
      ]
    },
    {
      "cell_type": "code",
      "execution_count": null,
      "metadata": {
        "id": "h1px6H6rxfyy"
      },
      "outputs": [],
      "source": [
        "stats.ttest_ind(x, y)"
      ]
    },
    {
      "cell_type": "markdown",
      "metadata": {
        "id": "8AQYidDqxfy1"
      },
      "source": [
        "## Chi-square"
      ]
    },
    {
      "cell_type": "code",
      "execution_count": null,
      "metadata": {
        "id": "OrS_S9N2xfy1"
      },
      "outputs": [],
      "source": [
        "## test for independence\n",
        "# 4 sets of rolls of dice, summarized\n",
        "\n",
        "a1 = [6, 4, 5, 10]\n",
        "a2 = [8, 5, 3, 3]\n",
        "a3 = [5, 4, 8, 4]\n",
        "a4 = [4, 11, 7, 13]\n",
        "a5 = [5, 8, 7, 6]\n",
        "a6 = [7, 3, 5, 9]\n",
        "dice = np.array([a1, a2, a3, a4, a5, a6])\n"
      ]
    },
    {
      "cell_type": "code",
      "execution_count": null,
      "metadata": {
        "id": "IqI5RQpYxfy1"
      },
      "outputs": [],
      "source": [
        "dice"
      ]
    },
    {
      "cell_type": "code",
      "execution_count": null,
      "metadata": {
        "id": "xvelEFDKhf1l"
      },
      "outputs": [],
      "source": [
        "dice.sum(axis=1)"
      ]
    },
    {
      "cell_type": "code",
      "execution_count": null,
      "metadata": {
        "id": "aO18NuuThs4M"
      },
      "outputs": [],
      "source": [
        "dice.sum(axis=0)"
      ]
    },
    {
      "cell_type": "code",
      "execution_count": null,
      "metadata": {
        "id": "bZavEfhwxfy1"
      },
      "outputs": [],
      "source": [
        "stats.chi2_contingency(dice)"
      ]
    },
    {
      "cell_type": "code",
      "execution_count": null,
      "metadata": {
        "id": "aAtAjf4wxfy2"
      },
      "outputs": [],
      "source": [
        "# another way to unpack the results\n",
        "stat, p, dof, exp = stats.chi2_contingency(dice)\n",
        "p"
      ]
    },
    {
      "cell_type": "markdown",
      "metadata": {
        "id": "su_bCFl8xfy3"
      },
      "source": [
        "## Quick Exercise:\n",
        "\n",
        "The operations manager of a company that manufactures tires wants to determine whether there are any differences in the quality of work among the three daily shifts. She randomly selects 496 tires and carefully inspects them. Each tire is either classified as perfect, satisfactory, or defective, and the shift that produced it is also recorded. The two categorical variables of interest are the shift and condition of the tire produced. The data can be summarized by the accompanying two-way table. Does the data provide sufficient evidence at the 5% significance level to infer that there are differences in quality among the three shifts?\n",
        "\n",
        "\n",
        "\n",
        "|      shift           | Perfect | Satisfactory | Defective |\n",
        "|-----------------|---------|--------------|-----------|\n",
        "| Morning Shift   | 106     | 124          | 1         |\n",
        "| Afternoon Shift | 67      | 85           | 1         |\n",
        "| Night Shift     | 37      | 72           | 3         |\n",
        "\n",
        "Source: https://online.stat.psu.edu/stat500/lesson/8/8.1"
      ]
    }
  ],
  "metadata": {
    "colab": {
      "collapsed_sections": [],
      "name": "Sims_1_stats.ipynb",
      "provenance": [],
      "toc_visible": true
    },
    "kernelspec": {
      "display_name": "Python 3",
      "language": "python",
      "name": "python3"
    },
    "language_info": {
      "codemirror_mode": {
        "name": "ipython",
        "version": 3
      },
      "file_extension": ".py",
      "mimetype": "text/x-python",
      "name": "python",
      "nbconvert_exporter": "python",
      "pygments_lexer": "ipython3",
      "version": "3.8.5"
    }
  },
  "nbformat": 4,
  "nbformat_minor": 0
}