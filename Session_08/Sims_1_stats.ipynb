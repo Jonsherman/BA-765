{
  "cells": [
    {
      "cell_type": "markdown",
      "metadata": {
        "id": "NGM0keXEx3UK"
      },
      "source": [
        "# Running simualtions with Python\n",
        "\n",
        "When we run simulations of events, business decisions etc, we will always run a follow-up analysis of stats:"
      ]
    },
    {
      "cell_type": "markdown",
      "metadata": {
        "id": "x0F7UKpkxfyi"
      },
      "source": [
        "## Warmup Exercise\n",
        "\n",
        "- set the seed to be 765 with numpy\n",
        "- create a 5*3 numpy array from random numbers between 0 and 1.\n",
        "Hint: `np.random.rand()`\n",
        "- multiple the array (elementwise) by 4\n",
        "- make the array 1 dimensional. Hint: `flatten()` or `reshape()`\n",
        "- what is the max value?\n",
        "- identify the index for that largest value? Hint: `argmax()`\n",
        "\n",
        "\n"
      ]
    },
    {
      "cell_type": "code",
      "execution_count": null,
      "metadata": {
        "id": "iYLI5CDuxfyq"
      },
      "outputs": [],
      "source": [
        "import numpy as np"
      ]
    },
    {
      "cell_type": "code",
      "execution_count": null,
      "metadata": {
        "id": "7qx0aeI_U-Cn"
      },
      "outputs": [],
      "source": [
        "np.random.seed(765)"
      ]
    },
    {
      "cell_type": "code",
      "execution_count": null,
      "metadata": {
        "colab": {
          "base_uri": "https://localhost:8080/"
        },
        "id": "cuzKhaI7VBKo",
        "outputId": "c1747e02-4830-42ca-8f69-4b1251f86ecc"
      },
      "outputs": [
        {
          "data": {
            "text/plain": [
              "array([[0.47622943, 0.46378993, 0.29035724],\n",
              "       [0.94356321, 0.25553297, 0.73366691],\n",
              "       [0.70950592, 0.89212214, 0.20222305],\n",
              "       [0.79012439, 0.82681928, 0.68601438],\n",
              "       [0.1526213 , 0.70779554, 0.05825119]])"
            ]
          },
          "execution_count": 3,
          "metadata": {
            "tags": []
          },
          "output_type": "execute_result"
        }
      ],
      "source": [
        "np.random.rand()"
      ]
    },
    {
      "cell_type": "code",
      "execution_count": null,
      "metadata": {
        "colab": {
          "base_uri": "https://localhost:8080/"
        },
        "id": "oii5gvvyVIh1",
        "outputId": "8808a051-0d01-4a66-9aa5-6d3ce47ec56d"
      },
      "outputs": [
        {
          "data": {
            "text/plain": [
              "array([[3.38664142, 3.23143791, 3.94662619],\n",
              "       [2.29094462, 0.64965737, 2.07345874],\n",
              "       [0.65295324, 1.72896165, 1.08966791],\n",
              "       [1.23545328, 1.9487647 , 1.43735238],\n",
              "       [3.36416171, 1.93691688, 3.45124899]])"
            ]
          },
          "execution_count": 4,
          "metadata": {
            "tags": []
          },
          "output_type": "execute_result"
        }
      ],
      "source": [
        "tmp = np.random.rand(5,3)\n",
        "tmp *=4\n",
        "tmp"
      ]
    },
    {
      "cell_type": "code",
      "execution_count": null,
      "metadata": {
        "colab": {
          "base_uri": "https://localhost:8080/"
        },
        "id": "XjXeeduZVQbC",
        "outputId": "4a944ad3-1eac-47ba-ef3a-5c4b9c21e1e1"
      },
      "outputs": [
        {
          "data": {
            "text/plain": [
              "array([3.38664142, 3.23143791, 3.94662619, 2.29094462, 0.64965737,\n",
              "       2.07345874, 0.65295324, 1.72896165, 1.08966791, 1.23545328,\n",
              "       1.9487647 , 1.43735238, 3.36416171, 1.93691688, 3.45124899])"
            ]
          },
          "execution_count": 5,
          "metadata": {
            "tags": []
          },
          "output_type": "execute_result"
        }
      ],
      "source": [
        "tmp.flatten()"
      ]
    },
    {
      "cell_type": "code",
      "execution_count": null,
      "metadata": {
        "colab": {
          "base_uri": "https://localhost:8080/"
        },
        "id": "ctmQnvtRVVSo",
        "outputId": "ef5fcfbc-543c-45f8-f023-5f85e8efaefb"
      },
      "outputs": [
        {
          "data": {
            "text/plain": [
              "3.9466261912917107"
            ]
          },
          "execution_count": 7,
          "metadata": {
            "tags": []
          },
          "output_type": "execute_result"
        }
      ],
      "source": [
        "tmp.max()"
      ]
    },
    {
      "cell_type": "code",
      "execution_count": null,
      "metadata": {
        "colab": {
          "base_uri": "https://localhost:8080/"
        },
        "id": "z7Vi-sD0VZzT",
        "outputId": "c4f1aa9f-b50b-4866-d779-b4dd21939a0f"
      },
      "outputs": [
        {
          "data": {
            "text/plain": [
              "2"
            ]
          },
          "execution_count": 8,
          "metadata": {
            "tags": []
          },
          "output_type": "execute_result"
        }
      ],
      "source": [
        "tmp.argmax()"
      ]
    },
    {
      "cell_type": "markdown",
      "metadata": {
        "id": "AUU0BJuzxfyq"
      },
      "source": [
        "# Basic Stats in Python\n",
        "\n",
        "![](https://www.statology.org/wp-content/uploads/2018/10/normal_dist.png)"
      ]
    },
    {
      "cell_type": "code",
      "execution_count": null,
      "metadata": {
        "id": "6sSBGTzWxfyq"
      },
      "outputs": [],
      "source": [
        "# Very useful package for many math/science/engineering tasks\n",
        "# import scipy to start\n",
        "import scipy"
      ]
    },
    {
      "cell_type": "code",
      "execution_count": null,
      "metadata": {
        "id": "Cx_UTwirxfyr"
      },
      "outputs": [],
      "source": [
        "# if you are coding locally and don't have scipy yet:\n",
        "#! pip install scipy"
      ]
    },
    {
      "cell_type": "code",
      "execution_count": null,
      "metadata": {
        "id": "ruJ-yze5xfyr"
      },
      "outputs": [],
      "source": [
        "# the module we will use today:\n",
        "from scipy import stats\n",
        "\n",
        "#https://docs.scipy.org/doc/scipy/reference/stats.html"
      ]
    },
    {
      "cell_type": "markdown",
      "metadata": {
        "id": "DK5FCTLtxfyr"
      },
      "source": [
        "## One Sample T-test\n",
        "\n"
      ]
    },
    {
      "cell_type": "code",
      "execution_count": null,
      "metadata": {
        "id": "vcT_nKYsxfys"
      },
      "outputs": [],
      "source": [
        "# create a 1d array from a normal dist 0/1\n",
        "# size = 15\n",
        "x = np.random.normal(size=15)"
      ]
    },
    {
      "cell_type": "code",
      "execution_count": null,
      "metadata": {
        "id": "pLT43d2DZx6G"
      },
      "outputs": [],
      "source": [
        "#np.random.normal()"
      ]
    },
    {
      "cell_type": "code",
      "execution_count": null,
      "metadata": {
        "colab": {
          "base_uri": "https://localhost:8080/"
        },
        "id": "00Q40xb7xfys",
        "outputId": "2011450e-0cf9-43df-c880-3293f7328ed7"
      },
      "outputs": [
        {
          "data": {
            "text/plain": [
              "array([ 0.48266079, -0.82323741, -0.41582247,  0.16423771,  0.4228825 ])"
            ]
          },
          "execution_count": 21,
          "metadata": {
            "tags": []
          },
          "output_type": "execute_result"
        }
      ],
      "source": [
        "x[:5]"
      ]
    },
    {
      "cell_type": "code",
      "execution_count": null,
      "metadata": {
        "colab": {
          "base_uri": "https://localhost:8080/"
        },
        "id": "qBv8H21qxfys",
        "outputId": "87c472ea-f2fc-4a63-b1f8-51f209b2c9f5"
      },
      "outputs": [
        {
          "data": {
            "text/plain": [
              "-0.4436631235236014"
            ]
          },
          "execution_count": 22,
          "metadata": {
            "tags": []
          },
          "output_type": "execute_result"
        }
      ],
      "source": [
        "x.mean()"
      ]
    },
    {
      "cell_type": "code",
      "execution_count": null,
      "metadata": {
        "colab": {
          "base_uri": "https://localhost:8080/"
        },
        "id": "x0-gsWSqxfyt",
        "outputId": "3d0861e5-6033-433b-cebd-95ee5024d684"
      },
      "outputs": [
        {
          "data": {
            "text/plain": [
              "Ttest_1sampResult(statistic=-1.5889367211871963, pvalue=0.13439633833647652)"
            ]
          },
          "execution_count": 25,
          "metadata": {
            "tags": []
          },
          "output_type": "execute_result"
        }
      ],
      "source": [
        "# ttest from scipy\n",
        "stats.ttest_1samp(x, 0)\n"
      ]
    },
    {
      "cell_type": "code",
      "execution_count": null,
      "metadata": {
        "id": "6sYZKbqwxfyt"
      },
      "outputs": [],
      "source": [
        "# try this again - larger sample\n",
        "# size = 100\n",
        "x = np.random.normal(size=1000)"
      ]
    },
    {
      "cell_type": "code",
      "execution_count": null,
      "metadata": {
        "colab": {
          "base_uri": "https://localhost:8080/"
        },
        "id": "6vH3ZERFxfyt",
        "outputId": "f9cdd89e-8fad-4a9a-8c3d-433b6400ed6b"
      },
      "outputs": [
        {
          "data": {
            "text/plain": [
              "Ttest_1sampResult(statistic=-0.10258273210951992, pvalue=0.9183147354125812)"
            ]
          },
          "execution_count": 27,
          "metadata": {
            "tags": []
          },
          "output_type": "execute_result"
        }
      ],
      "source": [
        "stats.ttest_1samp(x, 0)"
      ]
    },
    {
      "cell_type": "markdown",
      "metadata": {
        "id": "mXE1wY9dxfyu"
      },
      "source": [
        "> Makes sense right, as sample size increases from the distribution, pvalue gets larger.  Much less unlikely to be from a different dist"
      ]
    },
    {
      "cell_type": "code",
      "execution_count": null,
      "metadata": {
        "colab": {
          "base_uri": "https://localhost:8080/"
        },
        "id": "008Z2feFxfyu",
        "outputId": "7f15012c-48c7-42fa-f863-38d0e0a60f99"
      },
      "outputs": [
        {
          "data": {
            "text/plain": [
              "1.8993089305532704"
            ]
          },
          "execution_count": 30,
          "metadata": {
            "tags": []
          },
          "output_type": "execute_result"
        }
      ],
      "source": [
        "# another but we shift the data to 2, std=1, size=50\n",
        "z = np.random.normal(loc=2, scale=1, size=50)\n",
        "z.mean()"
      ]
    },
    {
      "cell_type": "code",
      "execution_count": null,
      "metadata": {
        "id": "uIILQLYUxfyu"
      },
      "outputs": [],
      "source": [
        "# save out the result to a variable\n",
        "# result\n",
        "result = stats.ttest_1samp(z, 0)"
      ]
    },
    {
      "cell_type": "code",
      "execution_count": null,
      "metadata": {
        "colab": {
          "base_uri": "https://localhost:8080/"
        },
        "id": "6bwZLdWaxfyu",
        "outputId": "bdaa43a5-ab11-4fe7-fe1a-835aa7813956"
      },
      "outputs": [
        {
          "data": {
            "text/plain": [
              "Ttest_1sampResult(statistic=11.111307776162183, pvalue=5.429437264398072e-15)"
            ]
          },
          "execution_count": 32,
          "metadata": {
            "tags": []
          },
          "output_type": "execute_result"
        }
      ],
      "source": [
        "result"
      ]
    },
    {
      "cell_type": "code",
      "execution_count": null,
      "metadata": {
        "colab": {
          "base_uri": "https://localhost:8080/"
        },
        "id": "wHv46NI0xfyv",
        "outputId": "6080bd83-bb57-4119-94fb-b7eef730c946"
      },
      "outputs": [
        {
          "data": {
            "text/plain": [
              "scipy.stats.stats.Ttest_1sampResult"
            ]
          },
          "execution_count": 33,
          "metadata": {
            "tags": []
          },
          "output_type": "execute_result"
        }
      ],
      "source": [
        "# type\n",
        "type(result)"
      ]
    },
    {
      "cell_type": "code",
      "execution_count": null,
      "metadata": {
        "colab": {
          "base_uri": "https://localhost:8080/"
        },
        "id": "Sp5fMy4lxfyv",
        "outputId": "b6ed7d3d-9cdb-4445-f0d4-8980f947e63f"
      },
      "outputs": [
        {
          "data": {
            "text/plain": [
              "[11.111307776162183, 5.429437264398072e-15]"
            ]
          },
          "execution_count": 34,
          "metadata": {
            "tags": []
          },
          "output_type": "execute_result"
        }
      ],
      "source": [
        "# parse to list\n",
        "list(result)"
      ]
    },
    {
      "cell_type": "markdown",
      "metadata": {
        "id": "Kaa1BcRpxfyw"
      },
      "source": [
        "## Quick Exercise:"
      ]
    },
    {
      "cell_type": "code",
      "execution_count": null,
      "metadata": {
        "id": "0agwxoxdxfyw"
      },
      "outputs": [],
      "source": [
        "# create an array with mean 85 and standard deviation of 3\n",
        "# test against a population mean of 91\n",
        "# draw 50 samples"
      ]
    },
    {
      "cell_type": "code",
      "execution_count": null,
      "metadata": {
        "id": "8G3B4tQVxfyw"
      },
      "outputs": [],
      "source": [
        "#grades = np.random.normal(loc=?, scale=?, size=?)"
      ]
    },
    {
      "cell_type": "code",
      "execution_count": null,
      "metadata": {
        "id": "IqOIxIu6xfyx"
      },
      "outputs": [],
      "source": [
        "np.random.normal()"
      ]
    },
    {
      "cell_type": "markdown",
      "metadata": {
        "id": "xIKPZKElxfyx"
      },
      "source": [
        "## Two Sample t-test"
      ]
    },
    {
      "cell_type": "code",
      "execution_count": null,
      "metadata": {
        "id": "8NE3TTJNxfyx"
      },
      "outputs": [],
      "source": [
        "# lets create two random normal, 100/15, 115/15, size=100\n",
        "x = np.random.normal(100, 15, 100)\n",
        "y = np.random.normal(115, 15, 100)"
      ]
    },
    {
      "cell_type": "code",
      "execution_count": null,
      "metadata": {
        "colab": {
          "base_uri": "https://localhost:8080/"
        },
        "id": "5o2YGBDwxfyx",
        "outputId": "47808744-13d0-453c-dda1-a0b08410276a"
      },
      "outputs": [
        {
          "data": {
            "text/plain": [
              "101.20413588951077"
            ]
          },
          "execution_count": 36,
          "metadata": {
            "tags": []
          },
          "output_type": "execute_result"
        }
      ],
      "source": [
        "x.mean()"
      ]
    },
    {
      "cell_type": "code",
      "execution_count": null,
      "metadata": {
        "colab": {
          "base_uri": "https://localhost:8080/"
        },
        "id": "1pFyO0fExfyx",
        "outputId": "9665204c-09bf-41db-9970-68eaa8cc1ed3"
      },
      "outputs": [
        {
          "data": {
            "text/plain": [
              "116.18534914078293"
            ]
          },
          "execution_count": 37,
          "metadata": {
            "tags": []
          },
          "output_type": "execute_result"
        }
      ],
      "source": [
        "y.mean()"
      ]
    },
    {
      "cell_type": "code",
      "execution_count": null,
      "metadata": {
        "colab": {
          "base_uri": "https://localhost:8080/"
        },
        "id": "h1px6H6rxfyy",
        "outputId": "ae1a69d6-ac45-4f2f-9978-87bbec184e9e"
      },
      "outputs": [
        {
          "data": {
            "text/plain": [
              "Ttest_indResult(statistic=-6.846437216731522, pvalue=9.287739549240712e-11)"
            ]
          },
          "execution_count": 38,
          "metadata": {
            "tags": []
          },
          "output_type": "execute_result"
        }
      ],
      "source": [
        "stats.ttest_ind(x, y)"
      ]
    },
    {
      "cell_type": "markdown",
      "metadata": {
        "id": "8AQYidDqxfy1"
      },
      "source": [
        "## Chi-square"
      ]
    },
    {
      "cell_type": "code",
      "execution_count": null,
      "metadata": {
        "id": "OrS_S9N2xfy1"
      },
      "outputs": [],
      "source": [
        "## test for independence\n",
        "# 4 sets of rolls of dice, summarized\n",
        "\n",
        "a1 = [6, 4, 5, 10]\n",
        "a2 = [8, 5, 3, 3]\n",
        "a3 = [5, 4, 8, 4]\n",
        "a4 = [4, 11, 7, 13]\n",
        "a5 = [5, 8, 7, 6]\n",
        "a6 = [7, 3, 5, 9]\n",
        "dice = np.array([a1, a2, a3, a4, a5, a6])\n"
      ]
    },
    {
      "cell_type": "code",
      "execution_count": null,
      "metadata": {
        "colab": {
          "base_uri": "https://localhost:8080/"
        },
        "id": "IqI5RQpYxfy1",
        "outputId": "31b8d641-b8ee-4230-acb7-023adb3fd496"
      },
      "outputs": [
        {
          "data": {
            "text/plain": [
              "array([[ 6,  4,  5, 10],\n",
              "       [ 8,  5,  3,  3],\n",
              "       [ 5,  4,  8,  4],\n",
              "       [ 4, 11,  7, 13],\n",
              "       [ 5,  8,  7,  6],\n",
              "       [ 7,  3,  5,  9]])"
            ]
          },
          "execution_count": 40,
          "metadata": {
            "tags": []
          },
          "output_type": "execute_result"
        }
      ],
      "source": [
        "dice"
      ]
    },
    {
      "cell_type": "code",
      "execution_count": null,
      "metadata": {
        "colab": {
          "base_uri": "https://localhost:8080/"
        },
        "id": "xvelEFDKhf1l",
        "outputId": "9a7e59ad-5398-4bb2-febf-db0872619067"
      },
      "outputs": [
        {
          "data": {
            "text/plain": [
              "array([25, 19, 21, 35, 26, 24])"
            ]
          },
          "execution_count": 41,
          "metadata": {
            "tags": []
          },
          "output_type": "execute_result"
        }
      ],
      "source": [
        "dice.sum(axis=1)"
      ]
    },
    {
      "cell_type": "code",
      "execution_count": null,
      "metadata": {
        "colab": {
          "base_uri": "https://localhost:8080/"
        },
        "id": "aO18NuuThs4M",
        "outputId": "731184a0-4aa6-46f7-fbbf-32634e8757a8"
      },
      "outputs": [
        {
          "data": {
            "text/plain": [
              "array([35, 35, 35, 45])"
            ]
          },
          "execution_count": 42,
          "metadata": {
            "tags": []
          },
          "output_type": "execute_result"
        }
      ],
      "source": [
        "dice.sum(axis=0)"
      ]
    },
    {
      "cell_type": "code",
      "execution_count": null,
      "metadata": {
        "colab": {
          "base_uri": "https://localhost:8080/"
        },
        "id": "bZavEfhwxfy1",
        "outputId": "86ab38fc-94fb-4b35-9189-9a155ac7720b"
      },
      "outputs": [
        {
          "data": {
            "text/plain": [
              "(16.490612061288754,\n",
              " 0.35021521809742745,\n",
              " 15,\n",
              " array([[ 5.83333333,  5.83333333,  5.83333333,  7.5       ],\n",
              "        [ 4.43333333,  4.43333333,  4.43333333,  5.7       ],\n",
              "        [ 4.9       ,  4.9       ,  4.9       ,  6.3       ],\n",
              "        [ 8.16666667,  8.16666667,  8.16666667, 10.5       ],\n",
              "        [ 6.06666667,  6.06666667,  6.06666667,  7.8       ],\n",
              "        [ 5.6       ,  5.6       ,  5.6       ,  7.2       ]]))"
            ]
          },
          "execution_count": 43,
          "metadata": {
            "tags": []
          },
          "output_type": "execute_result"
        }
      ],
      "source": [
        "stats.chi2_contingency(dice)"
      ]
    },
    {
      "cell_type": "code",
      "execution_count": null,
      "metadata": {
        "colab": {
          "base_uri": "https://localhost:8080/"
        },
        "id": "aAtAjf4wxfy2",
        "outputId": "8872e65d-8edd-4f90-93f4-8d1f5a830844"
      },
      "outputs": [
        {
          "data": {
            "text/plain": [
              "0.35021521809742745"
            ]
          },
          "execution_count": 45,
          "metadata": {
            "tags": []
          },
          "output_type": "execute_result"
        }
      ],
      "source": [
        "# another way to unpack the results\n",
        "stat, p, dof, exp = stats.chi2_contingency(dice)\n",
        "p"
      ]
    },
    {
      "cell_type": "markdown",
      "metadata": {
        "id": "su_bCFl8xfy3"
      },
      "source": [
        "## Quick Exercise:\n",
        "\n",
        "The operations manager of a company that manufactures tires wants to determine whether there are any differences in the quality of work among the three daily shifts. She randomly selects 496 tires and carefully inspects them. Each tire is either classified as perfect, satisfactory, or defective, and the shift that produced it is also recorded. The two categorical variables of interest are the shift and condition of the tire produced. The data can be summarized by the accompanying two-way table. Does the data provide sufficient evidence at the 5% significance level to infer that there are differences in quality among the three shifts?\n",
        "\n",
        "\n",
        "\n",
        "|      shift           | Perfect | Satisfactory | Defective |\n",
        "|-----------------|---------|--------------|-----------|\n",
        "| Morning Shift   | 106     | 124          | 1         |\n",
        "| Afternoon Shift | 67      | 85           | 1         |\n",
        "| Night Shift     | 37      | 72           | 3         |\n",
        "\n",
        "Source: https://online.stat.psu.edu/stat500/lesson/8/8.1"
      ]
    }
  ],
  "metadata": {
    "colab": {
      "collapsed_sections": [],
      "name": "Sims_1_stats.ipynb",
      "provenance": [],
      "toc_visible": true
    },
    "kernelspec": {
      "display_name": "Python 3",
      "language": "python",
      "name": "python3"
    },
    "language_info": {
      "codemirror_mode": {
        "name": "ipython",
        "version": 3
      },
      "file_extension": ".py",
      "mimetype": "text/x-python",
      "name": "python",
      "nbconvert_exporter": "python",
      "pygments_lexer": "ipython3",
      "version": "3.8.5"
    }
  },
  "nbformat": 4,
  "nbformat_minor": 0
}