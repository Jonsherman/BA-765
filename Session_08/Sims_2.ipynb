{
  "cells": [
    {
      "cell_type": "markdown",
      "metadata": {
        "id": "W-g1zEA78pfM"
      },
      "source": [
        "# Simulations\n",
        "\n",
        "Business decisions often rely on simulations of events/decisions to understand outcomes and calculate risk. Any example?"
      ]
    },
    {
      "cell_type": "code",
      "execution_count": 28,
      "metadata": {},
      "outputs": [
        {
          "name": "stdout",
          "output_type": "stream",
          "text": [
            "Requirement already satisfied: matplotlib in /Applications/miniconda3/lib/python3.9/site-packages (3.4.2)\n",
            "Requirement already satisfied: pyparsing>=2.2.1 in /Applications/miniconda3/lib/python3.9/site-packages (from matplotlib) (2.4.7)\n",
            "Requirement already satisfied: pillow>=6.2.0 in /Applications/miniconda3/lib/python3.9/site-packages (from matplotlib) (8.3.1)\n",
            "Requirement already satisfied: numpy>=1.16 in /Applications/miniconda3/lib/python3.9/site-packages (from matplotlib) (1.21.0)\n",
            "Requirement already satisfied: cycler>=0.10 in /Applications/miniconda3/lib/python3.9/site-packages (from matplotlib) (0.10.0)\n",
            "Requirement already satisfied: python-dateutil>=2.7 in /Applications/miniconda3/lib/python3.9/site-packages (from matplotlib) (2.8.1)\n",
            "Requirement already satisfied: kiwisolver>=1.0.1 in /Applications/miniconda3/lib/python3.9/site-packages (from matplotlib) (1.3.1)\n",
            "Requirement already satisfied: six in /Applications/miniconda3/lib/python3.9/site-packages (from cycler>=0.10->matplotlib) (1.15.0)\n",
            "Requirement already satisfied: six in /Applications/miniconda3/lib/python3.9/site-packages (from cycler>=0.10->matplotlib) (1.15.0)\n"
          ]
        }
      ],
      "source": [
        "! pip install matplotlib"
      ]
    },
    {
      "cell_type": "code",
      "execution_count": 29,
      "metadata": {
        "id": "Hemov6o48pfP"
      },
      "outputs": [],
      "source": [
        "# imports\n",
        "import numpy as np\n",
        "import random\n",
        "import matplotlib.pyplot as plt\n",
        "import scipy\n",
        "from scipy import stats\n",
        "\n",
        "%matplotlib inline"
      ]
    },
    {
      "cell_type": "markdown",
      "metadata": {
        "id": "KzoE1erN8pfR"
      },
      "source": [
        "# Part 1\n",
        "\n",
        "We are going to use the `TSLA.csv` file found on QTools"
      ]
    },
    {
      "cell_type": "code",
      "execution_count": 30,
      "metadata": {
        "id": "XGKMQdRe8pfR"
      },
      "outputs": [],
      "source": [
        "# Quick exercise:  \n",
        "\n",
        "# run the starter code below\n",
        "# file, using column, deliminter to divide numebrs, skip header\n",
        "tsla = np.genfromtxt(\"TSLA.csv\", usecols=5, delimiter=\",\", skip_header=1)\n",
        "tsla_delta = np.diff(tsla)\n",
        "#if no arugmetns given will calulcate change form row to rw \n"
      ]
    },
    {
      "cell_type": "code",
      "execution_count": null,
      "metadata": {},
      "outputs": [],
      "source": []
    },
    {
      "cell_type": "code",
      "execution_count": 31,
      "metadata": {},
      "outputs": [
        {
          "data": {
            "text/plain": [
              "array([50.936001, 59.936001, 65.625999, 65.542   , 63.243999, 63.001999,\n",
              "       62.984001, 62.661999, 63.493999, 63.444   ])"
            ]
          },
          "execution_count": 31,
          "metadata": {},
          "output_type": "execute_result"
        }
      ],
      "source": [
        "tsla[:10]"
      ]
    },
    {
      "cell_type": "code",
      "execution_count": 32,
      "metadata": {
        "id": "Q_F9Www0mtay"
      },
      "outputs": [
        {
          "data": {
            "text/plain": [
              "array([430.829987, 421.940002, 422.640015, 425.790009, 412.505005])"
            ]
          },
          "execution_count": 32,
          "metadata": {},
          "output_type": "execute_result"
        }
      ],
      "source": [
        "tsla[-5:]"
      ]
    },
    {
      "cell_type": "code",
      "execution_count": 33,
      "metadata": {
        "id": "z65yARBFmzAE"
      },
      "outputs": [
        {
          "data": {
            "text/plain": [
              "array([ -8.840026,  -8.889985,   0.700013,   3.149994, -13.285004])"
            ]
          },
          "execution_count": 33,
          "metadata": {},
          "output_type": "execute_result"
        }
      ],
      "source": [
        "tsla_delta[-5:]"
      ]
    },
    {
      "cell_type": "code",
      "execution_count": null,
      "metadata": {},
      "outputs": [],
      "source": []
    },
    {
      "cell_type": "code",
      "execution_count": 34,
      "metadata": {
        "colab": {
          "base_uri": "https://localhost:8080/"
        },
        "id": "3xjLLc_58pfR",
        "outputId": "6d9034f3-0530-47b9-8059-d8cebdaa3ca4"
      },
      "outputs": [
        {
          "data": {
            "text/plain": [
              "1.4291264980237153"
            ]
          },
          "execution_count": 34,
          "metadata": {},
          "output_type": "execute_result"
        }
      ],
      "source": [
        "# calculate the mean and standard deviation for the dataset tsla_delta\n",
        "tmean = tsla_delta.mean()\n",
        "tmean"
      ]
    },
    {
      "cell_type": "code",
      "execution_count": 35,
      "metadata": {
        "colab": {
          "base_uri": "https://localhost:8080/"
        },
        "id": "avVdrYxb8pfS",
        "outputId": "ec3237af-4345-49c3-f5df-a5a31c71694b"
      },
      "outputs": [
        {
          "data": {
            "text/plain": [
              "13.166176040917861"
            ]
          },
          "execution_count": 35,
          "metadata": {},
          "output_type": "execute_result"
        }
      ],
      "source": [
        "tsigma = tsla_delta.std()\n",
        "tsigma"
      ]
    },
    {
      "cell_type": "code",
      "execution_count": 64,
      "metadata": {
        "colab": {
          "base_uri": "https://localhost:8080/"
        },
        "id": "E3RPeOb18pfS",
        "outputId": "c10a9b34-c3db-42b3-9ce6-fdd8d75abac4"
      },
      "outputs": [
        {
          "data": {
            "text/plain": [
              "DescribeResult(nobs=253, minmax=(-88.11001599999997, 55.64001399999995), mean=1.4291264980237153, variance=174.03608118940954, skewness=-0.8872627772175465, kurtosis=10.14449359960682)"
            ]
          },
          "execution_count": 64,
          "metadata": {},
          "output_type": "execute_result"
        }
      ],
      "source": [
        "stats.describe(tsla_delta)\n",
        "#gives summary of statistiscs "
      ]
    },
    {
      "cell_type": "code",
      "execution_count": 59,
      "metadata": {
        "colab": {
          "base_uri": "https://localhost:8080/"
        },
        "id": "2DbBc2mH8pfS",
        "outputId": "8e197eb4-e7ff-4cf6-c714-7f1efad42b28"
      },
      "outputs": [
        {
          "data": {
            "text/plain": [
              "(50,)"
            ]
          },
          "execution_count": 59,
          "metadata": {},
          "output_type": "execute_result"
        }
      ],
      "source": [
        "# let's simulate 50 observations using this information\n",
        "# I am going to refer to this as 1 experiment\n",
        "days = np.random.normal(tmean, tsigma, 50)\n",
        "days.shape\n"
      ]
    },
    {
      "cell_type": "code",
      "execution_count": 62,
      "metadata": {
        "colab": {
          "base_uri": "https://localhost:8080/"
        },
        "id": "RHBrr6n58pfS",
        "outputId": "a9b5ac39-d497-43b5-ba73-720566179828"
      },
      "outputs": [
        {
          "data": {
            "text/plain": [
              "1.9302691708112725"
            ]
          },
          "execution_count": 62,
          "metadata": {},
          "output_type": "execute_result"
        }
      ],
      "source": [
        "days.mean()"
      ]
    },
    {
      "cell_type": "code",
      "execution_count": 63,
      "metadata": {
        "colab": {
          "base_uri": "https://localhost:8080/"
        },
        "id": "bXL8U1NA8pfT",
        "outputId": "8aeb282e-52a0-4044-b9d6-366aec52b1bc"
      },
      "outputs": [
        {
          "data": {
            "text/plain": [
              "12.232481985080515"
            ]
          },
          "execution_count": 63,
          "metadata": {},
          "output_type": "execute_result"
        }
      ],
      "source": [
        "days.std()"
      ]
    },
    {
      "cell_type": "code",
      "execution_count": 69,
      "metadata": {
        "colab": {
          "base_uri": "https://localhost:8080/"
        },
        "id": "1deuimoR8pfT",
        "outputId": "1f8769ff-fb68-4531-cb2d-f290d4e7b05a"
      },
      "outputs": [
        {
          "data": {
            "text/plain": [
              "17"
            ]
          },
          "execution_count": 69,
          "metadata": {},
          "output_type": "execute_result"
        }
      ],
      "source": [
        "# how many days in our simulation were above 5\n",
        "len(days[days>=5])"
      ]
    },
    {
      "cell_type": "code",
      "execution_count": 70,
      "metadata": {},
      "outputs": [
        {
          "data": {
            "text/plain": [
              "0.34"
            ]
          },
          "execution_count": 70,
          "metadata": {},
          "output_type": "execute_result"
        }
      ],
      "source": [
        "len(days[days>=5])/len(days)\n",
        "# percent "
      ]
    },
    {
      "cell_type": "code",
      "execution_count": 71,
      "metadata": {
        "colab": {
          "base_uri": "https://localhost:8080/"
        },
        "id": "MpwQCwsX8pfT",
        "outputId": "e6d72c5b-af07-46cc-c169-32b15a07753e"
      },
      "outputs": [
        {
          "data": {
            "text/plain": [
              "69"
            ]
          },
          "execution_count": 71,
          "metadata": {},
          "output_type": "execute_result"
        }
      ],
      "source": [
        "# actual data\n",
        "len(tsla_delta[tsla_delta >= 5])"
      ]
    },
    {
      "cell_type": "code",
      "execution_count": 72,
      "metadata": {
        "colab": {
          "base_uri": "https://localhost:8080/"
        },
        "id": "7GteKt7p8pfT",
        "outputId": "531f4b4c-63f4-46ba-a7a4-368d834a0ff6"
      },
      "outputs": [
        {
          "data": {
            "text/plain": [
              "253"
            ]
          },
          "execution_count": 72,
          "metadata": {},
          "output_type": "execute_result"
        }
      ],
      "source": [
        "len(tsla_delta)"
      ]
    },
    {
      "cell_type": "code",
      "execution_count": 73,
      "metadata": {
        "colab": {
          "base_uri": "https://localhost:8080/"
        },
        "id": "7Zb4gR7I8pfU",
        "outputId": "2120426e-b41a-42bf-da39-15bfce23cc82"
      },
      "outputs": [
        {
          "data": {
            "text/plain": [
              "0.2727272727272727"
            ]
          },
          "execution_count": 73,
          "metadata": {},
          "output_type": "execute_result"
        }
      ],
      "source": [
        "# calculate the % of days (real) that were 5 or above\n",
        "len(tsla_delta[tsla_delta >= 5]) / len(tsla_delta)\n"
      ]
    },
    {
      "cell_type": "code",
      "execution_count": 74,
      "metadata": {
        "colab": {
          "base_uri": "https://localhost:8080/"
        },
        "id": "Rzij7Wtc8pfU",
        "outputId": "d69795ef-1bfb-4b3c-889e-fb81ae997c11"
      },
      "outputs": [
        {
          "data": {
            "text/plain": [
              "0.34"
            ]
          },
          "execution_count": 74,
          "metadata": {},
          "output_type": "execute_result"
        }
      ],
      "source": [
        "# what % of days (simulated) are above 5\n",
        "len(days[days>=5]) / len(days)"
      ]
    },
    {
      "cell_type": "markdown",
      "metadata": {
        "id": "r2pcatwg8pfU"
      },
      "source": [
        "## Exercise:\n",
        "\n",
        "We are going to expand above.  \n",
        "\n",
        "1. Using the same mean/standard deviation calculated for tesla, each experiment will draw and observe 100 days\n",
        "1. Calculate the number of days where the returns are $7 or more\n",
        "1. Conduct this experiment a total of 75 times\n",
        "1. What is the average across all experiments\n",
        "1. How does this compare to the observed data in `tsla_delta`"
      ]
    },
    {
      "cell_type": "code",
      "execution_count": 127,
      "metadata": {
        "id": "-DbEo88i8pfU"
      },
      "outputs": [],
      "source": [
        "experiment = []\n",
        "for _ in range(75):\n",
        "    sim_days = np.random.normal(tmean, tsigma, 100)\n",
        "    sim_successful_days = sim_days[sim_days>=7]\n",
        "    experiment.append(len(sim_successful_days))\n",
        "\n",
        "    "
      ]
    },
    {
      "cell_type": "code",
      "execution_count": 130,
      "metadata": {
        "id": "st4LW1jy8pfW"
      },
      "outputs": [
        {
          "data": {
            "text/plain": [
              "0.3356"
            ]
          },
          "execution_count": 130,
          "metadata": {},
          "output_type": "execute_result"
        }
      ],
      "source": [
        "experiment_mean = sum(experiment)/len(experiment)\n",
        "experiment_mean/100\n",
        "#of the days "
      ]
    },
    {
      "cell_type": "code",
      "execution_count": 138,
      "metadata": {},
      "outputs": [
        {
          "data": {
            "text/plain": [
              "0.22924901185770752"
            ]
          },
          "execution_count": 138,
          "metadata": {},
          "output_type": "execute_result"
        }
      ],
      "source": [
        "tsla_comp = len(tsla_delta[tsla_delta>=7])\n",
        "tsla_comp/len(tsla_delta)\n",
        "#comparing sets \n"
      ]
    },
    {
      "cell_type": "markdown",
      "metadata": {
        "id": "2yRDjCsb8pfW"
      },
      "source": [
        "# Part 2 - Coin Flipping (Anything with Yes/No like outcome)"
      ]
    },
    {
      "cell_type": "code",
      "execution_count": null,
      "metadata": {
        "colab": {
          "base_uri": "https://localhost:8080/"
        },
        "id": "7bS6v5ev8pfW",
        "outputId": "412b587f-39a3-4d6a-ec60-7397f5b1ba0c"
      },
      "outputs": [
        {
          "data": {
            "text/plain": [
              "array([1])"
            ]
          },
          "execution_count": 20,
          "metadata": {
            "tags": []
          },
          "output_type": "execute_result"
        }
      ],
      "source": [
        "# basics\n",
        "SUCCESS_PROB = .5\n",
        "np.random.choice([0,1], size=1, p=[SUCCESS_PROB, 1-SUCCESS_PROB])"
      ]
    },
    {
      "cell_type": "code",
      "execution_count": null,
      "metadata": {
        "colab": {
          "base_uri": "https://localhost:8080/"
        },
        "id": "Wxh960wD8pfW",
        "outputId": "ddc7258a-f09c-49f1-aa6f-0fb39b8a862c"
      },
      "outputs": [
        {
          "data": {
            "text/plain": [
              "array([1, 0, 0, 1, 1, 0, 0, 1, 1, 1])"
            ]
          },
          "execution_count": 21,
          "metadata": {
            "tags": []
          },
          "output_type": "execute_result"
        }
      ],
      "source": [
        "# size = 10 = # of trials.  We will refer to this as 1 run of the experiment:\n",
        "flip = np.random.choice([0,1], size=10, p=[SUCCESS_PROB, 1-SUCCESS_PROB])\n",
        "flip"
      ]
    },
    {
      "cell_type": "code",
      "execution_count": null,
      "metadata": {
        "colab": {
          "base_uri": "https://localhost:8080/"
        },
        "id": "GREO7QIG8pfX",
        "outputId": "424e3d40-4c78-49f8-d7bc-c3e6d64f15fc"
      },
      "outputs": [
        {
          "data": {
            "text/plain": [
              "6"
            ]
          },
          "execution_count": 22,
          "metadata": {
            "tags": []
          },
          "output_type": "execute_result"
        }
      ],
      "source": [
        "# Sum shows us how many successes in the experiment\n",
        "flip.sum()"
      ]
    },
    {
      "cell_type": "code",
      "execution_count": null,
      "metadata": {
        "id": "bhc8Xl238pfX"
      },
      "outputs": [],
      "source": [
        "# something a little more practical:\n",
        "# Let's say in professional sports (hockey) 10% of the shots on net result in a goal\n",
        "\n",
        "# assume all shots are of equal quality\n",
        "\n",
        "# let's say a goalie faces 1000 shots.  How many goals (successes) will they let up?"
      ]
    },
    {
      "cell_type": "code",
      "execution_count": null,
      "metadata": {
        "id": "h-RCpzHH8pfX"
      },
      "outputs": [],
      "source": [
        "GOAL_P = .1\n",
        "shots = np.random.choice([1,0], size=100, p=[GOAL_P, 1-GOAL_P ])\n",
        "#shots[:5]"
      ]
    },
    {
      "cell_type": "code",
      "execution_count": null,
      "metadata": {
        "colab": {
          "base_uri": "https://localhost:8080/"
        },
        "id": "P2OnvZtmwJJ-",
        "outputId": "34e311cd-15bd-48d0-deb9-5eb285769c17"
      },
      "outputs": [
        {
          "data": {
            "text/plain": [
              "array([1, 1, 0, 1, 0, 1, 1, 0, 0, 0, 1, 0, 0, 0, 0, 0, 0, 1, 0, 0])"
            ]
          },
          "execution_count": 29,
          "metadata": {
            "tags": []
          },
          "output_type": "execute_result"
        }
      ],
      "source": [
        "shots[:20]"
      ]
    },
    {
      "cell_type": "code",
      "execution_count": null,
      "metadata": {
        "colab": {
          "base_uri": "https://localhost:8080/"
        },
        "id": "uSv76vpv8pfX",
        "outputId": "90af80f4-2636-4d01-df8b-bd9bb33fd225"
      },
      "outputs": [
        {
          "data": {
            "text/plain": [
              "0.16"
            ]
          },
          "execution_count": 30,
          "metadata": {
            "tags": []
          },
          "output_type": "execute_result"
        }
      ],
      "source": [
        "shots.sum()/len(shots)"
      ]
    },
    {
      "cell_type": "code",
      "execution_count": null,
      "metadata": {
        "id": "bOD7QKbM8pfX"
      },
      "outputs": [],
      "source": []
    },
    {
      "cell_type": "markdown",
      "metadata": {
        "id": "QPbv6o1o8pfY"
      },
      "source": [
        "## Breakout Room Exercise:\n",
        "\n",
        "The GM of the Boston Bruins contacted your analytics firm to help understand a shift in strategy they are looking to employ next season.\n",
        "\n",
        "The team allowed 167 goals last season on 2103 shots.  \n",
        "\n",
        "Moving forward, the team wants to understand how the following strategy would impact the number of goals allowed:\n",
        "\n",
        "1.  Shots can be taken from 3 zones, zone A, B and C.\n",
        "1.  The team wants to employ a strategy to shift where shots are taken from.  They believe that they can restrict their opponents to the following: zone A accounts for 15% of the shots, Zone B accounts for 65% of the shots, and Zone C the remaining 20%\n",
        "1.  The shot success rates for zone A, B and C are 5%, 10% and 8% respectively\n",
        "1.  The Bruins expect to allow 2100 shots next season\n",
        "\n",
        "Run 100 experiments, where for each experiment, there are 2100 shots using the information provided above.\n",
        "\n",
        "Across the 100 experiments, how many times would the Bruins reduce the number of goals allowed relative to 167 from the prior season?\n",
        "\n",
        "Would you recommend the strategy?\n"
      ]
    },
    {
      "cell_type": "code",
      "execution_count": null,
      "metadata": {
        "id": "SmwC_gAR8pfY"
      },
      "outputs": [],
      "source": [
        "# many ways to do this\n",
        "# break the problem down\n",
        "# for each shot, we need to pick a zone, and then associate the probability of the shot going in\n",
        "# each experiment will have 2100 shots\n",
        "# will run 100 experiments\n",
        "\n"
      ]
    },
    {
      "cell_type": "markdown",
      "metadata": {
        "id": "rOALJpBj8pfZ"
      },
      "source": [
        "# Part 3\n",
        "\n",
        "Let's say we know the number of events that occur in a given timeframe.  We can model this with the poisson distribution.\n",
        "\n"
      ]
    },
    {
      "cell_type": "code",
      "execution_count": null,
      "metadata": {
        "id": "8d2QwPzA8pfZ"
      },
      "outputs": [],
      "source": [
        "# visitors to your website in a given day\n",
        "# expected value, # of trials\n",
        "\n",
        "\n",
        "# np.random.poisson(1200)"
      ]
    },
    {
      "cell_type": "code",
      "execution_count": null,
      "metadata": {
        "id": "UZTPWX6p8pfa"
      },
      "outputs": [],
      "source": [
        "# let's simulate for a week, and then a year\n",
        "week = np.random.poisson(1200, 7)\n",
        "year = np.random.poisson(1200, 365)\n",
        "print(week)\n",
        "#print(year)"
      ]
    },
    {
      "cell_type": "code",
      "execution_count": null,
      "metadata": {
        "id": "_WKr0zMw8pfa"
      },
      "outputs": [],
      "source": [
        "# lets do a quick plot\n",
        "# you will dive much deeper into plotting in your next course\n",
        "plt.hist(year)"
      ]
    },
    {
      "cell_type": "code",
      "execution_count": null,
      "metadata": {
        "id": "BL6jNnaT8pfa"
      },
      "outputs": [],
      "source": [
        "# Example\n",
        "\n",
        "# A cafe owner contacted your analytics firm to help understand capacity\n",
        "\n",
        "# In a given week, they sell 1250 bagels that are baked in-house\n",
        "# They will lose money if they do not have enough ingredients to satisfy demand\n",
        "\n",
        "# Over a 52 week period, how many weeks can they expect to sell 1300 or more bagels?\n",
        "\n",
        "bagels = np.random.poisson(1250, 52)\n",
        "plt.hist(bagels)"
      ]
    },
    {
      "cell_type": "code",
      "execution_count": null,
      "metadata": {
        "id": "-OAKArxh8pfa"
      },
      "outputs": [],
      "source": []
    },
    {
      "cell_type": "markdown",
      "metadata": {
        "id": "lTwJ85Aa8pfa"
      },
      "source": [
        "## Breakout Room Exercise\n",
        "\n",
        "The same cafe owner from above has re-engaged your analytics firm to help estimate employee expenses which are a function of the number of orders.  \n",
        "\n",
        "1.  The cafe is open 252 days a year\n",
        "1.  On average, they have 2200 orders a day\n",
        "1.  The owner has estimated that they need 1 employee for every 300 orders\n",
        "1.  The daily cost for an employee is $125/day\n",
        "\n",
        "Simulate this exercise 100 times.  What is the average annual employee cost?"
      ]
    },
    {
      "cell_type": "code",
      "execution_count": null,
      "metadata": {
        "id": "6HQ7SJiq8pfb"
      },
      "outputs": [],
      "source": []
    },
    {
      "cell_type": "code",
      "execution_count": null,
      "metadata": {
        "id": "caGFsCts8pfb"
      },
      "outputs": [],
      "source": []
    },
    {
      "cell_type": "code",
      "execution_count": null,
      "metadata": {
        "id": "ev78sp8P8pfb"
      },
      "outputs": [],
      "source": []
    },
    {
      "cell_type": "code",
      "execution_count": null,
      "metadata": {
        "id": "C5YzNL6-8pfb"
      },
      "outputs": [],
      "source": []
    }
  ],
  "metadata": {
    "colab": {
      "name": "Sims_2.ipynb",
      "provenance": []
    },
    "kernelspec": {
      "display_name": "Python 3",
      "language": "python",
      "name": "python3"
    },
    "language_info": {
      "codemirror_mode": {
        "name": "ipython",
        "version": 3
      },
      "file_extension": ".py",
      "mimetype": "text/x-python",
      "name": "python",
      "nbconvert_exporter": "python",
      "pygments_lexer": "ipython3",
      "version": "3.8.5"
    }
  },
  "nbformat": 4,
  "nbformat_minor": 0
}