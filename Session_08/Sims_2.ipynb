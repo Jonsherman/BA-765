{
  "nbformat": 4,
  "nbformat_minor": 0,
  "metadata": {
    "kernelspec": {
      "display_name": "Python 3",
      "language": "python",
      "name": "python3"
    },
    "language_info": {
      "codemirror_mode": {
        "name": "ipython",
        "version": 3
      },
      "file_extension": ".py",
      "mimetype": "text/x-python",
      "name": "python",
      "nbconvert_exporter": "python",
      "pygments_lexer": "ipython3",
      "version": "3.8.5"
    },
    "colab": {
      "name": "Sims_2.ipynb",
      "provenance": []
    }
  },
  "cells": [
    {
      "cell_type": "markdown",
      "metadata": {
        "id": "W-g1zEA78pfM"
      },
      "source": [
        "# Simulations\n",
        "\n",
        "Business decisions often rely on simulations of events/decisions to understand outcomes and calculate risk. Any example?"
      ]
    },
    {
      "cell_type": "code",
      "metadata": {
        "id": "Hemov6o48pfP"
      },
      "source": [
        "# imports\n",
        "import numpy as np\n",
        "import random\n",
        "import matplotlib.pyplot as plt\n",
        "import scipy\n",
        "from scipy import stats\n",
        "\n",
        "%matplotlib inline"
      ],
      "execution_count": null,
      "outputs": []
    },
    {
      "cell_type": "markdown",
      "metadata": {
        "id": "KzoE1erN8pfR"
      },
      "source": [
        "# Part 1\n",
        "\n",
        "We are going to use the `TSLA.csv` file found on QTools"
      ]
    },
    {
      "cell_type": "code",
      "metadata": {
        "id": "XGKMQdRe8pfR"
      },
      "source": [
        "# Quick exercise:  \n",
        "\n",
        "# run the starter code below\n",
        "\n",
        "tsla = np.genfromtxt(\"TSLA.csv\", usecols=5, delimiter=\",\", skip_header=1)\n",
        "tsla_delta = np.diff(tsla)\n"
      ],
      "execution_count": null,
      "outputs": []
    },
    {
      "cell_type": "code",
      "metadata": {
        "id": "Q_F9Www0mtay"
      },
      "source": [
        "tsla[-5:]"
      ],
      "execution_count": null,
      "outputs": []
    },
    {
      "cell_type": "code",
      "metadata": {
        "id": "z65yARBFmzAE"
      },
      "source": [
        "tsla_delta[-5:]"
      ],
      "execution_count": null,
      "outputs": []
    },
    {
      "cell_type": "code",
      "metadata": {
        "colab": {
          "base_uri": "https://localhost:8080/"
        },
        "id": "3xjLLc_58pfR",
        "outputId": "6d9034f3-0530-47b9-8059-d8cebdaa3ca4"
      },
      "source": [
        "# calculate the mean and standard deviation for the dataset tsla_delta\n",
        "tmean = tsla_delta.mean()\n",
        "tmean"
      ],
      "execution_count": null,
      "outputs": [
        {
          "output_type": "execute_result",
          "data": {
            "text/plain": [
              "1.4291264980237153"
            ]
          },
          "metadata": {
            "tags": []
          },
          "execution_count": 8
        }
      ]
    },
    {
      "cell_type": "code",
      "metadata": {
        "colab": {
          "base_uri": "https://localhost:8080/"
        },
        "id": "avVdrYxb8pfS",
        "outputId": "ec3237af-4345-49c3-f5df-a5a31c71694b"
      },
      "source": [
        "tsigma = tsla_delta.std()\n",
        "tsigma"
      ],
      "execution_count": null,
      "outputs": [
        {
          "output_type": "execute_result",
          "data": {
            "text/plain": [
              "13.166176040917861"
            ]
          },
          "metadata": {
            "tags": []
          },
          "execution_count": 9
        }
      ]
    },
    {
      "cell_type": "code",
      "metadata": {
        "colab": {
          "base_uri": "https://localhost:8080/"
        },
        "id": "E3RPeOb18pfS",
        "outputId": "c10a9b34-c3db-42b3-9ce6-fdd8d75abac4"
      },
      "source": [
        "stats.describe(tsla_delta)"
      ],
      "execution_count": null,
      "outputs": [
        {
          "output_type": "execute_result",
          "data": {
            "text/plain": [
              "DescribeResult(nobs=253, minmax=(-88.11001599999997, 55.64001399999995), mean=1.4291264980237153, variance=174.03608118940954, skewness=-0.8872627772175465, kurtosis=10.14449359960682)"
            ]
          },
          "metadata": {
            "tags": []
          },
          "execution_count": 10
        }
      ]
    },
    {
      "cell_type": "code",
      "metadata": {
        "colab": {
          "base_uri": "https://localhost:8080/"
        },
        "id": "2DbBc2mH8pfS",
        "outputId": "8e197eb4-e7ff-4cf6-c714-7f1efad42b28"
      },
      "source": [
        "# let's simulate 50 observations using this information\n",
        "# I am going to refer to this as 1 experiment\n",
        "days = np.random.normal(tmean, tsigma, 50)\n",
        "days.shape\n"
      ],
      "execution_count": null,
      "outputs": [
        {
          "output_type": "execute_result",
          "data": {
            "text/plain": [
              "(50,)"
            ]
          },
          "metadata": {
            "tags": []
          },
          "execution_count": 11
        }
      ]
    },
    {
      "cell_type": "code",
      "metadata": {
        "colab": {
          "base_uri": "https://localhost:8080/"
        },
        "id": "RHBrr6n58pfS",
        "outputId": "a9b5ac39-d497-43b5-ba73-720566179828"
      },
      "source": [
        "days.mean()"
      ],
      "execution_count": null,
      "outputs": [
        {
          "output_type": "execute_result",
          "data": {
            "text/plain": [
              "1.3678659764810412"
            ]
          },
          "metadata": {
            "tags": []
          },
          "execution_count": 12
        }
      ]
    },
    {
      "cell_type": "code",
      "metadata": {
        "colab": {
          "base_uri": "https://localhost:8080/"
        },
        "id": "bXL8U1NA8pfT",
        "outputId": "8aeb282e-52a0-4044-b9d6-366aec52b1bc"
      },
      "source": [
        "days.std()"
      ],
      "execution_count": null,
      "outputs": [
        {
          "output_type": "execute_result",
          "data": {
            "text/plain": [
              "11.970172684005036"
            ]
          },
          "metadata": {
            "tags": []
          },
          "execution_count": 13
        }
      ]
    },
    {
      "cell_type": "code",
      "metadata": {
        "id": "V9l0oC9j8pfT"
      },
      "source": [
        ""
      ],
      "execution_count": null,
      "outputs": []
    },
    {
      "cell_type": "code",
      "metadata": {
        "colab": {
          "base_uri": "https://localhost:8080/"
        },
        "id": "1deuimoR8pfT",
        "outputId": "1f8769ff-fb68-4531-cb2d-f290d4e7b05a"
      },
      "source": [
        "# how many days in our simulation were above 5\n",
        "len(days[days>=5])"
      ],
      "execution_count": null,
      "outputs": [
        {
          "output_type": "execute_result",
          "data": {
            "text/plain": [
              "16"
            ]
          },
          "metadata": {
            "tags": []
          },
          "execution_count": 14
        }
      ]
    },
    {
      "cell_type": "code",
      "metadata": {
        "colab": {
          "base_uri": "https://localhost:8080/"
        },
        "id": "MpwQCwsX8pfT",
        "outputId": "e6d72c5b-af07-46cc-c169-32b15a07753e"
      },
      "source": [
        "# actual data\n",
        "len(tsla_delta[tsla_delta >= 5])"
      ],
      "execution_count": null,
      "outputs": [
        {
          "output_type": "execute_result",
          "data": {
            "text/plain": [
              "69"
            ]
          },
          "metadata": {
            "tags": []
          },
          "execution_count": 15
        }
      ]
    },
    {
      "cell_type": "code",
      "metadata": {
        "colab": {
          "base_uri": "https://localhost:8080/"
        },
        "id": "7GteKt7p8pfT",
        "outputId": "531f4b4c-63f4-46ba-a7a4-368d834a0ff6"
      },
      "source": [
        "len(tsla_delta)"
      ],
      "execution_count": null,
      "outputs": [
        {
          "output_type": "execute_result",
          "data": {
            "text/plain": [
              "253"
            ]
          },
          "metadata": {
            "tags": []
          },
          "execution_count": 16
        }
      ]
    },
    {
      "cell_type": "code",
      "metadata": {
        "colab": {
          "base_uri": "https://localhost:8080/"
        },
        "id": "7Zb4gR7I8pfU",
        "outputId": "2120426e-b41a-42bf-da39-15bfce23cc82"
      },
      "source": [
        "# calculate the % of days (real) that were 5 or above\n",
        "len(tsla_delta[tsla_delta >= 5]) / len(tsla_delta)\n"
      ],
      "execution_count": null,
      "outputs": [
        {
          "output_type": "execute_result",
          "data": {
            "text/plain": [
              "0.2727272727272727"
            ]
          },
          "metadata": {
            "tags": []
          },
          "execution_count": 17
        }
      ]
    },
    {
      "cell_type": "code",
      "metadata": {
        "colab": {
          "base_uri": "https://localhost:8080/"
        },
        "id": "Rzij7Wtc8pfU",
        "outputId": "d69795ef-1bfb-4b3c-889e-fb81ae997c11"
      },
      "source": [
        "# what % of days (simulated) are above 5\n",
        "len(days[days>=5]) / len(days)"
      ],
      "execution_count": null,
      "outputs": [
        {
          "output_type": "execute_result",
          "data": {
            "text/plain": [
              "0.32"
            ]
          },
          "metadata": {
            "tags": []
          },
          "execution_count": 18
        }
      ]
    },
    {
      "cell_type": "markdown",
      "metadata": {
        "id": "r2pcatwg8pfU"
      },
      "source": [
        "## Exercise:\n",
        "\n",
        "We are going to expand above.  \n",
        "\n",
        "1. Using the same mean/standard deviation calculated for tesla, each experiment will draw and observe 100 days\n",
        "1. Calculate the number of days where the returns are $7 or more\n",
        "1. Conduct this experiment a total of 75 times\n",
        "1. What is the average across all experiments\n",
        "1. How does this compare to the observed data in `tsla_delta`"
      ]
    },
    {
      "cell_type": "code",
      "metadata": {
        "id": "-DbEo88i8pfU"
      },
      "source": [
        "# experiment = []\n",
        "\n",
        "# for _ in range(??):\n",
        "#     sim_days = np.random.normal(??)\n",
        "#     sim_successful_days = ?\n",
        "#     experiment.append(sim_successful_days)\n",
        "\n",
        "    "
      ],
      "execution_count": null,
      "outputs": []
    },
    {
      "cell_type": "code",
      "metadata": {
        "id": "st4LW1jy8pfW"
      },
      "source": [
        ""
      ],
      "execution_count": null,
      "outputs": []
    },
    {
      "cell_type": "markdown",
      "metadata": {
        "id": "2yRDjCsb8pfW"
      },
      "source": [
        "# Part 2 - Coin Flipping (Anything with Yes/No like outcome)"
      ]
    },
    {
      "cell_type": "code",
      "metadata": {
        "colab": {
          "base_uri": "https://localhost:8080/"
        },
        "id": "7bS6v5ev8pfW",
        "outputId": "412b587f-39a3-4d6a-ec60-7397f5b1ba0c"
      },
      "source": [
        "# basics\n",
        "SUCCESS_PROB = .5\n",
        "np.random.choice([0,1], size=1, p=[SUCCESS_PROB, 1-SUCCESS_PROB])"
      ],
      "execution_count": null,
      "outputs": [
        {
          "output_type": "execute_result",
          "data": {
            "text/plain": [
              "array([1])"
            ]
          },
          "metadata": {
            "tags": []
          },
          "execution_count": 20
        }
      ]
    },
    {
      "cell_type": "code",
      "metadata": {
        "id": "Wxh960wD8pfW",
        "colab": {
          "base_uri": "https://localhost:8080/"
        },
        "outputId": "ddc7258a-f09c-49f1-aa6f-0fb39b8a862c"
      },
      "source": [
        "# size = 10 = # of trials.  We will refer to this as 1 run of the experiment:\n",
        "flip = np.random.choice([0,1], size=10, p=[SUCCESS_PROB, 1-SUCCESS_PROB])\n",
        "flip"
      ],
      "execution_count": null,
      "outputs": [
        {
          "output_type": "execute_result",
          "data": {
            "text/plain": [
              "array([1, 0, 0, 1, 1, 0, 0, 1, 1, 1])"
            ]
          },
          "metadata": {
            "tags": []
          },
          "execution_count": 21
        }
      ]
    },
    {
      "cell_type": "code",
      "metadata": {
        "id": "GREO7QIG8pfX",
        "colab": {
          "base_uri": "https://localhost:8080/"
        },
        "outputId": "424e3d40-4c78-49f8-d7bc-c3e6d64f15fc"
      },
      "source": [
        "# Sum shows us how many successes in the experiment\n",
        "flip.sum()"
      ],
      "execution_count": null,
      "outputs": [
        {
          "output_type": "execute_result",
          "data": {
            "text/plain": [
              "6"
            ]
          },
          "metadata": {
            "tags": []
          },
          "execution_count": 22
        }
      ]
    },
    {
      "cell_type": "code",
      "metadata": {
        "id": "bhc8Xl238pfX"
      },
      "source": [
        "# something a little more practical:\n",
        "# Let's say in professional sports (hockey) 10% of the shots on net result in a goal\n",
        "\n",
        "# assume all shots are of equal quality\n",
        "\n",
        "# let's say a goalie faces 1000 shots.  How many goals (successes) will they let up?"
      ],
      "execution_count": null,
      "outputs": []
    },
    {
      "cell_type": "code",
      "metadata": {
        "id": "h-RCpzHH8pfX"
      },
      "source": [
        "GOAL_P = .1\n",
        "shots = np.random.choice([1,0], size=100, p=[GOAL_P, 1-GOAL_P ])\n",
        "#shots[:5]"
      ],
      "execution_count": null,
      "outputs": []
    },
    {
      "cell_type": "code",
      "metadata": {
        "colab": {
          "base_uri": "https://localhost:8080/"
        },
        "id": "P2OnvZtmwJJ-",
        "outputId": "34e311cd-15bd-48d0-deb9-5eb285769c17"
      },
      "source": [
        "shots[:20]"
      ],
      "execution_count": null,
      "outputs": [
        {
          "output_type": "execute_result",
          "data": {
            "text/plain": [
              "array([1, 1, 0, 1, 0, 1, 1, 0, 0, 0, 1, 0, 0, 0, 0, 0, 0, 1, 0, 0])"
            ]
          },
          "metadata": {
            "tags": []
          },
          "execution_count": 29
        }
      ]
    },
    {
      "cell_type": "code",
      "metadata": {
        "colab": {
          "base_uri": "https://localhost:8080/"
        },
        "id": "uSv76vpv8pfX",
        "outputId": "90af80f4-2636-4d01-df8b-bd9bb33fd225"
      },
      "source": [
        "shots.sum()/len(shots)"
      ],
      "execution_count": null,
      "outputs": [
        {
          "output_type": "execute_result",
          "data": {
            "text/plain": [
              "0.16"
            ]
          },
          "metadata": {
            "tags": []
          },
          "execution_count": 30
        }
      ]
    },
    {
      "cell_type": "code",
      "metadata": {
        "id": "bOD7QKbM8pfX"
      },
      "source": [
        ""
      ],
      "execution_count": null,
      "outputs": []
    },
    {
      "cell_type": "markdown",
      "metadata": {
        "id": "QPbv6o1o8pfY"
      },
      "source": [
        "## Breakout Room Exercise:\n",
        "\n",
        "The GM of the Boston Bruins contacted your analytics firm to help understand a shift in strategy they are looking to employ next season.\n",
        "\n",
        "The team allowed 167 goals last season on 2103 shots.  \n",
        "\n",
        "Moving forward, the team wants to understand how the following strategy would impact the number of goals allowed:\n",
        "\n",
        "1.  Shots can be taken from 3 zones, zone A, B and C.\n",
        "1.  The team wants to employ a strategy to shift where shots are taken from.  They believe that they can restrict their opponents to the following: zone A accounts for 15% of the shots, Zone B accounts for 65% of the shots, and Zone C the remaining 20%\n",
        "1.  The shot success rates for zone A, B and C are 5%, 10% and 8% respectively\n",
        "1.  The Bruins expect to allow 2100 shots next season\n",
        "\n",
        "Run 100 experiments, where for each experiment, there are 2100 shots using the information provided above.\n",
        "\n",
        "Across the 100 experiments, how many times would the Bruins reduce the number of goals allowed relative to 167 from the prior season?\n",
        "\n",
        "Would you recommend the strategy?\n"
      ]
    },
    {
      "cell_type": "code",
      "metadata": {
        "id": "SmwC_gAR8pfY"
      },
      "source": [
        "# many ways to do this\n",
        "# break the problem down\n",
        "# for each shot, we need to pick a zone, and then associate the probability of the shot going in\n",
        "# each experiment will have 2100 shots\n",
        "# will run 100 experiments\n",
        "\n"
      ],
      "execution_count": null,
      "outputs": []
    },
    {
      "cell_type": "markdown",
      "metadata": {
        "id": "rOALJpBj8pfZ"
      },
      "source": [
        "# Part 3\n",
        "\n",
        "Let's say we know the number of events that occur in a given timeframe.  We can model this with the poisson distribution.\n",
        "\n"
      ]
    },
    {
      "cell_type": "code",
      "metadata": {
        "id": "8d2QwPzA8pfZ"
      },
      "source": [
        "# visitors to your website in a given day\n",
        "# expected value, # of trials\n",
        "\n",
        "\n",
        "# np.random.poisson(1200)"
      ],
      "execution_count": null,
      "outputs": []
    },
    {
      "cell_type": "code",
      "metadata": {
        "id": "UZTPWX6p8pfa"
      },
      "source": [
        "# let's simulate for a week, and then a year\n",
        "week = np.random.poisson(1200, 7)\n",
        "year = np.random.poisson(1200, 365)\n",
        "print(week)\n",
        "#print(year)"
      ],
      "execution_count": null,
      "outputs": []
    },
    {
      "cell_type": "code",
      "metadata": {
        "id": "_WKr0zMw8pfa"
      },
      "source": [
        "# lets do a quick plot\n",
        "# you will dive much deeper into plotting in your next course\n",
        "plt.hist(year)"
      ],
      "execution_count": null,
      "outputs": []
    },
    {
      "cell_type": "code",
      "metadata": {
        "id": "BL6jNnaT8pfa"
      },
      "source": [
        "# Example\n",
        "\n",
        "# A cafe owner contacted your analytics firm to help understand capacity\n",
        "\n",
        "# In a given week, they sell 1250 bagels that are baked in-house\n",
        "# They will lose money if they do not have enough ingredients to satisfy demand\n",
        "\n",
        "# Over a 52 week period, how many weeks can they expect to sell 1300 or more bagels?\n",
        "\n",
        "bagels = np.random.poisson(1250, 52)\n",
        "plt.hist(bagels)"
      ],
      "execution_count": null,
      "outputs": []
    },
    {
      "cell_type": "code",
      "metadata": {
        "id": "-OAKArxh8pfa"
      },
      "source": [
        ""
      ],
      "execution_count": null,
      "outputs": []
    },
    {
      "cell_type": "markdown",
      "metadata": {
        "id": "lTwJ85Aa8pfa"
      },
      "source": [
        "## Breakout Room Exercise\n",
        "\n",
        "The same cafe owner from above has re-engaged your analytics firm to help estimate employee expenses which are a function of the number of orders.  \n",
        "\n",
        "1.  The cafe is open 252 days a year\n",
        "1.  On average, they have 2200 orders a day\n",
        "1.  The owner has estimated that they need 1 employee for every 300 orders\n",
        "1.  The daily cost for an employee is $125/day\n",
        "\n",
        "Simulate this exercise 100 times.  What is the average annual employee cost?"
      ]
    },
    {
      "cell_type": "code",
      "metadata": {
        "id": "6HQ7SJiq8pfb"
      },
      "source": [
        ""
      ],
      "execution_count": null,
      "outputs": []
    },
    {
      "cell_type": "code",
      "metadata": {
        "id": "caGFsCts8pfb"
      },
      "source": [
        ""
      ],
      "execution_count": null,
      "outputs": []
    },
    {
      "cell_type": "code",
      "metadata": {
        "id": "ev78sp8P8pfb"
      },
      "source": [
        ""
      ],
      "execution_count": null,
      "outputs": []
    },
    {
      "cell_type": "code",
      "metadata": {
        "id": "C5YzNL6-8pfb"
      },
      "source": [
        ""
      ],
      "execution_count": null,
      "outputs": []
    }
  ]
}