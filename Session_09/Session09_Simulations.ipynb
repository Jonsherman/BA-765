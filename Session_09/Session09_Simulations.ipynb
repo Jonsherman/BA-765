{
  "cells": [
    {
      "cell_type": "markdown",
      "metadata": {
        "id": "-0CAw-w_OUfC"
      },
      "source": [
        "#BA765 - Session 09\n",
        "08/03/2021\n",
        "\n",
        "###Outline\n",
        "\n",
        "- Course and Instructor Evaluation\n",
        "- Assignment Questions?\n",
        "- Final related Questions?\n",
        "\n",
        "- More Simulations!\n",
        "- - Simulating the spread of an infectious disease in a population!!\n",
        "- - Simulating vaccinations - yay!\n",
        "- - Simulating coin flip or Possion (exercises from last class)\n",
        "- - Simulating the \"game of life\" (locally, on your computer!)\n",
        "https://media.giphy.com/media/tXlpbXfu7e2Pu/giphy.gif\n",
        "\n",
        "\n",
        "\n",
        "\n"
      ]
    },
    {
      "cell_type": "markdown",
      "metadata": {
        "id": "ED6-iIMSO_G4"
      },
      "source": [
        "##Course and Instructor Evaluations\n",
        "- Consideration should be given to all semester\n",
        "- Your answers are taken seriously, you might not see the impact but next cohorts will. \n",
        "- Not every questions is relevant for every course, e.g. we do not have other instructors (TAs, co-instructors etc)\n",
        "\n",
        "Link for B1 section:\n",
        "https://bostonu.qualtrics.com/jfe/form/SV_cHogJMRytURD2DQ?CLASS=BA765B1.Kucukbenli\n",
        "\n",
        "Link for the B2 section:\n",
        "https://bostonu.qualtrics.com/jfe/form/SV_cHogJMRytURD2DQ?CLASS=BA765B2.Kucukbenli\n"
      ]
    },
    {
      "cell_type": "markdown",
      "metadata": {
        "id": "zQKBwC8fSDjw"
      },
      "source": [
        "## Simulating the spread of Covid19\n",
        "\n",
        "There are many models that try to simulate the spread of an infectious disease. We will use what is called an **\"SIR model\"**. It is called this way because of its parameters:\n",
        "\n",
        "**S**: People who are “susceptible”, i.e. capable of contracting the disease if they come into contact with someone who is infected.\n",
        "\n",
        "**I**: People who are “infectious”, i.e. capable of passing along the disease if they come into contact with someone susceptible.\n",
        "\n",
        "**R**: People who were infected but are “recovered”, i.e. immune to reinfection. (this is not true for every disease but let us assume it to be true for our simulation).\n",
        "\n",
        "For a population of size `N`, we expect `N = S + I + R`\n",
        "\n",
        "Other parameters of this simulation are:\n",
        "\n",
        "*gamma*: recovery rate - The probability of recovery for any infected person at a given day\n",
        "\n",
        "*beta*: contact rate - the probability of any susceptible person to come in contact with others for a given day\n",
        "\n",
        "*i*: ratio of the population that is infected; \n",
        "\n",
        "*s*: ratio of the population that is susceptible to get infected.\n",
        "\n",
        "*r*: ratio of the population that has recovered."
      ]
    },
    {
      "cell_type": "markdown",
      "metadata": {
        "id": "Pgm1CLfZUQp9"
      },
      "source": [
        "### Equations that govern the spread:\n",
        "The total number of susceptible people in the population (N*s) changes every day as they become infected through contact:\n",
        "\n",
        "$\\Delta$(N*s) = - beta * s * N * i\n",
        "\n",
        "The total number of infected people in the population changes every day as they recover, and as new people get sick:\n",
        "\n",
        "$\\Delta$(N*i) =  (beta * s * N * i) - (gamma * i *N)\n",
        "\n",
        "The total number of recovered people in the population changes every day as sick people recover:\n",
        "\n",
        "$\\Delta$(N*r) =  gamma * i *N\n",
        "\n",
        "Now, given these daily change of population health status, can you simulate a population of 100 people, given 1 of them is sick?\n"
      ]
    },
    {
      "cell_type": "markdown",
      "metadata": {
        "id": "lRawizvWWS8w"
      },
      "source": [
        "### Exercise:\n",
        "Build a class called `Population()`. Any object that is created from this class should have the following attributes in order for the object to be defined: N, s, i, r ; where N is the total number of people in the population, and s, i, r are the ratios as described above.\n",
        "\n",
        "This class should have have a method called `simulate_covid` where it should use the SIR model, with the following parameters with given defaults: gamma = 1/8 and beta = 1/2. This method should have a mandatory argument called \"duration\" that determines the duration of the simulation in terms of days. \n",
        "\n",
        "Simulate function should rely on another function defined separately, called `update_daily` where a single day update is performed using the equations above, and the updated object is returned.\n",
        "\n",
        "The `simulate_covid` method should return a history of the simulation, meaning, three lists that hold the daily numbers for S, I, R in the population. \n",
        "\n",
        "\n"
      ]
    },
    {
      "cell_type": "code",
      "execution_count": 260,
      "metadata": {
        "id": "Ko7rPngnWQCL"
      },
      "outputs": [],
      "source": [
        "#Build your class below in one cell, no other calls please:\n",
        "  #update short hand\n",
        "    #i = i - 1\n",
        "    #i -= 1\n",
        "    #self.s = self.s -  (b * self.s * self.i)\n",
        "#imports\n",
        "\n",
        "\n",
        "class Population():\n",
        "  \n",
        "  def __init__(self, s,i,r,N):\n",
        "    self.s = s\n",
        "    self.i = i\n",
        "    self.r = r\n",
        "    self.N = N\n",
        "\n",
        "  def update_daily(self, g, b):\n",
        "\n",
        "    updated_s = self.s - (b * self.s * self.i)\n",
        "    updated_i = self.i + (b* self.s * self.i) - (g * self.i)\n",
        "    updated_r = self.r + (g * self.i)\n",
        "    self.s = updated_s\n",
        "    self.i = updated_i\n",
        "    self.r = updated_r\n",
        "\n",
        "    return\n",
        "\n",
        "  def simulate_covid(self, duration, gamma= 1/8, beta=1/2):\n",
        "    hist_S = []\n",
        "    hist_I = []\n",
        "    hist_R = []\n",
        "\n",
        "    for _ in range(duration):\n",
        "    # run this for every day of the duration:  update_daily(g=gamma, b=beta)\n",
        "      self.update_daily(g=gamma, b=beta)\n",
        "      hist_S.append(self.N * self.s)\n",
        "      hist_I.append(self.N * self.i)\n",
        "      hist_R.append(self.N * self.r)\n",
        "\n",
        "    return hist_S, hist_I, hist_R\n",
        "\n",
        "\n",
        "  \n"
      ]
    },
    {
      "cell_type": "code",
      "execution_count": 261,
      "metadata": {
        "id": "RibIkemfWSaE"
      },
      "outputs": [],
      "source": [
        "mypop = Population(s = 0.99, i = 0.01, r = 0, N=100)\n"
      ]
    },
    {
      "cell_type": "code",
      "execution_count": 262,
      "metadata": {
        "id": "7Y0c4hi9SCnO"
      },
      "outputs": [],
      "source": [
        "hist_S, hist_I, hist_R = mypop.simulate_covid(duration=10)"
      ]
    },
    {
      "cell_type": "code",
      "execution_count": 120,
      "metadata": {
        "colab": {
          "base_uri": "https://localhost:8080/",
          "height": 279
        },
        "id": "nulH4cSPQGj7",
        "outputId": "34d9964d-4da8-4829-d273-6d067b4b373a"
      },
      "outputs": [
        {
          "data": {
            "image/png": "[encoded data removed]",
            "text/plain": [
              "<Figure size 432x288 with 1 Axes>"
            ]
          },
          "metadata": {
            "needs_background": "light"
          },
          "output_type": "display_data"
        }
      ],
      "source": [
        "import matplotlib.pyplot as plt\n",
        "plt.plot(range(len(hist_S)), hist_S, 'b', label='susceptible')\n",
        "plt.plot(range(len(hist_I)), hist_I, 'g', label='infected')\n",
        "plt.plot(range(len(hist_R)), hist_R, 'orange', label='recovered')\n",
        "plt.xlabel(\"Days since infection\")\n",
        "plt.ylabel(\"# of people\")\n",
        "plt.legend()\n",
        "plt.show()\n"
      ]
    },
    {
      "cell_type": "markdown",
      "metadata": {
        "id": "e7imT5EPfuT8"
      },
      "source": [
        "## Simulating the impact of the Vaccination!\n",
        "\n",
        "Add a new method to your previous class that simulates the effect of the vaccination, called `add_vax`. This function should have an attribute called `vax_fraction` whose default is 0.01. \n",
        "\n",
        "The impact of vaccination is that people become immunized before they get sick, (duh!), such that the number of the susceptible people change daily as the following:\n",
        "\n",
        "$\\Delta$(N*s) =  - (beta * s * N * i) - (vax_frac * s * N)\n",
        "\n",
        "and the \"recovered\" or better, immunized people number increases correspondingly:\n",
        "\n",
        "$\\Delta$(N*r) =  + (gamma * i * N ) + (vax_frac * s * N)\n",
        "\n",
        "Build this function separately, but call it within your `update_daily` function, if only the **object** has the optional attribute `vax_avail == True`. The default for the attribute `vax_avail` is `False`.\n",
        "\n",
        "\n"
      ]
    },
    {
      "cell_type": "code",
      "execution_count": 286,
      "metadata": {
        "id": "lCPvHquhbB8x"
      },
      "outputs": [],
      "source": [
        "# Run the same simulation as before. How does your result change?\n",
        "class Population():\n",
        "  \n",
        "  def __init__(self, s,i,r,N):\n",
        "    self.s = s\n",
        "    self.i = i\n",
        "    self.r = r\n",
        "    self.N = N\n",
        "  \n",
        "  def add_vax(self, vax_frac =0.01, vax_avail=False):\n",
        "    if vax_avail == True:\n",
        "      updated_s = self.s - ((b * self.s * self.i)-(vax_frac*S*N))\n",
        "      updated_r = self.r + ((g * self.i) + (vax_frac*S*N))\n",
        "\n",
        "  def update_daily(self, g, b):\n",
        "    self.add_vax(vax_frac =0.01, vax_avail=True)\n",
        "    updated_s = self.s - (b * self.s * self.i)\n",
        "    updated_i = self.i + (b* self.s * self.i) - (g * self.i)\n",
        "    updated_r = self.r + (g * self.i)\n",
        "    self.s = updated_s\n",
        "    self.i = updated_i\n",
        "    self.r = updated_r\n",
        "\n",
        "    return\n",
        "\n",
        "  def simulate_covid(self, duration, gamma= 1/8, beta=1/2):\n",
        "    hist_S = []\n",
        "    hist_I = []\n",
        "    hist_R = []\n",
        "\n",
        "    for _ in range(duration):\n",
        "    # run this for every day of the duration:  update_daily(g=gamma, b=beta)\n",
        "      self.update_daily(g=gamma, b=beta)\n",
        "      hist_S.append(self.N * self.s)\n",
        "      hist_I.append(self.N * self.i)\n",
        "      hist_R.append(self.N * self.r)\n",
        "\n",
        "    return hist_S, hist_I, hist_R\n"
      ]
    },
    {
      "cell_type": "markdown",
      "metadata": {
        "id": "xDVprPvOit32"
      },
      "source": []
    },
    {
      "cell_type": "code",
      "execution_count": 287,
      "metadata": {
        "id": "IF6qz84Wius-"
      },
      "outputs": [],
      "source": [
        "mypop = Population(s = 0.99, i = 0.01, r = 0, N=100)"
      ]
    },
    {
      "cell_type": "code",
      "execution_count": 288,
      "metadata": {},
      "outputs": [
        {
          "ename": "NameError",
          "evalue": "name 'b' is not defined",
          "output_type": "error",
          "traceback": [
            "\u001b[0;31m---------------------------------------------------------------------------\u001b[0m",
            "\u001b[0;31mNameError\u001b[0m                                 Traceback (most recent call last)",
            "\u001b[0;32m<ipython-input-288-a1d7612b86e3>\u001b[0m in \u001b[0;36m<module>\u001b[0;34m\u001b[0m\n\u001b[0;32m----> 1\u001b[0;31m \u001b[0mhist_S\u001b[0m\u001b[0;34m,\u001b[0m \u001b[0mhist_I\u001b[0m\u001b[0;34m,\u001b[0m \u001b[0mhist_R\u001b[0m \u001b[0;34m=\u001b[0m \u001b[0mmypop\u001b[0m\u001b[0;34m.\u001b[0m\u001b[0msimulate_covid\u001b[0m\u001b[0;34m(\u001b[0m\u001b[0mduration\u001b[0m\u001b[0;34m=\u001b[0m\u001b[0;36m10\u001b[0m\u001b[0;34m)\u001b[0m\u001b[0;34m\u001b[0m\u001b[0;34m\u001b[0m\u001b[0m\n\u001b[0m",
            "\u001b[0;32m<ipython-input-286-1a4002b62502>\u001b[0m in \u001b[0;36msimulate_covid\u001b[0;34m(self, duration, gamma, beta)\u001b[0m\n\u001b[1;32m     31\u001b[0m     \u001b[0;32mfor\u001b[0m \u001b[0m_\u001b[0m \u001b[0;32min\u001b[0m \u001b[0mrange\u001b[0m\u001b[0;34m(\u001b[0m\u001b[0mduration\u001b[0m\u001b[0;34m)\u001b[0m\u001b[0;34m:\u001b[0m\u001b[0;34m\u001b[0m\u001b[0;34m\u001b[0m\u001b[0m\n\u001b[1;32m     32\u001b[0m     \u001b[0;31m# run this for every day of the duration:  update_daily(g=gamma, b=beta)\u001b[0m\u001b[0;34m\u001b[0m\u001b[0;34m\u001b[0m\u001b[0;34m\u001b[0m\u001b[0m\n\u001b[0;32m---> 33\u001b[0;31m       \u001b[0mself\u001b[0m\u001b[0;34m.\u001b[0m\u001b[0mupdate_daily\u001b[0m\u001b[0;34m(\u001b[0m\u001b[0mg\u001b[0m\u001b[0;34m=\u001b[0m\u001b[0mgamma\u001b[0m\u001b[0;34m,\u001b[0m \u001b[0mb\u001b[0m\u001b[0;34m=\u001b[0m\u001b[0mbeta\u001b[0m\u001b[0;34m)\u001b[0m\u001b[0;34m\u001b[0m\u001b[0;34m\u001b[0m\u001b[0m\n\u001b[0m\u001b[1;32m     34\u001b[0m       \u001b[0mhist_S\u001b[0m\u001b[0;34m.\u001b[0m\u001b[0mappend\u001b[0m\u001b[0;34m(\u001b[0m\u001b[0mself\u001b[0m\u001b[0;34m.\u001b[0m\u001b[0mN\u001b[0m \u001b[0;34m*\u001b[0m \u001b[0mself\u001b[0m\u001b[0;34m.\u001b[0m\u001b[0ms\u001b[0m\u001b[0;34m)\u001b[0m\u001b[0;34m\u001b[0m\u001b[0;34m\u001b[0m\u001b[0m\n\u001b[1;32m     35\u001b[0m       \u001b[0mhist_I\u001b[0m\u001b[0;34m.\u001b[0m\u001b[0mappend\u001b[0m\u001b[0;34m(\u001b[0m\u001b[0mself\u001b[0m\u001b[0;34m.\u001b[0m\u001b[0mN\u001b[0m \u001b[0;34m*\u001b[0m \u001b[0mself\u001b[0m\u001b[0;34m.\u001b[0m\u001b[0mi\u001b[0m\u001b[0;34m)\u001b[0m\u001b[0;34m\u001b[0m\u001b[0;34m\u001b[0m\u001b[0m\n",
            "\u001b[0;32m<ipython-input-286-1a4002b62502>\u001b[0m in \u001b[0;36mupdate_daily\u001b[0;34m(self, g, b)\u001b[0m\n\u001b[1;32m     14\u001b[0m \u001b[0;34m\u001b[0m\u001b[0m\n\u001b[1;32m     15\u001b[0m   \u001b[0;32mdef\u001b[0m \u001b[0mupdate_daily\u001b[0m\u001b[0;34m(\u001b[0m\u001b[0mself\u001b[0m\u001b[0;34m,\u001b[0m \u001b[0mg\u001b[0m\u001b[0;34m,\u001b[0m \u001b[0mb\u001b[0m\u001b[0;34m)\u001b[0m\u001b[0;34m:\u001b[0m\u001b[0;34m\u001b[0m\u001b[0;34m\u001b[0m\u001b[0m\n\u001b[0;32m---> 16\u001b[0;31m     \u001b[0mself\u001b[0m\u001b[0;34m.\u001b[0m\u001b[0madd_vax\u001b[0m\u001b[0;34m(\u001b[0m\u001b[0mvax_frac\u001b[0m \u001b[0;34m=\u001b[0m\u001b[0;36m0.01\u001b[0m\u001b[0;34m,\u001b[0m \u001b[0mvax_avail\u001b[0m\u001b[0;34m=\u001b[0m\u001b[0;32mTrue\u001b[0m\u001b[0;34m)\u001b[0m\u001b[0;34m\u001b[0m\u001b[0;34m\u001b[0m\u001b[0m\n\u001b[0m\u001b[1;32m     17\u001b[0m     \u001b[0mupdated_s\u001b[0m \u001b[0;34m=\u001b[0m \u001b[0mself\u001b[0m\u001b[0;34m.\u001b[0m\u001b[0ms\u001b[0m \u001b[0;34m-\u001b[0m \u001b[0;34m(\u001b[0m\u001b[0mb\u001b[0m \u001b[0;34m*\u001b[0m \u001b[0mself\u001b[0m\u001b[0;34m.\u001b[0m\u001b[0ms\u001b[0m \u001b[0;34m*\u001b[0m \u001b[0mself\u001b[0m\u001b[0;34m.\u001b[0m\u001b[0mi\u001b[0m\u001b[0;34m)\u001b[0m\u001b[0;34m\u001b[0m\u001b[0;34m\u001b[0m\u001b[0m\n\u001b[1;32m     18\u001b[0m     \u001b[0mupdated_i\u001b[0m \u001b[0;34m=\u001b[0m \u001b[0mself\u001b[0m\u001b[0;34m.\u001b[0m\u001b[0mi\u001b[0m \u001b[0;34m+\u001b[0m \u001b[0;34m(\u001b[0m\u001b[0mb\u001b[0m\u001b[0;34m*\u001b[0m \u001b[0mself\u001b[0m\u001b[0;34m.\u001b[0m\u001b[0ms\u001b[0m \u001b[0;34m*\u001b[0m \u001b[0mself\u001b[0m\u001b[0;34m.\u001b[0m\u001b[0mi\u001b[0m\u001b[0;34m)\u001b[0m \u001b[0;34m-\u001b[0m \u001b[0;34m(\u001b[0m\u001b[0mg\u001b[0m \u001b[0;34m*\u001b[0m \u001b[0mself\u001b[0m\u001b[0;34m.\u001b[0m\u001b[0mi\u001b[0m\u001b[0;34m)\u001b[0m\u001b[0;34m\u001b[0m\u001b[0;34m\u001b[0m\u001b[0m\n",
            "\u001b[0;32m<ipython-input-286-1a4002b62502>\u001b[0m in \u001b[0;36madd_vax\u001b[0;34m(self, vax_frac, vax_avail)\u001b[0m\n\u001b[1;32m     10\u001b[0m   \u001b[0;32mdef\u001b[0m \u001b[0madd_vax\u001b[0m\u001b[0;34m(\u001b[0m\u001b[0mself\u001b[0m\u001b[0;34m,\u001b[0m \u001b[0mvax_frac\u001b[0m \u001b[0;34m=\u001b[0m\u001b[0;36m0.01\u001b[0m\u001b[0;34m,\u001b[0m \u001b[0mvax_avail\u001b[0m\u001b[0;34m=\u001b[0m\u001b[0;32mFalse\u001b[0m\u001b[0;34m)\u001b[0m\u001b[0;34m:\u001b[0m\u001b[0;34m\u001b[0m\u001b[0;34m\u001b[0m\u001b[0m\n\u001b[1;32m     11\u001b[0m     \u001b[0;32mif\u001b[0m \u001b[0mvax_avail\u001b[0m \u001b[0;34m==\u001b[0m \u001b[0;32mTrue\u001b[0m\u001b[0;34m:\u001b[0m\u001b[0;34m\u001b[0m\u001b[0;34m\u001b[0m\u001b[0m\n\u001b[0;32m---> 12\u001b[0;31m       \u001b[0mupdated_s\u001b[0m \u001b[0;34m=\u001b[0m \u001b[0mself\u001b[0m\u001b[0;34m.\u001b[0m\u001b[0ms\u001b[0m \u001b[0;34m-\u001b[0m \u001b[0;34m(\u001b[0m\u001b[0;34m(\u001b[0m\u001b[0mb\u001b[0m \u001b[0;34m*\u001b[0m \u001b[0mself\u001b[0m\u001b[0;34m.\u001b[0m\u001b[0ms\u001b[0m \u001b[0;34m*\u001b[0m \u001b[0mself\u001b[0m\u001b[0;34m.\u001b[0m\u001b[0mi\u001b[0m\u001b[0;34m)\u001b[0m\u001b[0;34m-\u001b[0m\u001b[0;34m(\u001b[0m\u001b[0mvax_frac\u001b[0m\u001b[0;34m*\u001b[0m\u001b[0mS\u001b[0m\u001b[0;34m*\u001b[0m\u001b[0mN\u001b[0m\u001b[0;34m)\u001b[0m\u001b[0;34m)\u001b[0m\u001b[0;34m\u001b[0m\u001b[0;34m\u001b[0m\u001b[0m\n\u001b[0m\u001b[1;32m     13\u001b[0m       \u001b[0mupdated_r\u001b[0m \u001b[0;34m=\u001b[0m \u001b[0mself\u001b[0m\u001b[0;34m.\u001b[0m\u001b[0mr\u001b[0m \u001b[0;34m+\u001b[0m \u001b[0;34m(\u001b[0m\u001b[0;34m(\u001b[0m\u001b[0mg\u001b[0m \u001b[0;34m*\u001b[0m \u001b[0mself\u001b[0m\u001b[0;34m.\u001b[0m\u001b[0mi\u001b[0m\u001b[0;34m)\u001b[0m \u001b[0;34m+\u001b[0m \u001b[0;34m(\u001b[0m\u001b[0mvax_frac\u001b[0m\u001b[0;34m*\u001b[0m\u001b[0mS\u001b[0m\u001b[0;34m*\u001b[0m\u001b[0mN\u001b[0m\u001b[0;34m)\u001b[0m\u001b[0;34m)\u001b[0m\u001b[0;34m\u001b[0m\u001b[0;34m\u001b[0m\u001b[0m\n\u001b[1;32m     14\u001b[0m \u001b[0;34m\u001b[0m\u001b[0m\n",
            "\u001b[0;31mNameError\u001b[0m: name 'b' is not defined"
          ]
        }
      ],
      "source": [
        "hist_S, hist_I, hist_R = mypop.simulate_covid(duration=10)"
      ]
    },
    {
      "cell_type": "markdown",
      "metadata": {
        "id": "2yRDjCsb8pfW"
      },
      "source": [
        "## Coin Flipping (Anything with Yes/No like outcome)"
      ]
    },
    {
      "cell_type": "code",
      "execution_count": 124,
      "metadata": {
        "colab": {
          "base_uri": "https://localhost:8080/"
        },
        "id": "7bS6v5ev8pfW",
        "outputId": "c6ec9e0f-4634-42ce-db1e-2a8419d2b2d9"
      },
      "outputs": [
        {
          "data": {
            "text/plain": [
              "array([0])"
            ]
          },
          "execution_count": 124,
          "metadata": {},
          "output_type": "execute_result"
        }
      ],
      "source": [
        "import numpy as np\n",
        "# basics\n",
        "# define success as occurrence of 1\n",
        "SUCCESS_PROB = .5\n",
        "np.random.choice([0,1], size=1, p=[1-SUCCESS_PROB, SUCCESS_PROB])"
      ]
    },
    {
      "cell_type": "code",
      "execution_count": 139,
      "metadata": {
        "colab": {
          "base_uri": "https://localhost:8080/"
        },
        "id": "Wxh960wD8pfW",
        "outputId": "1149499a-11bc-4002-ad64-93379511a84f"
      },
      "outputs": [
        {
          "data": {
            "text/plain": [
              "array([1, 0, 1, 1, 0, 0, 0, 1, 1, 0])"
            ]
          },
          "execution_count": 139,
          "metadata": {},
          "output_type": "execute_result"
        }
      ],
      "source": [
        "# size = 10 = # of trials.  We will refer to this as 1 run of the experiment:\n",
        "flip = np.random.choice([0,1], size=10, p=[1-SUCCESS_PROB, SUCCESS_PROB])\n",
        "flip"
      ]
    },
    {
      "cell_type": "code",
      "execution_count": 143,
      "metadata": {
        "colab": {
          "base_uri": "https://localhost:8080/"
        },
        "id": "GREO7QIG8pfX",
        "outputId": "6210e1ed-1f5e-4490-cb4f-a7ad403af779"
      },
      "outputs": [
        {
          "data": {
            "text/plain": [
              "5"
            ]
          },
          "execution_count": 143,
          "metadata": {},
          "output_type": "execute_result"
        }
      ],
      "source": [
        "# Sum shows us how many successes in the experiment\n",
        "flip.sum()"
      ]
    },
    {
      "cell_type": "code",
      "execution_count": 144,
      "metadata": {
        "id": "bhc8Xl238pfX"
      },
      "outputs": [],
      "source": [
        "# something a little more practical:\n",
        "# Let's say in professional sports (hockey) \n",
        "# 10% of the shots on net result in a goal\n",
        "\n",
        "# assume all shots are of equal quality\n",
        "\n",
        "# let's say a goalie faces 1000 shots.  \n",
        "# How many goals (successes) will they let up?"
      ]
    },
    {
      "cell_type": "code",
      "execution_count": 158,
      "metadata": {
        "id": "h-RCpzHH8pfX"
      },
      "outputs": [
        {
          "data": {
            "text/plain": [
              "array([1, 0, 0, 0, 0])"
            ]
          },
          "execution_count": 158,
          "metadata": {},
          "output_type": "execute_result"
        }
      ],
      "source": [
        "GOAL_P = .1\n",
        "shots = np.random.choice([1,0], size=100, p=[GOAL_P, 1-GOAL_P ])\n",
        "#probability of each outcome  needs to be in same list \n",
        "shots[:5]"
      ]
    },
    {
      "cell_type": "code",
      "execution_count": 159,
      "metadata": {
        "colab": {
          "base_uri": "https://localhost:8080/"
        },
        "id": "P2OnvZtmwJJ-",
        "outputId": "11e4bbf8-7a8a-4037-fda4-792cf516013f"
      },
      "outputs": [
        {
          "data": {
            "text/plain": [
              "array([1, 0, 0, 0, 0, 1, 0, 0, 0, 0, 0, 0, 0, 0, 0, 0, 0, 0, 0, 0])"
            ]
          },
          "execution_count": 159,
          "metadata": {},
          "output_type": "execute_result"
        }
      ],
      "source": [
        "shots[:20]"
      ]
    },
    {
      "cell_type": "code",
      "execution_count": 160,
      "metadata": {
        "colab": {
          "base_uri": "https://localhost:8080/"
        },
        "id": "uSv76vpv8pfX",
        "outputId": "fdd7337e-15b4-4038-aa91-11ded6fe24ea"
      },
      "outputs": [
        {
          "data": {
            "text/plain": [
              "0.11"
            ]
          },
          "execution_count": 160,
          "metadata": {},
          "output_type": "execute_result"
        }
      ],
      "source": [
        "shots.sum()/len(shots)"
      ]
    },
    {
      "cell_type": "code",
      "execution_count": null,
      "metadata": {
        "id": "bOD7QKbM8pfX"
      },
      "outputs": [],
      "source": []
    },
    {
      "cell_type": "markdown",
      "metadata": {
        "id": "QPbv6o1o8pfY"
      },
      "source": [
        "### (Breakout Room) Exercise:\n",
        "\n",
        "The GM of the Boston Bruins contacted your analytics firm to help understand a shift in strategy they are looking to employ next season.\n",
        "\n",
        "The team allowed 167 goals last season on 2103 shots.  \n",
        "\n",
        "Moving forward, the team wants to understand how the following strategy would impact the number of goals allowed:\n",
        "\n",
        "1.  Shots can be taken from 3 zones, zone A, B and C.\n",
        "1.  The team wants to employ a strategy to shift where shots are taken from.  They believe that they can restrict their opponents to the following: zone A accounts for 15% of the shots, Zone B accounts for 65% of the shots, and Zone C the remaining 20%\n",
        "1.  The shot success rates for zone A, B and C are 5%, 10% and 8% respectively\n",
        "1.  The Bruins expect to allow 2100 shots next season\n",
        "\n",
        "Run 100 experiments, where for each experiment, there are 2100 shots using the information provided above.\n",
        "\n",
        "Across the 100 experiments, how many times would the Bruins reduce the number of goals allowed relative to 167 from the prior season?\n",
        "\n",
        "Would you recommend the strategy?\n"
      ]
    },
    {
      "cell_type": "code",
      "execution_count": 373,
      "metadata": {
        "id": "SmwC_gAR8pfY"
      },
      "outputs": [],
      "source": [
        "# many ways to do this\n",
        "# break the problem down\n",
        "# for each shot, we need to pick a zone, and then associate the probability of the shot going in\n",
        "# each experiment will have 2100 shots\n",
        "# will run 100 experiments\n",
        "avg_ga = 167\n",
        "exp_shots = 10\n",
        "GOAL_A = .05\n",
        "GOAL_B = .1\n",
        "GOAL_C = .08\n",
        "prob_a  = 0.15\n",
        "prob_b = 0.65\n",
        "prob_c = 0.2\n",
        "shot_choice = np.random.choice([\"A\",\"B\",\"C\"], size=exp_shots, p=[prob_a, prob_b, prob_c])\n",
        "\n",
        "\n",
        "\n",
        "\n",
        "\n",
        "#season_results = []\n",
        "#for _ in range(100):\n",
        "    #less_avg_ga =Total_GA[Total_GA<avg_ga]\n",
        "    #season_results.append(len(less_avg_ga)/100)\n",
        "\n",
        "\n",
        "\n",
        "\n",
        "\n",
        "\n",
        "\n",
        "\n",
        "\n",
        "\n",
        "\n",
        "    \n",
        "\n",
        "\n"
      ]
    },
    {
      "cell_type": "code",
      "execution_count": 374,
      "metadata": {},
      "outputs": [
        {
          "data": {
            "text/plain": [
              "['C', 'C']"
            ]
          },
          "execution_count": 374,
          "metadata": {},
          "output_type": "execute_result"
        }
      ],
      "source": [
        "c_zone"
      ]
    },
    {
      "cell_type": "code",
      "execution_count": 297,
      "metadata": {},
      "outputs": [],
      "source": [
        "import numpy as np\n",
        "\n",
        "def goal_sim(n=100,shots=2100):\n",
        "\n",
        "  average_goals_allowed = 167\n",
        "\n",
        "  #Probability of a given zone being chosen\n",
        "  P_zone_A = 0.15\n",
        "  P_zone_B = 0.65\n",
        "  P_zone_C = 0.2\n",
        "\n",
        "  #Probability of successful goal from a given zone \n",
        "  S_zone_A = 0.05\n",
        "  S_zone_B = 0.10\n",
        "  S_zone_C = 0.08\n",
        "\n",
        "  #Setup zone shot sequence\n",
        "  zone_list = ['A','B','C']\n",
        "  zone = np.random.choice(zone_list,size=shots,p=(P_zone_A,P_zone_B,P_zone_C))\n",
        "\n",
        "  #Set up goal simulation\n",
        "  goal_ct_list = []\n",
        "  i = 0\n",
        "  while i < n:\n",
        "    results = []\n",
        "    for _ in zone:\n",
        "      if _ == 'A':\n",
        "        prob = S_zone_A\n",
        "      elif _ == 'B':\n",
        "        prob = S_zone_B\n",
        "      elif _ == 'C':\n",
        "        prob = S_zone_C\n",
        "      goal = np.random.choice((0,1),p=(1-prob,prob))\n",
        "      results.append(goal)\n",
        "    results = np.array(results)\n",
        "    goal_ct = sum(results)\n",
        "    goal_ct_list.append(goal_ct)\n",
        "    i += 1\n",
        "  goal_avg = np.average(goal_ct_list)\n",
        "  below_avg = 0\n",
        "  for _ in goal_ct_list:\n",
        "    if _ < average_goals_allowed:\n",
        "      below_avg += 1\n",
        "  if below_avg >= n/2:\n",
        "    msg = \"This appears to be a good strategy! The total number of games below the avg. goals allowed per game is {} out of {}. The mean goals allowed in the simulation is {}.\".format(below_avg,n,goal_avg)\n",
        "  else:\n",
        "    msg = \"This does not appear to be a good strategy. The total number of games below the avg. goals allowed per game is {} out of {}. The mean goals allowed in the simulation is {}.\".format(below_avg,n,goal_avg)\n",
        "  \n",
        "  return msg"
      ]
    },
    {
      "cell_type": "code",
      "execution_count": 290,
      "metadata": {},
      "outputs": [
        {
          "ename": "NameError",
          "evalue": "name 'zone' is not defined",
          "output_type": "error",
          "traceback": [
            "\u001b[0;31m---------------------------------------------------------------------------\u001b[0m",
            "\u001b[0;31mNameError\u001b[0m                                 Traceback (most recent call last)",
            "\u001b[0;32m<ipython-input-290-dd0888ff99eb>\u001b[0m in \u001b[0;36m<module>\u001b[0;34m\u001b[0m\n\u001b[0;32m----> 1\u001b[0;31m \u001b[0mzone\u001b[0m\u001b[0;34m\u001b[0m\u001b[0;34m\u001b[0m\u001b[0m\n\u001b[0m",
            "\u001b[0;31mNameError\u001b[0m: name 'zone' is not defined"
          ]
        }
      ],
      "source": []
    },
    {
      "cell_type": "markdown",
      "metadata": {
        "id": "rOALJpBj8pfZ"
      },
      "source": [
        "## Poisson Distribution \n",
        "\n",
        "Let's say we want to know the probability of independent events occuring on a fixed time interval, and we are interested in the probability of a fixed number of events occuring at that interval.  We can model this with the Poisson distribution.\n",
        "\n",
        "https://en.wikipedia.org/wiki/Poisson_distribution\n"
      ]
    },
    {
      "cell_type": "code",
      "execution_count": null,
      "metadata": {
        "colab": {
          "base_uri": "https://localhost:8080/"
        },
        "id": "8d2QwPzA8pfZ",
        "outputId": "c54be5be-edd3-4a15-ff49-5af104f605e5"
      },
      "outputs": [
        {
          "data": {
            "text/plain": [
              "1187"
            ]
          },
          "execution_count": 124,
          "metadata": {
            "tags": []
          },
          "output_type": "execute_result"
        }
      ],
      "source": [
        "# visitors to your website in a given day\n",
        "# expected value, # of trials\n",
        "\n",
        "\n",
        "np.random.poisson(1200)"
      ]
    },
    {
      "cell_type": "code",
      "execution_count": null,
      "metadata": {
        "colab": {
          "base_uri": "https://localhost:8080/"
        },
        "id": "UZTPWX6p8pfa",
        "outputId": "48428022-5394-4357-86da-c9c2953b15da"
      },
      "outputs": [
        {
          "name": "stdout",
          "output_type": "stream",
          "text": [
            "[1238 1251 1173 1226 1230 1177 1215]\n"
          ]
        }
      ],
      "source": [
        "# let's simulate for a week, and then a year\n",
        "week = np.random.poisson(1200, 7)\n",
        "year = np.random.poisson(1200, 365)\n",
        "print(week)\n",
        "#print(year)"
      ]
    },
    {
      "cell_type": "code",
      "execution_count": null,
      "metadata": {
        "colab": {
          "base_uri": "https://localhost:8080/",
          "height": 333
        },
        "id": "_WKr0zMw8pfa",
        "outputId": "ac656109-9267-4373-f077-a610835f98b9"
      },
      "outputs": [
        {
          "data": {
            "text/plain": [
              "(array([ 5., 13., 50., 69., 76., 83., 43., 14.,  9.,  3.]),\n",
              " array([1107. , 1127.5, 1148. , 1168.5, 1189. , 1209.5, 1230. , 1250.5,\n",
              "        1271. , 1291.5, 1312. ]),\n",
              " <a list of 10 Patch objects>)"
            ]
          },
          "execution_count": 127,
          "metadata": {
            "tags": []
          },
          "output_type": "execute_result"
        },
        {
          "data": {
            "image/png": "[encoded data removed]",
            "text/plain": [
              "<Figure size 432x288 with 1 Axes>"
            ]
          },
          "metadata": {
            "needs_background": "light",
            "tags": []
          },
          "output_type": "display_data"
        }
      ],
      "source": [
        "# lets do a quick plot\n",
        "# you will dive much deeper into plotting in your next course\n",
        "plt.hist(year)"
      ]
    },
    {
      "cell_type": "code",
      "execution_count": null,
      "metadata": {
        "id": "BL6jNnaT8pfa"
      },
      "outputs": [],
      "source": [
        "# Example\n",
        "\n",
        "# A cafe owner contacted your analytics firm to help understand capacity\n",
        "\n",
        "# In a given week, they sell 1250 bagels that are baked in-house\n",
        "# They will lose money if they do not have enough ingredients to satisfy demand\n",
        "\n",
        "# Over a 52 week period, how many weeks can they expect to sell 1300 or more bagels?\n",
        "\n",
        "bagels = np.random.poisson(1250, 52)\n",
        "plt.hist(bagels)"
      ]
    },
    {
      "cell_type": "code",
      "execution_count": null,
      "metadata": {
        "id": "-OAKArxh8pfa"
      },
      "outputs": [],
      "source": []
    },
    {
      "cell_type": "markdown",
      "metadata": {
        "id": "lTwJ85Aa8pfa"
      },
      "source": [
        "### (Breakout Room) Exercise\n",
        "\n",
        "The same cafe owner from above has re-engaged your analytics firm to help estimate employee expenses which are a function of the number of orders.  \n",
        "\n",
        "1.  The cafe is open 252 days a year\n",
        "1.  On average, they have 2200 orders a day\n",
        "1.  The owner has estimated that they need 1 employee for every 300 orders\n",
        "1.  The daily cost for an employee is $125/day\n",
        "\n",
        "Simulate this exercise 100 times.  What is the average annual employee cost?"
      ]
    },
    {
      "cell_type": "code",
      "execution_count": null,
      "metadata": {
        "id": "6HQ7SJiq8pfb"
      },
      "outputs": [],
      "source": []
    },
    {
      "cell_type": "markdown",
      "metadata": {
        "id": "sMfH2cUilVWB"
      },
      "source": [
        "## Exercise: Game of Life\n",
        "\n",
        "This will only work on your local machine, it is a famous exercise, which also comes up in coding interviews. \n",
        "\n",
        "https://playgameoflife.com/\n"
      ]
    },
    {
      "cell_type": "code",
      "execution_count": null,
      "metadata": {
        "id": "caGFsCts8pfb"
      },
      "outputs": [],
      "source": [
        "# Python code to implement Conway's Game Of Life\n",
        "import numpy as np\n",
        "import matplotlib.pyplot as plt\n",
        "import matplotlib.animation as animation\n",
        "\n",
        "# setting up the values for the grid\n",
        "ON = 255\n",
        "OFF = 0\n",
        "vals = [ON, OFF]\n",
        "\n",
        "def randomGrid(N):\n",
        "\n",
        "\t\"\"\"returns a grid of NxN random values\"\"\"\n",
        "\treturn np.random.choice(vals, N*N, p=[0.2, 0.8]).reshape(N, N)\n",
        "\n",
        "def addGlider(i, j, grid):\n",
        "\n",
        "\t\"\"\"adds a glider with top left cell at (i, j)\"\"\"\n",
        "\t# ??\n",
        "\n",
        "def update(frameNum, img, grid, N):\n",
        " \n",
        "\tnewGrid = grid.copy()\n",
        "\tfor i in range(N):\n",
        "\t\tfor j in range(N):\n",
        "\n",
        "\t\t\t# compute how many neighbour we have\n",
        "\t\t\ttotal_neigh = \n",
        "\n",
        "\t\t\t# apply Conway's rules\n",
        "\t\t\tif grid[i, j] == ON:\n",
        "\t\t\t\t# ??\n",
        "      else:\n",
        "\t\t\t\t# ??\n",
        "\n",
        "\t# update data\n",
        "\timg.set_data(newGrid)\n",
        "\tgrid[:] = newGrid[:]\n",
        "\treturn img,\n",
        "\n",
        "# the main function that actually simulates the game of life:\n",
        "def game_of_life(N=50):\n",
        "\t\n",
        "\t# check that grid size is integer and larger than 3\n",
        "\t\t\n",
        "\t# set animation update interval\n",
        "  # this is about the display so you don't need to change\n",
        "\tupdateInterval = 50\n",
        "\n",
        "\t# declare grid\n",
        "\tgrid = np.array([])\n",
        "\n",
        "\t# populate grid with random on/off -\n",
        "  # more off than on\n",
        "\tgrid = randomGrid(N)\n",
        "\n",
        "\t# set up animation\n",
        "\tfig, ax = plt.subplots()\n",
        "\timg = ax.imshow(grid, interpolation='nearest')\n",
        "\tani = animation.FuncAnimation(fig, update, fargs=(img, grid, N, ),\n",
        "\t\t\t\t\t\t\t\tframes = 10,\n",
        "\t\t\t\t\t\t\t\tinterval=updateInterval,\n",
        "\t\t\t\t\t\t\t\tsave_count=50)\n",
        " \n",
        "\tplt.show()\n"
      ]
    },
    {
      "cell_type": "code",
      "execution_count": null,
      "metadata": {
        "id": "ev78sp8P8pfb"
      },
      "outputs": [],
      "source": [
        "game_of_life(100)"
      ]
    },
    {
      "cell_type": "code",
      "execution_count": null,
      "metadata": {
        "id": "C5YzNL6-8pfb"
      },
      "outputs": [],
      "source": [
        "q1_1 = [1,3,5]"
      ]
    },
    {
      "cell_type": "code",
      "execution_count": null,
      "metadata": {
        "colab": {
          "base_uri": "https://localhost:8080/"
        },
        "id": "_AG8NW2W3kjg",
        "outputId": "4cc80de0-5268-401a-88c7-01a96688a585"
      },
      "outputs": [
        {
          "data": {
            "text/plain": [
              "[1, 3, 5]"
            ]
          },
          "execution_count": 2,
          "metadata": {
            "tags": []
          },
          "output_type": "execute_result"
        }
      ],
      "source": [
        "q1_1"
      ]
    }
  ],
  "metadata": {
    "colab": {
      "name": "Session09_Simulations.ipynb",
      "provenance": []
    },
    "interpreter": {
      "hash": "d54f36650e22a68b1e16ad067c04252fc93b1d0cce2a522804985f8fa0dd3c9b"
    },
    "kernelspec": {
      "display_name": "Python 3.9.1 64-bit (conda)",
      "name": "python3"
    },
    "language_info": {
      "codemirror_mode": {
        "name": "ipython",
        "version": 3
      },
      "file_extension": ".py",
      "mimetype": "text/x-python",
      "name": "python",
      "nbconvert_exporter": "python",
      "pygments_lexer": "ipython3",
      "version": "3.9.1"
    }
  },
  "nbformat": 4,
  "nbformat_minor": 0
}