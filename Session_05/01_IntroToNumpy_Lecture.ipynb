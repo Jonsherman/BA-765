{
  "cells": [
    {
      "cell_type": "markdown",
      "metadata": {
        "id": "KY5_3khXt3J6"
      },
      "source": [
        "# Session 05\n",
        "07/20\n",
        "\n",
        "## Notes\n",
        "- Solutions for labs are in their respective session folders (Sessions 2 and 4)\n",
        "- Solution for Assignment 1 was under Session 04, but moved to a new directory called **Assignment Solutions** to make it easy to see!\n",
        "- Assignment 02 due TODAY 11pm ET, accepted until Jul 21 11am ET with late penalty. Not accepted after as the solution will be released when the late acceptance deadline is passed. \n",
        "- Assignments are to be done *INDIVIDUALLY* - you are doing yourself and others a disservice by asking/answering assingment questions in a way that does more than hinting! Questions/answers of this kind do not get participation points. \n",
        "- Midterm: during class time, on Qtools, 90 minutes, single submission, open notes but not open collaboration. \n",
        "- I see about 20\\% of the class did not attempt Lab2 on Qtools. I re-opened it so please use it to practice qtools!\n",
        "- DataCamp: 12 people (together in both sections) are still MIA. Completion rate of any course is ~10\\% which is low.\n"
      ]
    },
    {
      "cell_type": "markdown",
      "metadata": {
        "id": "81PZlI0vwAK3"
      },
      "source": [
        "## Outline\n",
        "- Questions about Assignment 2\n",
        "- Numpy Quiz\n",
        "- Numpy Lecture\n",
        "- Numpy Lab\n",
        "\n",
        "If time permits:\n",
        "- Object Oriented Programming and Classes"
      ]
    },
    {
      "cell_type": "markdown",
      "metadata": {
        "id": "Nv45O7jn2Nm4"
      },
      "source": [
        "# About\n",
        "\n",
        "![numpy](https://upload.wikimedia.org/wikipedia/commons/thumb/3/31/NumPy_logo_2020.svg/1200px-NumPy_logo_2020.svg.png)\n",
        "\n",
        "\n",
        "In this notebook we will run through an introduction to [numpy](https://numpy.org/), or numerical python, which is the foundation for the core data analytics and data science ecosystem.\n",
        "\n",
        "See the absolute beginners intro at the numpy project library:\n",
        "https://numpy.org/doc/stable/user/absolute_beginners.html\n",
        "\n",
        "\n"
      ]
    },
    {
      "cell_type": "code",
      "execution_count": 72,
      "metadata": {
        "id": "EjN_pZ7frWT7"
      },
      "outputs": [],
      "source": [
        "# import the library to get started\n",
        "import numpy as np"
      ]
    },
    {
      "cell_type": "markdown",
      "metadata": {
        "id": "9Ttnwfh1o4pR"
      },
      "source": [
        "Numpy is the workhorse underneath a number of our tools that we will be using.  At the core, numpy **arrays** look a lot like `lists` that we worked through last week, except that they have additional properties:\n",
        "\n",
        "1.  numpy arrays can be multi-dimensional \n",
        "\n",
        "2.  numpy arrays allow us to do calculations on each element  at the same time (we can't do this with lists).  This is **element wise** calculations.\n",
        "\n",
        "3.  unlike lists, numpy arrays hold a single **type**\n",
        "\n",
        ">  ***From above, you see that I imported numpy as np.  This is the standard convention.***"
      ]
    },
    {
      "cell_type": "markdown",
      "metadata": {
        "id": "MuaqGkiPK8Ni"
      },
      "source": [
        "# Lists to numpy arrays"
      ]
    },
    {
      "cell_type": "code",
      "execution_count": 73,
      "metadata": {
        "id": "qYhheUZ2sZne"
      },
      "outputs": [
        {
          "name": "stdout",
          "output_type": "stream",
          "text": [
            "<class 'list'>\n",
            "[1, 2, 4, 5, 6, 7]\n"
          ]
        }
      ],
      "source": [
        "# create a normal list\n",
        "my_list = [1,2,4,5,6,7]\n",
        "\n",
        "## print out the type and the values\n",
        "print(type(my_list))\n",
        "print(my_list)"
      ]
    },
    {
      "cell_type": "code",
      "execution_count": 74,
      "metadata": {
        "id": "JtXD2wbttH_z"
      },
      "outputs": [
        {
          "data": {
            "text/plain": [
              "[1, 2, 3]"
            ]
          },
          "execution_count": 74,
          "metadata": {},
          "output_type": "execute_result"
        }
      ],
      "source": [
        "# create a new list and perform some math on it\n",
        "new_list = [1,2,3]\n",
        "#new_list = [i **3 for i in new_list]\n",
        "new_list"
      ]
    },
    {
      "cell_type": "code",
      "execution_count": 75,
      "metadata": {
        "id": "KTVUDIPStafv"
      },
      "outputs": [
        {
          "data": {
            "text/plain": [
              "[1, 2, 3, 1, 2, 3, 1, 2, 3]"
            ]
          },
          "execution_count": 75,
          "metadata": {},
          "output_type": "execute_result"
        }
      ],
      "source": [
        "# multiple the list by 3\n",
        "new_list * 3"
      ]
    },
    {
      "cell_type": "code",
      "execution_count": 76,
      "metadata": {
        "id": "MVtHqNxDVjyu"
      },
      "outputs": [
        {
          "data": {
            "text/plain": [
              "'ba765ba765ba765'"
            ]
          },
          "execution_count": 76,
          "metadata": {},
          "output_type": "execute_result"
        }
      ],
      "source": [
        "\"ba765\"*3"
      ]
    },
    {
      "cell_type": "markdown",
      "metadata": {
        "id": "edu7vQ1StufZ"
      },
      "source": [
        "Above shows that just like with `+`, we can repeat the list with `*`. \n",
        "\n",
        "While, when we do work with numerical data, we often want to do element-wise math:"
      ]
    },
    {
      "cell_type": "code",
      "execution_count": 77,
      "metadata": {
        "id": "UHGc1qpGuCD-"
      },
      "outputs": [
        {
          "data": {
            "text/plain": [
              "array([1, 2, 3])"
            ]
          },
          "execution_count": 77,
          "metadata": {},
          "output_type": "execute_result"
        }
      ],
      "source": [
        "# numpy to the rescue\n",
        "np_arr = np.array(new_list)\n",
        "np_arr"
      ]
    },
    {
      "cell_type": "code",
      "execution_count": 78,
      "metadata": {
        "id": "-s-FX4QqVwfi"
      },
      "outputs": [
        {
          "data": {
            "text/plain": [
              "numpy.ndarray"
            ]
          },
          "execution_count": 78,
          "metadata": {},
          "output_type": "execute_result"
        }
      ],
      "source": [
        "type(np_arr)"
      ]
    },
    {
      "cell_type": "code",
      "execution_count": 79,
      "metadata": {
        "id": "1LKRnfHVuK-8"
      },
      "outputs": [
        {
          "data": {
            "text/plain": [
              "array([3, 6, 9])"
            ]
          },
          "execution_count": 79,
          "metadata": {},
          "output_type": "execute_result"
        }
      ],
      "source": [
        "# we converted our list to an numpy array. now lets try it\n",
        "np_arr * 3"
      ]
    },
    {
      "cell_type": "markdown",
      "metadata": {
        "id": "aCixKikfuRaI"
      },
      "source": [
        "While lists and tuples are powerful in base python, and we will use them later in the course, when it really comes to analyzing data, the foundations of the tools that we will use are in **numpy**.\n",
        "\n",
        "Simply, the higher level tools use numpy under the hood, but it's important for us to have a baseline understanding of numpy before we dive into **pandas** a popular library to work with data."
      ]
    },
    {
      "cell_type": "markdown",
      "metadata": {
        "id": "PGatVu69LHe9"
      },
      "source": [
        "# Numpy Arrays - Single Type Only"
      ]
    },
    {
      "cell_type": "markdown",
      "metadata": {
        "id": "zRXelIi1utYz"
      },
      "source": [
        "Because numpy arrays are built to do calculations, helping us with analyzing data, each array must be of a single type. "
      ]
    },
    {
      "cell_type": "code",
      "execution_count": 80,
      "metadata": {
        "id": "pyGtpNFiu8Q-"
      },
      "outputs": [
        {
          "data": {
            "text/plain": [
              "[1, 'a', True]"
            ]
          },
          "execution_count": 80,
          "metadata": {},
          "output_type": "execute_result"
        }
      ],
      "source": [
        "# create a normal list\n",
        "normal_list = [1, 'a', True]\n",
        "#will cast to easiest to map all into one variable\n",
        "normal_list"
      ]
    },
    {
      "cell_type": "markdown",
      "metadata": {
        "id": "6tyArjH1vC5i"
      },
      "source": [
        "This does what we expected, it printed a list, and if we wanted, we could even have a list within a list, as we learned last week."
      ]
    },
    {
      "cell_type": "code",
      "execution_count": 81,
      "metadata": {
        "id": "W75FXmbkvUQ8"
      },
      "outputs": [
        {
          "data": {
            "text/plain": [
              "array(['1', 'a', 'True'], dtype='<U21')"
            ]
          },
          "execution_count": 81,
          "metadata": {},
          "output_type": "execute_result"
        }
      ],
      "source": [
        "# convert the list to numpy, as we saw above with np.array(<list>)\n",
        "np_convert = np.array(normal_list)\n",
        "np_convert"
      ]
    },
    {
      "cell_type": "code",
      "execution_count": 82,
      "metadata": {
        "id": "NMqoJWcnWFgZ"
      },
      "outputs": [
        {
          "data": {
            "text/plain": [
              "numpy.ndarray"
            ]
          },
          "execution_count": 82,
          "metadata": {},
          "output_type": "execute_result"
        }
      ],
      "source": [
        "type(np_convert)"
      ]
    },
    {
      "cell_type": "code",
      "execution_count": 83,
      "metadata": {
        "id": "agYnaZeG1qaB"
      },
      "outputs": [
        {
          "data": {
            "text/plain": [
              "(3,)"
            ]
          },
          "execution_count": 83,
          "metadata": {},
          "output_type": "execute_result"
        }
      ],
      "source": [
        "np_convert.shape"
      ]
    },
    {
      "cell_type": "code",
      "execution_count": 84,
      "metadata": {
        "id": "5wO38Kpo1zs7"
      },
      "outputs": [
        {
          "data": {
            "text/plain": [
              "1"
            ]
          },
          "execution_count": 84,
          "metadata": {},
          "output_type": "execute_result"
        }
      ],
      "source": [
        "np_convert.ndim"
      ]
    },
    {
      "cell_type": "markdown",
      "metadata": {
        "id": "Mh9NGwVHLT5i"
      },
      "source": [
        "\n",
        "\n",
        "\n",
        "Look at what we have above.  Numpy needs to have all elements in an array be of the same type.  But it didn't error out, nor it did exclude some elements. What did numpy do?"
      ]
    },
    {
      "cell_type": "markdown",
      "metadata": {
        "id": "ZPSjvWdGLca5"
      },
      "source": [
        "# Core numpy features"
      ]
    },
    {
      "cell_type": "markdown",
      "metadata": {
        "id": "lc6mI8l5xxnC"
      },
      "source": [
        "## nd arrays\n",
        "\n",
        "Multidimensional arrays and lists of lists are conceptually similar:"
      ]
    },
    {
      "cell_type": "code",
      "execution_count": 85,
      "metadata": {
        "id": "V4316W5uxd5z"
      },
      "outputs": [
        {
          "data": {
            "text/plain": [
              "[[1, 2], [3, 4], [5, 6]]"
            ]
          },
          "execution_count": 85,
          "metadata": {},
          "output_type": "execute_result"
        }
      ],
      "source": [
        "# See below a list of lists:\n",
        "lol = [ [1,2], [3,4], [5,6] ]\n",
        "lol"
      ]
    },
    {
      "cell_type": "code",
      "execution_count": 86,
      "metadata": {
        "id": "Oq8eLKNeWfTj"
      },
      "outputs": [
        {
          "data": {
            "text/plain": [
              "2"
            ]
          },
          "execution_count": 86,
          "metadata": {},
          "output_type": "execute_result"
        }
      ],
      "source": [
        "lol[0][1]"
      ]
    },
    {
      "cell_type": "code",
      "execution_count": 87,
      "metadata": {
        "id": "KpX9retqxkDZ"
      },
      "outputs": [
        {
          "data": {
            "text/plain": [
              "array([[1, 2],\n",
              "       [3, 4],\n",
              "       [5, 6]])"
            ]
          },
          "execution_count": 87,
          "metadata": {},
          "output_type": "execute_result"
        }
      ],
      "source": [
        "# bring this into numpy array\n",
        "lol_np = np.array(lol)\n",
        "lol_np"
      ]
    },
    {
      "cell_type": "code",
      "execution_count": 88,
      "metadata": {},
      "outputs": [
        {
          "name": "stdout",
          "output_type": "stream",
          "text": [
            "(2, 3)\n"
          ]
        },
        {
          "data": {
            "text/plain": [
              "array([[1, 2, 3],\n",
              "       [4, 5, 6]])"
            ]
          },
          "execution_count": 88,
          "metadata": {},
          "output_type": "execute_result"
        }
      ],
      "source": [
        "lol_2 = np.array([ [1,2,3], [4,5,6] ])\n",
        "print(lol_2.shape)\n",
        "lol_2"
      ]
    },
    {
      "cell_type": "code",
      "execution_count": 89,
      "metadata": {
        "id": "cO66oc8AxZ95"
      },
      "outputs": [
        {
          "data": {
            "text/plain": [
              "(3, 2)"
            ]
          },
          "execution_count": 89,
          "metadata": {},
          "output_type": "execute_result"
        }
      ],
      "source": [
        "# what shape is our array\n",
        "lol_np.shape"
      ]
    },
    {
      "cell_type": "markdown",
      "metadata": {
        "id": "dLkMkUITx_Pq"
      },
      "source": [
        "> It's not exactly the same, but for now, we can think of this as a 3 row / 2 column Excel worksheet.  The `shape` attribute is something we are going to use quite a bit!\n",
        "\n"
      ]
    },
    {
      "cell_type": "code",
      "execution_count": 90,
      "metadata": {
        "id": "j2gJ6L7cx_qJ"
      },
      "outputs": [
        {
          "data": {
            "text/plain": [
              "2"
            ]
          },
          "execution_count": 90,
          "metadata": {},
          "output_type": "execute_result"
        }
      ],
      "source": [
        "# how many dimensions within the array\n",
        "lol_np.ndim"
      ]
    },
    {
      "cell_type": "code",
      "execution_count": 91,
      "metadata": {
        "id": "uuGyUxcHx_1F"
      },
      "outputs": [
        {
          "data": {
            "text/plain": [
              "6"
            ]
          },
          "execution_count": 91,
          "metadata": {},
          "output_type": "execute_result"
        }
      ],
      "source": [
        "# how many elements total, or the size\n",
        "lol_np.size"
      ]
    },
    {
      "cell_type": "code",
      "execution_count": 95,
      "metadata": {
        "id": "BHT9cNdFx_9B"
      },
      "outputs": [],
      "source": [
        "# remember, we can always get help\n",
        "#lol_np?"
      ]
    },
    {
      "cell_type": "code",
      "execution_count": 93,
      "metadata": {
        "id": "XRLCA2Ju8YIQ"
      },
      "outputs": [
        {
          "data": {
            "text/plain": [
              "3"
            ]
          },
          "execution_count": 93,
          "metadata": {},
          "output_type": "execute_result"
        }
      ],
      "source": [
        "len(lol_np)"
      ]
    },
    {
      "cell_type": "markdown",
      "metadata": {
        "id": "c1lJdX-rFQ8p"
      },
      "source": [
        "## Quick exercise:\n",
        "\n",
        "Generate an array of 10 integers sampled from a random distribution of [0,10).\n",
        "\n",
        "confirm the length and shape of your array, and\n",
        "calculate the mean, \n",
        "calculate the standard deviation."
      ]
    },
    {
      "cell_type": "code",
      "execution_count": 94,
      "metadata": {
        "id": "FdJMsJ2CFz0-"
      },
      "outputs": [
        {
          "data": {
            "text/plain": [
              "array([4, 1, 6, 3, 0, 6, 3, 2, 1, 0])"
            ]
          },
          "execution_count": 94,
          "metadata": {},
          "output_type": "execute_result"
        }
      ],
      "source": [
        "np.random.seed(765)\n",
        "x = np.random.randint(0, 10, size=10)\n",
        "type(x)\n",
        "x\n",
        "# methods to use are .mean() and .std()"
      ]
    },
    {
      "cell_type": "code",
      "execution_count": 101,
      "metadata": {},
      "outputs": [
        {
          "name": "stdout",
          "output_type": "stream",
          "text": [
            "10\n",
            "The Mean is 2.6\n",
            "The Standard Deviation is 2.1071307505705477\n"
          ]
        }
      ],
      "source": [
        "print(len(x))\n",
        "print('The Mean is', x.mean())\n",
        "print('The Standard Deviation is', x.std())"
      ]
    },
    {
      "cell_type": "code",
      "execution_count": 124,
      "metadata": {},
      "outputs": [
        {
          "data": {
            "text/plain": [
              "array([[[ 5, 10],\n",
              "        [15, 20]],\n",
              "\n",
              "       [[25, 30],\n",
              "        [35, 40]]])"
            ]
          },
          "execution_count": 124,
          "metadata": {},
          "output_type": "execute_result"
        }
      ],
      "source": [
        "np_multi = np.array([  [  [5, 10], [15,20] ], [ [25,30], [35,40] ]   ])\n",
        "np_multi"
      ]
    },
    {
      "cell_type": "code",
      "execution_count": 118,
      "metadata": {},
      "outputs": [
        {
          "data": {
            "text/plain": [
              "(2, 2, 2)"
            ]
          },
          "execution_count": 118,
          "metadata": {},
          "output_type": "execute_result"
        }
      ],
      "source": [
        "np_multi.shape"
      ]
    },
    {
      "cell_type": "markdown",
      "metadata": {
        "id": "QhBquSRz0C5S"
      },
      "source": [
        "\n",
        "\n",
        "## Slicing"
      ]
    },
    {
      "cell_type": "code",
      "execution_count": 125,
      "metadata": {
        "id": "FGjame-lXkAw"
      },
      "outputs": [
        {
          "data": {
            "text/plain": [
              "array([[1, 2],\n",
              "       [3, 4],\n",
              "       [5, 6]])"
            ]
          },
          "execution_count": 125,
          "metadata": {},
          "output_type": "execute_result"
        }
      ],
      "source": [
        "lol_np"
      ]
    },
    {
      "cell_type": "code",
      "execution_count": 132,
      "metadata": {
        "id": "hnVVDAbUXm_U"
      },
      "outputs": [
        {
          "data": {
            "text/plain": [
              "(3, 2)"
            ]
          },
          "execution_count": 132,
          "metadata": {},
          "output_type": "execute_result"
        }
      ],
      "source": [
        "lol_np.shape"
      ]
    },
    {
      "cell_type": "code",
      "execution_count": 133,
      "metadata": {
        "id": "dJgmb8Ku0xFb"
      },
      "outputs": [
        {
          "data": {
            "text/plain": [
              "array([[1, 2],\n",
              "       [3, 4],\n",
              "       [5, 6]])"
            ]
          },
          "execution_count": 133,
          "metadata": {},
          "output_type": "execute_result"
        }
      ],
      "source": [
        "# lets slice the array - include everything\n",
        "lol_np[:,:]"
      ]
    },
    {
      "cell_type": "code",
      "execution_count": 140,
      "metadata": {
        "id": "w58Nkbbt2D_Q"
      },
      "outputs": [
        {
          "data": {
            "text/plain": [
              "array([1, 2])"
            ]
          },
          "execution_count": 140,
          "metadata": {},
          "output_type": "execute_result"
        }
      ],
      "source": [
        "# get just the first array\n",
        "lol_np[0, :]"
      ]
    },
    {
      "cell_type": "code",
      "execution_count": 139,
      "metadata": {},
      "outputs": [
        {
          "data": {
            "text/plain": [
              "array([[3, 4]])"
            ]
          },
          "execution_count": 139,
          "metadata": {},
          "output_type": "execute_result"
        }
      ],
      "source": [
        "#find 3,4\n",
        "lol_np[1:2]"
      ]
    },
    {
      "cell_type": "markdown",
      "metadata": {
        "id": "yeZth8wI1kKv"
      },
      "source": [
        "Multidimensional arrays can be sliced using a comma separated set of tuples"
      ]
    },
    {
      "cell_type": "code",
      "execution_count": 152,
      "metadata": {
        "id": "kwU_tqyi01q0"
      },
      "outputs": [
        {
          "data": {
            "text/plain": [
              "array([[3, 4],\n",
              "       [5, 6]])"
            ]
          },
          "execution_count": 152,
          "metadata": {},
          "output_type": "execute_result"
        }
      ],
      "source": [
        "# return just 5 \n",
        "lol_np[2, 0]\n",
        "lol_np[1:, 0:3]"
      ]
    },
    {
      "cell_type": "code",
      "execution_count": 161,
      "metadata": {
        "id": "md1x7KFQLY8d"
      },
      "outputs": [
        {
          "data": {
            "text/plain": [
              "4"
            ]
          },
          "execution_count": 161,
          "metadata": {},
          "output_type": "execute_result"
        }
      ],
      "source": [
        "# return just 4\n",
        "lol_np[1,1]\n",
        "lol_np[:2, 0]\n",
        "lol_np[1,1]"
      ]
    },
    {
      "cell_type": "markdown",
      "metadata": {
        "id": "msfs09Rr3si_"
      },
      "source": [
        "lets look at a larger nd array"
      ]
    },
    {
      "cell_type": "code",
      "execution_count": 162,
      "metadata": {
        "id": "AMGI7fuJ0_K3"
      },
      "outputs": [
        {
          "data": {
            "text/plain": [
              "array([[14, 11, 16, 13],\n",
              "       [10, 16, 13, 12],\n",
              "       [11, 10, 17, 14]])"
            ]
          },
          "execution_count": 162,
          "metadata": {},
          "output_type": "execute_result"
        }
      ],
      "source": [
        "# generate a larger array\n",
        "np.random.seed(765) # for reproducing example\n",
        "x2 = np.random.randint(10, 20, size=(3, 4))\n",
        "x2"
      ]
    },
    {
      "cell_type": "code",
      "execution_count": 167,
      "metadata": {},
      "outputs": [
        {
          "data": {
            "text/plain": [
              "12"
            ]
          },
          "execution_count": 167,
          "metadata": {},
          "output_type": "execute_result"
        }
      ],
      "source": [
        "len(x2)\n",
        "x2.ndim\n",
        "x2.size"
      ]
    },
    {
      "cell_type": "code",
      "execution_count": 163,
      "metadata": {
        "id": "dh6UKaRE0x3n"
      },
      "outputs": [
        {
          "data": {
            "text/plain": [
              "(3, 4)"
            ]
          },
          "execution_count": 163,
          "metadata": {},
          "output_type": "execute_result"
        }
      ],
      "source": [
        "# shape (rows/columns)\n",
        "x2.shape"
      ]
    },
    {
      "cell_type": "code",
      "execution_count": 168,
      "metadata": {
        "id": "pFjKfkCy3VWF"
      },
      "outputs": [
        {
          "data": {
            "text/plain": [
              "array([14, 10, 11])"
            ]
          },
          "execution_count": 168,
          "metadata": {},
          "output_type": "execute_result"
        }
      ],
      "source": [
        "# slicing to get all \"rows\" and first \"column\"\n",
        "x2[:, 0]"
      ]
    },
    {
      "cell_type": "code",
      "execution_count": 171,
      "metadata": {
        "id": "tZ4LvXn13gwg"
      },
      "outputs": [
        {
          "data": {
            "text/plain": [
              "array([[14, 11, 16],\n",
              "       [10, 16, 13]])"
            ]
          },
          "execution_count": 171,
          "metadata": {},
          "output_type": "execute_result"
        }
      ],
      "source": [
        "# 2 rows, 3 cols\n",
        "x2[:2, :3]"
      ]
    },
    {
      "cell_type": "code",
      "execution_count": 172,
      "metadata": {
        "id": "2HlD1XIq4Bvm"
      },
      "outputs": [
        {
          "data": {
            "text/plain": [
              "array([14, 11, 16, 13])"
            ]
          },
          "execution_count": 172,
          "metadata": {},
          "output_type": "execute_result"
        }
      ],
      "source": [
        "# just get one row\n",
        "x2[0, :]"
      ]
    },
    {
      "cell_type": "code",
      "execution_count": 174,
      "metadata": {},
      "outputs": [
        {
          "data": {
            "text/plain": [
              "array([[14, 11, 16, 13],\n",
              "       [10, 16, 13, 12],\n",
              "       [11, 10, 17, 14]])"
            ]
          },
          "execution_count": 174,
          "metadata": {},
          "output_type": "execute_result"
        }
      ],
      "source": [
        "x2\n",
        "#normal x2"
      ]
    },
    {
      "cell_type": "code",
      "execution_count": 176,
      "metadata": {
        "id": "WDz-3zFJ4WRU"
      },
      "outputs": [
        {
          "data": {
            "text/plain": [
              "array([[11, 10, 17, 14],\n",
              "       [10, 16, 13, 12],\n",
              "       [14, 11, 16, 13]])"
            ]
          },
          "execution_count": 176,
          "metadata": {},
          "output_type": "execute_result"
        }
      ],
      "source": [
        "# want to reverse?\n",
        "x2[::-1, :]\n",
        "#makes first row bottom and bottom row top \n"
      ]
    },
    {
      "cell_type": "code",
      "execution_count": 178,
      "metadata": {},
      "outputs": [
        {
          "data": {
            "text/plain": [
              "array([[13, 16, 11, 14],\n",
              "       [12, 13, 16, 10],\n",
              "       [14, 17, 10, 11]])"
            ]
          },
          "execution_count": 178,
          "metadata": {},
          "output_type": "execute_result"
        }
      ],
      "source": [
        "x2[:, ::-1]\n",
        "#flipped oolumns "
      ]
    },
    {
      "cell_type": "code",
      "execution_count": 177,
      "metadata": {
        "id": "R1CzCSbWNm_n"
      },
      "outputs": [
        {
          "data": {
            "text/plain": [
              "array([[14, 17, 10, 11],\n",
              "       [12, 13, 16, 10],\n",
              "       [13, 16, 11, 14]])"
            ]
          },
          "execution_count": 177,
          "metadata": {},
          "output_type": "execute_result"
        }
      ],
      "source": [
        "x2[::-1, ::-1]\n",
        "#flips rows and columns order \n",
        "#doesnt change oringla array"
      ]
    },
    {
      "cell_type": "code",
      "execution_count": 182,
      "metadata": {},
      "outputs": [
        {
          "data": {
            "text/plain": [
              "[4, 3, 2, 1]"
            ]
          },
          "execution_count": 182,
          "metadata": {},
          "output_type": "execute_result"
        }
      ],
      "source": [
        "my_list = [1,2,3,4]\n",
        "my_list[::-1]\n",
        "#more than -1 = skips things in the list "
      ]
    },
    {
      "cell_type": "code",
      "execution_count": 183,
      "metadata": {
        "id": "pWxqI_J_ZAPu"
      },
      "outputs": [
        {
          "data": {
            "text/plain": [
              "array([[14, 11, 16, 13],\n",
              "       [10, 16, 13, 12],\n",
              "       [11, 10, 17, 14]])"
            ]
          },
          "execution_count": 183,
          "metadata": {},
          "output_type": "execute_result"
        }
      ],
      "source": [
        "x2"
      ]
    },
    {
      "cell_type": "code",
      "execution_count": 184,
      "metadata": {
        "id": "pT_SUj3UX0H9"
      },
      "outputs": [
        {
          "name": "stdout",
          "output_type": "stream",
          "text": [
            "13.083333333333334\n",
            "2.289771944005681\n",
            "17\n"
          ]
        }
      ],
      "source": [
        "# we can also do math!\n",
        "print(x2.mean())   #mean\n",
        "print(x2.std())    #standard deviation\n",
        "print(x2.max())    #max\n"
      ]
    },
    {
      "cell_type": "code",
      "execution_count": 185,
      "metadata": {
        "id": "uS3ooL-sOJNR"
      },
      "outputs": [
        {
          "data": {
            "text/plain": [
              "array([[14, 11, 16, 13],\n",
              "       [10, 16, 13, 12],\n",
              "       [11, 10, 17, 14]])"
            ]
          },
          "execution_count": 185,
          "metadata": {},
          "output_type": "execute_result"
        }
      ],
      "source": [
        "x2"
      ]
    },
    {
      "cell_type": "markdown",
      "metadata": {
        "id": "r-uSoSymGIe9"
      },
      "source": [
        "## Quick exercise \n",
        "\n",
        "Update the value of x2 such that the element that was previously 17 becomes 71. You can locate the element manually."
      ]
    },
    {
      "cell_type": "markdown",
      "metadata": {
        "id": "CD_wgRTmL9OD"
      },
      "source": [
        "---\n"
      ]
    },
    {
      "cell_type": "code",
      "execution_count": 188,
      "metadata": {},
      "outputs": [
        {
          "data": {
            "text/plain": [
              "array([[14, 11, 16, 13],\n",
              "       [10, 16, 13, 12],\n",
              "       [11, 10, 71, 14]])"
            ]
          },
          "execution_count": 188,
          "metadata": {},
          "output_type": "execute_result"
        }
      ],
      "source": [
        "#reassign value simple = array(x,x) = value\n",
        "x2[2,2] = 71\n",
        "x2"
      ]
    },
    {
      "cell_type": "markdown",
      "metadata": {
        "id": "11EG0KPi4s1o"
      },
      "source": [
        "# Useful methods"
      ]
    },
    {
      "cell_type": "code",
      "execution_count": 191,
      "metadata": {
        "id": "SbPyHBnUAAbt"
      },
      "outputs": [
        {
          "data": {
            "text/plain": [
              "array([2, 4, 6, 8])"
            ]
          },
          "execution_count": 191,
          "metadata": {},
          "output_type": "execute_result"
        }
      ],
      "source": [
        "# arange: like range, generate an array of numbers with bounds and spacing\n",
        "x = np.arange(2, 10, 2)\n",
        "x"
      ]
    },
    {
      "cell_type": "code",
      "execution_count": 192,
      "metadata": {
        "id": "R8bHq99FAEMo"
      },
      "outputs": [
        {
          "name": "stdout",
          "output_type": "stream",
          "text": [
            "the mean of the array is 5.0\n",
            "the largest value in the array is 8\n",
            "the index for the largest value in the array is 3\n"
          ]
        }
      ],
      "source": [
        "# do some math or finding location\n",
        "print(\"the mean of the array is {}\".format( x.mean() ))   # x.mean()\n",
        "print(\"the largest value in the array is {}\".format( x.max() ))   # x.max()\n",
        "print(\"the index for the largest value in the array is {}\".format( x.argmax() ))   # x.argmax()\n",
        "#returns index of the maximum value \n"
      ]
    },
    {
      "cell_type": "code",
      "execution_count": 194,
      "metadata": {
        "id": "7scepTyDXOnl"
      },
      "outputs": [
        {
          "data": {
            "text/plain": [
              "array([2, 4, 6, 8])"
            ]
          },
          "execution_count": 194,
          "metadata": {},
          "output_type": "execute_result"
        }
      ],
      "source": [
        "x"
      ]
    },
    {
      "cell_type": "markdown",
      "metadata": {
        "id": "VodnsJozsMBL"
      },
      "source": [
        "Conditionals and Masks - very important:"
      ]
    },
    {
      "cell_type": "code",
      "execution_count": 195,
      "metadata": {
        "id": "b25qWL2n74Fm"
      },
      "outputs": [
        {
          "data": {
            "text/plain": [
              "array([False, False,  True,  True])"
            ]
          },
          "execution_count": 195,
          "metadata": {},
          "output_type": "execute_result"
        }
      ],
      "source": [
        "# we can generate an array of booleans for subsetting - this is very useful!\n",
        "x > 5"
      ]
    },
    {
      "cell_type": "code",
      "execution_count": 196,
      "metadata": {
        "id": "rs6MUNHE8hXP"
      },
      "outputs": [
        {
          "data": {
            "text/plain": [
              "array([ True,  True, False, False])"
            ]
          },
          "execution_count": 196,
          "metadata": {},
          "output_type": "execute_result"
        }
      ],
      "source": [
        "# we can also do complex logic: logical and\n",
        "np.logical_and(x > 0, x <5)"
      ]
    },
    {
      "cell_type": "code",
      "execution_count": 197,
      "metadata": {
        "id": "EUu4QI9n8vMA"
      },
      "outputs": [
        {
          "data": {
            "text/plain": [
              "array([ True,  True,  True,  True])"
            ]
          },
          "execution_count": 197,
          "metadata": {},
          "output_type": "execute_result"
        }
      ],
      "source": [
        "# logical or\n",
        "np.logical_or(x > 5, x <7)"
      ]
    },
    {
      "cell_type": "markdown",
      "metadata": {
        "id": "q3lPw6PXSaWa"
      },
      "source": [
        "---"
      ]
    },
    {
      "cell_type": "markdown",
      "metadata": {
        "id": "XZRaQ4aCB26V"
      },
      "source": [
        "## Discussion on logical_and/or\n",
        "\n",
        "The concept of booleans across our arrays is a really important concept to understand.  This is the foundation for how we filter rows/columns in our data analysis in python (pandas, more specifically).  When slicing (i.e. filtering) our data, we keep the `True` elements.\n",
        "\n",
        "\n"
      ]
    },
    {
      "cell_type": "code",
      "execution_count": 200,
      "metadata": {
        "id": "mmEtdU7LRh2s"
      },
      "outputs": [
        {
          "name": "stdout",
          "output_type": "stream",
          "text": [
            "(100,)\n"
          ]
        },
        {
          "data": {
            "text/plain": [
              "array([4, 1, 6, 3, 0])"
            ]
          },
          "execution_count": 200,
          "metadata": {},
          "output_type": "execute_result"
        }
      ],
      "source": [
        "# Let's see this in action\n",
        "np.random.seed(765)\n",
        "x = np.random.randint(0, 10, size=100)\n",
        "x\n",
        "print(x.shape)\n",
        "x[:5]"
      ]
    },
    {
      "cell_type": "code",
      "execution_count": 201,
      "metadata": {
        "id": "dfxplAuOcXYB"
      },
      "outputs": [
        {
          "data": {
            "text/plain": [
              "1"
            ]
          },
          "execution_count": 201,
          "metadata": {},
          "output_type": "execute_result"
        }
      ],
      "source": [
        "x.ndim"
      ]
    },
    {
      "cell_type": "code",
      "execution_count": 209,
      "metadata": {
        "id": "C5N_u0dZRhyK"
      },
      "outputs": [],
      "source": [
        "# save a variable to store our test results\n",
        "tests = (x >= 4)\n",
        "tests[:5]\n",
        "test_2 = np.where(x>=4, True, False)\n",
        "test_3 = np.where(x>=4, x*10, 0)"
      ]
    },
    {
      "cell_type": "code",
      "execution_count": 211,
      "metadata": {},
      "outputs": [
        {
          "data": {
            "text/plain": [
              "array([40,  0, 60,  0,  0, 60,  0,  0,  0,  0, 70, 40, 40,  0,  0, 80,  0,\n",
              "       70, 80, 70, 70, 80, 60, 80,  0, 80,  0, 60, 90,  0, 70, 40,  0, 90,\n",
              "       40, 80, 40, 50,  0, 50,  0,  0, 90,  0, 50, 80,  0, 70, 40,  0,  0,\n",
              "       70,  0, 50,  0, 40,  0, 40, 70,  0, 50, 60, 40, 80,  0, 40, 50,  0,\n",
              "       40,  0, 80,  0,  0,  0,  0, 80, 80, 50, 60,  0, 70, 80,  0, 50,  0,\n",
              "       60, 90,  0,  0, 60,  0,  0,  0,  0,  0, 40, 40,  0,  0,  0])"
            ]
          },
          "execution_count": 211,
          "metadata": {},
          "output_type": "execute_result"
        }
      ],
      "source": [
        "test_3"
      ]
    },
    {
      "cell_type": "code",
      "execution_count": 205,
      "metadata": {
        "id": "Lmwza2xmRhuu"
      },
      "outputs": [
        {
          "data": {
            "text/plain": [
              "True"
            ]
          },
          "execution_count": 205,
          "metadata": {},
          "output_type": "execute_result"
        }
      ],
      "source": [
        "# confirm that they are the same shape\n",
        "x.shape == tests.shape"
      ]
    },
    {
      "cell_type": "code",
      "execution_count": 206,
      "metadata": {
        "id": "72cxkAHLR_Xf"
      },
      "outputs": [
        {
          "data": {
            "text/plain": [
              "(55,)"
            ]
          },
          "execution_count": 206,
          "metadata": {},
          "output_type": "execute_result"
        }
      ],
      "source": [
        "# finally, keep just those that meet our criteria\n",
        "# WE ONLY KEEP THE TRUE\n",
        "keep = x[tests]\n",
        "keep.shape"
      ]
    },
    {
      "cell_type": "code",
      "execution_count": 207,
      "metadata": {
        "id": "DFS4JIVsc1JQ"
      },
      "outputs": [
        {
          "data": {
            "text/plain": [
              "array([4, 6, 6, 7, 4, 4, 8, 7, 8, 7, 7, 8, 6, 8, 8, 6, 9, 7, 4, 9, 4, 8,\n",
              "       4, 5, 5, 9, 5, 8, 7, 4, 7, 5, 4, 4, 7, 5, 6, 4, 8, 4, 5, 4, 8, 8,\n",
              "       8, 5, 6, 7, 8, 5, 6, 9, 6, 4, 4])"
            ]
          },
          "execution_count": 207,
          "metadata": {},
          "output_type": "execute_result"
        }
      ],
      "source": [
        "keep"
      ]
    },
    {
      "cell_type": "markdown",
      "metadata": {
        "id": "r6uvNor8TBYJ"
      },
      "source": [
        "> To see a much larger list of what is possible for logical check in numpy, here are the docs:  https://numpy.org/doc/stable/reference/routines.logic.html"
      ]
    },
    {
      "cell_type": "markdown",
      "metadata": {
        "id": "ArQIfWIbR_Rc"
      },
      "source": [
        "-----\n",
        "-----"
      ]
    },
    {
      "cell_type": "markdown",
      "metadata": {
        "id": "cbOA4VzGIrNe"
      },
      "source": [
        "## Reshaping\n",
        "Another method that comes very handy is reshaping arrays - the name is clear so there is not much to say about this than showing how it works:"
      ]
    },
    {
      "cell_type": "code",
      "execution_count": 212,
      "metadata": {
        "id": "KznpbnlxI5He"
      },
      "outputs": [
        {
          "data": {
            "text/plain": [
              "array([0, 1, 2, 3, 4, 5, 6, 7, 8, 9])"
            ]
          },
          "execution_count": 212,
          "metadata": {},
          "output_type": "execute_result"
        }
      ],
      "source": [
        "my_array = np.arange(10)\n",
        "my_array"
      ]
    },
    {
      "cell_type": "code",
      "execution_count": 214,
      "metadata": {
        "id": "4xEBnWipI4ra"
      },
      "outputs": [
        {
          "data": {
            "text/plain": [
              "array([[0, 1, 2, 3, 4],\n",
              "       [5, 6, 7, 8, 9]])"
            ]
          },
          "execution_count": 214,
          "metadata": {},
          "output_type": "execute_result"
        }
      ],
      "source": [
        "my_array.reshape((2,5))"
      ]
    },
    {
      "cell_type": "code",
      "execution_count": 220,
      "metadata": {},
      "outputs": [
        {
          "data": {
            "text/plain": [
              "array([ 0,  1,  2,  3,  4,  5,  6,  7,  8,  9, 10, 11])"
            ]
          },
          "execution_count": 220,
          "metadata": {},
          "output_type": "execute_result"
        }
      ],
      "source": [
        "my_array_2 = np.arange(12)\n",
        "my_array_2"
      ]
    },
    {
      "cell_type": "code",
      "execution_count": 225,
      "metadata": {},
      "outputs": [
        {
          "data": {
            "text/plain": [
              "array([[ 0,  1,  2,  3,  4,  5],\n",
              "       [ 6,  7,  8,  9, 10, 11]])"
            ]
          },
          "execution_count": 225,
          "metadata": {},
          "output_type": "execute_result"
        }
      ],
      "source": [
        "my_array_2.reshape((2,6))"
      ]
    },
    {
      "cell_type": "markdown",
      "metadata": {
        "id": "HaG-8wQqZqV-"
      },
      "source": [
        "## Mathematical Operations on Axis\n",
        "\n",
        "Helpful resource:  https://www.sharpsightlabs.com/blog/numpy-axes-explained/\n",
        "\n",
        "![axis](https://i.imgur.com/4aL45nA.png)\n",
        "\n",
        "<br>\n",
        "\n",
        "### What is really happening?\n",
        "\n",
        "<br>\n",
        "\n",
        "Axis 0 = we collapse/summarize *across* the rows\n",
        "\n",
        "![axis0](https://vrzkj25a871bpq7t1ugcgmn9-wpengine.netdna-ssl.com/wp-content/uploads/2018/12/numpy-axes-np-sum-axis-0.png)\n",
        "\n",
        "Axis 1 = we collapse/summarize *across* the columns\n",
        "\n",
        "\n",
        "![axis1](https://vrzkj25a871bpq7t1ugcgmn9-wpengine.netdna-ssl.com/wp-content/uploads/2018/11/numpy-axes-np-sum-axis-1.png)\n"
      ]
    },
    {
      "cell_type": "code",
      "execution_count": 226,
      "metadata": {
        "id": "jZ8gdeE4Zyma"
      },
      "outputs": [],
      "source": [
        "np.random.seed(765)\n",
        "a = np.random.randint(0, 100, size=(3, 7))"
      ]
    },
    {
      "cell_type": "code",
      "execution_count": 227,
      "metadata": {
        "id": "tufg79roCypq"
      },
      "outputs": [
        {
          "data": {
            "text/plain": [
              "array([[29, 90,  4, 46, 27, 81, 70],\n",
              "       [92, 79, 60, 19,  0, 38, 18],\n",
              "       [65, 16,  7, 42, 36, 64, 17]])"
            ]
          },
          "execution_count": 227,
          "metadata": {},
          "output_type": "execute_result"
        }
      ],
      "source": [
        "a"
      ]
    },
    {
      "cell_type": "code",
      "execution_count": 228,
      "metadata": {
        "id": "IaLOjQ_bCyuc"
      },
      "outputs": [
        {
          "data": {
            "text/plain": [
              "numpy.ndarray"
            ]
          },
          "execution_count": 228,
          "metadata": {},
          "output_type": "execute_result"
        }
      ],
      "source": [
        "type(a)"
      ]
    },
    {
      "cell_type": "code",
      "execution_count": 229,
      "metadata": {
        "id": "MZwAyXI2Cyxt"
      },
      "outputs": [
        {
          "data": {
            "text/plain": [
              "(3, 7)"
            ]
          },
          "execution_count": 229,
          "metadata": {},
          "output_type": "execute_result"
        }
      ],
      "source": [
        "a.shape"
      ]
    },
    {
      "cell_type": "code",
      "execution_count": 230,
      "metadata": {
        "id": "5p-qCHDgDAi-"
      },
      "outputs": [
        {
          "data": {
            "text/plain": [
              "2"
            ]
          },
          "execution_count": 230,
          "metadata": {},
          "output_type": "execute_result"
        }
      ],
      "source": [
        "a.ndim"
      ]
    },
    {
      "cell_type": "code",
      "execution_count": 231,
      "metadata": {
        "id": "ZUd_tb-vDAnL"
      },
      "outputs": [
        {
          "data": {
            "text/plain": [
              "42.857142857142854"
            ]
          },
          "execution_count": 231,
          "metadata": {},
          "output_type": "execute_result"
        }
      ],
      "source": [
        "a.mean()"
      ]
    },
    {
      "cell_type": "code",
      "execution_count": 232,
      "metadata": {
        "id": "QycZFRjuDJXW"
      },
      "outputs": [
        {
          "data": {
            "text/plain": [
              "900"
            ]
          },
          "execution_count": 232,
          "metadata": {},
          "output_type": "execute_result"
        }
      ],
      "source": [
        "a.sum()"
      ]
    },
    {
      "cell_type": "code",
      "execution_count": 233,
      "metadata": {
        "id": "5l02dCyyDJdt"
      },
      "outputs": [
        {
          "data": {
            "text/plain": [
              "92"
            ]
          },
          "execution_count": 233,
          "metadata": {},
          "output_type": "execute_result"
        }
      ],
      "source": [
        "a.max()"
      ]
    },
    {
      "cell_type": "code",
      "execution_count": 234,
      "metadata": {
        "id": "-Sjy-V8ZDJgt"
      },
      "outputs": [
        {
          "data": {
            "text/plain": [
              "0"
            ]
          },
          "execution_count": 234,
          "metadata": {},
          "output_type": "execute_result"
        }
      ],
      "source": [
        "a.min()"
      ]
    },
    {
      "cell_type": "markdown",
      "metadata": {
        "id": "WVEULBVj3gnL"
      },
      "source": [
        "Now we will use the `sum` operation specifying the array axis (refer to images above)\n",
        "\n",
        "We are summing across axis 0 (the first axis):"
      ]
    },
    {
      "cell_type": "code",
      "execution_count": 254,
      "metadata": {
        "id": "LL1jwfMmU2t7"
      },
      "outputs": [
        {
          "data": {
            "text/plain": [
              "array([[29, 90,  4, 46, 27, 81, 70],\n",
              "       [92, 79, 60, 19,  0, 38, 18],\n",
              "       [65, 16,  7, 42, 36, 64, 17]])"
            ]
          },
          "execution_count": 254,
          "metadata": {},
          "output_type": "execute_result"
        }
      ],
      "source": [
        "a"
      ]
    },
    {
      "cell_type": "code",
      "execution_count": 242,
      "metadata": {
        "id": "wD6nB3CIDAqE"
      },
      "outputs": [
        {
          "data": {
            "text/plain": [
              "900"
            ]
          },
          "execution_count": 242,
          "metadata": {},
          "output_type": "execute_result"
        }
      ],
      "source": [
        " a.sum(axis=0)\n",
        " # sum of all columns \n",
        "a.sum(axis = 1)\n",
        "# sum of all rows (collapse to one number)\n",
        "a.sum(axis = (0,1))\n",
        "#sum of all numnbers "
      ]
    },
    {
      "cell_type": "code",
      "execution_count": 243,
      "metadata": {
        "id": "5hIE4sP7DZGB"
      },
      "outputs": [
        {
          "data": {
            "text/plain": [
              "7"
            ]
          },
          "execution_count": 243,
          "metadata": {},
          "output_type": "execute_result"
        }
      ],
      "source": [
        "len(a.sum(axis=0))"
      ]
    },
    {
      "cell_type": "markdown",
      "metadata": {
        "id": "sIa2lisz3y_n"
      },
      "source": [
        "What if we performed the sum across the other axis, axis 1? How many elements would it return?"
      ]
    },
    {
      "cell_type": "code",
      "execution_count": 244,
      "metadata": {
        "id": "meQpVBYwDZJ_"
      },
      "outputs": [
        {
          "data": {
            "text/plain": [
              "array([347, 306, 247])"
            ]
          },
          "execution_count": 244,
          "metadata": {},
          "output_type": "execute_result"
        }
      ],
      "source": [
        "a.sum(axis=1)"
      ]
    },
    {
      "cell_type": "markdown",
      "metadata": {
        "id": "CccZusvJGqLb"
      },
      "source": [
        "## Quick exercise:\n",
        "\n",
        "Find the mean of the above array along various axes."
      ]
    },
    {
      "cell_type": "code",
      "execution_count": 264,
      "metadata": {
        "id": "V81Af989XNyT"
      },
      "outputs": [
        {
          "data": {
            "text/plain": [
              "array([49.57142857, 43.71428571, 35.28571429])"
            ]
          },
          "execution_count": 264,
          "metadata": {},
          "output_type": "execute_result"
        }
      ],
      "source": [
        "a.mean(axis=1)\n"
      ]
    },
    {
      "cell_type": "code",
      "execution_count": 267,
      "metadata": {},
      "outputs": [
        {
          "data": {
            "text/plain": [
              "array([62.        , 61.66666667, 23.66666667, 35.66666667, 21.        ,\n",
              "       61.        , 35.        ])"
            ]
          },
          "execution_count": 267,
          "metadata": {},
          "output_type": "execute_result"
        }
      ],
      "source": [
        "a.mean(axis=0)"
      ]
    },
    {
      "cell_type": "markdown",
      "metadata": {
        "id": "0Nuh_XAT39QT"
      },
      "source": [
        "## Array operations\n",
        "Now let's do some array operations "
      ]
    },
    {
      "cell_type": "code",
      "execution_count": 273,
      "metadata": {
        "id": "SHCGUbAUDZNv"
      },
      "outputs": [
        {
          "name": "stdout",
          "output_type": "stream",
          "text": [
            "[4 1 6 3 0 6 3 2 1 0]\n",
            "[27 62 56 84 37 28 49 75 75 26]\n"
          ]
        }
      ],
      "source": [
        "# array ops\n",
        "np.random.seed(765)\n",
        "x = np.random.randint(0, 10, size=(10))\n",
        "y = np.random.randint(20, 100, size=(10))\n",
        "print(x)\n",
        "print(y)"
      ]
    },
    {
      "cell_type": "code",
      "execution_count": 279,
      "metadata": {
        "id": "e0Yyu0IYDZSM"
      },
      "outputs": [
        {
          "data": {
            "text/plain": [
              "array([31, 63, 62, 87, 37, 34, 52, 77, 76, 26])"
            ]
          },
          "execution_count": 279,
          "metadata": {},
          "output_type": "execute_result"
        }
      ],
      "source": [
        "x + y"
      ]
    },
    {
      "cell_type": "code",
      "execution_count": 280,
      "metadata": {
        "id": "YRM8-7pBCy0f"
      },
      "outputs": [
        {
          "data": {
            "text/plain": [
              "array([108,  62, 336, 252,   0, 168, 147, 150,  75,   0])"
            ]
          },
          "execution_count": 280,
          "metadata": {},
          "output_type": "execute_result"
        }
      ],
      "source": [
        "x *y"
      ]
    },
    {
      "cell_type": "code",
      "execution_count": 281,
      "metadata": {
        "id": "yYjuIa3bZvLw"
      },
      "outputs": [],
      "source": [
        "np.random.seed(765)\n",
        "x = np.random.randint(0, 10, size=(9))\n",
        "y = np.random.randint(20, 100, size=(10))"
      ]
    },
    {
      "cell_type": "code",
      "execution_count": 285,
      "metadata": {
        "id": "Fix4kt7SFjls"
      },
      "outputs": [
        {
          "ename": "ValueError",
          "evalue": "operands could not be broadcast together with shapes (9,) (10,) ",
          "output_type": "error",
          "traceback": [
            "\u001b[0;31m---------------------------------------------------------------------------\u001b[0m",
            "\u001b[0;31mValueError\u001b[0m                                Traceback (most recent call last)",
            "\u001b[0;32m<ipython-input-285-86286c876b5e>\u001b[0m in \u001b[0;36m<module>\u001b[0;34m\u001b[0m\n\u001b[0;32m----> 1\u001b[0;31m \u001b[0mx\u001b[0m \u001b[0;34m-\u001b[0m \u001b[0my\u001b[0m\u001b[0;34m\u001b[0m\u001b[0;34m\u001b[0m\u001b[0m\n\u001b[0m",
            "\u001b[0;31mValueError\u001b[0m: operands could not be broadcast together with shapes (9,) (10,) "
          ]
        }
      ],
      "source": [
        "x - y"
      ]
    },
    {
      "cell_type": "code",
      "execution_count": 289,
      "metadata": {
        "id": "Uy9rD2_OFjuL"
      },
      "outputs": [
        {
          "name": "stdout",
          "output_type": "stream",
          "text": [
            "[4 1 6 3 0 6 3 2 1]\n"
          ]
        }
      ],
      "source": [
        "print(x)\n"
      ]
    },
    {
      "cell_type": "code",
      "execution_count": 290,
      "metadata": {
        "id": "QBtLw-IBF-Qx"
      },
      "outputs": [
        {
          "data": {
            "text/plain": [
              "array([4, 1, 6, 3, 0, 6, 3, 2, 1])"
            ]
          },
          "execution_count": 290,
          "metadata": {},
          "output_type": "execute_result"
        }
      ],
      "source": [
        "x"
      ]
    },
    {
      "cell_type": "code",
      "execution_count": 291,
      "metadata": {
        "id": "D_AcprxtFjw0"
      },
      "outputs": [
        {
          "data": {
            "text/plain": [
              "2"
            ]
          },
          "execution_count": 291,
          "metadata": {},
          "output_type": "execute_result"
        }
      ],
      "source": [
        "x.argmax()"
      ]
    },
    {
      "cell_type": "markdown",
      "metadata": {
        "id": "OhfNhFHy4orj"
      },
      "source": [
        "This is another very important function for arrays, and since we already saw how to build logical arrays using conditionals earlier, it will sound familiar:"
      ]
    },
    {
      "cell_type": "code",
      "execution_count": null,
      "metadata": {
        "id": "VE3PR38i5PIZ"
      },
      "outputs": [],
      "source": [
        "?np.where"
      ]
    },
    {
      "cell_type": "code",
      "execution_count": 292,
      "metadata": {
        "id": "n3_3BVAnZ1lb"
      },
      "outputs": [
        {
          "data": {
            "text/plain": [
              "array([4, 1, 6, 3, 0, 6, 3, 2, 1])"
            ]
          },
          "execution_count": 292,
          "metadata": {},
          "output_type": "execute_result"
        }
      ],
      "source": [
        "x"
      ]
    },
    {
      "cell_type": "code",
      "execution_count": 293,
      "metadata": {
        "id": "rX-eB3FeF8wa"
      },
      "outputs": [
        {
          "data": {
            "text/plain": [
              "array([ True, False,  True, False, False,  True, False, False, False])"
            ]
          },
          "execution_count": 293,
          "metadata": {},
          "output_type": "execute_result"
        }
      ],
      "source": [
        "np.where(x >  3, True, False)"
      ]
    },
    {
      "cell_type": "markdown",
      "metadata": {
        "id": "idtzMAmLF8ss"
      },
      "source": [
        "\n",
        ">np.where is great for feature engineering because we can evaluate our values and recode the columns however we want.\n",
        "\n",
        "Below is an example of filtering:"
      ]
    },
    {
      "cell_type": "code",
      "execution_count": 294,
      "metadata": {
        "id": "77WUdGXOaNne"
      },
      "outputs": [
        {
          "data": {
            "text/plain": [
              "array([4, 1, 6, 3, 0, 6, 3, 2, 1])"
            ]
          },
          "execution_count": 294,
          "metadata": {},
          "output_type": "execute_result"
        }
      ],
      "source": [
        "x"
      ]
    },
    {
      "cell_type": "code",
      "execution_count": 299,
      "metadata": {
        "id": "YjSSRJmoGjfZ"
      },
      "outputs": [
        {
          "data": {
            "text/plain": [
              "array([4, 3, 6, 3, 3, 6, 3, 3, 3])"
            ]
          },
          "execution_count": 299,
          "metadata": {},
          "output_type": "execute_result"
        }
      ],
      "source": [
        "np.where(x > 3, x, 3)"
      ]
    },
    {
      "cell_type": "code",
      "execution_count": null,
      "metadata": {
        "id": "7vqP5wk7Il9R"
      },
      "outputs": [],
      "source": []
    },
    {
      "cell_type": "markdown",
      "metadata": {
        "id": "nmdnq6SC6irC"
      },
      "source": [
        "# Summary"
      ]
    },
    {
      "cell_type": "markdown",
      "metadata": {
        "id": "9FLjbbWS7TaI"
      },
      "source": [
        "In this notebook, we learned \n",
        "\n",
        "- numpy generates arrays that are very powerful for analysis, and can be thought of enhanced lists\n",
        "\n",
        "- numpy arrays must be of one type, else they will be converted to a singular type\n",
        "\n",
        "- numpy arrays can be multidimensional\n",
        "\n",
        "- numpy arrays can be sliced just like lists, with dimensional slicing occuring `[:, :]`\n",
        "\n",
        "- we can perform mathematical operations using numpy"
      ]
    },
    {
      "cell_type": "code",
      "execution_count": null,
      "metadata": {
        "id": "RVBqN9X9uz2D"
      },
      "outputs": [],
      "source": []
    }
  ],
  "metadata": {
    "colab": {
      "name": "01-IntroToNumpy_Lecture.ipynb",
      "private_outputs": true,
      "provenance": []
    },
    "interpreter": {
      "hash": "d54f36650e22a68b1e16ad067c04252fc93b1d0cce2a522804985f8fa0dd3c9b"
    },
    "kernelspec": {
      "display_name": "Python 3.9.1 64-bit (conda)",
      "name": "python3"
    },
    "language_info": {
      "codemirror_mode": {
        "name": "ipython",
        "version": 3
      },
      "file_extension": ".py",
      "mimetype": "text/x-python",
      "name": "python",
      "nbconvert_exporter": "python",
      "pygments_lexer": "ipython3",
      "version": "3.9.1"
    }
  },
  "nbformat": 4,
  "nbformat_minor": 0
}