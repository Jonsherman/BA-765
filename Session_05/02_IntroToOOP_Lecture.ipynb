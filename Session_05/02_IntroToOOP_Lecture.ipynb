{
  "nbformat": 4,
  "nbformat_minor": 0,
  "metadata": {
    "colab": {
      "name": "02-IntroToOOP_Lecture",
      "private_outputs": true,
      "provenance": [],
      "collapsed_sections": [],
      "toc_visible": true
    },
    "kernelspec": {
      "name": "python3",
      "display_name": "Python 3"
    }
  },
  "cells": [
    {
      "cell_type": "markdown",
      "metadata": {
        "id": "Mz0HALoJwxz9"
      },
      "source": [
        "# Classes and objects in python\n",
        "\n",
        "This is a brief introduction to the concept of Object Oriented Programming in python. We have seen this in bits and pieces so far, mentioned \"objects\" here and there but hopefully what it is will become more clear now.  \n",
        "\n",
        "\n"
      ]
    },
    {
      "cell_type": "code",
      "metadata": {
        "id": "LBCjGVHbyqUx"
      },
      "source": [
        "# install faker before we get started\n",
        "# we will use it to create some fake examples\n",
        "! pip install faker\n"
      ],
      "execution_count": null,
      "outputs": []
    },
    {
      "cell_type": "markdown",
      "metadata": {
        "id": "XBpjONPCLXqp"
      },
      "source": [
        "Objects - what are they?\n",
        "\n",
        "Sometimes during our coding of an algorithm, we may want to bundle certain *characteristics* and *behaviors* of a code element together. These bundles are \"objects\".\n",
        "\n",
        "For example, if we are building an HR software, for each employee we might want to create an object that has certain attributes such as name, title, department, contanct info, and we might also have some methods attached to this object, such as .promote(), .get_compensation() that perform standard tasks that we want to be able to perform on any employee \"object\". \n",
        "\n",
        "We define these characteristics and behaviors in a code element called \"class\", and whenever we want to introduce a new employee to our algorithm, we can create an object that is an \"instance\" of this class.\n",
        "\n",
        "Now let's see these terms in action:\n",
        "\n",
        "\n"
      ]
    },
    {
      "cell_type": "code",
      "metadata": {
        "id": "OxKyYyTIPg9L"
      },
      "source": [
        "# Lets start with a basic class\n",
        "\n",
        "class Lead():\n",
        "  \"\"\" A sales lead class \"\"\"\n",
        "\n",
        "  def __init__(self):\n",
        "    self.lead_type = str(np.random.choice(['Business', 'Personal', 'Non-Profit'], size=1)[0])\n",
        "    self.phone_number = fake.phone_number()\n",
        "    self.email = fake.email()\n",
        "    self.name = fake.name()\n",
        "    self.status = 'Lead'"
      ],
      "execution_count": null,
      "outputs": []
    },
    {
      "cell_type": "code",
      "metadata": {
        "id": "_Vq0TGQcyh0n"
      },
      "source": [
        "# create a lead object from the Lead class\n",
        "lead = Lead()\n",
        "type(lead)"
      ],
      "execution_count": null,
      "outputs": []
    },
    {
      "cell_type": "markdown",
      "metadata": {
        "id": "qht8bGmfxWu2"
      },
      "source": [
        "> We are starting out basic above, but a few things:\n",
        "\n",
        "1.  The doc string (3 double quotes)\n",
        "1.  `__init__` to that is called when the class is instantied\n",
        "1. `lead` is an object from the `Lead` class\n",
        "1. `self` refers to the class, and lets us call/access the components "
      ]
    },
    {
      "cell_type": "code",
      "metadata": {
        "id": "GxmuMtD6hwIG"
      },
      "source": [
        "lead.__class__"
      ],
      "execution_count": null,
      "outputs": []
    },
    {
      "cell_type": "code",
      "metadata": {
        "id": "e_1b1TiMh7PN"
      },
      "source": [
        "lead.lead_type"
      ],
      "execution_count": null,
      "outputs": []
    },
    {
      "cell_type": "code",
      "metadata": {
        "id": "jzQHm1dyyk1C"
      },
      "source": [
        "lead.email"
      ],
      "execution_count": null,
      "outputs": []
    },
    {
      "cell_type": "code",
      "metadata": {
        "id": "yUk76oZ-h-yb"
      },
      "source": [
        "lead.phone_number"
      ],
      "execution_count": null,
      "outputs": []
    },
    {
      "cell_type": "code",
      "metadata": {
        "id": "7XZuK1uAPrKw"
      },
      "source": [
        "lead_2 = Lead()"
      ],
      "execution_count": null,
      "outputs": []
    },
    {
      "cell_type": "code",
      "metadata": {
        "id": "Hbla_unrQ9HX"
      },
      "source": [
        ""
      ],
      "execution_count": null,
      "outputs": []
    },
    {
      "cell_type": "code",
      "metadata": {
        "id": "oE4L9Gi4xXtA"
      },
      "source": [
        "# lets extend the class to account for activities, or \n",
        "# touch points with the lead\n",
        "# this is a simple counter\n",
        "\n",
        "class Lead():\n",
        "  \"\"\" A sales lead class \"\"\"\n",
        "\n",
        "  def __init__(self):\n",
        "    self.lead_type = str(np.random.choice(['Business', 'Personal', 'Non-Profit'], size=1)[0])\n",
        "    self.phone_number = fake.phone_number()\n",
        "    self.email = fake.email()\n",
        "    self.name = fake.name()\n",
        "    self.status = 'Lead'\n",
        "    self.activities = 0\n",
        "  \n",
        "  def add_activity(self):\n",
        "    \"\"\"for this method, we want to increment activities by 1\"\"\"\n",
        "    self.activities = self.activities + 1\n",
        "    return (self.activities)\n",
        "  \n"
      ],
      "execution_count": null,
      "outputs": []
    },
    {
      "cell_type": "code",
      "metadata": {
        "id": "FJaDcO-3xZKS"
      },
      "source": [
        "lead = Lead()"
      ],
      "execution_count": null,
      "outputs": []
    },
    {
      "cell_type": "code",
      "metadata": {
        "id": "sAmeAknfxik4"
      },
      "source": [
        "lead.name"
      ],
      "execution_count": null,
      "outputs": []
    },
    {
      "cell_type": "code",
      "metadata": {
        "id": "NATWMFBXxvoA"
      },
      "source": [
        "lead.activities"
      ],
      "execution_count": null,
      "outputs": []
    },
    {
      "cell_type": "code",
      "metadata": {
        "id": "cchJemg4zpLw"
      },
      "source": [
        "lead.add_activity()"
      ],
      "execution_count": null,
      "outputs": []
    },
    {
      "cell_type": "code",
      "metadata": {
        "id": "IHF6s9WpzpQ3"
      },
      "source": [
        "lead.activities"
      ],
      "execution_count": null,
      "outputs": []
    },
    {
      "cell_type": "code",
      "metadata": {
        "id": "XvA9kcc0jKJP"
      },
      "source": [
        ""
      ],
      "execution_count": null,
      "outputs": []
    },
    {
      "cell_type": "code",
      "metadata": {
        "id": "QmVL6yXYzpUq"
      },
      "source": [
        "# lets add a method to track purchases integers or floats\n",
        "# should keep a history of purchases\n",
        "\n",
        "class Lead():\n",
        "  \"\"\" A sales lead class \"\"\"\n",
        "\n",
        "  def __init__(self):\n",
        "    self.lead_type = str(np.random.choice(['Business', 'Personal', 'Non-Profit'], size=1)[0])\n",
        "    self.phone_number = fake.phone_number()\n",
        "    self.email = fake.email()\n",
        "    self.name = fake.name()\n",
        "    self.status = 'Lead'\n",
        "    self.activities = 0\n",
        "    self.purchases = []\n",
        "  \n",
        "  def add_activity(self):\n",
        "    \"\"\"for this method, we want to increment activities by 1\"\"\"\n",
        "    self.activities = self.activities + 1\n",
        "    return (self.activities)\n",
        "  \n",
        "  def add_purchase(self, amount):\n",
        "    \"\"\"for this method, add a purchase amount to the purchase history\"\"\"\n",
        "    if not isinstance(amount, (int, float)):\n",
        "      print(\"amount needs to be an integer or float\")\n",
        "    else:\n",
        "      self.purchases.append(amount)\n",
        "  \n"
      ],
      "execution_count": null,
      "outputs": []
    },
    {
      "cell_type": "code",
      "metadata": {
        "id": "4ZzXIguHz3g2"
      },
      "source": [
        "lead = Lead()"
      ],
      "execution_count": null,
      "outputs": []
    },
    {
      "cell_type": "code",
      "metadata": {
        "id": "zU_yculjz3lz"
      },
      "source": [
        "lead.email"
      ],
      "execution_count": null,
      "outputs": []
    },
    {
      "cell_type": "code",
      "metadata": {
        "id": "fcdckEUDbfms"
      },
      "source": [
        "lead.activities"
      ],
      "execution_count": null,
      "outputs": []
    },
    {
      "cell_type": "code",
      "metadata": {
        "id": "Bg3ClGvabfqO"
      },
      "source": [
        "lead.purchases"
      ],
      "execution_count": null,
      "outputs": []
    },
    {
      "cell_type": "code",
      "metadata": {
        "id": "hnP4LSWzbfts"
      },
      "source": [
        "lead.add_purchase(amount=5000)"
      ],
      "execution_count": null,
      "outputs": []
    },
    {
      "cell_type": "code",
      "metadata": {
        "id": "kDnqsItllS8z"
      },
      "source": [
        "lead.purchases"
      ],
      "execution_count": null,
      "outputs": []
    },
    {
      "cell_type": "code",
      "metadata": {
        "id": "XKJuJC5mlTDK"
      },
      "source": [
        "lead.add_purchase(amount=2000)"
      ],
      "execution_count": null,
      "outputs": []
    },
    {
      "cell_type": "code",
      "metadata": {
        "id": "mT4Y7CLsloAt"
      },
      "source": [
        "lead.purchases"
      ],
      "execution_count": null,
      "outputs": []
    },
    {
      "cell_type": "code",
      "metadata": {
        "id": "20WpbBI9lrPK"
      },
      "source": [
        "lead.add_purchase(1000)"
      ],
      "execution_count": null,
      "outputs": []
    },
    {
      "cell_type": "code",
      "metadata": {
        "id": "_cS9E_W0l3-G"
      },
      "source": [
        "lead.purchases"
      ],
      "execution_count": null,
      "outputs": []
    },
    {
      "cell_type": "markdown",
      "metadata": {
        "id": "NrsrlAGdRs1e"
      },
      "source": [
        "## In class exercise in Breakout Rooms\n",
        "Edit the Lead class to account for the following:\n",
        "\n",
        "1.  if the sum of purchase history is greater than 10,000, change the lead status to 'Platinum Club'\n",
        "1.  add a method that logs complaints.  You can log each entry in a list\n",
        "1.  Add a method called get_complaint that will return N number of complaints created for a lead\n",
        "1.  Add a method called set_lost that when called, will change the status to 'Closed Lost' and remove the email address of the lead (no email address can be retrieved)\n",
        "\n",
        "Upload your answer to Qtools individually. \n",
        "Remember to write in your top most text cell the names and BU emails for each.\n",
        "\n"
      ]
    },
    {
      "cell_type": "markdown",
      "metadata": {
        "id": "W_u2pAyyTC5q"
      },
      "source": [
        "Below are some more examples for class building for you to examine and experiment with:"
      ]
    },
    {
      "cell_type": "markdown",
      "metadata": {
        "id": "LIzB_Y69S2Wg"
      },
      "source": [
        "# Let's build a student gradebook"
      ]
    },
    {
      "cell_type": "code",
      "metadata": {
        "id": "MWL-uYoixkpb"
      },
      "source": [
        "# define a class called Student\n",
        "\n",
        "class Student:\n",
        "  \"\"\" This is a basic example of a class \"\"\"\n",
        "\n",
        "  # initialize with a pre-determined student id and name randomly generated\n",
        "  def __init__(self):\n",
        "    # import the necessary modules\n",
        "    import uuid\n",
        "    from faker import Faker\n",
        "    fake = Faker()\n",
        "    import numpy as np\n",
        "\n",
        "    # define some values for the class that are set when instantiated\n",
        "    self.id = str(uuid.uuid1())\n",
        "    self.name = fake.name()\n",
        "    self.grades = []\n",
        "  \n",
        "  # a method to add grades\n",
        "  def add_grade(self, grade=None):\n",
        "    \"\"\" add a grade to the student's record \"\"\"\n",
        "\n",
        "    # if isinstance(grade, int) | isinstance(grade, float):\n",
        "    # & = and\n",
        "    # if isinstance(grade, int) or isinstance(grade, float):\n",
        "    if isinstance(grade, (int, float)):\n",
        "      self.grades.append(grade)\n",
        "    elif isinstance(grade, str):\n",
        "      grade = grade.lower().strip()\n",
        "      lookup = {'a+': 100,\n",
        "                'a': 95,\n",
        "                'a-': 90}\n",
        "      grade_lookup = lookup.get(grade, 85)\n",
        "      self.grades.append(grade_lookup)\n",
        "    else:\n",
        "      print(\"not a valid grade format or is missing\")\n",
        "      pass\n",
        "\n",
        "  # another method to calculate student average\n",
        "  def calc_grade(self):\n",
        "    \"\"\" return the average of the grades using numpy \"\"\"\n",
        "\n",
        "    # we are going to use numpy\n",
        "    import numpy as np\n",
        "\n",
        "    gradebook = self.grades\n",
        "\n",
        "    if len(gradebook) > 0:\n",
        "      g = np.array(gradebook)\n",
        "      student_grade = g.mean()\n",
        "      return (student_grade)\n",
        "    else:\n",
        "      return (f'{self.name} does not have any grades recorded')\n",
        "\n",
        "\n",
        "\n",
        "\n"
      ],
      "execution_count": null,
      "outputs": []
    },
    {
      "cell_type": "markdown",
      "metadata": {
        "id": "3rjSNeKSVv8Z"
      },
      "source": [
        "### Quick Review\n",
        "\n",
        "1.  We defined a `class` called `Student`\n",
        "1.  The Student class has some variables and methods that we can apply\n",
        "1.  We are passing `self` to refer to the base of the class so that we can access these variables\n",
        "1.  We also use a `__init__` (double underscore, or \"dunder\") to initialize things.  Notice that we used `self.[var_name]` to set these values.  These are set when the class is called/instantiated.\n",
        "1.  The values of the variables can be modified by functions \n",
        "\n",
        "\n",
        "Also worth noting I am introducing two concepts\n",
        "\n",
        "1.  We can check types using `instance(variable, type)` which returns a boolean\n",
        "1.  I am introducing two ways for or logic:  `|` and `or`\n",
        "1.  `isinstance` lets us pass a tuple of types, removing the need for using `or` logic if we like\n",
        "\n",
        "\n",
        "For more help on `isintance`, refer to: https://pynative.com/python-isinstance-explained-with-examples/\n",
        "\n"
      ]
    },
    {
      "cell_type": "code",
      "metadata": {
        "id": "ItXwym_YolIl"
      },
      "source": [
        ""
      ],
      "execution_count": null,
      "outputs": []
    },
    {
      "cell_type": "code",
      "metadata": {
        "id": "IdbWnvSro0SB"
      },
      "source": [
        "# lets instantiate a student from the class Student\n",
        "student = Student()"
      ],
      "execution_count": null,
      "outputs": []
    },
    {
      "cell_type": "code",
      "metadata": {
        "id": "70W9whm7o0Va"
      },
      "source": [
        "type(student)"
      ],
      "execution_count": null,
      "outputs": []
    },
    {
      "cell_type": "code",
      "metadata": {
        "id": "yBllKT-So0X_"
      },
      "source": [
        "student.__class__"
      ],
      "execution_count": null,
      "outputs": []
    },
    {
      "cell_type": "code",
      "metadata": {
        "id": "4NqATCqdolLd"
      },
      "source": [
        "student.id"
      ],
      "execution_count": null,
      "outputs": []
    },
    {
      "cell_type": "code",
      "metadata": {
        "id": "P5HMt6y_qbY7"
      },
      "source": [
        "student.name"
      ],
      "execution_count": null,
      "outputs": []
    },
    {
      "cell_type": "code",
      "metadata": {
        "id": "WbI-UKG9qbcu"
      },
      "source": [
        "student.grades"
      ],
      "execution_count": null,
      "outputs": []
    },
    {
      "cell_type": "code",
      "metadata": {
        "id": "0tn4jLAyqbfU"
      },
      "source": [
        "student.add_grade(95)"
      ],
      "execution_count": null,
      "outputs": []
    },
    {
      "cell_type": "code",
      "metadata": {
        "id": "S73DkRWyouj5"
      },
      "source": [
        "student.grades"
      ],
      "execution_count": null,
      "outputs": []
    },
    {
      "cell_type": "code",
      "metadata": {
        "id": "CsYhXqXDrOKM"
      },
      "source": [
        "student.add_grade(90)"
      ],
      "execution_count": null,
      "outputs": []
    },
    {
      "cell_type": "code",
      "metadata": {
        "id": "MuGxiK9jrRWI"
      },
      "source": [
        "student.grades"
      ],
      "execution_count": null,
      "outputs": []
    },
    {
      "cell_type": "code",
      "metadata": {
        "id": "0jkt0j8KrR75"
      },
      "source": [
        "student.add_grade('A+ ')"
      ],
      "execution_count": null,
      "outputs": []
    },
    {
      "cell_type": "code",
      "metadata": {
        "id": "ZZcXD13irWvY"
      },
      "source": [
        "student.grades"
      ],
      "execution_count": null,
      "outputs": []
    },
    {
      "cell_type": "code",
      "metadata": {
        "id": "OSVS1inmrYLw"
      },
      "source": [
        "tmp = \"A+ \""
      ],
      "execution_count": null,
      "outputs": []
    },
    {
      "cell_type": "code",
      "metadata": {
        "id": "SXqkB-oTsFKQ"
      },
      "source": [
        "tmp.lower().strip()"
      ],
      "execution_count": null,
      "outputs": []
    },
    {
      "cell_type": "code",
      "metadata": {
        "id": "p8_ydqzksGAn"
      },
      "source": [
        "student.add_grade('C+    ')"
      ],
      "execution_count": null,
      "outputs": []
    },
    {
      "cell_type": "code",
      "metadata": {
        "id": "5iIsiS20sYhF"
      },
      "source": [
        "student.grades"
      ],
      "execution_count": null,
      "outputs": []
    },
    {
      "cell_type": "code",
      "metadata": {
        "id": "iHoqSoimsZgF"
      },
      "source": [
        "# total grade\n",
        "student.calc_grade()"
      ],
      "execution_count": null,
      "outputs": []
    },
    {
      "cell_type": "code",
      "metadata": {
        "id": "rZuCmap8s3N3"
      },
      "source": [
        "student2 = Student()"
      ],
      "execution_count": null,
      "outputs": []
    },
    {
      "cell_type": "code",
      "metadata": {
        "id": "RY840QBGtDNP"
      },
      "source": [
        "student2.name"
      ],
      "execution_count": null,
      "outputs": []
    },
    {
      "cell_type": "code",
      "metadata": {
        "id": "-AGZe2LytEPH"
      },
      "source": [
        "student2.calc_grade()"
      ],
      "execution_count": null,
      "outputs": []
    },
    {
      "cell_type": "markdown",
      "metadata": {
        "id": "hwNHWqlatFnP"
      },
      "source": [
        "# Let's build a simple sales tracking system\n",
        "\n",
        "Requirements:\n",
        "\n",
        "- keep track of the customer and sales amounts\n",
        "- print out all sales\n",
        "- lookup sales by a customer\n",
        "\n"
      ]
    },
    {
      "cell_type": "code",
      "metadata": {
        "id": "U2AMhdLRxNW3"
      },
      "source": [
        "class SalesTracker:\n",
        "  \"\"\" a class to track sales at our company \"\"\"\n",
        "\n",
        "  def __init__(self):\n",
        "    self.sales_list = []\n",
        "\n",
        "  def add_sales(self, customer=None, rev = None):\n",
        "    sale = {'customer': customer, \n",
        "            'revenue': rev}\n",
        "    \n",
        "    # add it the class objects sales tracker\n",
        "    self.sales_list.append(sale)\n",
        "    return (sale)\n",
        "  \n",
        "  def print_sales(self):\n",
        "    \"\"\" simple print of all sales at our company \"\"\"\n",
        "    return (self.sales_list)\n",
        "  \n",
        "  def sales_lookup(self, customer=None):\n",
        "    \"\"\" filter the list of sales by customer conditionally \"\"\"\n",
        "\n",
        "    if len(self.sales_list) == 0:\n",
        "      print (\"there are no sales at your company.  :( \")\n",
        "      pass\n",
        "    \n",
        "    else:\n",
        "      customer_sales = []\n",
        "      for d in self.sales_list:\n",
        "        if d['customer'] == customer:\n",
        "          customer_sales.append(d)\n",
        "      return(customer_sales)\n",
        "      \n",
        "\n",
        "\n",
        "\n",
        "\n",
        "  \n"
      ],
      "execution_count": null,
      "outputs": []
    },
    {
      "cell_type": "code",
      "metadata": {
        "id": "4zbMzqXDyO2G"
      },
      "source": [
        "sales = SalesTracker()"
      ],
      "execution_count": null,
      "outputs": []
    },
    {
      "cell_type": "code",
      "metadata": {
        "id": "jldG8z_XxNay"
      },
      "source": [
        "sales.add_sales(customer='Monty Python', rev=100)"
      ],
      "execution_count": null,
      "outputs": []
    },
    {
      "cell_type": "code",
      "metadata": {
        "id": "mW-13AgAz8UD"
      },
      "source": [
        "crm = sales.print_sales()"
      ],
      "execution_count": null,
      "outputs": []
    },
    {
      "cell_type": "code",
      "metadata": {
        "id": "IG6aR9de0S9N"
      },
      "source": [
        "type(crm)"
      ],
      "execution_count": null,
      "outputs": []
    },
    {
      "cell_type": "code",
      "metadata": {
        "id": "r6I11ZB80Y2L"
      },
      "source": [
        "len(crm)"
      ],
      "execution_count": null,
      "outputs": []
    },
    {
      "cell_type": "code",
      "metadata": {
        "id": "eNtVSLaQ0Z6M"
      },
      "source": [
        "crm[0]"
      ],
      "execution_count": null,
      "outputs": []
    },
    {
      "cell_type": "code",
      "metadata": {
        "id": "T9Ykbako0a0T"
      },
      "source": [
        "sales.add_sales(customer='Monty Python', rev=100)\n",
        "sales.add_sales(customer='Peach God', rev=200)\n",
        "sales.add_sales(customer='Monty Python', rev=50)"
      ],
      "execution_count": null,
      "outputs": []
    },
    {
      "cell_type": "code",
      "metadata": {
        "id": "79kT6ZAw1dFX"
      },
      "source": [
        "sales.print_sales()"
      ],
      "execution_count": null,
      "outputs": []
    },
    {
      "cell_type": "code",
      "metadata": {
        "id": "TilL_Ke91gN2"
      },
      "source": [
        "sales.sales_lookup('Peach God')"
      ],
      "execution_count": null,
      "outputs": []
    },
    {
      "cell_type": "code",
      "metadata": {
        "id": "mIeMcGMu1kzW"
      },
      "source": [
        "sales.sales_lookup('Monty Python')"
      ],
      "execution_count": null,
      "outputs": []
    },
    {
      "cell_type": "code",
      "metadata": {
        "id": "FgKpDeBV1wrk"
      },
      "source": [
        "sales.sales_lookup('Dwight Schrute')"
      ],
      "execution_count": null,
      "outputs": []
    },
    {
      "cell_type": "code",
      "metadata": {
        "id": "kWsd57Sn1y1D"
      },
      "source": [
        "sales_tracker2 = SalesTracker()"
      ],
      "execution_count": null,
      "outputs": []
    },
    {
      "cell_type": "code",
      "metadata": {
        "id": "48y4PMF02HvY"
      },
      "source": [
        "sales_tracker2.print_sales()"
      ],
      "execution_count": null,
      "outputs": []
    },
    {
      "cell_type": "code",
      "metadata": {
        "id": "LnSvqFFy2Lln"
      },
      "source": [
        "sales_tracker2.sales_lookup()"
      ],
      "execution_count": null,
      "outputs": []
    },
    {
      "cell_type": "code",
      "metadata": {
        "id": "_EIIEwGB2OGg"
      },
      "source": [
        ""
      ],
      "execution_count": null,
      "outputs": []
    }
  ]
}