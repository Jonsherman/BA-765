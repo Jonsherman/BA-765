{
 "cells": [
  {
   "cell_type": "code",
   "execution_count": 14,
   "metadata": {},
   "outputs": [
    {
     "data": {
      "text/plain": [
       "[8, 13, 18]"
      ]
     },
     "execution_count": 14,
     "metadata": {},
     "output_type": "execute_result"
    }
   ],
   "source": [
    "def model(data, avg=False):\n",
    "    a_list = list(data)\n",
    "    use_list = [((i*5)+3) for i in a_list]\n",
    "    b_avg =(sum(data)/len(data))\n",
    "    model_dict = {'results': use_list, 'avg': b_avg}\n",
    "    if avg == False:\n",
    "        return model_dict['results']\n",
    "    if avg == True:\n",
    "        return model_dict\n",
    "\n",
    "model([1,2,3], False)\n",
    "    "
   ]
  },
  {
   "cell_type": "code",
   "execution_count": null,
   "metadata": {},
   "outputs": [],
   "source": [
    "def modify(ds, sigma =False):\n",
    "    use_list = list(ds)\n",
    "    a_value = [((i/4)+8) for i in use_list ]\n",
    "    a_value_np = np.array(use_list)\n",
    "    b_value = np.std(a_value_np) \n",
    "    modify_dict_1 = {\"output\": a_value}\n",
    "    modify_dict_2 = {\"output\": a_value, \"signma\": b_value}\n",
    "    if sigma == False:\n",
    "        return modify_dict_1\n",
    "    if sigma == True:\n",
    "        return modify_dict_2\n",
    "\n",
    "modify([8,1,3,5,6], False)\n"
   ]
  }
 ],
 "metadata": {
  "interpreter": {
   "hash": "d54f36650e22a68b1e16ad067c04252fc93b1d0cce2a522804985f8fa0dd3c9b"
  },
  "kernelspec": {
   "display_name": "Python 3.9.1 64-bit (conda)",
   "name": "python3"
  },
  "language_info": {
   "name": "python",
   "version": ""
  },
  "orig_nbformat": 4
 },
 "nbformat": 4,
 "nbformat_minor": 2
}