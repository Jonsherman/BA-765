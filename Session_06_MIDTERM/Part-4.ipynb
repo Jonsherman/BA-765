{
 "cells": [
  {
   "cell_type": "code",
   "execution_count": 14,
   "metadata": {},
   "outputs": [
    {
     "data": {
      "text/plain": [
       "[8, 13, 18]"
      ]
     },
     "execution_count": 14,
     "metadata": {},
     "output_type": "execute_result"
    }
   ],
   "source": [
    "def model(data, avg=False):\n",
    "    a_list = list(data)\n",
    "    use_list = [((i*5)+3) for i in a_list]\n",
    "    b_avg =(sum(data)/len(data))\n",
    "    model_dict = {'results': use_list, 'avg': b_avg}\n",
    "    if avg == False:\n",
    "        return model_dict['results']\n",
    "    if avg == True:\n",
    "        return model_dict\n",
    "\n",
    "model([1,2,3], False)\n",
    "    "
   ]
  },
  {
   "cell_type": "code",
   "execution_count": null,
   "metadata": {},
   "outputs": [],
   "source": []
  }
 ],
 "metadata": {
  "interpreter": {
   "hash": "d54f36650e22a68b1e16ad067c04252fc93b1d0cce2a522804985f8fa0dd3c9b"
  },
  "kernelspec": {
   "display_name": "Python 3.9.1 64-bit (conda)",
   "name": "python3"
  },
  "language_info": {
   "codemirror_mode": {
    "name": "ipython",
    "version": 3
   },
   "file_extension": ".py",
   "mimetype": "text/x-python",
   "name": "python",
   "nbconvert_exporter": "python",
   "pygments_lexer": "ipython3",
   "version": "3.9.1"
  },
  "orig_nbformat": 4
 },
 "nbformat": 4,
 "nbformat_minor": 2
}