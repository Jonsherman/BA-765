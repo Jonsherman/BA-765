{
  "cells": [
    {
      "cell_type": "markdown",
      "metadata": {
        "id": "S4Zftlj0PRTx"
      },
      "source": [
        "# BA 765 \n",
        "Session 07 - 07/27\n",
        "\n",
        "Outline:\n",
        "\n",
        "- Notes about assignments/quizzes return: I will release the assignments/exams that followed instructions *without waiting for the rest*.\n",
        "- Notes about grades and wide range of prior experience in the classroom: **Progress matters!**\n",
        "- Midterm Q&A. \n",
        "- Function building exercises\n",
        "- List comprehension\n",
        "- Object oriented programming (in-class exercise)\n",
        "\n",
        "\n",
        "\n"
      ]
    },
    {
      "cell_type": "markdown",
      "metadata": {
        "id": "q_4SqcVhQS8n"
      },
      "source": [
        "## Building functions:\n",
        "\"*Learning the python syntax is like learning the alphabet, writing functions is like writing our first story*\"\n",
        "\n",
        "Let's build two functions together in Breakout rooms:"
      ]
    },
    {
      "cell_type": "code",
      "execution_count": 1,
      "metadata": {
        "id": "JHZoR1GdQSEA"
      },
      "outputs": [
        {
          "ename": "SyntaxError",
          "evalue": "invalid syntax (<ipython-input-1-6053066bd2e1>, line 4)",
          "output_type": "error",
          "traceback": [
            "\u001b[0;36m  File \u001b[0;32m\"<ipython-input-1-6053066bd2e1>\"\u001b[0;36m, line \u001b[0;32m4\u001b[0m\n\u001b[0;31m    def my_even_filter(input_list list):\u001b[0m\n\u001b[0m                                  ^\u001b[0m\n\u001b[0;31mSyntaxError\u001b[0m\u001b[0;31m:\u001b[0m invalid syntax\n"
          ]
        }
      ],
      "source": [
        "# 1\n",
        "# Write a python function that returns, in a list, the even numbers from a given list\n",
        "\n",
        "def my_even_filter(input_list list):\n",
        "  #\n",
        "  \n",
        "  return(my_even_list)\n"
      ]
    },
    {
      "cell_type": "code",
      "execution_count": null,
      "metadata": {
        "id": "qYtRi2ow2_wL"
      },
      "outputs": [],
      "source": [
        "# Notes from the class - type hinting\n",
        "def myfunc(a: str, b: float) -> float:\n",
        "  print(a)\n",
        "  return (b+5)"
      ]
    },
    {
      "cell_type": "code",
      "execution_count": null,
      "metadata": {},
      "outputs": [],
      "source": []
    },
    {
      "cell_type": "code",
      "execution_count": null,
      "metadata": {
        "colab": {
          "base_uri": "https://localhost:8080/"
        },
        "id": "yNt3aKyW3dtj",
        "outputId": "c416410c-c582-43fd-c962-f16f72e361a3"
      },
      "outputs": [
        {
          "name": "stdout",
          "output_type": "stream",
          "text": [
            "4\n"
          ]
        },
        {
          "data": {
            "text/plain": [
              "8.0"
            ]
          },
          "execution_count": 2,
          "metadata": {
            "tags": []
          },
          "output_type": "execute_result"
        }
      ],
      "source": [
        "# function call with the hinted types\n",
        "myfunc('4',3.0)"
      ]
    },
    {
      "cell_type": "code",
      "execution_count": null,
      "metadata": {
        "colab": {
          "base_uri": "https://localhost:8080/"
        },
        "id": "kE4u5Yzd3y00",
        "outputId": "2845150c-2dfa-4228-c795-0a54b2a2bda4"
      },
      "outputs": [
        {
          "name": "stdout",
          "output_type": "stream",
          "text": [
            "4\n"
          ]
        },
        {
          "data": {
            "text/plain": [
              "6"
            ]
          },
          "execution_count": 4,
          "metadata": {
            "tags": []
          },
          "output_type": "execute_result"
        }
      ],
      "source": [
        "# function call with types different than hinted ones\n",
        "# does not throw error: \n",
        "myfunc(4,1)"
      ]
    },
    {
      "cell_type": "code",
      "execution_count": null,
      "metadata": {
        "id": "7MYJnaYMRxMa"
      },
      "outputs": [],
      "source": [
        "# 2\n",
        "# Write a python function that separates upper and lower case characters in a given string, such that\n",
        "# given \"The quick Brow Fox\" it should return a dictionary with the following k:v pairs:\n",
        "# 'upper'=['T','B','F']\n",
        "# 'lower' = 12 (total number of lower case characters)\n",
        "\n",
        "def my_upper_lower_filter(input_string):\n",
        "  #\n",
        "  #\n",
        "  return(my_dict)"
      ]
    },
    {
      "cell_type": "code",
      "execution_count": null,
      "metadata": {
        "colab": {
          "base_uri": "https://localhost:8080/"
        },
        "id": "MmbW5gXR_WSW",
        "outputId": "fa321b33-9fae-474b-8f85-955392727acf"
      },
      "outputs": [
        {
          "data": {
            "text/plain": [
              "False"
            ]
          },
          "execution_count": 7,
          "metadata": {
            "tags": []
          },
          "output_type": "execute_result"
        }
      ],
      "source": [
        "# notes from class:\n",
        "# punctuation does not have upper or lower case:\n",
        "' '.isupper()"
      ]
    },
    {
      "cell_type": "code",
      "execution_count": null,
      "metadata": {
        "colab": {
          "base_uri": "https://localhost:8080/"
        },
        "id": "4smRyf9a_dKB",
        "outputId": "1fb10f1f-fd82-4a6b-b296-cd54bc158580"
      },
      "outputs": [
        {
          "data": {
            "text/plain": [
              "False"
            ]
          },
          "execution_count": 8,
          "metadata": {
            "tags": []
          },
          "output_type": "execute_result"
        }
      ],
      "source": [
        "' '.islower()"
      ]
    },
    {
      "cell_type": "markdown",
      "metadata": {
        "id": "YQbzKEcpS7p2"
      },
      "source": [
        "More exercises with solutions can be found here: https://www.w3resource.com/python-exercises/python-functions-exercises.php\n"
      ]
    },
    {
      "cell_type": "code",
      "execution_count": null,
      "metadata": {
        "id": "lG6RMdNIPKQ7"
      },
      "outputs": [],
      "source": []
    },
    {
      "cell_type": "markdown",
      "metadata": {
        "id": "Un1Py5rgTCV3"
      },
      "source": [
        "## List comprehension\n",
        "\n",
        "A useful, compact python syntax that allows us to build lists from iterables (such as lists, tuples, dictionaries):"
      ]
    },
    {
      "cell_type": "code",
      "execution_count": 2,
      "metadata": {
        "colab": {
          "base_uri": "https://localhost:8080/"
        },
        "id": "fl9vxp7XTSAb",
        "outputId": "ab9e4705-a0c1-4a4d-dabd-f77ea6c090c5"
      },
      "outputs": [
        {
          "name": "stdout",
          "output_type": "stream",
          "text": [
            "[0, 1, 2, 3, 4, 5, 6]\n",
            "[0, 1, 4, 9, 16, 25, 36]\n"
          ]
        }
      ],
      "source": [
        "x=[0,1,2,3,4,5,6]\n",
        "print(x)\n",
        "y=[]\n",
        "for i in x:\n",
        "  y.append(i**2)\n",
        "print(y)"
      ]
    },
    {
      "cell_type": "markdown",
      "metadata": {
        "id": "CgzMbAyPTyex"
      },
      "source": [
        "Syntax for list comprehension is:\n",
        "```\n",
        "newlist = [expression for item in iterable if condition == True]\n",
        "```\n"
      ]
    },
    {
      "cell_type": "code",
      "execution_count": null,
      "metadata": {
        "colab": {
          "base_uri": "https://localhost:8080/"
        },
        "id": "4QOUbFriTd56",
        "outputId": "389db2ee-e357-4986-d85c-5bb3625fd22f"
      },
      "outputs": [
        {
          "name": "stdout",
          "output_type": "stream",
          "text": [
            "[0, 1, 4, 9, 16, 25, 36]\n"
          ]
        }
      ],
      "source": [
        "z = [i**2 for i in x]\n",
        "print(z)"
      ]
    },
    {
      "cell_type": "code",
      "execution_count": null,
      "metadata": {
        "colab": {
          "base_uri": "https://localhost:8080/"
        },
        "id": "9v67HevJToWz",
        "outputId": "26241e63-9a5e-4cca-f439-511e2e37ffd7"
      },
      "outputs": [
        {
          "name": "stdout",
          "output_type": "stream",
          "text": [
            "[0, 1, 4, 9]\n"
          ]
        }
      ],
      "source": [
        "w = [i**2 for i in x if i <4]\n",
        "print(w)"
      ]
    },
    {
      "cell_type": "code",
      "execution_count": null,
      "metadata": {
        "colab": {
          "base_uri": "https://localhost:8080/"
        },
        "id": "pHEN_aq3U_92",
        "outputId": "badbbb54-3b50-4434-e1c8-8d03a0bb6f77"
      },
      "outputs": [
        {
          "name": "stdout",
          "output_type": "stream",
          "text": [
            "['maroon5', 'jackson5']\n"
          ]
        }
      ],
      "source": [
        "t = [item+str(5) for item in (\"maroon\", \"jackson\")]\n",
        "print(t)"
      ]
    },
    {
      "cell_type": "code",
      "execution_count": 3,
      "metadata": {
        "colab": {
          "base_uri": "https://localhost:8080/"
        },
        "id": "p5A9JFCrUMJY",
        "outputId": "ffb36360-2881-4852-adb0-940143bdd7cb"
      },
      "outputs": [
        {
          "name": "stdout",
          "output_type": "stream",
          "text": [
            "{'key1': 1, 'key2': 'a'} <class 'dict'>\n"
          ]
        }
      ],
      "source": [
        "my_dict = dict({'key1':1 , 'key2':'a'})\n",
        "print(my_dict, type(my_dict))"
      ]
    },
    {
      "cell_type": "code",
      "execution_count": 5,
      "metadata": {
        "colab": {
          "base_uri": "https://localhost:8080/"
        },
        "id": "ijSd6I3fUoMa",
        "outputId": "f75dd0a6-0571-4e1d-b41a-0edbb6e95325"
      },
      "outputs": [
        {
          "name": "stdout",
          "output_type": "stream",
          "text": [
            "['key1', 'key2']\n",
            "[1, 'a']\n"
          ]
        }
      ],
      "source": [
        "d_keys = [i for i in my_dict]\n",
        "d_vals = [i for i in my_dict.values()]\n",
        "# iterating over each key unless you specify  values \n",
        "# we can always cast the end result to another data type\n",
        "d_keys_tuple = tuple([i for i in my_dict])\n",
        "# \n",
        "print(d_keys)\n",
        "print(d_vals)"
      ]
    },
    {
      "cell_type": "code",
      "execution_count": null,
      "metadata": {
        "id": "8t1rsjcPUpc1"
      },
      "outputs": [],
      "source": []
    }
  ],
  "metadata": {
    "colab": {
      "name": "Session_07_lecture_notes",
      "provenance": []
    },
    "interpreter": {
      "hash": "d54f36650e22a68b1e16ad067c04252fc93b1d0cce2a522804985f8fa0dd3c9b"
    },
    "kernelspec": {
      "display_name": "Python 3.9.1 64-bit (conda)",
      "name": "python3"
    },
    "language_info": {
      "codemirror_mode": {
        "name": "ipython",
        "version": 3
      },
      "file_extension": ".py",
      "mimetype": "text/x-python",
      "name": "python",
      "nbconvert_exporter": "python",
      "pygments_lexer": "ipython3",
      "version": "3.9.1"
    }
  },
  "nbformat": 4,
  "nbformat_minor": 0
}