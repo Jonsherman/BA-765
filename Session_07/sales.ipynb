{
 "cells": [
  {
   "cell_type": "markdown",
   "metadata": {},
   "source": [
    "Room Number: 8\n",
    "Names and Emails: Mohammed AlQenae (alqenae@bu.edu), Cameron Cheuong(carmenc@bu.edu), Rochel Chan(Rchan@bu.edu), Jon Sherman (shermj@bu.edu)"
   ]
  },
  {
   "cell_type": "markdown",
   "metadata": {},
   "source": [
    "## In class exercise in Breakout Rooms\n",
    "Edit the Lead class to account for the following:\n",
    "\n",
    "1.  if the sum of purchase history is greater than 10,000, change the lead status to 'Platinum Club'\n",
    "1.  add a method that logs complaints called log_complaint.  You can log each entry in a list\n",
    "1.  Add a method called get_complaint that will return latest N number of complaints created for a lead\n",
    "1.  Add a method called set_lost that when called, will change the status to 'Closed Lost' and remove the email address of the lead (no email address can be retrieved)\n",
    "\n",
    "Upload your answer to Qtools individually as file \n",
    "**sales.ipynb**. \n",
    "If you can, please add the names of your teammates.\n",
    "Remember to write in your top most text cell the names and BU emails for each.\n",
    "\n"
   ]
  },
  {
   "cell_type": "code",
   "execution_count": 25,
   "metadata": {},
   "outputs": [],
   "source": [
    "import numpy as np\n",
    "from faker import Faker\n",
    "fake = Faker()"
   ]
  },
  {
   "cell_type": "code",
   "execution_count": 155,
   "metadata": {},
   "outputs": [],
   "source": [
    "class Lead():\n",
    "  \"\"\" A sales lead class \"\"\"\n",
    "\n",
    "  def __init__(self):\n",
    "    self.lead_type = str(np.random.choice(['Business', 'Personal', 'Non-Profit'], size=1)[0])\n",
    "    self.phone_number = fake.phone_number()\n",
    "    self.email = fake.email()\n",
    "    self.name = fake.name()\n",
    "    self.status = 'Lead'\n",
    "    self.activities = 0\n",
    "    self.purchases = []\n",
    "    self.complaint = []\n",
    "\n",
    "  \n",
    "\n",
    "  def add_activity(self):\n",
    "    \"\"\"for this method, we want to increment activities by 1\"\"\"\n",
    "    self.activities = self.activities + 1\n",
    "    return (self.activities)\n",
    "  \n",
    "  def add_purchase(self, amount):\n",
    "    \"\"\"for this method, add a purchase amount to the purchase history\"\"\"\n",
    "    if not isinstance(amount, (int, float)):\n",
    "      print(\"amount needs to be an integer or float\")\n",
    "    else:\n",
    "      self.purchases.append(amount)\n",
    "\n",
    "    x = 0\n",
    "    for i in self.purchases:\n",
    "        x += i\n",
    "    if x > 10000:\n",
    "        self.status = 'Platinum Club'\n",
    "  \n",
    "  def log_complaint(self, complaints):\n",
    "      self.complaint.append(complaints)\n",
    "      return(self.complaint)\n",
    "  def get_complaint(self):\n",
    "      return(len(self.complaint))\n",
    "  def set_lost(self):\n",
    "      self.status = 'Closed Lost'\n",
    "      self.email = None\n",
    "\n",
    "      "
   ]
  },
  {
   "cell_type": "code",
   "execution_count": 166,
   "metadata": {},
   "outputs": [],
   "source": [
    "check_lead = Lead()\n",
    "check_lead.add_purchase(amount=10001)"
   ]
  },
  {
   "cell_type": "code",
   "execution_count": 167,
   "metadata": {},
   "outputs": [
    {
     "data": {
      "text/plain": [
       "[10001]"
      ]
     },
     "execution_count": 167,
     "metadata": {},
     "output_type": "execute_result"
    }
   ],
   "source": [
    "check_lead.purchases"
   ]
  },
  {
   "cell_type": "code",
   "execution_count": 168,
   "metadata": {},
   "outputs": [
    {
     "data": {
      "text/plain": [
       "'prestonlinda@gmail.com'"
      ]
     },
     "execution_count": 168,
     "metadata": {},
     "output_type": "execute_result"
    }
   ],
   "source": [
    "check_lead.email"
   ]
  },
  {
   "cell_type": "code",
   "execution_count": 158,
   "metadata": {},
   "outputs": [
    {
     "data": {
      "text/plain": [
       "'Platinum Club'"
      ]
     },
     "execution_count": 158,
     "metadata": {},
     "output_type": "execute_result"
    }
   ],
   "source": [
    "check_lead.status"
   ]
  },
  {
   "cell_type": "code",
   "execution_count": 159,
   "metadata": {},
   "outputs": [
    {
     "data": {
      "text/plain": [
       "['bad product']"
      ]
     },
     "execution_count": 159,
     "metadata": {},
     "output_type": "execute_result"
    }
   ],
   "source": [
    "check_lead.log_complaint('bad product')"
   ]
  },
  {
   "cell_type": "code",
   "execution_count": 160,
   "metadata": {},
   "outputs": [
    {
     "data": {
      "text/plain": [
       "['bad product', 'really bad product']"
      ]
     },
     "execution_count": 160,
     "metadata": {},
     "output_type": "execute_result"
    }
   ],
   "source": [
    "check_lead.log_complaint('really bad product')"
   ]
  },
  {
   "cell_type": "code",
   "execution_count": 161,
   "metadata": {},
   "outputs": [
    {
     "data": {
      "text/plain": [
       "2"
      ]
     },
     "execution_count": 161,
     "metadata": {},
     "output_type": "execute_result"
    }
   ],
   "source": [
    "check_lead.get_complaint()"
   ]
  },
  {
   "cell_type": "code",
   "execution_count": 162,
   "metadata": {},
   "outputs": [],
   "source": [
    "check_lead.set_lost()"
   ]
  },
  {
   "cell_type": "code",
   "execution_count": 163,
   "metadata": {},
   "outputs": [
    {
     "data": {
      "text/plain": [
       "'Closed Lost'"
      ]
     },
     "execution_count": 163,
     "metadata": {},
     "output_type": "execute_result"
    }
   ],
   "source": [
    "check_lead.status"
   ]
  },
  {
   "cell_type": "code",
   "execution_count": 164,
   "metadata": {},
   "outputs": [],
   "source": [
    "check_lead.email"
   ]
  },
  {
   "cell_type": "code",
   "execution_count": 61,
   "metadata": {},
   "outputs": [],
   "source": [
    "    \n",
    "  # Write the class Point as outlined in the instructions\n",
    "import numpy as np\n",
    "\n",
    "class Point:\n",
    "    \n",
    "    def __init__(self):\n",
    "      self.x = 0.0\n",
    "      self.y = 0.0 \n",
    "      self.sums = 0.0\n",
    "\n",
    "    def distance_to_origin(self):\n",
    "      return np.sqrt(self.x**2 + self.y **2) \n",
    "    \n",
    "    def reflect(self, axis):\n",
    "      if axis == \"x\":\n",
    "        self.y = - self.y\n",
    "      elif axis == \"y\":\n",
    "        self.x = - self.x\n",
    "      else:\n",
    "        print(\"The argument axis only accepts values 'x' and 'y'!\")\n",
    "  \n",
    "  \n",
    "        \n"
   ]
  },
  {
   "cell_type": "code",
   "execution_count": 65,
   "metadata": {},
   "outputs": [
    {
     "name": "stdout",
     "output_type": "stream",
     "text": [
      "(-0.0, 0.0)\n"
     ]
    }
   ],
   "source": [
    "pt = Point()\n",
    "pt.reflect(\"y\")\n",
    "print((pt.x, pt.y))\n"
   ]
  },
  {
   "cell_type": "code",
   "execution_count": 18,
   "metadata": {},
   "outputs": [
    {
     "name": "stdout",
     "output_type": "stream",
     "text": [
      "(-3.0, 0.0)\n",
      "5.0\n"
     ]
    }
   ],
   "source": [
    "# For use of np.sqrt\n",
    "import numpy as np\n",
    "\n",
    "class Pointt:\n",
    "   \n",
    "\n",
    "    def __init__(self, x=0.0, y=0.0):\n",
    "      self.x = x\n",
    "      self.y = y\n",
    "      \n",
    "    def distance_to_origin(self):\n",
    "      return np.sqrt(self.x ** 2 + self.y ** 2)\n",
    "    \n",
    "    def reflect(self, axis):\n",
    "      \"\"\"Reflect the point with respect to x or y axis.\"\"\"\n",
    "      if axis == \"x\":\n",
    "        self.y = - self.y\n",
    "      elif axis == \"y\":\n",
    "        self.x = - self.x\n",
    "      else:\n",
    "        print(\"The argument axis only accepts values 'x' and 'y'!\")\n",
    "\n",
    "pt = Pointt(x=3.0)\n",
    "pt.reflect(\"y\")\n",
    "print((pt.x, pt.y))\n",
    "pt.y = 4.0\n",
    "print(pt.distance_to_origin())"
   ]
  }
 ],
 "metadata": {
  "interpreter": {
   "hash": "d54f36650e22a68b1e16ad067c04252fc93b1d0cce2a522804985f8fa0dd3c9b"
  },
  "kernelspec": {
   "display_name": "Python 3.9.1 64-bit (conda)",
   "name": "python3"
  },
  "language_info": {
   "codemirror_mode": {
    "name": "ipython",
    "version": 3
   },
   "file_extension": ".py",
   "mimetype": "text/x-python",
   "name": "python",
   "nbconvert_exporter": "python",
   "pygments_lexer": "ipython3",
   "version": "3.9.1"
  },
  "orig_nbformat": 4
 },
 "nbformat": 4,
 "nbformat_minor": 2
}