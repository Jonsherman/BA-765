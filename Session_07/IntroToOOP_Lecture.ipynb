{
  "cells": [
    {
      "cell_type": "markdown",
      "metadata": {
        "id": "Mz0HALoJwxz9"
      },
      "source": [
        "# Classes and objects in python\n",
        "\n",
        "This is a brief introduction to the concept of Object Oriented Programming in python. We have seen this in bits and pieces so far, mentioned \"objects\" here and there but hopefully what it is will become more clear now.  \n",
        "\n",
        "\n"
      ]
    },
    {
      "cell_type": "code",
      "execution_count": 1,
      "metadata": {
        "id": "LBCjGVHbyqUx"
      },
      "outputs": [
        {
          "name": "stdout",
          "output_type": "stream",
          "text": [
            "Requirement already satisfied: faker in /Applications/miniconda3/lib/python3.9/site-packages (8.10.1)\n",
            "Requirement already satisfied: python-dateutil>=2.4 in /Applications/miniconda3/lib/python3.9/site-packages (from faker) (2.8.1)\n",
            "Requirement already satisfied: text-unidecode==1.3 in /Applications/miniconda3/lib/python3.9/site-packages (from faker) (1.3)\n",
            "Requirement already satisfied: six>=1.5 in /Applications/miniconda3/lib/python3.9/site-packages (from python-dateutil>=2.4->faker) (1.15.0)\n"
          ]
        }
      ],
      "source": [
        "# install faker before we get started\n",
        "# we will use it to create some fake examples\n",
        "! pip install faker\n"
      ]
    },
    {
      "cell_type": "markdown",
      "metadata": {
        "id": "XBpjONPCLXqp"
      },
      "source": [
        "Objects - what are they?\n",
        "\n",
        "Sometimes during our coding of an algorithm, we may want to bundle certain *characteristics* and *behaviors* of a code element together. These bundles are \"objects\".\n",
        "\n",
        "For example, if we are building an HR software, for each employee we might want to create an object that has certain attributes such as name, title, department, contanct info, and we might also have some methods attached to this object, such as .promote(), .get_compensation() that perform standard tasks that we want to be able to perform on any employee \"object\". \n",
        "\n",
        "We define these characteristics and behaviors in a code element called \"class\", it is like the blueprint of the object we want to create. For example, whenever we want to introduce a new employee to our algorithm, we can create an object that is an \"instance\" of this class.\n",
        "\n",
        "Now let's see these terms in action:\n",
        "\n",
        "\n"
      ]
    },
    {
      "cell_type": "code",
      "execution_count": 2,
      "metadata": {
        "id": "fHhvlyaaWzxF"
      },
      "outputs": [],
      "source": [
        "import numpy as np\n",
        "from faker import Faker\n",
        "fake = Faker()"
      ]
    },
    {
      "cell_type": "code",
      "execution_count": 35,
      "metadata": {
        "id": "OxKyYyTIPg9L"
      },
      "outputs": [],
      "source": [
        "# Let's start with a basic class\n",
        "\n",
        "class Lead():\n",
        "  \"\"\" A sales lead class \"\"\"  \n",
        "#should notate what the class is aboit \n",
        "#must first take self - refers to object that will be created by class \n",
        "  def __init__(self, salesperson):\n",
        "    self.lead_type = str(np.random.choice(['Business', 'Personal', 'Non-Profit'], size=1)[0])\n",
        "    self.phone_number = fake.phone_number()\n",
        "    self.email = fake.email()\n",
        "    self.name = fake.name()\n",
        "    self.status = 'Lead'\n",
        "    self.contactperson = salesperson"
      ]
    },
    {
      "cell_type": "code",
      "execution_count": 37,
      "metadata": {},
      "outputs": [],
      "source": [
        "my_object = Lead(\"Jonny\")"
      ]
    },
    {
      "cell_type": "code",
      "execution_count": 38,
      "metadata": {},
      "outputs": [
        {
          "data": {
            "text/plain": [
              "'Jonny'"
            ]
          },
          "execution_count": 38,
          "metadata": {},
          "output_type": "execute_result"
        }
      ],
      "source": [
        "my_object.contactperson"
      ]
    },
    {
      "cell_type": "code",
      "execution_count": 32,
      "metadata": {},
      "outputs": [
        {
          "data": {
            "text/plain": [
              "'Anna Mason'"
            ]
          },
          "execution_count": 32,
          "metadata": {},
          "output_type": "execute_result"
        }
      ],
      "source": [
        "my_object .email\n",
        "my_object.name"
      ]
    },
    {
      "cell_type": "code",
      "execution_count": 36,
      "metadata": {},
      "outputs": [
        {
          "data": {
            "text/plain": [
              "'Anna Mason'"
            ]
          },
          "execution_count": 36,
          "metadata": {},
          "output_type": "execute_result"
        }
      ],
      "source": [
        "my_object.name"
      ]
    },
    {
      "cell_type": "code",
      "execution_count": 40,
      "metadata": {},
      "outputs": [
        {
          "name": "stdout",
          "output_type": "stream",
          "text": [
            "<class '__main__.Lead'>\n"
          ]
        }
      ],
      "source": [
        "lead = Lead(\"Jon\")\n",
        "print(type(lead))"
      ]
    },
    {
      "cell_type": "code",
      "execution_count": 42,
      "metadata": {
        "id": "kU9yh0hiMoDo"
      },
      "outputs": [],
      "source": [
        "my_third_lead = Lead(\"ProfK\")"
      ]
    },
    {
      "cell_type": "code",
      "execution_count": 43,
      "metadata": {
        "id": "dgMJMgPLMtFT"
      },
      "outputs": [
        {
          "data": {
            "text/plain": [
              "'ProfK'"
            ]
          },
          "execution_count": 43,
          "metadata": {},
          "output_type": "execute_result"
        }
      ],
      "source": [
        "my_third_lead.contactperson"
      ]
    },
    {
      "cell_type": "code",
      "execution_count": 45,
      "metadata": {
        "id": "_Vq0TGQcyh0n"
      },
      "outputs": [
        {
          "name": "stdout",
          "output_type": "stream",
          "text": [
            "<class '__main__.Lead'>\n"
          ]
        }
      ],
      "source": [
        "# create a lead object from the Lead class\n",
        "my_first_lead = Lead(\"jon\")\n",
        "print(type(my_first_lead))"
      ]
    },
    {
      "cell_type": "code",
      "execution_count": 48,
      "metadata": {
        "id": "VnSZcqv6HkKI"
      },
      "outputs": [
        {
          "name": "stdout",
          "output_type": "stream",
          "text": [
            "Personal\n",
            "(859)378-2114\n",
            "Allison Vaughan Lead\n"
          ]
        }
      ],
      "source": [
        "print(my_first_lead.lead_type)\n",
        "print(my_first_lead.phone_number)\n",
        "print(my_first_lead.name, my_first_lead.status)"
      ]
    },
    {
      "cell_type": "code",
      "execution_count": 49,
      "metadata": {
        "id": "1B7KeUwsH9vP"
      },
      "outputs": [],
      "source": [
        "my_second_lead = Lead(\"names\")"
      ]
    },
    {
      "cell_type": "code",
      "execution_count": 50,
      "metadata": {
        "id": "Faj8WDvIIAao"
      },
      "outputs": [
        {
          "name": "stdout",
          "output_type": "stream",
          "text": [
            "Kevin Larsen\n"
          ]
        }
      ],
      "source": [
        "print(my_second_lead.name)"
      ]
    },
    {
      "cell_type": "markdown",
      "metadata": {
        "id": "qht8bGmfxWu2"
      },
      "source": [
        "> We are starting out basic above, but a few things:\n",
        "\n",
        "1.  The doc string (3 double quotes)\n",
        "1.  `__init__` to that is called when the class is instantied\n",
        "1. `lead` is an object from the `Lead` class\n",
        "1. `self` refers to the class, and lets us call/access the components "
      ]
    },
    {
      "cell_type": "code",
      "execution_count": 53,
      "metadata": {
        "id": "xXbHbxjPYrFc"
      },
      "outputs": [
        {
          "name": "stdout",
          "output_type": "stream",
          "text": [
            "the type of my variable is list\n",
            "the type of my variable is <class 'list'>\n"
          ]
        }
      ],
      "source": [
        "# Underscores have special meaning, and multiple different meanings depending on \n",
        "# how many or where - see more https://www.datacamp.com/community/tutorials/role-underscore-python\n",
        "\n",
        "# We see that __init__() is special.\n",
        "\n",
        "# let's see another special one: __name__ that converts objects to str:\n",
        "#print(type(lead))\n",
        "#print(type(lead).__name__)  - striples the stuff around out \n",
        "\n",
        "x=[1,2,3]\n",
        "print(\"the type of my variable is {}\".format(type(x).__name__))\n",
        "print(\"the type of my variable is {}\".format(type(x)))"
      ]
    },
    {
      "cell_type": "code",
      "execution_count": 54,
      "metadata": {
        "id": "GxmuMtD6hwIG"
      },
      "outputs": [
        {
          "data": {
            "text/plain": [
              "__main__.Lead"
            ]
          },
          "execution_count": 54,
          "metadata": {},
          "output_type": "execute_result"
        }
      ],
      "source": [
        "my_first_lead.__class__"
      ]
    },
    {
      "cell_type": "markdown",
      "metadata": {
        "id": "8F9g74jmZBZY"
      },
      "source": [
        "Now we can look at all the information that we store in the object we just created:"
      ]
    },
    {
      "cell_type": "code",
      "execution_count": 55,
      "metadata": {
        "id": "e_1b1TiMh7PN"
      },
      "outputs": [
        {
          "data": {
            "text/plain": [
              "'Personal'"
            ]
          },
          "execution_count": 55,
          "metadata": {},
          "output_type": "execute_result"
        }
      ],
      "source": [
        "my_first_lead.lead_type"
      ]
    },
    {
      "cell_type": "code",
      "execution_count": 57,
      "metadata": {
        "id": "dwE9K68gJDyV"
      },
      "outputs": [
        {
          "ename": "TypeError",
          "evalue": "__init__() missing 1 required positional argument: 'salesperson'",
          "output_type": "error",
          "traceback": [
            "\u001b[0;31m---------------------------------------------------------------------------\u001b[0m",
            "\u001b[0;31mTypeError\u001b[0m                                 Traceback (most recent call last)",
            "\u001b[0;32m<ipython-input-57-962c8c4b60b7>\u001b[0m in \u001b[0;36m<module>\u001b[0;34m\u001b[0m\n\u001b[0;32m----> 1\u001b[0;31m \u001b[0mlead\u001b[0m \u001b[0;34m=\u001b[0m \u001b[0mLead\u001b[0m\u001b[0;34m(\u001b[0m\u001b[0;34m)\u001b[0m\u001b[0;34m\u001b[0m\u001b[0;34m\u001b[0m\u001b[0m\n\u001b[0m",
            "\u001b[0;31mTypeError\u001b[0m: __init__() missing 1 required positional argument: 'salesperson'"
          ]
        }
      ],
      "source": [
        "lead = Lead()"
      ]
    },
    {
      "cell_type": "code",
      "execution_count": null,
      "metadata": {
        "id": "c8hh_M1CJGIS"
      },
      "outputs": [],
      "source": [
        "lead.lead_type"
      ]
    },
    {
      "cell_type": "code",
      "execution_count": null,
      "metadata": {
        "id": "jzQHm1dyyk1C"
      },
      "outputs": [],
      "source": [
        "lead.email"
      ]
    },
    {
      "cell_type": "code",
      "execution_count": null,
      "metadata": {
        "id": "yUk76oZ-h-yb"
      },
      "outputs": [],
      "source": [
        "lead.phone_number"
      ]
    },
    {
      "cell_type": "code",
      "execution_count": null,
      "metadata": {
        "id": "7XZuK1uAPrKw"
      },
      "outputs": [],
      "source": [
        "lead_2 = Lead()"
      ]
    },
    {
      "cell_type": "code",
      "execution_count": null,
      "metadata": {
        "id": "Hbla_unrQ9HX"
      },
      "outputs": [],
      "source": []
    },
    {
      "cell_type": "code",
      "execution_count": 58,
      "metadata": {
        "id": "oE4L9Gi4xXtA"
      },
      "outputs": [],
      "source": [
        "# lets extend the class to account for activities, or \n",
        "# touch points with the lead\n",
        "# this is a simple counter\n",
        "\n",
        "class Lead():\n",
        "  \"\"\" A sales lead class \"\"\"\n",
        "\n",
        "  def __init__(self):\n",
        "    self.lead_type = str(np.random.choice(['Business', 'Personal', 'Non-Profit'], size=1)[0])\n",
        "    self.phone_number = fake.phone_number()\n",
        "    self.email = fake.email()\n",
        "    self.name = fake.name()\n",
        "    self.status = 'Lead'\n",
        "    self.activities = 0\n",
        "  \n",
        "  def add_activity(self):\n",
        "    \"\"\"for this method, we want to increment activities by 1\"\"\"\n",
        "    self.activities = self.activities + 1\n",
        "    return (self.activities)\n",
        "  \n"
      ]
    },
    {
      "cell_type": "code",
      "execution_count": 59,
      "metadata": {},
      "outputs": [],
      "source": [
        "lead = Lead()"
      ]
    },
    {
      "cell_type": "code",
      "execution_count": 61,
      "metadata": {},
      "outputs": [
        {
          "data": {
            "text/plain": [
              "'Tiffany Crawford'"
            ]
          },
          "execution_count": 61,
          "metadata": {},
          "output_type": "execute_result"
        }
      ],
      "source": [
        "lead.name"
      ]
    },
    {
      "cell_type": "code",
      "execution_count": 63,
      "metadata": {},
      "outputs": [
        {
          "data": {
            "text/plain": [
              "0"
            ]
          },
          "execution_count": 63,
          "metadata": {},
          "output_type": "execute_result"
        }
      ],
      "source": [
        "lead.activities"
      ]
    },
    {
      "cell_type": "code",
      "execution_count": 64,
      "metadata": {},
      "outputs": [
        {
          "data": {
            "text/plain": [
              "1"
            ]
          },
          "execution_count": 64,
          "metadata": {},
          "output_type": "execute_result"
        }
      ],
      "source": [
        "lead.add_activity()"
      ]
    },
    {
      "cell_type": "code",
      "execution_count": 62,
      "metadata": {
        "id": "lUtH_1aINigR"
      },
      "outputs": [
        {
          "name": "stdout",
          "output_type": "stream",
          "text": [
            "Variable         Type      Data/Info\n",
            "------------------------------------\n",
            "Faker            type      <class 'faker.proxy.Faker'>\n",
            "Lead             type      <class '__main__.Lead'>\n",
            "fake             Faker     <faker.proxy.Faker object at 0x7fa42e52d7f0>\n",
            "lead             Lead      <__main__.Lead object at 0x7fa4313822b0>\n",
            "my_first_lead    Lead      <__main__.Lead object at 0x7fa430d2b970>\n",
            "my_object        Lead      <__main__.Lead object at 0x7fa430fc2370>\n",
            "my_second_lead   Lead      <__main__.Lead object at 0x7fa430d2b760>\n",
            "my_third_lead    Lead      <__main__.Lead object at 0x7fa430d2b7f0>\n",
            "np               module    <module 'numpy' from '/Ap<...>kages/numpy/__init__.py'>\n",
            "os               module    <module 'os' from '/Appli<...>da3/lib/python3.9/os.py'>\n",
            "sys              module    <module 'sys' (built-in)>\n",
            "x                list      n=3\n"
          ]
        }
      ],
      "source": [
        "%whos"
      ]
    },
    {
      "cell_type": "code",
      "execution_count": null,
      "metadata": {
        "id": "FJaDcO-3xZKS"
      },
      "outputs": [],
      "source": [
        "lead = Lead()"
      ]
    },
    {
      "cell_type": "code",
      "execution_count": null,
      "metadata": {
        "id": "sAmeAknfxik4"
      },
      "outputs": [],
      "source": [
        "lead.name"
      ]
    },
    {
      "cell_type": "code",
      "execution_count": null,
      "metadata": {
        "id": "NATWMFBXxvoA"
      },
      "outputs": [],
      "source": [
        "lead.activities"
      ]
    },
    {
      "cell_type": "code",
      "execution_count": null,
      "metadata": {
        "id": "cchJemg4zpLw"
      },
      "outputs": [],
      "source": [
        "lead.add_activity()"
      ]
    },
    {
      "cell_type": "code",
      "execution_count": null,
      "metadata": {
        "id": "IHF6s9WpzpQ3"
      },
      "outputs": [],
      "source": [
        "lead.activities"
      ]
    },
    {
      "cell_type": "code",
      "execution_count": null,
      "metadata": {
        "id": "XvA9kcc0jKJP"
      },
      "outputs": [],
      "source": []
    },
    {
      "cell_type": "code",
      "execution_count": 69,
      "metadata": {
        "id": "QmVL6yXYzpUq"
      },
      "outputs": [],
      "source": [
        "# lets add a method to track purchases integers or floats\n",
        "# should keep a history of purchases\n",
        "\n",
        "class Lead():\n",
        "  \"\"\" A sales lead class \"\"\"\n",
        "\n",
        "  def __init__(self):\n",
        "    self.lead_type = str(np.random.choice(['Business', 'Personal', 'Non-Profit'], size=1)[0])\n",
        "    self.phone_number = fake.phone_number()\n",
        "    self.email = fake.email()\n",
        "    self.name = fake.name()\n",
        "    self.status = 'Lead'\n",
        "    self.activities = 0\n",
        "    self.purchases = []\n",
        "  \n",
        "  def add_activity(self):\n",
        "    \"\"\"for this method, we want to increment activities by 1\"\"\"\n",
        "    self.activities = self.activities + 1\n",
        "    return (self.activities)\n",
        "  \n",
        "  def add_purchase(self, amount):\n",
        "    \"\"\"for this method, add a purchase amount to the purchase history\"\"\"\n",
        "    if not isinstance(amount, (int, float)):\n",
        "      print(\"amount needs to be an integer or float\")\n",
        "    else:\n",
        "      self.purchases.append(amount)\n",
        "\n",
        "\n",
        "  #if isinstance(amount, (int, float)):\n",
        "  #  self.purchases.append(amount)\n",
        "  #else:\n",
        "  #  print(\"amount needs to be an integer or float\")\n",
        "  \n"
      ]
    },
    {
      "cell_type": "code",
      "execution_count": 70,
      "metadata": {},
      "outputs": [],
      "source": [
        "lead = Lead()\n",
        "lead.name \n",
        "lead.add_activity()\n",
        "lead.add_purchase(100)"
      ]
    },
    {
      "cell_type": "code",
      "execution_count": 71,
      "metadata": {},
      "outputs": [
        {
          "data": {
            "text/plain": [
              "[100]"
            ]
          },
          "execution_count": 71,
          "metadata": {},
          "output_type": "execute_result"
        }
      ],
      "source": [
        "lead.purchases"
      ]
    },
    {
      "cell_type": "code",
      "execution_count": null,
      "metadata": {
        "id": "ApNgIyy-OK6f"
      },
      "outputs": [],
      "source": [
        "isinstance('a', (tuple, list, str))"
      ]
    },
    {
      "cell_type": "code",
      "execution_count": null,
      "metadata": {
        "id": "XcQoLfKdPK2k"
      },
      "outputs": [],
      "source": [
        "# class note: can we check multiple object classes at once in one call?\n",
        "# seems no\n",
        "# does it work with user defined classes? yes\n",
        "my_first_lead = Lead('Aash')\n",
        "isinstance(my_first_lead, Lead) "
      ]
    },
    {
      "cell_type": "code",
      "execution_count": 76,
      "metadata": {
        "id": "4ZzXIguHz3g2"
      },
      "outputs": [],
      "source": [
        "lead = Lead()"
      ]
    },
    {
      "cell_type": "code",
      "execution_count": 77,
      "metadata": {
        "id": "zU_yculjz3lz"
      },
      "outputs": [
        {
          "data": {
            "text/plain": [
              "'Connie Obrien'"
            ]
          },
          "execution_count": 77,
          "metadata": {},
          "output_type": "execute_result"
        }
      ],
      "source": [
        "lead.name"
      ]
    },
    {
      "cell_type": "code",
      "execution_count": 78,
      "metadata": {
        "id": "fcdckEUDbfms"
      },
      "outputs": [
        {
          "data": {
            "text/plain": [
              "0"
            ]
          },
          "execution_count": 78,
          "metadata": {},
          "output_type": "execute_result"
        }
      ],
      "source": [
        "lead.activities"
      ]
    },
    {
      "cell_type": "code",
      "execution_count": 79,
      "metadata": {
        "id": "Bg3ClGvabfqO"
      },
      "outputs": [
        {
          "data": {
            "text/plain": [
              "[]"
            ]
          },
          "execution_count": 79,
          "metadata": {},
          "output_type": "execute_result"
        }
      ],
      "source": [
        "lead.purchases"
      ]
    },
    {
      "cell_type": "code",
      "execution_count": 80,
      "metadata": {
        "id": "hnP4LSWzbfts"
      },
      "outputs": [],
      "source": [
        "lead.add_purchase(amount=5000)"
      ]
    },
    {
      "cell_type": "code",
      "execution_count": 81,
      "metadata": {
        "id": "kDnqsItllS8z"
      },
      "outputs": [
        {
          "data": {
            "text/plain": [
              "[5000]"
            ]
          },
          "execution_count": 81,
          "metadata": {},
          "output_type": "execute_result"
        }
      ],
      "source": [
        "lead.purchases"
      ]
    },
    {
      "cell_type": "code",
      "execution_count": 82,
      "metadata": {
        "id": "XKJuJC5mlTDK"
      },
      "outputs": [],
      "source": [
        "lead.add_purchase(amount=2000)"
      ]
    },
    {
      "cell_type": "code",
      "execution_count": 83,
      "metadata": {
        "id": "mT4Y7CLsloAt"
      },
      "outputs": [
        {
          "data": {
            "text/plain": [
              "[5000, 2000]"
            ]
          },
          "execution_count": 83,
          "metadata": {},
          "output_type": "execute_result"
        }
      ],
      "source": [
        "lead.purchases"
      ]
    },
    {
      "cell_type": "code",
      "execution_count": 84,
      "metadata": {
        "id": "20WpbBI9lrPK"
      },
      "outputs": [],
      "source": [
        "lead.add_purchase(1000)"
      ]
    },
    {
      "cell_type": "code",
      "execution_count": 85,
      "metadata": {
        "id": "_cS9E_W0l3-G"
      },
      "outputs": [
        {
          "data": {
            "text/plain": [
              "[5000, 2000, 1000]"
            ]
          },
          "execution_count": 85,
          "metadata": {},
          "output_type": "execute_result"
        }
      ],
      "source": [
        "lead.purchases"
      ]
    },
    {
      "cell_type": "code",
      "execution_count": 75,
      "metadata": {
        "id": "sj6nCSI3LRWm"
      },
      "outputs": [
        {
          "name": "stdout",
          "output_type": "stream",
          "text": [
            "amount needs to be an integer or float\n"
          ]
        }
      ],
      "source": [
        "lead.add_purchase('this is an amazing product')"
      ]
    },
    {
      "cell_type": "code",
      "execution_count": 86,
      "metadata": {
        "id": "yg0Z1nUKLc6r"
      },
      "outputs": [
        {
          "data": {
            "text/plain": [
              "[5000, 2000, 1000]"
            ]
          },
          "execution_count": 86,
          "metadata": {},
          "output_type": "execute_result"
        }
      ],
      "source": [
        "lead.purchases"
      ]
    },
    {
      "cell_type": "markdown",
      "metadata": {
        "id": "NrsrlAGdRs1e"
      },
      "source": [
        "## In class exercise in Breakout Rooms\n",
        "Edit the Lead class to account for the following:\n",
        "\n",
        "1.  if the sum of purchase history is greater than 10,000, change the lead status to 'Platinum Club'\n",
        "1.  add a method that logs complaints called log_complaint.  You can log each entry in a list\n",
        "1.  Add a method called get_complaint that will return latest N number of complaints created for a lead\n",
        "1.  Add a method called set_lost that when called, will change the status to 'Closed Lost' and remove the email address of the lead (no email address can be retrieved)\n",
        "\n",
        "Upload your answer to Qtools individually as file \n",
        "**sales.ipynb**. \n",
        "If you can, please add the names of your teammates.\n",
        "Remember to write in your top most text cell the names and BU emails for each.\n",
        "\n"
      ]
    },
    {
      "cell_type": "markdown",
      "metadata": {
        "id": "W_u2pAyyTC5q"
      },
      "source": [
        "Below are some more examples for class building for you to examine and experiment with:"
      ]
    },
    {
      "cell_type": "markdown",
      "metadata": {
        "id": "LIzB_Y69S2Wg"
      },
      "source": [
        "# Let's build a student gradebook"
      ]
    },
    {
      "cell_type": "code",
      "execution_count": 72,
      "metadata": {
        "id": "MWL-uYoixkpb"
      },
      "outputs": [],
      "source": [
        "# define a class called Student\n",
        "\n",
        "class Student:\n",
        "  \"\"\" This is a basic example of a class \"\"\"\n",
        "\n",
        "  # initialize with a pre-determined student id and name randomly generated\n",
        "  def __init__(self):\n",
        "    # import the necessary modules\n",
        "    import uuid\n",
        "    from faker import Faker\n",
        "    fake = Faker()\n",
        "    import numpy as np\n",
        "\n",
        "    # define some values for the class that are set when instantiated\n",
        "    self.id = str(uuid.uuid1())\n",
        "    self.name = fake.name()\n",
        "    self.grades = []\n",
        "  \n",
        "  # a method to add grades\n",
        "  def add_grade(self, grade=None):\n",
        "    \"\"\" add a grade to the student's record \"\"\"\n",
        "\n",
        "    # if isinstance(grade, int) | isinstance(grade, float):\n",
        "    # & = and\n",
        "    # if isinstance(grade, int) or isinstance(grade, float):\n",
        "    if isinstance(grade, (int, float)):\n",
        "      self.grades.append(grade)\n",
        "    elif isinstance(grade, str):\n",
        "      grade = grade.lower().strip()\n",
        "      lookup = {'a+': 100,\n",
        "                'a': 95,\n",
        "                'a-': 90}\n",
        "      grade_lookup = lookup.get(grade, 85)\n",
        "      self.grades.append(grade_lookup)\n",
        "    else:\n",
        "      print(\"not a valid grade format or is missing\")\n",
        "      pass\n",
        "\n",
        "  # another method to calculate student average\n",
        "  def calc_grade(self):\n",
        "    \"\"\" return the average of the grades using numpy \"\"\"\n",
        "\n",
        "    # we are going to use numpy\n",
        "    import numpy as np\n",
        "\n",
        "    gradebook = self.grades\n",
        "\n",
        "    if len(gradebook) > 0:\n",
        "      g = np.array(gradebook)\n",
        "      student_grade = g.mean()\n",
        "      return (student_grade)\n",
        "    else:\n",
        "      return (f'{self.name} does not have any grades recorded')\n",
        "\n",
        "\n",
        "\n",
        "\n"
      ]
    },
    {
      "cell_type": "markdown",
      "metadata": {
        "id": "3rjSNeKSVv8Z"
      },
      "source": [
        "### Quick Review\n",
        "\n",
        "1.  We defined a `class` called `Student`\n",
        "1.  The Student class has some variables and methods that we can apply\n",
        "1.  We are passing `self` to refer to the base of the class so that we can access these variables\n",
        "1.  We also use a `__init__` (double underscore, or \"dunder\") to initialize things.  Notice that we used `self.[var_name]` to set these values.  These are set when the class is called/instantiated.\n",
        "1.  The values of the variables can be modified by functions \n",
        "\n",
        "\n",
        "Also worth noting I am introducing two concepts\n",
        "\n",
        "1.  We can check types using `instance(variable, type)` which returns a boolean\n",
        "1.  I am introducing two ways for or logic:  `|` and `or`\n",
        "1.  `isinstance` lets us pass a tuple of types, removing the need for using `or` logic if we like\n",
        "\n",
        "\n",
        "For more help on `isintance`, refer to: https://pynative.com/python-isinstance-explained-with-examples/\n",
        "\n"
      ]
    },
    {
      "cell_type": "code",
      "execution_count": null,
      "metadata": {
        "id": "ItXwym_YolIl"
      },
      "outputs": [],
      "source": []
    },
    {
      "cell_type": "code",
      "execution_count": null,
      "metadata": {
        "id": "IdbWnvSro0SB"
      },
      "outputs": [],
      "source": [
        "# lets instantiate a student from the class Student\n",
        "student = Student()"
      ]
    },
    {
      "cell_type": "code",
      "execution_count": null,
      "metadata": {
        "id": "70W9whm7o0Va"
      },
      "outputs": [],
      "source": [
        "type(student)"
      ]
    },
    {
      "cell_type": "code",
      "execution_count": null,
      "metadata": {
        "id": "yBllKT-So0X_"
      },
      "outputs": [],
      "source": [
        "student.__class__"
      ]
    },
    {
      "cell_type": "code",
      "execution_count": null,
      "metadata": {
        "id": "4NqATCqdolLd"
      },
      "outputs": [],
      "source": [
        "student.id"
      ]
    },
    {
      "cell_type": "code",
      "execution_count": null,
      "metadata": {
        "id": "P5HMt6y_qbY7"
      },
      "outputs": [],
      "source": [
        "student.name"
      ]
    },
    {
      "cell_type": "code",
      "execution_count": null,
      "metadata": {
        "id": "WbI-UKG9qbcu"
      },
      "outputs": [],
      "source": [
        "student.grades"
      ]
    },
    {
      "cell_type": "code",
      "execution_count": null,
      "metadata": {
        "id": "0tn4jLAyqbfU"
      },
      "outputs": [],
      "source": [
        "student.add_grade(95)"
      ]
    },
    {
      "cell_type": "code",
      "execution_count": null,
      "metadata": {
        "id": "S73DkRWyouj5"
      },
      "outputs": [],
      "source": [
        "student.grades"
      ]
    },
    {
      "cell_type": "code",
      "execution_count": null,
      "metadata": {
        "id": "CsYhXqXDrOKM"
      },
      "outputs": [],
      "source": [
        "student.add_grade(90)"
      ]
    },
    {
      "cell_type": "code",
      "execution_count": null,
      "metadata": {
        "id": "MuGxiK9jrRWI"
      },
      "outputs": [],
      "source": [
        "student.grades"
      ]
    },
    {
      "cell_type": "code",
      "execution_count": null,
      "metadata": {
        "id": "0jkt0j8KrR75"
      },
      "outputs": [],
      "source": [
        "student.add_grade('A+ ')"
      ]
    },
    {
      "cell_type": "code",
      "execution_count": null,
      "metadata": {
        "id": "ZZcXD13irWvY"
      },
      "outputs": [],
      "source": [
        "student.grades"
      ]
    },
    {
      "cell_type": "code",
      "execution_count": null,
      "metadata": {
        "id": "OSVS1inmrYLw"
      },
      "outputs": [],
      "source": [
        "tmp = \"A+ \""
      ]
    },
    {
      "cell_type": "code",
      "execution_count": null,
      "metadata": {
        "id": "SXqkB-oTsFKQ"
      },
      "outputs": [],
      "source": [
        "tmp.lower().strip()"
      ]
    },
    {
      "cell_type": "code",
      "execution_count": null,
      "metadata": {
        "id": "p8_ydqzksGAn"
      },
      "outputs": [],
      "source": [
        "student.add_grade('C+    ')"
      ]
    },
    {
      "cell_type": "code",
      "execution_count": null,
      "metadata": {
        "id": "5iIsiS20sYhF"
      },
      "outputs": [],
      "source": [
        "student.grades"
      ]
    },
    {
      "cell_type": "code",
      "execution_count": null,
      "metadata": {
        "id": "iHoqSoimsZgF"
      },
      "outputs": [],
      "source": [
        "# total grade\n",
        "student.calc_grade()"
      ]
    },
    {
      "cell_type": "code",
      "execution_count": null,
      "metadata": {
        "id": "rZuCmap8s3N3"
      },
      "outputs": [],
      "source": [
        "student2 = Student()"
      ]
    },
    {
      "cell_type": "code",
      "execution_count": null,
      "metadata": {
        "id": "RY840QBGtDNP"
      },
      "outputs": [],
      "source": [
        "student2.name"
      ]
    },
    {
      "cell_type": "code",
      "execution_count": null,
      "metadata": {
        "id": "-AGZe2LytEPH"
      },
      "outputs": [],
      "source": [
        "student2.calc_grade()"
      ]
    },
    {
      "cell_type": "markdown",
      "metadata": {
        "id": "hwNHWqlatFnP"
      },
      "source": [
        "# Let's build a simple sales tracking system\n",
        "\n",
        "Requirements:\n",
        "\n",
        "- keep track of the customer and sales amounts\n",
        "- print out all sales\n",
        "- lookup sales by a customer\n",
        "\n"
      ]
    },
    {
      "cell_type": "code",
      "execution_count": null,
      "metadata": {
        "id": "U2AMhdLRxNW3"
      },
      "outputs": [],
      "source": [
        "class SalesTracker:\n",
        "  \"\"\" a class to track sales at our company \"\"\"\n",
        "\n",
        "\n",
        "  def __init__(self):\n",
        "    self.sales_list = []\n",
        "\n",
        "\n",
        "  def add_sales(self, customer=None, rev = None):\n",
        "    sale = {'customer': customer, \n",
        "            'revenue': rev}\n",
        "    \n",
        "    # add it the class objects sales tracker\n",
        "    self.sales_list.append(sale)\n",
        "    return (sale)\n",
        "  \n",
        "  def print_sales(self):\n",
        "    \"\"\" simple print of all sales at our company \"\"\"\n",
        "    return (self.sales_list)\n",
        "  \n",
        "  def sales_lookup(self, customer=None):\n",
        "    \"\"\" filter the list of sales by customer conditionally \"\"\"\n",
        "\n",
        "    if len(self.sales_list) == 0:\n",
        "      print (\"there are no sales at your company.  :( \")\n",
        "      pass\n",
        "    \n",
        "    else:\n",
        "      customer_sales = []\n",
        "      for d in self.sales_list:\n",
        "        if d['customer'] == customer:\n",
        "          customer_sales.append(d)\n",
        "      return(customer_sales)\n",
        "      \n",
        "\n",
        "\n",
        "\n",
        "\n",
        "  \n"
      ]
    },
    {
      "cell_type": "code",
      "execution_count": null,
      "metadata": {
        "id": "4zbMzqXDyO2G"
      },
      "outputs": [],
      "source": [
        "sales = SalesTracker()"
      ]
    },
    {
      "cell_type": "code",
      "execution_count": null,
      "metadata": {
        "id": "jldG8z_XxNay"
      },
      "outputs": [],
      "source": [
        "sales.add_sales(customer='Monty Python', rev=100)"
      ]
    },
    {
      "cell_type": "code",
      "execution_count": null,
      "metadata": {
        "id": "mW-13AgAz8UD"
      },
      "outputs": [],
      "source": [
        "crm = sales.print_sales()"
      ]
    },
    {
      "cell_type": "code",
      "execution_count": null,
      "metadata": {
        "id": "IG6aR9de0S9N"
      },
      "outputs": [],
      "source": [
        "type(crm)"
      ]
    },
    {
      "cell_type": "code",
      "execution_count": null,
      "metadata": {
        "id": "r6I11ZB80Y2L"
      },
      "outputs": [],
      "source": [
        "len(crm)"
      ]
    },
    {
      "cell_type": "code",
      "execution_count": null,
      "metadata": {
        "id": "eNtVSLaQ0Z6M"
      },
      "outputs": [],
      "source": [
        "crm[0]"
      ]
    },
    {
      "cell_type": "code",
      "execution_count": null,
      "metadata": {
        "id": "T9Ykbako0a0T"
      },
      "outputs": [],
      "source": [
        "sales.add_sales(customer='Monty Python', rev=100)\n",
        "sales.add_sales(customer='Peach God', rev=200)\n",
        "sales.add_sales(customer='Monty Python', rev=50)"
      ]
    },
    {
      "cell_type": "code",
      "execution_count": null,
      "metadata": {
        "id": "79kT6ZAw1dFX"
      },
      "outputs": [],
      "source": [
        "sales.print_sales()"
      ]
    },
    {
      "cell_type": "code",
      "execution_count": null,
      "metadata": {
        "id": "TilL_Ke91gN2"
      },
      "outputs": [],
      "source": [
        "sales.sales_lookup('Peach God')"
      ]
    },
    {
      "cell_type": "code",
      "execution_count": null,
      "metadata": {
        "id": "mIeMcGMu1kzW"
      },
      "outputs": [],
      "source": [
        "sales.sales_lookup('Monty Python')"
      ]
    },
    {
      "cell_type": "code",
      "execution_count": null,
      "metadata": {
        "id": "FgKpDeBV1wrk"
      },
      "outputs": [],
      "source": [
        "sales.sales_lookup('Dwight Schrute')"
      ]
    },
    {
      "cell_type": "code",
      "execution_count": null,
      "metadata": {
        "id": "kWsd57Sn1y1D"
      },
      "outputs": [],
      "source": [
        "sales_tracker2 = SalesTracker()"
      ]
    },
    {
      "cell_type": "code",
      "execution_count": null,
      "metadata": {
        "id": "48y4PMF02HvY"
      },
      "outputs": [],
      "source": [
        "sales_tracker2.print_sales()"
      ]
    },
    {
      "cell_type": "code",
      "execution_count": null,
      "metadata": {
        "id": "LnSvqFFy2Lln"
      },
      "outputs": [],
      "source": [
        "sales_tracker2.sales_lookup()"
      ]
    },
    {
      "cell_type": "code",
      "execution_count": null,
      "metadata": {
        "id": "_EIIEwGB2OGg"
      },
      "outputs": [],
      "source": []
    },
    {
      "cell_type": "code",
      "execution_count": null,
      "metadata": {
        "id": "shMk647ii_YU"
      },
      "outputs": [],
      "source": [
        "# class question:\n",
        "# print vs return\n",
        "def myfunct(my_input):\n",
        "  print(\"my input is: {}\".format(my_input))\n",
        "  return(my_input*3)"
      ]
    },
    {
      "cell_type": "code",
      "execution_count": null,
      "metadata": {
        "id": "0x2MNDbnjTQB"
      },
      "outputs": [],
      "source": [
        "myfunct('ba765')"
      ]
    },
    {
      "cell_type": "code",
      "execution_count": null,
      "metadata": {
        "id": "B-9U7QTAjbK2"
      },
      "outputs": [],
      "source": [
        "my_new_str = myfunct('ba765')"
      ]
    },
    {
      "cell_type": "code",
      "execution_count": null,
      "metadata": {
        "id": "RnP1trtvjq9H"
      },
      "outputs": [],
      "source": [
        "my_new_str"
      ]
    },
    {
      "cell_type": "code",
      "execution_count": null,
      "metadata": {
        "id": "XpiKwVTxjv4m"
      },
      "outputs": [],
      "source": [
        "def hw():\n",
        "  print(\"hello, world!\")"
      ]
    },
    {
      "cell_type": "code",
      "execution_count": null,
      "metadata": {
        "id": "lgFGhKz0j60w"
      },
      "outputs": [],
      "source": [
        "hw()"
      ]
    },
    {
      "cell_type": "code",
      "execution_count": null,
      "metadata": {
        "id": "LlH6ZmiVj7oJ"
      },
      "outputs": [],
      "source": [
        "def hw2():\n",
        "  return(\"hello, world!\")"
      ]
    },
    {
      "cell_type": "code",
      "execution_count": null,
      "metadata": {
        "id": "KZPw7mOfj_EC"
      },
      "outputs": [],
      "source": [
        "hw2()"
      ]
    },
    {
      "cell_type": "code",
      "execution_count": null,
      "metadata": {
        "id": "w3pLDOiqkAGb"
      },
      "outputs": [],
      "source": [
        "print(hw2())"
      ]
    },
    {
      "cell_type": "code",
      "execution_count": null,
      "metadata": {
        "id": "waPF7xqokHph"
      },
      "outputs": [],
      "source": [
        "class myclass():\n",
        "  name=\"aaa\"\n",
        "  def myprint(self):\n",
        "    print(myclass.name)"
      ]
    },
    {
      "cell_type": "code",
      "execution_count": null,
      "metadata": {
        "id": "naEmb5JNkpP_"
      },
      "outputs": [],
      "source": [
        "myclassobject = myclass()"
      ]
    },
    {
      "cell_type": "code",
      "execution_count": null,
      "metadata": {
        "id": "c8YXF_Qgkr--"
      },
      "outputs": [],
      "source": [
        "myclassobject.myprint()"
      ]
    },
    {
      "cell_type": "code",
      "execution_count": null,
      "metadata": {
        "id": "FYolXbumkuO2"
      },
      "outputs": [],
      "source": []
    }
  ],
  "metadata": {
    "colab": {
      "collapsed_sections": [],
      "name": "IntroToOOP_Lecture",
      "private_outputs": true,
      "provenance": []
    },
    "kernelspec": {
      "display_name": "Python 3",
      "name": "python3"
    },
    "language_info": {}
  },
  "nbformat": 4,
  "nbformat_minor": 0
}