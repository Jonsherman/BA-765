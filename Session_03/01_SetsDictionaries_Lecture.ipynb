{
  "cells": [
    {
      "cell_type": "markdown",
      "metadata": {
        "id": "9I-W9M91wKFP"
      },
      "source": [
        "# Sets and Dictionaries\n",
        "Session 3 - part 1 \n",
        "<br>07/13/2021"
      ]
    },
    {
      "cell_type": "markdown",
      "metadata": {
        "id": "z6Z5hP2CwXnk"
      },
      "source": [
        "## Sets\n",
        "Sets are unordered and unindexed collection of data. Because of this, they cannot accept duplicates. Let's see some examples:"
      ]
    },
    {
      "cell_type": "code",
      "execution_count": 156,
      "metadata": {
        "id": "iGGlQdCUgI24"
      },
      "outputs": [],
      "source": [
        "x=[1,2,3,4,5,5,5,6,2,1]\n",
        "y=[4,9,7,8,8,4,5,4,6]"
      ]
    },
    {
      "cell_type": "code",
      "execution_count": 157,
      "metadata": {
        "id": "nGkX2zlVxWJN"
      },
      "outputs": [
        {
          "name": "stdout",
          "output_type": "stream",
          "text": [
            "<class 'list'> <class 'list'>\n",
            "[1, 2, 3, 4, 5, 5, 5, 6, 2, 1]\n",
            "[4, 9, 7, 8, 8, 4, 5, 4, 6]\n"
          ]
        }
      ],
      "source": [
        "print(type(x), type(y))\n",
        "print(x)\n",
        "print(y)"
      ]
    },
    {
      "cell_type": "code",
      "execution_count": 158,
      "metadata": {
        "id": "m0k4qgvExZTY"
      },
      "outputs": [],
      "source": [
        "# Let's make these into sets!\n",
        "xset = set(x)\n",
        "yset = set(y)"
      ]
    },
    {
      "cell_type": "code",
      "execution_count": 159,
      "metadata": {
        "id": "Hp5o8dFDxj5I"
      },
      "outputs": [
        {
          "data": {
            "text/plain": [
              "{1, 2, 3, 4, 5, 6}"
            ]
          },
          "execution_count": 159,
          "metadata": {},
          "output_type": "execute_result"
        }
      ],
      "source": [
        "xset"
      ]
    },
    {
      "cell_type": "code",
      "execution_count": 160,
      "metadata": {
        "id": "3k2O5wbtxk5l"
      },
      "outputs": [
        {
          "data": {
            "text/plain": [
              "set"
            ]
          },
          "execution_count": 160,
          "metadata": {},
          "output_type": "execute_result"
        }
      ],
      "source": [
        "type(xset)"
      ]
    },
    {
      "cell_type": "code",
      "execution_count": 161,
      "metadata": {
        "id": "N1vPe3ocx1Ju"
      },
      "outputs": [
        {
          "data": {
            "text/plain": [
              "6"
            ]
          },
          "execution_count": 161,
          "metadata": {},
          "output_type": "execute_result"
        }
      ],
      "source": [
        "len(xset)"
      ]
    },
    {
      "cell_type": "markdown",
      "metadata": {
        "id": "MuWQGK6Ax5_h"
      },
      "source": [
        "## Methods of Sets\n",
        "\n",
        "There are many, but let's look at three most used:"
      ]
    },
    {
      "cell_type": "code",
      "execution_count": 162,
      "metadata": {
        "id": "i4oHodzcx2oD"
      },
      "outputs": [
        {
          "name": "stdout",
          "output_type": "stream",
          "text": [
            "{1, 2, 3, 4, 5, 6}\n",
            "{4, 5, 6, 7, 8, 9}\n"
          ]
        },
        {
          "data": {
            "text/plain": [
              "{1, 2, 3, 4, 5, 6, 7, 8, 9}"
            ]
          },
          "execution_count": 162,
          "metadata": {},
          "output_type": "execute_result"
        }
      ],
      "source": [
        "print(xset)\n",
        "print(yset)\n",
        "# Union\n",
        "xset.union(yset)"
      ]
    },
    {
      "cell_type": "code",
      "execution_count": 163,
      "metadata": {
        "id": "wDn27Nf2ytzO"
      },
      "outputs": [
        {
          "data": {
            "text/plain": [
              "True"
            ]
          },
          "execution_count": 163,
          "metadata": {},
          "output_type": "execute_result"
        }
      ],
      "source": [
        "# What do you think about the check below: True or False?\n",
        "xset.union(yset) == yset.union(xset)"
      ]
    },
    {
      "cell_type": "code",
      "execution_count": 164,
      "metadata": {
        "id": "YlhiJruHyyrp"
      },
      "outputs": [
        {
          "data": {
            "text/plain": [
              "{4, 5, 6}"
            ]
          },
          "execution_count": 164,
          "metadata": {},
          "output_type": "execute_result"
        }
      ],
      "source": [
        "# Intersection \n",
        "xset.intersection(yset)"
      ]
    },
    {
      "cell_type": "code",
      "execution_count": 165,
      "metadata": {
        "id": "4OVWyvCOzENl"
      },
      "outputs": [
        {
          "data": {
            "text/plain": [
              "True"
            ]
          },
          "execution_count": 165,
          "metadata": {},
          "output_type": "execute_result"
        }
      ],
      "source": [
        "#What do you think about the check below? True or False? \n",
        "yset.intersection(xset) == xset.intersection(yset)"
      ]
    },
    {
      "cell_type": "code",
      "execution_count": 166,
      "metadata": {
        "id": "UnUrqiE8zG41"
      },
      "outputs": [
        {
          "data": {
            "text/plain": [
              "{7, 8, 9}"
            ]
          },
          "execution_count": 166,
          "metadata": {},
          "output_type": "execute_result"
        }
      ],
      "source": [
        "## Difference\n",
        "xset.difference(yset)\n",
        "yset.difference(xset)"
      ]
    },
    {
      "cell_type": "code",
      "execution_count": 167,
      "metadata": {
        "id": "-0vv1N42zhMF"
      },
      "outputs": [
        {
          "data": {
            "text/plain": [
              "False"
            ]
          },
          "execution_count": 167,
          "metadata": {},
          "output_type": "execute_result"
        }
      ],
      "source": [
        "#What do you think about the check below? True or False? \n",
        "xset.difference(yset) == yset.difference(xset)"
      ]
    },
    {
      "cell_type": "markdown",
      "metadata": {
        "id": "7XyBVbN20qgG"
      },
      "source": [
        "Some more notes about sets: "
      ]
    },
    {
      "cell_type": "code",
      "execution_count": 168,
      "metadata": {
        "id": "sPQZuL4M0I8i"
      },
      "outputs": [
        {
          "data": {
            "text/plain": [
              "{1, 1.2, 'a'}"
            ]
          },
          "execution_count": 168,
          "metadata": {},
          "output_type": "execute_result"
        }
      ],
      "source": [
        "# Do sets accept elements of different types?\n",
        "set1 = {'a',1,1.2}\n",
        "set1"
      ]
    },
    {
      "cell_type": "code",
      "execution_count": 169,
      "metadata": {
        "id": "-DGFT4QX0XAe"
      },
      "outputs": [
        {
          "data": {
            "text/plain": [
              "{1, 1.1, 'b'}"
            ]
          },
          "execution_count": 169,
          "metadata": {},
          "output_type": "execute_result"
        }
      ],
      "source": [
        "# Do sets accept duplicates?\n",
        "set2 = {'b', 1, 1, 1.1}\n",
        "set2"
      ]
    },
    {
      "cell_type": "code",
      "execution_count": 170,
      "metadata": {
        "id": "Zw0rxDBw0yWN"
      },
      "outputs": [
        {
          "name": "stdout",
          "output_type": "stream",
          "text": [
            "{0, 1, 2.0, 'c'}\n",
            "4\n"
          ]
        }
      ],
      "source": [
        "# What is the length of the following set?\n",
        "set3 = {'c',1, True, 0, False, 2.0, 2}\n",
        "print(set3)\n",
        "print(len(set3))"
      ]
    },
    {
      "cell_type": "code",
      "execution_count": 171,
      "metadata": {
        "colab": {
          "base_uri": "https://localhost:8080/"
        },
        "id": "R-_9gRyruJwF",
        "outputId": "5c2d0d9e-54d2-46f7-ffdc-1f07a73966eb"
      },
      "outputs": [
        {
          "data": {
            "text/plain": [
              "0"
            ]
          },
          "execution_count": 171,
          "metadata": {},
          "output_type": "execute_result"
        }
      ],
      "source": [
        "# A familiar operation works for sets too, but with a twist!\n",
        "set3.pop()"
      ]
    },
    {
      "cell_type": "code",
      "execution_count": 172,
      "metadata": {},
      "outputs": [
        {
          "name": "stdout",
          "output_type": "stream",
          "text": [
            "{1, 2.0, 'c'}\n"
          ]
        }
      ],
      "source": [
        "print(set3)"
      ]
    },
    {
      "cell_type": "markdown",
      "metadata": {
        "id": "2EFFYu8P0BA9"
      },
      "source": [
        "Now that you know about sets and some basic operations, can you think of a usecase of sets in a business setting?"
      ]
    },
    {
      "cell_type": "markdown",
      "metadata": {
        "id": "LshiVim011P_"
      },
      "source": [
        "## Dictionaries\n",
        "Dictionaries are one of the four built in data types that are used to store a collection of data. Unlike all the data structures we have seen, dictionaries are very structured, the data is stored in key:value pairs, just like in a dictionary! As expected, dictionaries do not accept duplicates.\n",
        "\n",
        "\n",
        "(From Python 3.7 onwards, dictionaries are supposed to preserve the key insertion order but please check the implementation you are working with before relying on this!)\n",
        "\n",
        "\n",
        "Let's see some examples:"
      ]
    },
    {
      "cell_type": "code",
      "execution_count": 173,
      "metadata": {},
      "outputs": [
        {
          "data": {
            "text/plain": [
              "'3.9.1 (default, Dec 11 2020, 06:28:49) \\n[Clang 10.0.0 ]'"
            ]
          },
          "execution_count": 173,
          "metadata": {},
          "output_type": "execute_result"
        }
      ],
      "source": [
        "import sys\n",
        "sys.version"
      ]
    },
    {
      "cell_type": "code",
      "execution_count": 174,
      "metadata": {
        "colab": {
          "base_uri": "https://localhost:8080/"
        },
        "id": "Ei8RzQx9zpIi",
        "outputId": "c906a481-14c2-46ec-9cdb-7177f26523d9"
      },
      "outputs": [
        {
          "name": "stdout",
          "output_type": "stream",
          "text": [
            "<class 'dict'>\n"
          ]
        },
        {
          "data": {
            "text/plain": [
              "{'online': True, 'courseName': 'ba765', 'totStudents': 100, 3: ['A', 'B', 'C']}"
            ]
          },
          "execution_count": 174,
          "metadata": {},
          "output_type": "execute_result"
        }
      ],
      "source": [
        "d = { 'online':True, \n",
        "     'courseName':'ba765',  \n",
        "     'totStudents': 100, \n",
        "     3:['A','B','C']}\n",
        "print(type(d))\n",
        "d"
      ]
    },
    {
      "cell_type": "code",
      "execution_count": 175,
      "metadata": {
        "id": "S4_y2Zvj3cdZ"
      },
      "outputs": [
        {
          "data": {
            "text/plain": [
              "dict_keys(['online', 'courseName', 'totStudents', 3])"
            ]
          },
          "execution_count": 175,
          "metadata": {},
          "output_type": "execute_result"
        }
      ],
      "source": [
        "d.keys()"
      ]
    },
    {
      "cell_type": "code",
      "execution_count": 176,
      "metadata": {
        "id": "LQ1xcyX55iBV"
      },
      "outputs": [
        {
          "data": {
            "text/plain": [
              "['online', 'courseName', 'totStudents', 3]"
            ]
          },
          "execution_count": 176,
          "metadata": {},
          "output_type": "execute_result"
        }
      ],
      "source": [
        "list(d.keys())"
      ]
    },
    {
      "cell_type": "code",
      "execution_count": 177,
      "metadata": {
        "id": "TYw4QI6M52AJ"
      },
      "outputs": [
        {
          "name": "stdout",
          "output_type": "stream",
          "text": [
            "{'courseName': 'ba765', 'totStudents': 100, 3: ['A', 'B', 'C']}\n"
          ]
        }
      ],
      "source": [
        "# Deleting a key \n",
        "del d['online']\n",
        "print(d)"
      ]
    },
    {
      "cell_type": "code",
      "execution_count": 178,
      "metadata": {
        "id": "4eW2yHuk6Drp"
      },
      "outputs": [
        {
          "name": "stdout",
          "output_type": "stream",
          "text": [
            "{'courseName': 'ba765', 'totStudents': 100, 3: ['A', 'B', 'C'], 'LfA': True}\n"
          ]
        }
      ],
      "source": [
        "# Adding a key\n",
        "d['LfA'] = True\n",
        "print(d)"
      ]
    },
    {
      "cell_type": "markdown",
      "metadata": {
        "id": "NXRcEyNA-Jc-"
      },
      "source": [
        "\n",
        "\n",
        "---\n",
        "\n"
      ]
    },
    {
      "cell_type": "code",
      "execution_count": 179,
      "metadata": {},
      "outputs": [],
      "source": [
        "d['LfA'] = False "
      ]
    },
    {
      "cell_type": "code",
      "execution_count": 180,
      "metadata": {
        "id": "3G0fbIhu5o9w"
      },
      "outputs": [
        {
          "data": {
            "text/plain": [
              "False"
            ]
          },
          "execution_count": 180,
          "metadata": {},
          "output_type": "execute_result"
        }
      ],
      "source": [
        "#Accessing values in a dictionary\n",
        "d['LfA']"
      ]
    },
    {
      "cell_type": "code",
      "execution_count": 181,
      "metadata": {
        "id": "6skYIa725uyE"
      },
      "outputs": [
        {
          "data": {
            "text/plain": [
              "['A', 'B', 'C']"
            ]
          },
          "execution_count": 181,
          "metadata": {},
          "output_type": "execute_result"
        }
      ],
      "source": [
        "d[3]"
      ]
    },
    {
      "cell_type": "code",
      "execution_count": 182,
      "metadata": {
        "id": "bo9D1FuC6QO2"
      },
      "outputs": [
        {
          "data": {
            "text/plain": [
              "{'courseName': 'ba765', 'totStudents': 100, 3: ['A', 'B', 'C'], 'LfA': False}"
            ]
          },
          "execution_count": 182,
          "metadata": {},
          "output_type": "execute_result"
        }
      ],
      "source": [
        "#How about changing the values of the keys?\n",
        "d['LfA'] = False\n",
        "d"
      ]
    },
    {
      "cell_type": "code",
      "execution_count": 183,
      "metadata": {
        "id": "ySqepDGF6eFu"
      },
      "outputs": [
        {
          "data": {
            "text/plain": [
              "'TBD'"
            ]
          },
          "execution_count": 183,
          "metadata": {},
          "output_type": "execute_result"
        }
      ],
      "source": [
        "# There is another way of accessing the value of a key\n",
        "# which also allows us to set a default value:\n",
        "d.get('instructor', 'TBD')\n"
      ]
    },
    {
      "cell_type": "code",
      "execution_count": 184,
      "metadata": {
        "id": "dn7Zmb-w7SQB"
      },
      "outputs": [
        {
          "data": {
            "text/plain": [
              "True"
            ]
          },
          "execution_count": 184,
          "metadata": {},
          "output_type": "execute_result"
        }
      ],
      "source": [
        "# Further checks about existince of a key:\n",
        "'courseName' in d"
      ]
    },
    {
      "cell_type": "code",
      "execution_count": 185,
      "metadata": {
        "id": "9mnoJJY071u0"
      },
      "outputs": [
        {
          "data": {
            "text/plain": [
              "True"
            ]
          },
          "execution_count": 185,
          "metadata": {},
          "output_type": "execute_result"
        }
      ],
      "source": [
        "'instructor' not in d"
      ]
    },
    {
      "cell_type": "markdown",
      "metadata": {
        "id": "B60Y2Y6x_QOB"
      },
      "source": [
        "\n",
        "\n",
        "---\n",
        "\n"
      ]
    },
    {
      "cell_type": "code",
      "execution_count": 186,
      "metadata": {
        "id": "VQlzlpJV78ub"
      },
      "outputs": [
        {
          "data": {
            "text/plain": [
              "dict_values(['ba765', 100, ['A', 'B', 'C'], False])"
            ]
          },
          "execution_count": 186,
          "metadata": {},
          "output_type": "execute_result"
        }
      ],
      "source": [
        "# We have worked enough with keys, \n",
        "# let's take a look at things we can do with values\n",
        "\n",
        "d.values()"
      ]
    },
    {
      "cell_type": "code",
      "execution_count": 187,
      "metadata": {
        "id": "FqnO3yp98VII"
      },
      "outputs": [
        {
          "data": {
            "text/plain": [
              "['ba765', 100, ['A', 'B', 'C'], False]"
            ]
          },
          "execution_count": 187,
          "metadata": {},
          "output_type": "execute_result"
        }
      ],
      "source": [
        "list(d.values())"
      ]
    },
    {
      "cell_type": "code",
      "execution_count": 188,
      "metadata": {
        "id": "kHCG9ucL8yu2"
      },
      "outputs": [
        {
          "data": {
            "text/plain": [
              "dict_items([('courseName', 'ba765'), ('totStudents', 100), (3, ['A', 'B', 'C']), ('LfA', False)])"
            ]
          },
          "execution_count": 188,
          "metadata": {},
          "output_type": "execute_result"
        }
      ],
      "source": [
        "# .. or items:\n",
        "d.items()"
      ]
    },
    {
      "cell_type": "code",
      "execution_count": 189,
      "metadata": {
        "id": "-5fDsjAl814K"
      },
      "outputs": [
        {
          "data": {
            "text/plain": [
              "[('courseName', 'ba765'),\n",
              " ('totStudents', 100),\n",
              " (3, ['A', 'B', 'C']),\n",
              " ('LfA', False)]"
            ]
          },
          "execution_count": 189,
          "metadata": {},
          "output_type": "execute_result"
        }
      ],
      "source": [
        "list(d.items())"
      ]
    },
    {
      "cell_type": "code",
      "execution_count": 190,
      "metadata": {
        "id": "KEny-A9684xG"
      },
      "outputs": [
        {
          "name": "stdout",
          "output_type": "stream",
          "text": [
            "{'courseName': 'ba765', 'totStudents': 100, 3: ['A', 'B', 'C'], 'LfA': False, 'rating': 4.95}\n"
          ]
        }
      ],
      "source": [
        "# Updating a dictionary by adding a new item, aka k:v pair:\n",
        "d.update({'rating':4.95})\n",
        "print(d)\n"
      ]
    },
    {
      "cell_type": "code",
      "execution_count": 191,
      "metadata": {
        "id": "bvq_ntLm9FQP"
      },
      "outputs": [
        {
          "data": {
            "text/plain": [
              "True"
            ]
          },
          "execution_count": 191,
          "metadata": {},
          "output_type": "execute_result"
        }
      ],
      "source": [
        "# Using the update function to update an existing k:v pair:\n",
        "d.update({'LfA':True})\n",
        "d['LfA']"
      ]
    },
    {
      "cell_type": "code",
      "execution_count": 192,
      "metadata": {
        "id": "L8MR1ep39hD_"
      },
      "outputs": [],
      "source": [
        "# We already saw how to remove a k:v pair\n",
        "del d['LfA']"
      ]
    },
    {
      "cell_type": "code",
      "execution_count": 193,
      "metadata": {
        "id": "aMSZ-DTa9u3u"
      },
      "outputs": [],
      "source": [
        "# but we can also clear the whole dictionary:\n",
        "d.clear()"
      ]
    },
    {
      "cell_type": "code",
      "execution_count": 194,
      "metadata": {
        "id": "UxF32BuR9y4z"
      },
      "outputs": [
        {
          "name": "stdout",
          "output_type": "stream",
          "text": [
            "{}\n"
          ]
        }
      ],
      "source": [
        "print(d)"
      ]
    },
    {
      "cell_type": "code",
      "execution_count": 195,
      "metadata": {
        "id": "nCP3zGiI9043"
      },
      "outputs": [],
      "source": [
        "# if we want to get rid of it completely:\n",
        "del d"
      ]
    },
    {
      "cell_type": "code",
      "execution_count": 196,
      "metadata": {
        "id": "0pbi88Gy95tf"
      },
      "outputs": [
        {
          "ename": "NameError",
          "evalue": "name 'd' is not defined",
          "output_type": "error",
          "traceback": [
            "\u001b[0;31m---------------------------------------------------------------------------\u001b[0m",
            "\u001b[0;31mNameError\u001b[0m                                 Traceback (most recent call last)",
            "\u001b[0;32m<ipython-input-196-85549cb1de5f>\u001b[0m in \u001b[0;36m<module>\u001b[0;34m\u001b[0m\n\u001b[0;32m----> 1\u001b[0;31m \u001b[0mprint\u001b[0m\u001b[0;34m(\u001b[0m\u001b[0md\u001b[0m\u001b[0;34m)\u001b[0m\u001b[0;34m\u001b[0m\u001b[0;34m\u001b[0m\u001b[0m\n\u001b[0m",
            "\u001b[0;31mNameError\u001b[0m: name 'd' is not defined"
          ]
        }
      ],
      "source": [
        "print(d)"
      ]
    },
    {
      "cell_type": "markdown",
      "metadata": {
        "id": "89bR8Ete_iMx"
      },
      "source": [
        "#### Quick exercise:\n",
        "\n",
        "Define a dictionary that has    \n",
        "\n",
        "*   'a' list of values from 1 to 5\n",
        "*   'b' tuple of your first and last name\n",
        "*  765 that as your age as a float\n",
        "\n",
        "Then:\n",
        "*  confirm that it is a dictionary \n",
        "*  print out the keys as a list.\n",
        "\n",
        "\n",
        "\n"
      ]
    },
    {
      "cell_type": "code",
      "execution_count": 208,
      "metadata": {
        "id": "aREzqez8Aj4W"
      },
      "outputs": [
        {
          "name": "stdout",
          "output_type": "stream",
          "text": [
            "dictionary_lab is type <class 'dict'>\n"
          ]
        },
        {
          "data": {
            "text/plain": [
              "['a', 'b', 765]"
            ]
          },
          "execution_count": 208,
          "metadata": {},
          "output_type": "execute_result"
        }
      ],
      "source": [
        "# your code here\n",
        "dictionary_lab = {'a' : [1,2,3,4,5,], 'b' : ('Jon', 'Sherman'), 765 : 26.0}\n",
        "print('dictionary_lab is type', type(dictionary_lab))\n",
        "list(dictionary_lab.keys())"
      ]
    },
    {
      "cell_type": "markdown",
      "metadata": {
        "id": "wd-nC8uOHMdz"
      },
      "source": [
        "\n",
        "## Interlude to Python with some git \n",
        "---\n",
        "\n",
        "That is all for now for dictionaries and sets! Hope you enjoyed these new data structures and can think of interesting ways of using them!\n",
        "\n",
        "Now we'll take a break with some git, with Github Desktop and VS Code.\n",
        "\n",
        "- git clone \\<repo path here.git\\>\n",
        "- git status\n",
        "- git add \\<filename>\n",
        "- git commit\n",
        "- git push\n",
        "- git config --global user.email \"your-email-here\"\n",
        "- git config --global user.name \"Your name here\"\n"
      ]
    }
  ],
  "metadata": {
    "colab": {
      "name": "01-SetsDictionaries_Lecture.ipynb",
      "provenance": [],
      "toc_visible": true
    },
    "interpreter": {
      "hash": "d54f36650e22a68b1e16ad067c04252fc93b1d0cce2a522804985f8fa0dd3c9b"
    },
    "kernelspec": {
      "display_name": "Python 3.9.1 64-bit (conda)",
      "name": "python3"
    },
    "language_info": {
      "codemirror_mode": {
        "name": "ipython",
        "version": 3
      },
      "file_extension": ".py",
      "mimetype": "text/x-python",
      "name": "python",
      "nbconvert_exporter": "python",
      "pygments_lexer": "ipython3",
      "version": "3.9.1"
    }
  },
  "nbformat": 4,
  "nbformat_minor": 0
}