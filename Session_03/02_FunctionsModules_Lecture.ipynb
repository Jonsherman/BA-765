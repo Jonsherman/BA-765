{
  "nbformat": 4,
  "nbformat_minor": 0,
  "metadata": {
    "colab": {
      "name": "02-FunctionsModules_Lecture.ipynb",
      "provenance": []
    },
    "kernelspec": {
      "name": "python3",
      "display_name": "Python 3"
    },
    "language_info": {
      "name": "python"
    }
  },
  "cells": [
    {
      "cell_type": "markdown",
      "metadata": {
        "id": "szFPun1V1p1Q"
      },
      "source": [
        "# Functions and Modules\n",
        "Session 3 - part 2\n",
        "<br>07/13/21\n",
        "\n",
        "<br>\n",
        "\n",
        "![functions](https://swcarpentry.github.io/python-novice-inflammation/fig/python-function.svg)\n",
        "\n",
        "\n",
        "<br>\n",
        "\n",
        "\n",
        "In this notebook we will cover functions and modules.\n",
        "\n",
        "Learning Objectives:\n",
        "\n",
        "1.  Build your own functions\n",
        "1.  Import external modules to expand python's capabilities beyond the standard libraries\n",
        "1.  Install external packages\n"
      ]
    },
    {
      "cell_type": "markdown",
      "metadata": {
        "id": "n6EquXJO2ZdB"
      },
      "source": [
        "# Functions\n",
        "\n",
        "Functions in python allow us to create the logic specific to our needs.  We can provide arguments that make our solution more flexible for the user's of our code. In addition to flexibility, using functions allows us to encapsulate our code and reuse the work in other projects. \n",
        "\n",
        "We have already used functions in this class.  For example, `len` is a function that determines the length of the given object. **What other function do you remember from the course so far?**\n",
        "\n",
        "\n",
        "Resources:  https://realpython.com/defining-your-own-python-function/\n",
        "\n",
        "\n"
      ]
    },
    {
      "cell_type": "code",
      "metadata": {
        "id": "fFBwnwK51nwE"
      },
      "source": [
        "#our first func\n",
        "def my_first_func():\n",
        "  print(\"Hello, World!\")"
      ],
      "execution_count": null,
      "outputs": []
    },
    {
      "cell_type": "code",
      "metadata": {
        "colab": {
          "base_uri": "https://localhost:8080/"
        },
        "id": "t3MZht-B261B",
        "outputId": "e627f4f6-4ed2-4073-f119-2c8a055030ea"
      },
      "source": [
        "my_first_func()"
      ],
      "execution_count": null,
      "outputs": [
        {
          "output_type": "stream",
          "text": [
            "Hello, World!\n"
          ],
          "name": "stdout"
        }
      ]
    },
    {
      "cell_type": "code",
      "metadata": {
        "id": "vTtv2Vd-2_M5"
      },
      "source": [
        "#our second func can be more specific\n",
        "def greeting_func(a):\n",
        "  print(\"Hello, {}!\".format(a))"
      ],
      "execution_count": null,
      "outputs": []
    },
    {
      "cell_type": "code",
      "metadata": {
        "colab": {
          "base_uri": "https://localhost:8080/"
        },
        "id": "teXCf-k63Tzr",
        "outputId": "94b5681c-3c43-491e-d817-5e3f6d8c0b03"
      },
      "source": [
        "greeting_func(\"ba765\")"
      ],
      "execution_count": null,
      "outputs": [
        {
          "output_type": "stream",
          "text": [
            "Hello, ba765!\n"
          ],
          "name": "stdout"
        }
      ]
    },
    {
      "cell_type": "code",
      "metadata": {
        "id": "MuyPyZ0v3WTl"
      },
      "source": [
        "# Can you define a function called my_sum that takes in two arguments, \n",
        "# and prints out their sum? Build and test if your function works OK:\n",
        "\n",
        "#your function definition code here"
      ],
      "execution_count": null,
      "outputs": []
    },
    {
      "cell_type": "code",
      "metadata": {
        "id": "VWXrErZc3b4H"
      },
      "source": [
        "# your test code here"
      ],
      "execution_count": null,
      "outputs": []
    },
    {
      "cell_type": "code",
      "metadata": {
        "id": "d2Oj8sFP3xVI"
      },
      "source": [
        "# We can do more than printing things:\n",
        "def my_sum(x,y):\n",
        "  z = x+y\n",
        "  return(z)"
      ],
      "execution_count": null,
      "outputs": []
    },
    {
      "cell_type": "code",
      "metadata": {
        "colab": {
          "base_uri": "https://localhost:8080/"
        },
        "id": "BATLuskg4S-r",
        "outputId": "fad31ac2-a2fd-437d-c3d4-2e8ab50c70df"
      },
      "source": [
        "my_sum(1,2)"
      ],
      "execution_count": null,
      "outputs": [
        {
          "output_type": "execute_result",
          "data": {
            "text/plain": [
              "3"
            ]
          },
          "metadata": {
            "tags": []
          },
          "execution_count": 14
        }
      ]
    },
    {
      "cell_type": "code",
      "metadata": {
        "id": "Cp98mg707vBH"
      },
      "source": [
        "# Note that print and return are different!\n",
        "def my_greetprint(a):\n",
        "  print(a)\n",
        "\n",
        "def my_greetreturn(a):\n",
        "  return(a)\n",
        "\n",
        "def my_greetprintreturn(a):\n",
        "  return(print(a))\n",
        " \n",
        "def my_greetprint_and_return(a):\n",
        "  print(a)\n",
        "  return"
      ],
      "execution_count": null,
      "outputs": []
    },
    {
      "cell_type": "code",
      "metadata": {
        "id": "7AKLrCuw8Oap"
      },
      "source": [
        "a=\"Hello you!\""
      ],
      "execution_count": null,
      "outputs": []
    },
    {
      "cell_type": "code",
      "metadata": {
        "id": "e5ckDvk-8RDt"
      },
      "source": [
        "#my_greetprint(a)\n",
        "#my_greetreturn(a)\n",
        "#my_greetprintreturn(a)\n",
        "#my_greetprint_and_return(a)"
      ],
      "execution_count": null,
      "outputs": []
    },
    {
      "cell_type": "code",
      "metadata": {
        "id": "BSPEwjAC4Vnt"
      },
      "source": [
        "# We can also define functions with optional arguments\n",
        "def my_check(a,b=True):\n",
        "  c=(a==b)\n",
        "  return(c)"
      ],
      "execution_count": null,
      "outputs": []
    },
    {
      "cell_type": "code",
      "metadata": {
        "colab": {
          "base_uri": "https://localhost:8080/"
        },
        "id": "-TvtRzsI4myl",
        "outputId": "7e49455a-acb3-48b2-924e-57be0d1e7c8e"
      },
      "source": [
        "my_check(True)"
      ],
      "execution_count": null,
      "outputs": [
        {
          "output_type": "execute_result",
          "data": {
            "text/plain": [
              "True"
            ]
          },
          "metadata": {
            "tags": []
          },
          "execution_count": 24
        }
      ]
    },
    {
      "cell_type": "code",
      "metadata": {
        "id": "LfujBPQy4pGl"
      },
      "source": [
        "my_check(True,False,True)"
      ],
      "execution_count": null,
      "outputs": []
    },
    {
      "cell_type": "code",
      "metadata": {
        "id": "fP-2lbxz48xu"
      },
      "source": [
        "# Careful with defaults if you want to work with a changable default\n",
        "def my_add2list(x,y=[]):\n",
        "  y.append(x)\n",
        "  return(y)"
      ],
      "execution_count": null,
      "outputs": []
    },
    {
      "cell_type": "code",
      "metadata": {
        "id": "Yl16E6vP5weE"
      },
      "source": [
        "# To escape this behavior do the following:\n",
        "def my_add2list(x,y=None):\n",
        "  if y==None:\n",
        "    y=[]\n",
        "  y.append(x)\n",
        "  return(y)"
      ],
      "execution_count": null,
      "outputs": []
    },
    {
      "cell_type": "code",
      "metadata": {
        "colab": {
          "base_uri": "https://localhost:8080/"
        },
        "id": "xx_XyR1d6Mau",
        "outputId": "192a3a58-0c2d-4e23-e4f8-1e49bf9fbdde"
      },
      "source": [
        "my_add2list(1)"
      ],
      "execution_count": null,
      "outputs": [
        {
          "output_type": "execute_result",
          "data": {
            "text/plain": [
              "[1]"
            ]
          },
          "metadata": {
            "tags": []
          },
          "execution_count": 34
        }
      ]
    },
    {
      "cell_type": "markdown",
      "metadata": {
        "id": "DyVxemF37Ivg"
      },
      "source": [
        "## Quick Exercise:\n",
        "\n",
        "Create a function that takes 3 user inputs, `a`, `b`, and `c`.  Add these inputs to a list and return that list.  Your returned object should be a list of length 3."
      ]
    },
    {
      "cell_type": "code",
      "metadata": {
        "id": "0O5XFbTN6Pex"
      },
      "source": [
        "# your code here"
      ],
      "execution_count": null,
      "outputs": []
    },
    {
      "cell_type": "markdown",
      "metadata": {
        "id": "PFhguAHJ9LZH"
      },
      "source": [
        "---"
      ]
    },
    {
      "cell_type": "code",
      "metadata": {
        "id": "mC8_HxKt9lJD"
      },
      "source": [
        "# A slightly more complex example that makes a good use of the optional argument\n",
        "# with default value:\n",
        "\n",
        "def passing_grade(score, threshold=70):\n",
        "  if score >= threshold:\n",
        "    print(\"Passed\")\n",
        "  else:\n",
        "    print(\"Failed\")"
      ],
      "execution_count": null,
      "outputs": []
    },
    {
      "cell_type": "code",
      "metadata": {
        "colab": {
          "base_uri": "https://localhost:8080/"
        },
        "id": "UDhvRFiM9y2E",
        "outputId": "2ed53009-ad9b-4963-ae53-e1d9754aa219"
      },
      "source": [
        "# check\n",
        "passing_grade(50)"
      ],
      "execution_count": null,
      "outputs": [
        {
          "output_type": "stream",
          "text": [
            "Passed\n"
          ],
          "name": "stdout"
        }
      ]
    },
    {
      "cell_type": "markdown",
      "metadata": {
        "id": "1Wq3dxXM-Awa"
      },
      "source": [
        "## Exercise:\n",
        "Your turn. Create a function that takes two inputs, the purchased price and regular price. Your function should return the discount rate that was applied to the sale. You do not need to convert the decimal to a string representation of % for this exercise, for example if purchase price is 50, regular is 100, returning 0.5 works."
      ]
    },
    {
      "cell_type": "code",
      "metadata": {
        "id": "uzxtAMT1_DRX"
      },
      "source": [
        "# your code here"
      ],
      "execution_count": null,
      "outputs": []
    },
    {
      "cell_type": "markdown",
      "metadata": {
        "id": "VNjrkte9_l-y"
      },
      "source": [
        "---\n",
        "# Modules\n",
        "\n",
        "Modules are extensions to python that allow us to re-use and share functionality with each other.  We `import` these modules into our session when we need to use them.  Optionally, as we will see later, we can choose which modules we want to import from a much larger package, which avoids having to import the entire codebase.\n",
        "\n",
        "Python has a lot of standard modules and some we have been using so far:\n"
      ]
    },
    {
      "cell_type": "code",
      "metadata": {
        "colab": {
          "base_uri": "https://localhost:8080/",
          "height": 35
        },
        "id": "je5WZ2r_AE7T",
        "outputId": "fa42ab87-917c-4c41-e397-7cef8fa1a1d0"
      },
      "source": [
        "import sys\n",
        "sys.version"
      ],
      "execution_count": null,
      "outputs": [
        {
          "output_type": "execute_result",
          "data": {
            "application/vnd.google.colaboratory.intrinsic+json": {
              "type": "string"
            },
            "text/plain": [
              "'3.7.10 (default, May  3 2021, 02:48:31) \\n[GCC 7.5.0]'"
            ]
          },
          "metadata": {
            "tags": []
          },
          "execution_count": 59
        }
      ]
    },
    {
      "cell_type": "code",
      "metadata": {
        "id": "lEsvWyRKAWn1"
      },
      "source": [
        "import random\n",
        "random."
      ],
      "execution_count": null,
      "outputs": []
    },
    {
      "cell_type": "markdown",
      "metadata": {
        "id": "MBAnw0QU_pDc"
      },
      "source": [
        ""
      ]
    }
  ]
}