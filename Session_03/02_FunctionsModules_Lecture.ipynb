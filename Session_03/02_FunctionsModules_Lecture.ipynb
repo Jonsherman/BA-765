{
  "cells": [
    {
      "cell_type": "markdown",
      "metadata": {
        "id": "szFPun1V1p1Q"
      },
      "source": [
        "# Functions and Modules\n",
        "Session 3 - part 2\n",
        "<br>07/13/21\n",
        "\n",
        "<br>\n",
        "\n",
        "![functions](https://swcarpentry.github.io/python-novice-inflammation/fig/python-function.svg)\n",
        "\n",
        "\n",
        "<br>\n",
        "\n",
        "\n",
        "In this notebook we will cover functions and modules.\n",
        "\n",
        "Learning Objectives:\n",
        "\n",
        "1.  Build your own functions\n",
        "1.  Import external modules to expand python's capabilities beyond the standard libraries\n",
        "1.  Install external packages\n"
      ]
    },
    {
      "cell_type": "markdown",
      "metadata": {
        "id": "n6EquXJO2ZdB"
      },
      "source": [
        "# Functions\n",
        "\n",
        "Functions in python allow us to create the logic specific to our needs.  We can provide arguments that make our solution more flexible for the user's of our code. In addition to flexibility, using functions allows us to encapsulate our code and reuse the work in other projects. \n",
        "\n",
        "We have already used functions in this class.  For example, `len` is a function that determines the length of the given object. **What other function do you remember from the course so far?**\n",
        "\n",
        "\n",
        "Resources:  https://realpython.com/defining-your-own-python-function/\n",
        "\n",
        "\n"
      ]
    },
    {
      "cell_type": "code",
      "execution_count": 136,
      "metadata": {
        "id": "fFBwnwK51nwE"
      },
      "outputs": [],
      "source": [
        "#our first func\n",
        "def my_first_func():\n",
        "  print(\"Hello, World!\")\n",
        "\n",
        "def my_second_func():\n",
        "  return('coding python')"
      ]
    },
    {
      "cell_type": "code",
      "execution_count": 137,
      "metadata": {
        "colab": {
          "base_uri": "https://localhost:8080/"
        },
        "id": "t3MZht-B261B",
        "outputId": "e627f4f6-4ed2-4073-f119-2c8a055030ea"
      },
      "outputs": [
        {
          "name": "stdout",
          "output_type": "stream",
          "text": [
            "Hello, World!\n"
          ]
        },
        {
          "data": {
            "text/plain": [
              "'coding python'"
            ]
          },
          "execution_count": 137,
          "metadata": {},
          "output_type": "execute_result"
        }
      ],
      "source": [
        "my_first_func()\n",
        "my_second_func()"
      ]
    },
    {
      "cell_type": "code",
      "execution_count": 138,
      "metadata": {
        "id": "vTtv2Vd-2_M5"
      },
      "outputs": [],
      "source": [
        "#our second func can be more specific\n",
        "def greeting_func(a):\n",
        "  print(\"Hello, {}!\".format(a))"
      ]
    },
    {
      "cell_type": "code",
      "execution_count": 139,
      "metadata": {
        "colab": {
          "base_uri": "https://localhost:8080/"
        },
        "id": "teXCf-k63Tzr",
        "outputId": "94b5681c-3c43-491e-d817-5e3f6d8c0b03"
      },
      "outputs": [
        {
          "name": "stdout",
          "output_type": "stream",
          "text": [
            "Hello, ba765!\n"
          ]
        }
      ],
      "source": [
        "greeting_func(\"ba765\")"
      ]
    },
    {
      "cell_type": "code",
      "execution_count": 140,
      "metadata": {
        "id": "MuyPyZ0v3WTl"
      },
      "outputs": [],
      "source": [
        "# Can you define a function called my_sum that takes in two arguments, \n",
        "# and prints out their sum? Build and test if your function works OK:\n",
        "\n",
        "#your function definition code here\n",
        "def my_sum(x,y):\n",
        " return 'the sum of x and y is', x + y"
      ]
    },
    {
      "cell_type": "code",
      "execution_count": 141,
      "metadata": {
        "id": "VWXrErZc3b4H"
      },
      "outputs": [
        {
          "data": {
            "text/plain": [
              "('the sum of x and y is', 4)"
            ]
          },
          "execution_count": 141,
          "metadata": {},
          "output_type": "execute_result"
        }
      ],
      "source": [
        "# your test code here\n",
        "my_sum(2,2)"
      ]
    },
    {
      "cell_type": "code",
      "execution_count": 142,
      "metadata": {
        "id": "d2Oj8sFP3xVI"
      },
      "outputs": [],
      "source": [
        "# We can do more than printing things:\n",
        "def my_sum(x,y):\n",
        "  z = x+y\n",
        "  return(z)"
      ]
    },
    {
      "cell_type": "code",
      "execution_count": 143,
      "metadata": {
        "colab": {
          "base_uri": "https://localhost:8080/"
        },
        "id": "BATLuskg4S-r",
        "outputId": "fad31ac2-a2fd-437d-c3d4-2e8ab50c70df"
      },
      "outputs": [
        {
          "data": {
            "text/plain": [
              "30"
            ]
          },
          "execution_count": 143,
          "metadata": {},
          "output_type": "execute_result"
        }
      ],
      "source": [
        "my_sum(10,20)"
      ]
    },
    {
      "cell_type": "code",
      "execution_count": 144,
      "metadata": {},
      "outputs": [
        {
          "name": "stdout",
          "output_type": "stream",
          "text": [
            "7\n"
          ]
        }
      ],
      "source": [
        "my_result = my_sum(2,5)\n",
        "print(my_result)"
      ]
    },
    {
      "cell_type": "code",
      "execution_count": 145,
      "metadata": {
        "id": "Cp98mg707vBH"
      },
      "outputs": [],
      "source": [
        "# Note that print and return are different!\n",
        "def my_greetprint(a):\n",
        "  print(a)\n",
        "\n",
        "def my_greetreturn(a):\n",
        "  return(a)\n",
        "\n",
        "def my_greetprintreturn(a):\n",
        "  return(print(a))\n",
        " \n",
        "def my_greetprint_and_return(a):\n",
        "  print(a)\n",
        "  return"
      ]
    },
    {
      "cell_type": "code",
      "execution_count": 146,
      "metadata": {
        "id": "7AKLrCuw8Oap"
      },
      "outputs": [],
      "source": [
        "a=\"Hello you!\""
      ]
    },
    {
      "cell_type": "code",
      "execution_count": 147,
      "metadata": {
        "id": "e5ckDvk-8RDt"
      },
      "outputs": [
        {
          "name": "stdout",
          "output_type": "stream",
          "text": [
            "Hello you!\n",
            "Hello you!\n",
            "Hello you!\n"
          ]
        }
      ],
      "source": [
        "my_greetprint(a)\n",
        "#my_greetreturn(a)\n",
        "my_greetprintreturn(a)\n",
        "my_greetprint_and_return(a)"
      ]
    },
    {
      "cell_type": "code",
      "execution_count": 148,
      "metadata": {
        "id": "BSPEwjAC4Vnt"
      },
      "outputs": [],
      "source": [
        "# We can also define functions with optional arguments\n",
        "def my_check(a,b=True):\n",
        "  c=(a==b)\n",
        "  return(c)"
      ]
    },
    {
      "cell_type": "code",
      "execution_count": 149,
      "metadata": {
        "colab": {
          "base_uri": "https://localhost:8080/"
        },
        "id": "-TvtRzsI4myl",
        "outputId": "7e49455a-acb3-48b2-924e-57be0d1e7c8e"
      },
      "outputs": [
        {
          "data": {
            "text/plain": [
              "False"
            ]
          },
          "execution_count": 149,
          "metadata": {},
          "output_type": "execute_result"
        }
      ],
      "source": [
        "my_check(True,False)"
      ]
    },
    {
      "cell_type": "code",
      "execution_count": 150,
      "metadata": {
        "id": "LfujBPQy4pGl"
      },
      "outputs": [
        {
          "ename": "TypeError",
          "evalue": "my_check() takes from 1 to 2 positional arguments but 3 were given",
          "output_type": "error",
          "traceback": [
            "\u001b[0;31m---------------------------------------------------------------------------\u001b[0m",
            "\u001b[0;31mTypeError\u001b[0m                                 Traceback (most recent call last)",
            "\u001b[0;32m<ipython-input-150-1d6ff311f986>\u001b[0m in \u001b[0;36m<module>\u001b[0;34m\u001b[0m\n\u001b[0;32m----> 1\u001b[0;31m \u001b[0mmy_check\u001b[0m\u001b[0;34m(\u001b[0m\u001b[0;32mTrue\u001b[0m\u001b[0;34m,\u001b[0m\u001b[0;32mFalse\u001b[0m\u001b[0;34m,\u001b[0m\u001b[0;32mTrue\u001b[0m\u001b[0;34m)\u001b[0m\u001b[0;34m\u001b[0m\u001b[0;34m\u001b[0m\u001b[0m\n\u001b[0m",
            "\u001b[0;31mTypeError\u001b[0m: my_check() takes from 1 to 2 positional arguments but 3 were given"
          ]
        }
      ],
      "source": [
        "my_check(True,False,True)"
      ]
    },
    {
      "cell_type": "code",
      "execution_count": null,
      "metadata": {
        "id": "fP-2lbxz48xu"
      },
      "outputs": [],
      "source": [
        "# Careful with defaults if you want to work with a changable default\n",
        "def my_add2list(x,y=[]):\n",
        "  y.append(x)\n",
        "  return(y)"
      ]
    },
    {
      "cell_type": "code",
      "execution_count": 158,
      "metadata": {},
      "outputs": [
        {
          "data": {
            "text/plain": [
              "[1, 'b', 'b']"
            ]
          },
          "execution_count": 158,
          "metadata": {},
          "output_type": "execute_result"
        }
      ],
      "source": [
        "my_add2list('b')"
      ]
    },
    {
      "cell_type": "code",
      "execution_count": 159,
      "metadata": {
        "id": "Yl16E6vP5weE"
      },
      "outputs": [],
      "source": [
        "# To escape this behavior do the following:\n",
        "def my_add2list(x,y=None):\n",
        "  if y==None:\n",
        "    y=[]\n",
        "  y.append(x)\n",
        "  return(y)"
      ]
    },
    {
      "cell_type": "code",
      "execution_count": 163,
      "metadata": {
        "colab": {
          "base_uri": "https://localhost:8080/"
        },
        "id": "xx_XyR1d6Mau",
        "outputId": "192a3a58-0c2d-4e23-e4f8-1e49bf9fbdde"
      },
      "outputs": [
        {
          "data": {
            "text/plain": [
              "[1]"
            ]
          },
          "execution_count": 163,
          "metadata": {},
          "output_type": "execute_result"
        }
      ],
      "source": [
        "my_add2list(1)"
      ]
    },
    {
      "cell_type": "markdown",
      "metadata": {
        "id": "DyVxemF37Ivg"
      },
      "source": [
        "## Quick Exercise:\n",
        "\n",
        "Create a function that takes 3 user inputs, `a`, `b`, and `c`.  Add these inputs to a list and return that list.  Your returned object should be a list of length 3."
      ]
    },
    {
      "cell_type": "code",
      "execution_count": null,
      "metadata": {
        "id": "0O5XFbTN6Pex"
      },
      "outputs": [],
      "source": [
        "# your code here\n",
        "def my_func(a,b,c):\n",
        "    my_list = [a,b,c]\n",
        "    return(my_list)"
      ]
    },
    {
      "cell_type": "code",
      "execution_count": null,
      "metadata": {},
      "outputs": [
        {
          "data": {
            "text/plain": [
              "[1, 2, 3]"
            ]
          },
          "execution_count": 95,
          "metadata": {},
          "output_type": "execute_result"
        }
      ],
      "source": [
        "my_func(1,2,3)"
      ]
    },
    {
      "cell_type": "markdown",
      "metadata": {
        "id": "PFhguAHJ9LZH"
      },
      "source": [
        "---"
      ]
    },
    {
      "cell_type": "code",
      "execution_count": null,
      "metadata": {
        "id": "mC8_HxKt9lJD"
      },
      "outputs": [],
      "source": [
        "# A slightly more complex example that makes a good use of the optional argument\n",
        "# with default value:\n",
        "\n",
        "def passing_grade(score, threshold=70):\n",
        "  if score >= threshold:\n",
        "    print(\"Passed\")\n",
        "  else:\n",
        "    print(\"Failed\")"
      ]
    },
    {
      "cell_type": "code",
      "execution_count": null,
      "metadata": {
        "colab": {
          "base_uri": "https://localhost:8080/"
        },
        "id": "UDhvRFiM9y2E",
        "outputId": "2ed53009-ad9b-4963-ae53-e1d9754aa219"
      },
      "outputs": [
        {
          "name": "stdout",
          "output_type": "stream",
          "text": [
            "Failed\n"
          ]
        }
      ],
      "source": [
        "# check\n",
        "passing_grade(50)"
      ]
    },
    {
      "cell_type": "markdown",
      "metadata": {
        "id": "1Wq3dxXM-Awa"
      },
      "source": [
        "## Exercise:\n",
        "Your turn. Create a function that takes two inputs, the purchased price and regular price. Your function should return the discount rate that was applied to the sale. You do not need to convert the decimal to a string representation of % for this exercise, for example if purchase price is 50, regular is 100, returning 0.5 works."
      ]
    },
    {
      "cell_type": "code",
      "execution_count": 67,
      "metadata": {
        "id": "uzxtAMT1_DRX"
      },
      "outputs": [],
      "source": [
        "# your code here\n",
        "def discount_rate(purchase_price, regular_price):\n",
        "    final_sale = 1-(purchase_price/regular_price)\n",
        "    if final_sale == 1:\n",
        "        return(\"It was Free!\")\n",
        "    else:\n",
        "        return(\"The discount rate was \", final_sale)\n"
      ]
    },
    {
      "cell_type": "code",
      "execution_count": 69,
      "metadata": {},
      "outputs": [
        {
          "data": {
            "text/plain": [
              "('The discount rate was ', 0.5)"
            ]
          },
          "execution_count": 69,
          "metadata": {},
          "output_type": "execute_result"
        }
      ],
      "source": [
        "discount_rate(50,100)"
      ]
    },
    {
      "cell_type": "markdown",
      "metadata": {
        "id": "VNjrkte9_l-y"
      },
      "source": [
        "---\n",
        "# Modules\n",
        "\n",
        "Modules are extensions to python that allow us to re-use and share functionality with each other.  We `import` these modules into our session when we need to use them.  Optionally, as we will see later, we can choose which modules we want to import from a much larger package, which avoids having to import the entire codebase.\n",
        "\n",
        "Python has a lot of standard modules and some we have been using so far:\n"
      ]
    },
    {
      "cell_type": "code",
      "execution_count": 70,
      "metadata": {
        "colab": {
          "base_uri": "https://localhost:8080/",
          "height": 35
        },
        "id": "je5WZ2r_AE7T",
        "outputId": "fa42ab87-917c-4c41-e397-7cef8fa1a1d0"
      },
      "outputs": [
        {
          "data": {
            "text/plain": [
              "'3.9.1 (default, Dec 11 2020, 06:28:49) \\n[Clang 10.0.0 ]'"
            ]
          },
          "execution_count": 70,
          "metadata": {},
          "output_type": "execute_result"
        }
      ],
      "source": [
        "import sys\n",
        "sys.version"
      ]
    },
    {
      "cell_type": "code",
      "execution_count": 71,
      "metadata": {
        "id": "lEsvWyRKAWn1"
      },
      "outputs": [
        {
          "ename": "SyntaxError",
          "evalue": "invalid syntax (<ipython-input-71-21c888c98d50>, line 2)",
          "output_type": "error",
          "traceback": [
            "\u001b[0;36m  File \u001b[0;32m\"<ipython-input-71-21c888c98d50>\"\u001b[0;36m, line \u001b[0;32m2\u001b[0m\n\u001b[0;31m    random.\u001b[0m\n\u001b[0m           ^\u001b[0m\n\u001b[0;31mSyntaxError\u001b[0m\u001b[0;31m:\u001b[0m invalid syntax\n"
          ]
        }
      ],
      "source": [
        "import random\n",
        "random."
      ]
    },
    {
      "cell_type": "markdown",
      "metadata": {
        "id": "MBAnw0QU_pDc"
      },
      "source": []
    }
  ],
  "metadata": {
    "colab": {
      "name": "02-FunctionsModules_Lecture.ipynb",
      "provenance": []
    },
    "interpreter": {
      "hash": "d54f36650e22a68b1e16ad067c04252fc93b1d0cce2a522804985f8fa0dd3c9b"
    },
    "kernelspec": {
      "display_name": "Python 3.9.1 64-bit (conda)",
      "name": "python3"
    },
    "language_info": {
      "codemirror_mode": {
        "name": "ipython",
        "version": 3
      },
      "file_extension": ".py",
      "mimetype": "text/x-python",
      "name": "python",
      "nbconvert_exporter": "python",
      "pygments_lexer": "ipython3",
      "version": "3.9.1"
    }
  },
  "nbformat": 4,
  "nbformat_minor": 0
}