{
 "cells": [
  {
   "cell_type": "code",
   "execution_count": null,
   "metadata": {},
   "outputs": [],
   "source": []
  }
 ],
 "metadata": {
  "interpreter": {
   "hash": "d54f36650e22a68b1e16ad067c04252fc93b1d0cce2a522804985f8fa0dd3c9b"
  },
  "kernelspec": {
   "display_name": "Python 3.9.1 64-bit (conda)",
   "name": "python3"
  },
  "language_info": {
   "name": "python",
   "version": ""
  },
  "orig_nbformat": 4
 },
 "nbformat": 4,
 "nbformat_minor": 2
}