{
 "cells": [
  {
   "cell_type": "code",
   "execution_count": 80,
   "metadata": {},
   "outputs": [],
   "source": [
    "import numpy as np\n",
    "import random\n",
    "import scipy"
   ]
  },
  {
   "cell_type": "code",
   "execution_count": 112,
   "metadata": {},
   "outputs": [],
   "source": [
    "def stocks(ndays=252):\n",
    "    starting_price = 100\n",
    "    daily_change = np.random.normal(loc=2,scale=1, size=ndays)\n",
    "    daily_price = []\n",
    "    price = starting_price\n",
    "    new_price = 0\n",
    "    below_sp = []\n",
    "    for _ in range(ndays):\n",
    "            price = starting_price+daily_change\n",
    "            daily_price.append(price)\n",
    "            array_dp = np.array(daily_price)\n",
    "            sim_negative_days = array_dp[array_dp<100]\n",
    "            below_sp.append((sim_negative_days))\n",
    "    #print(daily_price)\n",
    "    stock_dict = {\"returns\": daily_change, \"close\": daily_price, \"below\": below_sp }\n",
    "    print(stock_dict)\n"
   ]
  },
  {
   "cell_type": "code",
   "execution_count": 114,
   "metadata": {},
   "outputs": [],
   "source": [
    "call = stocks()"
   ]
  },
  {
   "cell_type": "code",
   "execution_count": 147,
   "metadata": {},
   "outputs": [
    {
     "name": "stdout",
     "output_type": "stream",
     "text": [
      "1931\n"
     ]
    }
   ],
   "source": [
    "from datetime import date\n",
    "\n",
    "# today's date ET:\n",
    "\n",
    "today = date.today()\n",
    "\n",
    "#date of the Paris Agreement\n",
    "\n",
    "PA = date(year = 2016, month=4, day=22)\n",
    "#days since (just report a number, no text):\n",
    "\n",
    "print((today-PA).days)"
   ]
  }
 ],
 "metadata": {
  "interpreter": {
   "hash": "d54f36650e22a68b1e16ad067c04252fc93b1d0cce2a522804985f8fa0dd3c9b"
  },
  "kernelspec": {
   "display_name": "Python 3.9.1 64-bit (conda)",
   "name": "python3"
  },
  "language_info": {
   "codemirror_mode": {
    "name": "ipython",
    "version": 3
   },
   "file_extension": ".py",
   "mimetype": "text/x-python",
   "name": "python",
   "nbconvert_exporter": "python",
   "pygments_lexer": "ipython3",
   "version": "3.9.1"
  },
  "orig_nbformat": 4
 },
 "nbformat": 4,
 "nbformat_minor": 2
}