{
 "cells": [
  {
   "cell_type": "code",
   "execution_count": 62,
   "metadata": {},
   "outputs": [],
   "source": [
    "import numpy as np \n",
    "import random"
   ]
  },
  {
   "cell_type": "code",
   "execution_count": 68,
   "metadata": {},
   "outputs": [],
   "source": [
    "def dealer (num_cards=2):\n",
    "    deck_of_cards = [('Hearts', 1), ('Hearts', 2),('Hearts', 3),('Hearts', 4),('Hearts', 5),('Hearts', 6),('Hearts', 7),('Hearts', 8),('Hearts', 9),('Hearts', 10), ('Hearts', 10), ('Hearts', 10),('Hearts', 10),\n",
    "    ('Clubs', 1),('Clubs', 2),('Clubs', 3),('Clubs', 4),('Clubs', 5),('Clubs', 6),('Clubs', 7),('Clubs', 8),('Clubs', 9),('Clubs', 10),('Clubs', 10),('Clubs', 10),('Clubs', 10), \n",
    "    ('Spades', 1),('Spades', 2),('Spades', 3),('Spades', 4),('Spades', 5),('Spades', 6),('Spades', 7),('Spades', 8),('Spades', 9),('Spades', 10),('Spades', 10), ('Spades', 10), ('Spades', 10),\n",
    "    ('Diamonds', 1),('Diamonds', 2),('Diamonds', 3), ('Diamonds', 4),('Diamonds', 5),('Diamonds', 6),('Diamonds', 7),('Diamonds', 8),('Diamonds', 9),('Diamonds', 10),('Diamonds', 10), ('Diamonds', 10),('Diamonds', 10)]\n",
    "    hand_output = deck_of_cards[:num_cards]\n",
    "    cards_dict = {\"full deck\": random.shuffle(deck_of_cards, len(deck_of_cards)), \"hand\": hand_output, \"pile\": deck_of_cards - len(hand_output)}\n",
    "    print(cards_dict)"
   ]
  },
  {
   "cell_type": "code",
   "execution_count": null,
   "metadata": {},
   "outputs": [],
   "source": []
  }
 ],
 "metadata": {
  "interpreter": {
   "hash": "d54f36650e22a68b1e16ad067c04252fc93b1d0cce2a522804985f8fa0dd3c9b"
  },
  "kernelspec": {
   "display_name": "Python 3.9.1 64-bit (conda)",
   "name": "python3"
  },
  "language_info": {
   "codemirror_mode": {
    "name": "ipython",
    "version": 3
   },
   "file_extension": ".py",
   "mimetype": "text/x-python",
   "name": "python",
   "nbconvert_exporter": "python",
   "pygments_lexer": "ipython3",
   "version": "3.9.1"
  },
  "orig_nbformat": 4
 },
 "nbformat": 4,
 "nbformat_minor": 2
}