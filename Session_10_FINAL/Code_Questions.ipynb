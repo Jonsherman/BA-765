{
 "cells": [
  {
   "cell_type": "code",
   "execution_count": 62,
   "metadata": {},
   "outputs": [],
   "source": [
    "import numpy as np \n",
    "import random"
   ]
  },
  {
   "cell_type": "code",
   "execution_count": 78,
   "metadata": {},
   "outputs": [],
   "source": [
    "def dealer (num_cards=2):\n",
    "    deck_of_cards = [('Hearts', 1), ('Hearts', 2),('Hearts', 3),('Hearts', 4),('Hearts', 5),('Hearts', 6),('Hearts', 7),('Hearts', 8),('Hearts', 9),('Hearts', 10), ('Hearts', 10), ('Hearts', 10),('Hearts', 10),\n",
    "    ('Clubs', 1),('Clubs', 2),('Clubs', 3),('Clubs', 4),('Clubs', 5),('Clubs', 6),('Clubs', 7),('Clubs', 8),('Clubs', 9),('Clubs', 10),('Clubs', 10),('Clubs', 10),('Clubs', 10), \n",
    "    ('Spades', 1),('Spades', 2),('Spades', 3),('Spades', 4),('Spades', 5),('Spades', 6),('Spades', 7),('Spades', 8),('Spades', 9),('Spades', 10),('Spades', 10), ('Spades', 10), ('Spades', 10),\n",
    "    ('Diamonds', 1),('Diamonds', 2),('Diamonds', 3), ('Diamonds', 4),('Diamonds', 5),('Diamonds', 6),('Diamonds', 7),('Diamonds', 8),('Diamonds', 9),('Diamonds', 10),('Diamonds', 10), ('Diamonds', 10),('Diamonds', 10)]\n",
    "    hand_output = deck_of_cards[:num_cards]\n",
    "    cards_left = []\n",
    "    for card in range(deck_of_cards):\n",
    "        if card in deck_of_cards == card in hand_output:\n",
    "            cards_left.appen(deck_of_cards.remove(card))\n",
    "\n",
    "    cards_dict = {\"full deck\": random.shuffle(deck_of_cards, len(deck_of_cards)), \"hand\": hand_output, \"pile\": cards_left}\n",
    "    \n",
    "    print(cards_dict)"
   ]
  },
  {
   "cell_type": "code",
   "execution_count": 76,
   "metadata": {},
   "outputs": [
    {
     "name": "stderr",
     "output_type": "stream",
     "text": [
      "<ipython-input-74-be3cabad404b>:8: DeprecationWarning: The *random* parameter to shuffle() has been deprecated\n",
      "since Python 3.9 and will be removed in a subsequent version.\n",
      "  cards_dict = {\"full deck\": random.shuffle(deck_of_cards, len(deck_of_cards)), \"hand\": hand_output, \"pile\": deck_of_cards - len(hand_output)}\n"
     ]
    },
    {
     "ename": "TypeError",
     "evalue": "'int' object is not callable",
     "output_type": "error",
     "traceback": [
      "\u001b[0;31m---------------------------------------------------------------------------\u001b[0m",
      "\u001b[0;31mTypeError\u001b[0m                                 Traceback (most recent call last)",
      "\u001b[0;32m<ipython-input-76-f12948321624>\u001b[0m in \u001b[0;36m<module>\u001b[0;34m\u001b[0m\n\u001b[0;32m----> 1\u001b[0;31m \u001b[0mdealer\u001b[0m\u001b[0;34m(\u001b[0m\u001b[0;34m)\u001b[0m\u001b[0;34m\u001b[0m\u001b[0;34m\u001b[0m\u001b[0m\n\u001b[0m",
      "\u001b[0;32m<ipython-input-74-be3cabad404b>\u001b[0m in \u001b[0;36mdealer\u001b[0;34m(num_cards)\u001b[0m\n\u001b[1;32m      6\u001b[0m     \u001b[0mhand_output\u001b[0m \u001b[0;34m=\u001b[0m \u001b[0mdeck_of_cards\u001b[0m\u001b[0;34m[\u001b[0m\u001b[0;34m:\u001b[0m\u001b[0mnum_cards\u001b[0m\u001b[0;34m]\u001b[0m\u001b[0;34m\u001b[0m\u001b[0;34m\u001b[0m\u001b[0m\n\u001b[1;32m      7\u001b[0m \u001b[0;34m\u001b[0m\u001b[0m\n\u001b[0;32m----> 8\u001b[0;31m     \u001b[0mcards_dict\u001b[0m \u001b[0;34m=\u001b[0m \u001b[0;34m{\u001b[0m\u001b[0;34m\"full deck\"\u001b[0m\u001b[0;34m:\u001b[0m \u001b[0mrandom\u001b[0m\u001b[0;34m.\u001b[0m\u001b[0mshuffle\u001b[0m\u001b[0;34m(\u001b[0m\u001b[0mdeck_of_cards\u001b[0m\u001b[0;34m,\u001b[0m \u001b[0mlen\u001b[0m\u001b[0;34m(\u001b[0m\u001b[0mdeck_of_cards\u001b[0m\u001b[0;34m)\u001b[0m\u001b[0;34m)\u001b[0m\u001b[0;34m,\u001b[0m \u001b[0;34m\"hand\"\u001b[0m\u001b[0;34m:\u001b[0m \u001b[0mhand_output\u001b[0m\u001b[0;34m,\u001b[0m \u001b[0;34m\"pile\"\u001b[0m\u001b[0;34m:\u001b[0m \u001b[0mdeck_of_cards\u001b[0m \u001b[0;34m-\u001b[0m \u001b[0mlen\u001b[0m\u001b[0;34m(\u001b[0m\u001b[0mhand_output\u001b[0m\u001b[0;34m)\u001b[0m\u001b[0;34m}\u001b[0m\u001b[0;34m\u001b[0m\u001b[0;34m\u001b[0m\u001b[0m\n\u001b[0m\u001b[1;32m      9\u001b[0m \u001b[0;34m\u001b[0m\u001b[0m\n\u001b[1;32m     10\u001b[0m     \u001b[0mprint\u001b[0m\u001b[0;34m(\u001b[0m\u001b[0mcards_dict\u001b[0m\u001b[0;34m)\u001b[0m\u001b[0;34m\u001b[0m\u001b[0;34m\u001b[0m\u001b[0m\n",
      "\u001b[0;32m/Applications/miniconda3/lib/python3.9/random.py\u001b[0m in \u001b[0;36mshuffle\u001b[0;34m(self, x, random)\u001b[0m\n\u001b[1;32m    369\u001b[0m             \u001b[0;32mfor\u001b[0m \u001b[0mi\u001b[0m \u001b[0;32min\u001b[0m \u001b[0mreversed\u001b[0m\u001b[0;34m(\u001b[0m\u001b[0mrange\u001b[0m\u001b[0;34m(\u001b[0m\u001b[0;36m1\u001b[0m\u001b[0;34m,\u001b[0m \u001b[0mlen\u001b[0m\u001b[0;34m(\u001b[0m\u001b[0mx\u001b[0m\u001b[0;34m)\u001b[0m\u001b[0;34m)\u001b[0m\u001b[0;34m)\u001b[0m\u001b[0;34m:\u001b[0m\u001b[0;34m\u001b[0m\u001b[0;34m\u001b[0m\u001b[0m\n\u001b[1;32m    370\u001b[0m                 \u001b[0;31m# pick an element in x[:i+1] with which to exchange x[i]\u001b[0m\u001b[0;34m\u001b[0m\u001b[0;34m\u001b[0m\u001b[0;34m\u001b[0m\u001b[0m\n\u001b[0;32m--> 371\u001b[0;31m                 \u001b[0mj\u001b[0m \u001b[0;34m=\u001b[0m \u001b[0mfloor\u001b[0m\u001b[0;34m(\u001b[0m\u001b[0mrandom\u001b[0m\u001b[0;34m(\u001b[0m\u001b[0;34m)\u001b[0m \u001b[0;34m*\u001b[0m \u001b[0;34m(\u001b[0m\u001b[0mi\u001b[0m \u001b[0;34m+\u001b[0m \u001b[0;36m1\u001b[0m\u001b[0;34m)\u001b[0m\u001b[0;34m)\u001b[0m\u001b[0;34m\u001b[0m\u001b[0;34m\u001b[0m\u001b[0m\n\u001b[0m\u001b[1;32m    372\u001b[0m                 \u001b[0mx\u001b[0m\u001b[0;34m[\u001b[0m\u001b[0mi\u001b[0m\u001b[0;34m]\u001b[0m\u001b[0;34m,\u001b[0m \u001b[0mx\u001b[0m\u001b[0;34m[\u001b[0m\u001b[0mj\u001b[0m\u001b[0;34m]\u001b[0m \u001b[0;34m=\u001b[0m \u001b[0mx\u001b[0m\u001b[0;34m[\u001b[0m\u001b[0mj\u001b[0m\u001b[0;34m]\u001b[0m\u001b[0;34m,\u001b[0m \u001b[0mx\u001b[0m\u001b[0;34m[\u001b[0m\u001b[0mi\u001b[0m\u001b[0;34m]\u001b[0m\u001b[0;34m\u001b[0m\u001b[0;34m\u001b[0m\u001b[0m\n\u001b[1;32m    373\u001b[0m \u001b[0;34m\u001b[0m\u001b[0m\n",
      "\u001b[0;31mTypeError\u001b[0m: 'int' object is not callable"
     ]
    }
   ],
   "source": []
  },
  {
   "cell_type": "code",
   "execution_count": 73,
   "metadata": {},
   "outputs": [
    {
     "ename": "SyntaxError",
     "evalue": "closing parenthesis ']' does not match opening parenthesis '{' (<ipython-input-73-cb76e65b8d3e>, line 5)",
     "output_type": "error",
     "traceback": [
      "\u001b[0;36m  File \u001b[0;32m\"<ipython-input-73-cb76e65b8d3e>\"\u001b[0;36m, line \u001b[0;32m5\u001b[0m\n\u001b[0;31m    final_return = [{\"hand\": cards_dealt, \"hand_total\": sum(cards_delt), \"Wallet\": wallet]\u001b[0m\n\u001b[0m                                                                                         ^\u001b[0m\n\u001b[0;31mSyntaxError\u001b[0m\u001b[0;31m:\u001b[0m closing parenthesis ']' does not match opening parenthesis '{'\n"
     ]
    }
   ],
   "source": [
    "def twenty1():\n",
    "    wallet = 100\n",
    "    game_cost = -10\n",
    "    cards_delt = dealer(np.random.choice(2,3,p=[0.5,0.5]))\n",
    "    final_return = [{\"hand\": cards_dealt, \"hand_total\": sum(cards_delt), \"Wallet\": wallet}]\n",
    "    for _ range(100):\n",
    "        while wallet > 0:\n",
    "            if sum(cards_delt) <= 16 or sum(cards_delt) > 22:\n",
    "                wallet += game_cost\n",
    "            elif sum(cards_delt) == 17 or sum(cards_delt) == 18 or sum(cards_delt) == 19 or sum(cards_delt) == 20 :\n",
    "                wallet += 10 + game_cost\n",
    "            elif sum(cards_delt) == 21:\n",
    "                wallet += 50 + game_cost\n",
    "        final_return.append([3][wallet])\n",
    "    print(final_return)\n",
    "        \n",
    "    "
   ]
  }
 ],
 "metadata": {
  "interpreter": {
   "hash": "d54f36650e22a68b1e16ad067c04252fc93b1d0cce2a522804985f8fa0dd3c9b"
  },
  "kernelspec": {
   "display_name": "Python 3.9.1 64-bit (conda)",
   "name": "python3"
  },
  "language_info": {
   "codemirror_mode": {
    "name": "ipython",
    "version": 3
   },
   "file_extension": ".py",
   "mimetype": "text/x-python",
   "name": "python",
   "nbconvert_exporter": "python",
   "pygments_lexer": "ipython3",
   "version": "3.9.1"
  },
  "orig_nbformat": 4
 },
 "nbformat": 4,
 "nbformat_minor": 2
}