{
  "cells": [
    {
      "cell_type": "markdown",
      "metadata": {},
      "source": [
        " Room 6\n",
        "Names and Emails : Jon Sherman, shermj@bu.edu  ZIXING LI, jessili@bu.edu Cordell Williams, cordellw@bu.edu Geechhor Huot ghhuot@bu.edu"
      ]
    },
    {
      "cell_type": "code",
      "execution_count": 28,
      "metadata": {},
      "outputs": [
        {
          "data": {
            "text/plain": [
              "dict_values(['Jon', ['Dictionary', 'Lists', 'Sets', 'Tuples'], [3, 2, 9, 3, 11]])"
            ]
          },
          "execution_count": 28,
          "metadata": {},
          "output_type": "execute_result"
        }
      ],
      "source": [
        "import random\n",
        "rand_list = random.choices(range(2,13), k=5)\n",
        "breakout_room_dict = {'first': 'Jon', 'types': ['Dictionary' , 'Lists', 'Sets', 'Tuples'], 'random': rand_list}\n",
        "\n",
        "breakout_room_dict.values()\n"
      ]
    },
    {
      "cell_type": "markdown",
      "metadata": {},
      "source": []
    }
  ],
  "metadata": {
    "colab": {
      "name": "Session_4_Class_Work.ipynb",
      "provenance": []
    },
    "interpreter": {
      "hash": "d54f36650e22a68b1e16ad067c04252fc93b1d0cce2a522804985f8fa0dd3c9b"
    },
    "kernelspec": {
      "display_name": "Python 3.9.1 64-bit (conda)",
      "name": "python3"
    },
    "language_info": {
      "codemirror_mode": {
        "name": "ipython",
        "version": 3
      },
      "file_extension": ".py",
      "mimetype": "text/x-python",
      "name": "python",
      "nbconvert_exporter": "python",
      "pygments_lexer": "ipython3",
      "version": "3.9.1"
    }
  },
  "nbformat": 4,
  "nbformat_minor": 0
}