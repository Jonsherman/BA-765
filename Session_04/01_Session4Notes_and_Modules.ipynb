{
  "nbformat": 4,
  "nbformat_minor": 0,
  "metadata": {
    "colab": {
      "name": "01-Session4Notes_and_Modules.ipynb",
      "provenance": []
    },
    "kernelspec": {
      "name": "python3",
      "display_name": "Python 3"
    },
    "language_info": {
      "name": "python"
    }
  },
  "cells": [
    {
      "cell_type": "markdown",
      "metadata": {
        "id": "-3hum1RSEB9N"
      },
      "source": [
        "# Session 04\n",
        "07/15/2021"
      ]
    },
    {
      "cell_type": "markdown",
      "metadata": {
        "id": "HdBmYKSSERGF"
      },
      "source": [
        "## Notes\n",
        "* Assignments and in general course instructions: Please read them carefully. Operating with should be a part of your learning goal.\n",
        "* Blanket 10\\% late submission penalty for this time only. \n",
        "* Problems with Qtools? Zoom? Operating system oddities? QuestromIT is a graet resource, please use.\n",
        "* 20 ppl never made it to DataCamp\n",
        "* Are you already too familiar with python for an intro class? Need more exercises? Try Dataquest - no videos, but project based learning. Or look for beginner friendly projects to build a portfolio with: https://www.programmingcube.com/python-projects-beginners/ Another interesting source is daily coding challenges from https://www.reddit.com/r/dailyprogrammer/\n",
        "---\n",
        "* Today: In-class exercise in breakout rooms\n",
        "* Tomorrow: Assignment will be open tomorrow on Qtools.\n",
        "* 7/20 : Assignment due*\n",
        "* 7/20 : Quiz on numpy reading material (notebook)\n",
        "* 7/22 : Midterm\n"
      ]
    },
    {
      "cell_type": "markdown",
      "metadata": {
        "id": "fqI-GbQfP3O9"
      },
      "source": [
        "## Outline\n",
        "\n",
        "* Modules \n",
        "* Control flow: loops and conditionals\n",
        "* Lab exercises*\n",
        "* Intro to numpy*"
      ]
    },
    {
      "cell_type": "markdown",
      "metadata": {
        "id": "ERyCrocvF-qA"
      },
      "source": [
        "# Modules\n",
        "Modules are extensions to python that allow us to re-use and share functionality with each other.  We `import` these modules into our session when we need to use them.  Optionally, as we will see later, we can choose which modules we want to import from a much larger package, which avoids having to import the entire codebase.\n",
        "\n",
        "Python has a lot of standard modules and some we have been using so far:\n",
        "\n",
        "(See the complete list of standard modules here:\n",
        "https://docs.python.org/3/library/index.html )"
      ]
    },
    {
      "cell_type": "code",
      "metadata": {
        "id": "kpsKxEFrD-t8"
      },
      "source": [
        "import sys\n",
        "sys.version"
      ],
      "execution_count": null,
      "outputs": []
    },
    {
      "cell_type": "code",
      "metadata": {
        "id": "uaFoGfSAGLLi"
      },
      "source": [
        "# Some new useful ones:\n",
        "import random\n",
        "import os"
      ],
      "execution_count": null,
      "outputs": []
    },
    {
      "cell_type": "code",
      "metadata": {
        "id": "N9aF3OXt4MmZ"
      },
      "source": [
        "random.choices([1,2,3], k=5)"
      ],
      "execution_count": null,
      "outputs": []
    },
    {
      "cell_type": "code",
      "metadata": {
        "id": "3rtJqN0KIp5F"
      },
      "source": [
        "# os is actually a familiar one - it allows us to access OS functions\n",
        "# like the ones we used from shell\n",
        "# like pwd\n",
        "os.getcwd()"
      ],
      "execution_count": null,
      "outputs": []
    },
    {
      "cell_type": "code",
      "metadata": {
        "id": "GPdI3gzPIv6U"
      },
      "source": [
        "# like ls\n",
        "os.listdir()"
      ],
      "execution_count": null,
      "outputs": []
    },
    {
      "cell_type": "code",
      "metadata": {
        "id": "ph90pz3KIyNb"
      },
      "source": [
        "# like cd\n",
        "os.chdir('sample_data')"
      ],
      "execution_count": null,
      "outputs": []
    },
    {
      "cell_type": "code",
      "metadata": {
        "id": "eDpZZrFBI4do"
      },
      "source": [
        "os.getcwd()"
      ],
      "execution_count": null,
      "outputs": []
    },
    {
      "cell_type": "code",
      "metadata": {
        "id": "IJKDNn7d6IGH"
      },
      "source": [
        "# Student question - how to reach GitHub directory?\n",
        "#-Documents\n",
        "#--GitHub\n",
        "# \n",
        "# either\n",
        "# cd Documents\n",
        "# cd GitHub\n",
        "# or\n",
        "# cd Documents/GitHub"
      ],
      "execution_count": null,
      "outputs": []
    },
    {
      "cell_type": "code",
      "metadata": {
        "id": "Nozoa7Dy5sPy"
      },
      "source": [
        "os.listdir()"
      ],
      "execution_count": null,
      "outputs": []
    },
    {
      "cell_type": "code",
      "metadata": {
        "id": "KGpkWKPFJJDx"
      },
      "source": [
        "os.getcwd()"
      ],
      "execution_count": null,
      "outputs": []
    },
    {
      "cell_type": "code",
      "metadata": {
        "id": "yoYMMkEyI8RV"
      },
      "source": [
        "os.chdir('../.')"
      ],
      "execution_count": null,
      "outputs": []
    },
    {
      "cell_type": "code",
      "metadata": {
        "id": "KXlOPO6e8ZQR"
      },
      "source": [
        "os.getcwd()"
      ],
      "execution_count": null,
      "outputs": []
    },
    {
      "cell_type": "code",
      "metadata": {
        "id": "dP7jU7O_8qDD"
      },
      "source": [
        "# Directories of the same name can exist at different locations:\n",
        "os.mkdir('myDir')\n",
        "os.chdir('myDir')\n",
        "os.mkdir('sample_data')"
      ],
      "execution_count": null,
      "outputs": []
    },
    {
      "cell_type": "code",
      "metadata": {
        "id": "IuXuF28B82sD"
      },
      "source": [
        "os.getcwd()"
      ],
      "execution_count": null,
      "outputs": []
    },
    {
      "cell_type": "code",
      "metadata": {
        "id": "JFNKlkXH85fB"
      },
      "source": [
        "os.listdir()"
      ],
      "execution_count": null,
      "outputs": []
    },
    {
      "cell_type": "code",
      "metadata": {
        "id": "OURkZaY99Dmk"
      },
      "source": [
        "os.chdir('../.')\n",
        "# this is equivalent to \"os.chdir('..')\""
      ],
      "execution_count": null,
      "outputs": []
    },
    {
      "cell_type": "code",
      "metadata": {
        "id": "-MVYwW9L9H6h"
      },
      "source": [
        "os.getcwd()"
      ],
      "execution_count": null,
      "outputs": []
    },
    {
      "cell_type": "code",
      "metadata": {
        "id": "hpRU0zmF9N5U"
      },
      "source": [
        "os.chdir('myDir/sample_data')\n",
        "os.getcwd()"
      ],
      "execution_count": null,
      "outputs": []
    },
    {
      "cell_type": "code",
      "metadata": {
        "id": "dz1j6hoO9vve"
      },
      "source": [
        "# Student question: Can we change directory to hidden directories?\n"
      ],
      "execution_count": null,
      "outputs": []
    },
    {
      "cell_type": "markdown",
      "metadata": {
        "id": "vTXU8Os6JQTm"
      },
      "source": [
        "## External libraries\n",
        "\n",
        "Not all modules are going to be loaded within our python environment from start, like random and os were. Sometimes we will need to install them first. For that we can use `pip` as in the following:"
      ]
    },
    {
      "cell_type": "code",
      "metadata": {
        "id": "1lXmSDPwJNSn"
      },
      "source": [
        "! pip install emoji "
      ],
      "execution_count": null,
      "outputs": []
    },
    {
      "cell_type": "code",
      "metadata": {
        "id": "fmzl0Tq4Jtlu"
      },
      "source": [
        "from emoji import emojize \n",
        "# Thanks @Urvashi Tripathi for the cheatsheet:\n",
        "# https://github.com/ikatyang/emoji-cheat-sheet/blob/master/README.md\n",
        "\n",
        "\n",
        "emojize(\":thumbs_up:\")"
      ],
      "execution_count": null,
      "outputs": []
    },
    {
      "cell_type": "markdown",
      "metadata": {
        "id": "D2dftdQTJ6lp"
      },
      "source": [
        "> Above, note the user of the command !.  This is specific to coding in notebook environments, and allows us to install just as we would locally on our computer.  `pip install` is generally how we can add one of thousands of packages from the python package index, `pypi`\n",
        "\n",
        "https://pypi.org/\n",
        "\n",
        "Because Colab is here to make our lives easier, there are a number of great data analysis packages already \"installed\" for us, we simply have to import them.  However, as we just saw, adding new packages is easy to do, but remember, after our session is terminated, we will need to install these packages again.\n",
        "\n",
        "\n",
        "For those of you that are new to python, here are some fun packages to get you thinking about what is possible:\n",
        "\n",
        "1.  `pantab` = convert pandas DataFrames to Tableau data extracts\n",
        "1.  `simple-salesforce` = utilities to work with the Salesforce CRM APIs\n",
        "1.  `tweepy` = Interface into the Twitter API\n",
        "1.  `pygame` = Build games in python\n",
        "1.  `MoviePy` = Video editing\n",
        "\n"
      ]
    },
    {
      "cell_type": "code",
      "metadata": {
        "id": "IcCjp2G7QqFE"
      },
      "source": [
        "! pip install faker"
      ],
      "execution_count": null,
      "outputs": []
    },
    {
      "cell_type": "code",
      "metadata": {
        "id": "slXhTcNYVSe6"
      },
      "source": [
        "import faker"
      ],
      "execution_count": null,
      "outputs": []
    },
    {
      "cell_type": "code",
      "metadata": {
        "id": "QRe2Vn9-VYQ8"
      },
      "source": [
        "# a basic example of faker\n",
        "from faker import Faker\n",
        "my_fake = Faker()"
      ],
      "execution_count": null,
      "outputs": []
    },
    {
      "cell_type": "code",
      "metadata": {
        "id": "o8Hflyb6VsKl"
      },
      "source": [
        "my_fake.color_name()"
      ],
      "execution_count": null,
      "outputs": []
    },
    {
      "cell_type": "code",
      "metadata": {
        "id": "oFwDpHe9VvHf"
      },
      "source": [
        "my_fake.credit_card_full()"
      ],
      "execution_count": null,
      "outputs": []
    },
    {
      "cell_type": "markdown",
      "metadata": {
        "id": "5otdAAw3XHth"
      },
      "source": [
        "One more feature I would like to call out about modules is aliasing - we saw this before:"
      ]
    },
    {
      "cell_type": "code",
      "metadata": {
        "id": "7oAwirHXKIna"
      },
      "source": [
        "import numpy as np"
      ],
      "execution_count": null,
      "outputs": []
    },
    {
      "cell_type": "code",
      "metadata": {
        "id": "m39K6uSHKOY9"
      },
      "source": [
        "np.random.choice([1,2,33])"
      ],
      "execution_count": null,
      "outputs": []
    },
    {
      "cell_type": "markdown",
      "metadata": {
        "id": "fcKJcGr1LF41"
      },
      "source": [
        "## Shell access from Colab:\n",
        "`!` was a special symbol that allowed us to access the terminal and give a command to the computer. Could we use it to interact with the server OS, like shell? Yes! "
      ]
    },
    {
      "cell_type": "code",
      "metadata": {
        "id": "pW79RqzSLXvK"
      },
      "source": [
        "! pwd"
      ],
      "execution_count": null,
      "outputs": []
    },
    {
      "cell_type": "code",
      "metadata": {
        "id": "kv30JKfdLYUc"
      },
      "source": [
        "! ls"
      ],
      "execution_count": null,
      "outputs": []
    },
    {
      "cell_type": "markdown",
      "metadata": {
        "id": "H8GxhVyQN-C-"
      },
      "source": [
        "Let's use this to make a new directory, and upload a new module there. You can find the module file `ba765.py` in Qtools under Session04. "
      ]
    },
    {
      "cell_type": "code",
      "metadata": {
        "id": "ckSiQyiJMKB0"
      },
      "source": [
        "! mkdir my_modules"
      ],
      "execution_count": null,
      "outputs": []
    },
    {
      "cell_type": "code",
      "metadata": {
        "id": "Z3f7aQvgMMZP"
      },
      "source": [
        "! ls"
      ],
      "execution_count": null,
      "outputs": []
    },
    {
      "cell_type": "markdown",
      "metadata": {
        "id": "QK72bT8s5e-x"
      },
      "source": [
        "Upload the file `ba765.py` to `my_modules` directory - check if it is really there:"
      ]
    },
    {
      "cell_type": "code",
      "metadata": {
        "id": "zp3ZUsgHLhea"
      },
      "source": [
        "! ls my_modules/"
      ],
      "execution_count": null,
      "outputs": []
    },
    {
      "cell_type": "markdown",
      "metadata": {
        "id": "qbkyfraROLtf"
      },
      "source": [
        "For python to be able to `import` our module, we need to put it on the system \"path\", i.e. where import function searches for modules:"
      ]
    },
    {
      "cell_type": "code",
      "metadata": {
        "id": "_xY3wfYIMxU5"
      },
      "source": [
        "sys.path.insert(0,'my_modules')\n",
        "import ba765"
      ],
      "execution_count": null,
      "outputs": []
    },
    {
      "cell_type": "markdown",
      "metadata": {
        "id": "fkOD9BSFOWHS"
      },
      "source": [
        "Once we successfully load the module, we can explore its content:"
      ]
    },
    {
      "cell_type": "code",
      "metadata": {
        "id": "TJQbV_ntMz7o"
      },
      "source": [
        "ba765.guessing_game()"
      ],
      "execution_count": null,
      "outputs": []
    },
    {
      "cell_type": "code",
      "metadata": {
        "id": "3g0HvqJNOtgo"
      },
      "source": [
        ""
      ],
      "execution_count": null,
      "outputs": []
    },
    {
      "cell_type": "code",
      "metadata": {
        "id": "igpIN6ZjN1dY"
      },
      "source": [
        ""
      ],
      "execution_count": null,
      "outputs": []
    },
    {
      "cell_type": "code",
      "metadata": {
        "id": "w489dTzUMv6C"
      },
      "source": [
        ""
      ],
      "execution_count": null,
      "outputs": []
    },
    {
      "cell_type": "markdown",
      "metadata": {
        "id": "DCRHb7BQG14z"
      },
      "source": [
        "# Quick Exercise in Breakout Room:\n",
        "\n",
        "This is our first in-class exercise! It is graded as Pass/Fail.\n",
        "\n",
        "Create a dictionary that has the following key value pairs:\n",
        "\n",
        "- `first` which includes your first name\n",
        "- `types` which includes a list of the data structures that we have covered (not data types)\n",
        "- `random` which is 5 randomly selected numbers from 2 to 12 returned as a list of length 5\n",
        "\n",
        "hint:\n",
        "\n",
        "\n",
        "```\n",
        "import random\n",
        "my_rand_list = random.choices(...)\n",
        "```\n",
        "\n"
      ]
    }
  ]
}