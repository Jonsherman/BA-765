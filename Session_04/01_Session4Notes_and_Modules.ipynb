{
  "cells": [
    {
      "cell_type": "markdown",
      "metadata": {
        "id": "-3hum1RSEB9N"
      },
      "source": [
        "# Session 04\n",
        "07/15/2021"
      ]
    },
    {
      "cell_type": "markdown",
      "metadata": {
        "id": "HdBmYKSSERGF"
      },
      "source": [
        "## Notes\n",
        "* Assignments and in general course instructions: Please read them carefully. Operating with should be a part of your learning goal.\n",
        "* Blanket 10\\% late submission penalty for this time only. \n",
        "* Problems with Qtools? Zoom? Operating system oddities? QuestromIT is a graet resource, please use.\n",
        "* 20 ppl never made it to DataCamp\n",
        "* Are you already too familiar with python for an intro class? Need more exercises? Try Dataquest - no videos, but project based learning. Or look for beginner friendly projects to build a portfolio with: https://www.programmingcube.com/python-projects-beginners/ Another interesting source is daily coding challenges from https://www.reddit.com/r/dailyprogrammer/\n",
        "---\n",
        "* Today: In-class exercise in breakout rooms\n",
        "* Tomorrow: Assignment will be open tomorrow on Qtools.\n",
        "* 7/20 : Assignment due*\n",
        "* 7/20 : Quiz on numpy reading material (notebook)\n",
        "* 7/22 : Midterm\n"
      ]
    },
    {
      "cell_type": "markdown",
      "metadata": {
        "id": "fqI-GbQfP3O9"
      },
      "source": [
        "## Outline\n",
        "\n",
        "* Modules \n",
        "* Control flow: loops and conditionals\n",
        "* Lab exercises*\n",
        "* Intro to numpy*"
      ]
    },
    {
      "cell_type": "markdown",
      "metadata": {
        "id": "ERyCrocvF-qA"
      },
      "source": [
        "# Modules\n",
        "Modules are extensions to python that allow us to re-use and share functionality with each other.  We `import` these modules into our session when we need to use them.  Optionally, as we will see later, we can choose which modules we want to import from a much larger package, which avoids having to import the entire codebase.\n",
        "\n",
        "Python has a lot of standard modules and some we have been using so far:\n",
        "\n",
        "(See the complete list of standard modules here:\n",
        "https://docs.python.org/3/library/index.html )"
      ]
    },
    {
      "cell_type": "code",
      "execution_count": 148,
      "metadata": {
        "id": "kpsKxEFrD-t8"
      },
      "outputs": [
        {
          "data": {
            "text/plain": [
              "'3.9.1 (default, Dec 11 2020, 06:28:49) \\n[Clang 10.0.0 ]'"
            ]
          },
          "execution_count": 148,
          "metadata": {},
          "output_type": "execute_result"
        }
      ],
      "source": [
        "import sys\n",
        "sys.version"
      ]
    },
    {
      "cell_type": "code",
      "execution_count": 149,
      "metadata": {
        "id": "uaFoGfSAGLLi"
      },
      "outputs": [],
      "source": [
        "# Some new useful ones:\n",
        "import random\n",
        "import os"
      ]
    },
    {
      "cell_type": "code",
      "execution_count": 198,
      "metadata": {
        "id": "N9aF3OXt4MmZ"
      },
      "outputs": [
        {
          "data": {
            "text/plain": [
              "[3]"
            ]
          },
          "execution_count": 198,
          "metadata": {},
          "output_type": "execute_result"
        }
      ],
      "source": [
        "random.choices([1,2,3], k=1)"
      ]
    },
    {
      "cell_type": "code",
      "execution_count": 151,
      "metadata": {
        "id": "3rtJqN0KIp5F"
      },
      "outputs": [
        {
          "data": {
            "text/plain": [
              "'/Users/jonnysherman/Documents/GitHub/BA-765/Session_04'"
            ]
          },
          "execution_count": 151,
          "metadata": {},
          "output_type": "execute_result"
        }
      ],
      "source": [
        "# os is actually a familiar one - it allows us to access OS functions\n",
        "# like the ones we used from shell\n",
        "# like pwd\n",
        "os.getcwd()"
      ]
    },
    {
      "cell_type": "code",
      "execution_count": 152,
      "metadata": {
        "id": "GPdI3gzPIv6U"
      },
      "outputs": [
        {
          "data": {
            "text/plain": [
              "['.DS_Store',\n",
              " '03_FunctionsMethodsLoops_Lab.ipynb',\n",
              " '01_Session4Notes_and_Modules.ipynb',\n",
              " '04_IntroToNumpy_Lecture.ipynb',\n",
              " '02_LoopsConditionals_Lecture.ipynb',\n",
              " 'mydir',\n",
              " 'my_modules']"
            ]
          },
          "execution_count": 152,
          "metadata": {},
          "output_type": "execute_result"
        }
      ],
      "source": [
        "# like ls\n",
        "os.listdir()"
      ]
    },
    {
      "cell_type": "code",
      "execution_count": 153,
      "metadata": {
        "id": "ph90pz3KIyNb"
      },
      "outputs": [
        {
          "data": {
            "text/plain": [
              "['.DS_Store',\n",
              " '03_FunctionsMethodsLoops_Lab.ipynb',\n",
              " '01_Session4Notes_and_Modules.ipynb',\n",
              " '04_IntroToNumpy_Lecture.ipynb',\n",
              " '02_LoopsConditionals_Lecture.ipynb',\n",
              " 'mydir',\n",
              " 'my_modules']"
            ]
          },
          "execution_count": 153,
          "metadata": {},
          "output_type": "execute_result"
        }
      ],
      "source": [
        "# like cd\n",
        "os.listdir()"
      ]
    },
    {
      "cell_type": "code",
      "execution_count": 154,
      "metadata": {
        "id": "eDpZZrFBI4do"
      },
      "outputs": [
        {
          "data": {
            "text/plain": [
              "'/Users/jonnysherman/Documents/GitHub/BA-765/Session_04'"
            ]
          },
          "execution_count": 154,
          "metadata": {},
          "output_type": "execute_result"
        }
      ],
      "source": [
        "os.getcwd()"
      ]
    },
    {
      "cell_type": "code",
      "execution_count": 155,
      "metadata": {
        "id": "IJKDNn7d6IGH"
      },
      "outputs": [],
      "source": [
        "# Student question - how to reach GitHub directory?\n",
        "#-Documents\n",
        "#--GitHub\n",
        "# \n",
        "# either\n",
        "# cd Documents\n",
        "# cd GitHub\n",
        "# or\n",
        "# cd Documents/GitHub"
      ]
    },
    {
      "cell_type": "code",
      "execution_count": 156,
      "metadata": {
        "id": "Nozoa7Dy5sPy"
      },
      "outputs": [
        {
          "data": {
            "text/plain": [
              "['.DS_Store',\n",
              " '03_FunctionsMethodsLoops_Lab.ipynb',\n",
              " '01_Session4Notes_and_Modules.ipynb',\n",
              " '04_IntroToNumpy_Lecture.ipynb',\n",
              " '02_LoopsConditionals_Lecture.ipynb',\n",
              " 'mydir',\n",
              " 'my_modules']"
            ]
          },
          "execution_count": 156,
          "metadata": {},
          "output_type": "execute_result"
        }
      ],
      "source": [
        "os.listdir()"
      ]
    },
    {
      "cell_type": "code",
      "execution_count": 157,
      "metadata": {
        "id": "KGpkWKPFJJDx"
      },
      "outputs": [
        {
          "data": {
            "text/plain": [
              "'/Users/jonnysherman/Documents/GitHub/BA-765/Session_04'"
            ]
          },
          "execution_count": 157,
          "metadata": {},
          "output_type": "execute_result"
        }
      ],
      "source": [
        "os.getcwd()"
      ]
    },
    {
      "cell_type": "code",
      "execution_count": 158,
      "metadata": {
        "id": "yoYMMkEyI8RV"
      },
      "outputs": [],
      "source": [
        "# sanme as #cd ../.\n",
        "os.chdir('../.')"
      ]
    },
    {
      "cell_type": "code",
      "execution_count": 159,
      "metadata": {
        "id": "KXlOPO6e8ZQR"
      },
      "outputs": [
        {
          "data": {
            "text/plain": [
              "'/Users/jonnysherman/Documents/GitHub/BA-765'"
            ]
          },
          "execution_count": 159,
          "metadata": {},
          "output_type": "execute_result"
        }
      ],
      "source": [
        "# = pwd = show where you are\n",
        "os.getcwd()"
      ]
    },
    {
      "cell_type": "code",
      "execution_count": 160,
      "metadata": {
        "id": "dP7jU7O_8qDD"
      },
      "outputs": [],
      "source": [
        "# Directories of the same name can exist at different locations:\n",
        "#make directory\n",
        "os.mkdir('myDir')\n",
        "#change directoory \n",
        "os.chdir('myDir')\n",
        "os.mkdir('sample_data')"
      ]
    },
    {
      "cell_type": "code",
      "execution_count": 161,
      "metadata": {
        "id": "IuXuF28B82sD"
      },
      "outputs": [
        {
          "data": {
            "text/plain": [
              "'/Users/jonnysherman/Documents/GitHub/BA-765/myDir'"
            ]
          },
          "execution_count": 161,
          "metadata": {},
          "output_type": "execute_result"
        }
      ],
      "source": [
        "os.getcwd()"
      ]
    },
    {
      "cell_type": "code",
      "execution_count": 162,
      "metadata": {
        "id": "JFNKlkXH85fB"
      },
      "outputs": [
        {
          "data": {
            "text/plain": [
              "['sample_data']"
            ]
          },
          "execution_count": 162,
          "metadata": {},
          "output_type": "execute_result"
        }
      ],
      "source": [
        "os.listdir()"
      ]
    },
    {
      "cell_type": "code",
      "execution_count": 163,
      "metadata": {
        "id": "OURkZaY99Dmk"
      },
      "outputs": [],
      "source": [
        "os.chdir('..')\n",
        "# this is equivalent to \"os.chdir('..')\""
      ]
    },
    {
      "cell_type": "code",
      "execution_count": 164,
      "metadata": {
        "id": "-MVYwW9L9H6h"
      },
      "outputs": [
        {
          "data": {
            "text/plain": [
              "'/Users/jonnysherman/Documents/GitHub/BA-765'"
            ]
          },
          "execution_count": 164,
          "metadata": {},
          "output_type": "execute_result"
        }
      ],
      "source": [
        "os.getcwd()"
      ]
    },
    {
      "cell_type": "code",
      "execution_count": 165,
      "metadata": {
        "id": "hpRU0zmF9N5U"
      },
      "outputs": [
        {
          "data": {
            "text/plain": [
              "'/Users/jonnysherman/Documents/GitHub/BA-765/myDir/sample_data'"
            ]
          },
          "execution_count": 165,
          "metadata": {},
          "output_type": "execute_result"
        }
      ],
      "source": [
        "os.chdir('myDir/sample_data')\n",
        "os.getcwd()"
      ]
    },
    {
      "cell_type": "code",
      "execution_count": 166,
      "metadata": {},
      "outputs": [
        {
          "data": {
            "text/plain": [
              "'/Users/jonnysherman/Documents/GitHub/BA-765/myDir/sample_data'"
            ]
          },
          "execution_count": 166,
          "metadata": {},
          "output_type": "execute_result"
        }
      ],
      "source": [
        "\n",
        "os.getcwd()\n"
      ]
    },
    {
      "cell_type": "code",
      "execution_count": 167,
      "metadata": {},
      "outputs": [
        {
          "ename": "FileExistsError",
          "evalue": "[Errno 17] File exists: '/Users/jonnysherman/Documents/GitHub/BA-765/Session_04/mydir'",
          "output_type": "error",
          "traceback": [
            "\u001b[0;31m---------------------------------------------------------------------------\u001b[0m",
            "\u001b[0;31mFileExistsError\u001b[0m                           Traceback (most recent call last)",
            "\u001b[0;32m<ipython-input-167-dbd18a4e211a>\u001b[0m in \u001b[0;36m<module>\u001b[0;34m\u001b[0m\n\u001b[0;32m----> 1\u001b[0;31m \u001b[0mos\u001b[0m\u001b[0;34m.\u001b[0m\u001b[0mmkdir\u001b[0m\u001b[0;34m(\u001b[0m\u001b[0;34m'/Users/jonnysherman/Documents/GitHub/BA-765/Session_04/mydir'\u001b[0m\u001b[0;34m)\u001b[0m\u001b[0;34m\u001b[0m\u001b[0;34m\u001b[0m\u001b[0m\n\u001b[0m\u001b[1;32m      2\u001b[0m \u001b[0mos\u001b[0m\u001b[0;34m.\u001b[0m\u001b[0mgetcwd\u001b[0m\u001b[0;34m(\u001b[0m\u001b[0;34m)\u001b[0m\u001b[0;34m\u001b[0m\u001b[0;34m\u001b[0m\u001b[0m\n",
            "\u001b[0;31mFileExistsError\u001b[0m: [Errno 17] File exists: '/Users/jonnysherman/Documents/GitHub/BA-765/Session_04/mydir'"
          ]
        }
      ],
      "source": [
        "os.mkdir('/Users/jonnysherman/Documents/GitHub/BA-765/Session_04/mydir')\n",
        "os.getcwd()\n"
      ]
    },
    {
      "cell_type": "code",
      "execution_count": null,
      "metadata": {},
      "outputs": [],
      "source": [
        "os.chdir('/Users/jonnysherman/Documents/GitHub/BA-765/Session_04/mydir')\n",
        "os.getcwd()\n",
        "os.chdir('..')\n"
      ]
    },
    {
      "cell_type": "code",
      "execution_count": null,
      "metadata": {
        "id": "dz1j6hoO9vve"
      },
      "outputs": [],
      "source": [
        "# Student question: Can we change directory to hidden directories?\n",
        "# yes with right path "
      ]
    },
    {
      "cell_type": "markdown",
      "metadata": {
        "id": "vTXU8Os6JQTm"
      },
      "source": [
        "## External libraries\n",
        "\n",
        "Not all modules are going to be loaded within our python environment from start, like random and os were. Sometimes we will need to install them first. For that we can use `pip` as in the following:"
      ]
    },
    {
      "cell_type": "code",
      "execution_count": null,
      "metadata": {
        "id": "1lXmSDPwJNSn"
      },
      "outputs": [
        {
          "name": "stdout",
          "output_type": "stream",
          "text": [
            "Collecting emoji\n",
            "  Downloading emoji-1.2.0-py3-none-any.whl (131 kB)\n",
            "\u001b[K     |████████████████████████████████| 131 kB 11.3 MB/s \n",
            "\u001b[?25hInstalling collected packages: emoji\n",
            "Successfully installed emoji-1.2.0\n"
          ]
        }
      ],
      "source": [
        "! pip install emoji "
      ]
    },
    {
      "cell_type": "code",
      "execution_count": null,
      "metadata": {
        "id": "fmzl0Tq4Jtlu"
      },
      "outputs": [
        {
          "data": {
            "text/plain": [
              "'👍'"
            ]
          },
          "execution_count": 51,
          "metadata": {},
          "output_type": "execute_result"
        }
      ],
      "source": [
        "from emoji import emojize \n",
        "# Thanks @Urvashi Tripathi for the cheatsheet:\n",
        "# https://github.com/ikatyang/emoji-cheat-sheet/blob/master/README.md\n",
        "\n",
        "\n",
        "emojize(\":thumbs_up:\")"
      ]
    },
    {
      "cell_type": "markdown",
      "metadata": {
        "id": "D2dftdQTJ6lp"
      },
      "source": [
        "> Above, note the user of the command !.  This is specific to coding in notebook environments, and allows us to install just as we would locally on our computer.  `pip install` is generally how we can add one of thousands of packages from the python package index, `pypi`\n",
        "\n",
        "https://pypi.org/\n",
        "\n",
        "Because Colab is here to make our lives easier, there are a number of great data analysis packages already \"installed\" for us, we simply have to import them.  However, as we just saw, adding new packages is easy to do, but remember, after our session is terminated, we will need to install these packages again.\n",
        "\n",
        "\n",
        "For those of you that are new to python, here are some fun packages to get you thinking about what is possible:\n",
        "\n",
        "1.  `pantab` = convert pandas DataFrames to Tableau data extracts\n",
        "1.  `simple-salesforce` = utilities to work with the Salesforce CRM APIs\n",
        "1.  `tweepy` = Interface into the Twitter API\n",
        "1.  `pygame` = Build games in python\n",
        "1.  `MoviePy` = Video editing\n",
        "\n"
      ]
    },
    {
      "cell_type": "code",
      "execution_count": null,
      "metadata": {
        "id": "IcCjp2G7QqFE"
      },
      "outputs": [
        {
          "name": "stdout",
          "output_type": "stream",
          "text": [
            "Requirement already satisfied: faker in /Applications/miniconda3/lib/python3.9/site-packages (8.10.1)\n",
            "Requirement already satisfied: python-dateutil>=2.4 in /Applications/miniconda3/lib/python3.9/site-packages (from faker) (2.8.1)\n",
            "Requirement already satisfied: text-unidecode==1.3 in /Applications/miniconda3/lib/python3.9/site-packages (from faker) (1.3)\n",
            "Requirement already satisfied: six>=1.5 in /Applications/miniconda3/lib/python3.9/site-packages (from python-dateutil>=2.4->faker) (1.15.0)\n"
          ]
        }
      ],
      "source": [
        "! pip install faker"
      ]
    },
    {
      "cell_type": "code",
      "execution_count": null,
      "metadata": {
        "id": "slXhTcNYVSe6"
      },
      "outputs": [],
      "source": [
        "import faker"
      ]
    },
    {
      "cell_type": "code",
      "execution_count": null,
      "metadata": {
        "id": "QRe2Vn9-VYQ8"
      },
      "outputs": [],
      "source": [
        "# a basic example of faker\n",
        "from faker import Faker\n",
        "my_fake = Faker()"
      ]
    },
    {
      "cell_type": "code",
      "execution_count": null,
      "metadata": {
        "id": "o8Hflyb6VsKl"
      },
      "outputs": [
        {
          "data": {
            "text/plain": [
              "'GoldenRod'"
            ]
          },
          "execution_count": 86,
          "metadata": {},
          "output_type": "execute_result"
        }
      ],
      "source": [
        "my_fake.color_name()"
      ]
    },
    {
      "cell_type": "code",
      "execution_count": null,
      "metadata": {
        "id": "oFwDpHe9VvHf"
      },
      "outputs": [
        {
          "data": {
            "text/plain": [
              "'Mastercard\\nJasmine Johnson\\n2536419515506328 08/27\\nCVV: 149\\n'"
            ]
          },
          "execution_count": 109,
          "metadata": {},
          "output_type": "execute_result"
        }
      ],
      "source": [
        "my_fake.credit_card_full()"
      ]
    },
    {
      "cell_type": "markdown",
      "metadata": {
        "id": "5otdAAw3XHth"
      },
      "source": [
        "One more feature I would like to call out about modules is aliasing - we saw this before:"
      ]
    },
    {
      "cell_type": "code",
      "execution_count": null,
      "metadata": {},
      "outputs": [
        {
          "name": "stdout",
          "output_type": "stream",
          "text": [
            "Collecting numpy\n",
            "  Downloading numpy-1.21.0-cp39-cp39-macosx_10_9_x86_64.whl (16.9 MB)\n",
            "\u001b[K     |████████████████████████████████| 16.9 MB 8.0 MB/s \n",
            "\u001b[?25hInstalling collected packages: numpy\n",
            "Successfully installed numpy-1.21.0\n"
          ]
        }
      ],
      "source": [
        "! pip install numpy"
      ]
    },
    {
      "cell_type": "code",
      "execution_count": null,
      "metadata": {
        "id": "7oAwirHXKIna"
      },
      "outputs": [],
      "source": [
        "import numpy as np"
      ]
    },
    {
      "cell_type": "code",
      "execution_count": null,
      "metadata": {
        "id": "m39K6uSHKOY9"
      },
      "outputs": [
        {
          "data": {
            "text/plain": [
              "2"
            ]
          },
          "execution_count": 114,
          "metadata": {},
          "output_type": "execute_result"
        }
      ],
      "source": [
        "np.random.choice([1,2,33])"
      ]
    },
    {
      "cell_type": "markdown",
      "metadata": {
        "id": "fcKJcGr1LF41"
      },
      "source": [
        "## Shell access from Colab:\n",
        "`!` was a special symbol that allowed us to access the terminal and give a command to the computer. Could we use it to interact with the server OS, like shell? Yes! "
      ]
    },
    {
      "cell_type": "code",
      "execution_count": null,
      "metadata": {
        "id": "pW79RqzSLXvK"
      },
      "outputs": [
        {
          "name": "stdout",
          "output_type": "stream",
          "text": [
            "/Users/jonnysherman/Documents/GitHub/BA-765/Session_04\n"
          ]
        }
      ],
      "source": [
        "! pwd"
      ]
    },
    {
      "cell_type": "code",
      "execution_count": null,
      "metadata": {
        "id": "kv30JKfdLYUc"
      },
      "outputs": [
        {
          "name": "stdout",
          "output_type": "stream",
          "text": [
            "01_Session4Notes_and_Modules.ipynb 04_IntroToNumpy_Lecture.ipynb\n",
            "02_LoopsConditionals_Lecture.ipynb \u001b[34mmydir\u001b[m\u001b[m\n",
            "03_FunctionsMethodsLoops_Lab.ipynb\n"
          ]
        }
      ],
      "source": [
        "! ls"
      ]
    },
    {
      "cell_type": "markdown",
      "metadata": {
        "id": "H8GxhVyQN-C-"
      },
      "source": [
        "Let's use this to make a new directory, and upload a new module there. You can find the module file `ba765.py` in Qtools under Session04. "
      ]
    },
    {
      "cell_type": "code",
      "execution_count": null,
      "metadata": {
        "id": "ckSiQyiJMKB0"
      },
      "outputs": [
        {
          "name": "stdout",
          "output_type": "stream",
          "text": [
            "mkdir: my_modules: File exists\n"
          ]
        }
      ],
      "source": [
        "! mkdir my_modules"
      ]
    },
    {
      "cell_type": "code",
      "execution_count": null,
      "metadata": {
        "id": "Z3f7aQvgMMZP"
      },
      "outputs": [
        {
          "name": "stdout",
          "output_type": "stream",
          "text": [
            "01_Session4Notes_and_Modules.ipynb 04_IntroToNumpy_Lecture.ipynb\n",
            "02_LoopsConditionals_Lecture.ipynb \u001b[34mmy_modules\u001b[m\u001b[m\n",
            "03_FunctionsMethodsLoops_Lab.ipynb \u001b[34mmydir\u001b[m\u001b[m\n"
          ]
        }
      ],
      "source": [
        "! ls"
      ]
    },
    {
      "cell_type": "markdown",
      "metadata": {
        "id": "QK72bT8s5e-x"
      },
      "source": [
        "Upload the file `ba765.py` to `my_modules` directory - check if it is really there:"
      ]
    },
    {
      "cell_type": "code",
      "execution_count": null,
      "metadata": {
        "id": "zp3ZUsgHLhea"
      },
      "outputs": [
        {
          "name": "stdout",
          "output_type": "stream",
          "text": [
            "my_modules/ba765.py\n"
          ]
        }
      ],
      "source": [
        "! ls my_modules/ba765.py"
      ]
    },
    {
      "cell_type": "code",
      "execution_count": null,
      "metadata": {},
      "outputs": [
        {
          "name": "stdout",
          "output_type": "stream",
          "text": [
            "/Users/jonnysherman/Documents/GitHub/BA-765/Session_04\n"
          ]
        }
      ],
      "source": [
        "! pwd\n",
        "! cd"
      ]
    },
    {
      "cell_type": "markdown",
      "metadata": {
        "id": "qbkyfraROLtf"
      },
      "source": [
        "For python to be able to `import` our module, we need to put it on the system \"path\", i.e. where import function searches for modules:"
      ]
    },
    {
      "cell_type": "code",
      "execution_count": null,
      "metadata": {
        "id": "_xY3wfYIMxU5"
      },
      "outputs": [],
      "source": [
        "sys.path.insert(0,'my_modules')\n",
        "import ba765"
      ]
    },
    {
      "cell_type": "markdown",
      "metadata": {
        "id": "fkOD9BSFOWHS"
      },
      "source": [
        "Once we successfully load the module, we can explore its content:"
      ]
    },
    {
      "cell_type": "code",
      "execution_count": 173,
      "metadata": {
        "id": "igpIN6ZjN1dY"
      },
      "outputs": [
        {
          "name": "stdout",
          "output_type": "stream",
          "text": [
            "Congrats, you are correct!\n"
          ]
        }
      ],
      "source": [
        "ba765.guessing_game()"
      ]
    },
    {
      "cell_type": "code",
      "execution_count": null,
      "metadata": {
        "id": "w489dTzUMv6C"
      },
      "outputs": [],
      "source": []
    },
    {
      "cell_type": "markdown",
      "metadata": {
        "id": "DCRHb7BQG14z"
      },
      "source": [
        "# Quick Exercise in Breakout Room:\n",
        "\n",
        "This is our first in-class exercise! It is graded as Pass/Fail.\n",
        "\n",
        "Create a dictionary that has the following key value pairs:\n",
        "\n",
        "- `first` which includes your first name\n",
        "- `types` which includes a list of the data structures that we have covered (not data types)\n",
        "- `random` which is 5 randomly selected numbers from 2 to 12 returned as a list of length 5\n",
        "\n",
        "hint:\n",
        "\n",
        "\n",
        "```\n",
        "import random\n",
        "my_rand_list = random.choices(...)\n",
        "```\n",
        "\n"
      ]
    },
    {
      "cell_type": "code",
      "execution_count": 201,
      "metadata": {},
      "outputs": [
        {
          "data": {
            "text/plain": [
              "[range(2, 12)]"
            ]
          },
          "execution_count": 201,
          "metadata": {},
          "output_type": "execute_result"
        }
      ],
      "source": [
        "import random\n",
        "rand_list =random.choices([range(2,12)], k=1)\n",
        "breakout_room_dict = {'first': 'Jon', 'types': ['Lists', 'Sets', 'Tuples'], 'random': rand_list}\n",
        "\n",
        "breakout_room_dict['random']\n"
      ]
    }
  ],
  "metadata": {
    "colab": {
      "name": "01-Session4Notes_and_Modules.ipynb",
      "provenance": []
    },
    "kernelspec": {
      "display_name": "Python 3",
      "name": "python3"
    },
    "language_info": {
      "name": "python"
    }
  },
  "nbformat": 4,
  "nbformat_minor": 0
}