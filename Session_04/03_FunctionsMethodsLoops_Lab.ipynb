{
  "nbformat": 4,
  "nbformat_minor": 0,
  "metadata": {
    "colab": {
      "name": "03-FunctionsMethodsLoops_Lab.ipynb",
      "provenance": []
    },
    "kernelspec": {
      "name": "python3",
      "display_name": "Python 3"
    },
    "language_info": {
      "name": "python"
    }
  },
  "cells": [
    {
      "cell_type": "markdown",
      "metadata": {
        "id": "bTEkKelnWc5l"
      },
      "source": [
        "\n",
        "\n",
        "In this notebook, will build on top of the topics from this week's session.\n",
        "\n",
        "![fxn](https://cloudreports.net/wp-content/uploads/2019/06/Function_machine2.png)\n",
        "\n",
        "# Lab Exercise 1\n",
        "\n",
        "Your task is to create a function that:\n",
        "\n",
        "- Allows the user to input a string (of arbitrary length) and makes sure the input is a string, if the input is not a string, return the phrase `Please input a string`\n",
        "- Returns a dictionary of length two\n",
        "- The first key, called `a` is the number of characters in the string the user input\n",
        "- The second key, called `finder` returns an integer that represents the number of times the character \"B\" is found within the text (\"B\" and not \"b\"!)\n",
        "\n"
      ]
    },
    {
      "cell_type": "markdown",
      "metadata": {
        "id": "gUTsT0mBX2p9"
      },
      "source": [
        "# Lab Exercise 2\n",
        "\n",
        "\n",
        "- Create a function that takes two inputs.  One is an integer, with a default value of 10.  You can call this input `N`.  The other is an arbitrary string, which you can call `S`.\n",
        "- the function should return a dictionary with the following keys:\n",
        "\n",
        "1. 'a': given the numeric input `N`, return a list of that length with randomly selected odd integers between 1 and 99. \n",
        "2.  'b': a list, which only keeps the entries in `a` that are less than 37\n",
        "3.  'c': a string, with the the string input `S` repeated `N` Times"
      ]
    },
    {
      "cell_type": "markdown",
      "metadata": {
        "id": "pM4b7ELkaDEU"
      },
      "source": [
        "# Lab Exercise 3\n",
        "\n",
        "1.  Set the random seed to be 765\n",
        "2.  create a list of 100 randomly selected numbers from 0 to 33\n",
        "3.  iterate over the list, add the value to a set called `s`\n",
        "4.  what is the length of `s`?"
      ]
    },
    {
      "cell_type": "code",
      "metadata": {
        "id": "xSFrx7r0aPQb"
      },
      "source": [
        ""
      ],
      "execution_count": null,
      "outputs": []
    }
  ]
}