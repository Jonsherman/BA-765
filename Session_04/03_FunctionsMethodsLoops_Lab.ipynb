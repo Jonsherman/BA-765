{
  "cells": [
    {
      "cell_type": "markdown",
      "metadata": {
        "id": "bTEkKelnWc5l"
      },
      "source": [
        "\n",
        "\n",
        "In this notebook, will build on top of the topics from this week's session.\n",
        "\n",
        "![fxn](https://cloudreports.net/wp-content/uploads/2019/06/Function_machine2.png)\n",
        "\n",
        "# Lab Exercise 1\n",
        "\n",
        "Your task is to create a function that:\n",
        "\n",
        "- Allows the user to input a string (of arbitrary length) and makes sure the input is a string, if the input is not a string, return the phrase `Please input a string`\n",
        "- Returns a dictionary of length two\n",
        "- The first key, called `a` is the number of characters in the string the user input\n",
        "- The second key, called `finder` returns an integer that represents the number of times the character \"B\" is found within the text (\"B\" and not \"b\"!)\n",
        "\n"
      ]
    },
    {
      "cell_type": "code",
      "execution_count": 1,
      "metadata": {},
      "outputs": [],
      "source": [
        "import string"
      ]
    },
    {
      "cell_type": "code",
      "execution_count": 56,
      "metadata": {},
      "outputs": [
        {
          "name": "stdout",
          "output_type": "stream",
          "text": [
            "please input a string\n",
            "please input a string\n",
            "please input a string\n",
            "please input a string\n",
            " the dictionary from the input is {'a': 12, 'finder': 2}\n"
          ]
        }
      ],
      "source": [
        "def func_1():\n",
        "    test = True\n",
        "    while test:\n",
        "        user_input = input(\"insert a string: \")\n",
        "        for i in user_input:\n",
        "            if i in string.ascii_letters:\n",
        "                test = False \n",
        "            else:\n",
        "                test = True\n",
        "        if test:\n",
        "            print(\"please input a string\")\n",
        "    b_counter = user_input.count(\"B\")\n",
        "    guess_dict = {\"a\": len(user_input), \"finder\": b_counter}\n",
        "\n",
        " \n",
        "    print(\" the dictionary from the input is\", guess_dict)\n",
        "\n",
        "func_1()\n",
        "\n",
        "\n",
        "\n",
        "        "
      ]
    },
    {
      "cell_type": "markdown",
      "metadata": {
        "id": "gUTsT0mBX2p9"
      },
      "source": [
        "# Lab Exercise 2\n",
        "\n",
        "\n",
        "- Create a function that takes two inputs.  One is an integer, with a default value of 10.  You can call this input `N`.  The other is an arbitrary string, which you can call `S`.\n",
        "- the function should return a dictionary with the following keys:\n",
        "\n",
        "1. 'a': given the numeric input `N`, return a list of that length with randomly selected odd integers between 1 and 99. \n",
        "2.  'b': a list, which only keeps the entries in `a` that are less than 37\n",
        "3.  'c': a string, with the the string input `S` repeated `N` Times"
      ]
    },
    {
      "cell_type": "code",
      "execution_count": 57,
      "metadata": {},
      "outputs": [],
      "source": [
        "import random"
      ]
    },
    {
      "cell_type": "code",
      "execution_count": 75,
      "metadata": {},
      "outputs": [
        {
          "ename": "SyntaxError",
          "evalue": "invalid syntax (<ipython-input-75-d03aaa2c4fcf>, line 1)",
          "output_type": "error",
          "traceback": [
            "\u001b[0;36m  File \u001b[0;32m\"<ipython-input-75-d03aaa2c4fcf>\"\u001b[0;36m, line \u001b[0;32m1\u001b[0m\n\u001b[0;31m    use_list = [random.randrange(1,99,2),k=10]\u001b[0m\n\u001b[0m                                          ^\u001b[0m\n\u001b[0;31mSyntaxError\u001b[0m\u001b[0;31m:\u001b[0m invalid syntax\n"
          ]
        }
      ],
      "source": [
        " use_list = [random.randrange(1,99,2),k=10]\n"
      ]
    },
    {
      "cell_type": "code",
      "execution_count": 105,
      "metadata": {},
      "outputs": [
        {
          "data": {
            "text/plain": [
              "{'a': [17, 55, 97, 43, 1, 41, 9, 27, 75, 79],\n",
              " 'b': [17, 1, 9, 27],\n",
              " 'c': 'abcabcabcabcabcabcabcabcabcabc'}"
            ]
          },
          "execution_count": 105,
          "metadata": {},
          "output_type": "execute_result"
        }
      ],
      "source": [
        "def func_2(S, N =10):\n",
        "    use_list = list(random.choices(range(1,99,2), k= N))\n",
        "    use_list_b = list(i for i in use_list if i<37)\n",
        "    c_value = S * N \n",
        "    dict_2 = {\"a\": use_list, \"b\": use_list_b, \"c\": c_value}\n",
        "    return dict_2\n",
        "\n",
        "func_2(\"abc\")"
      ]
    },
    {
      "cell_type": "markdown",
      "metadata": {},
      "source": []
    },
    {
      "cell_type": "markdown",
      "metadata": {
        "id": "pM4b7ELkaDEU"
      },
      "source": [
        "# Lab Exercise 3\n",
        "\n",
        "1.  Set the random seed to be 765\n",
        "2.  create a list of 100 randomly selected numbers from 0 to 33\n",
        "3.  iterate over the list, add the value to a set called `s`\n",
        "4.  what is the length of `s`?"
      ]
    },
    {
      "cell_type": "code",
      "execution_count": 42,
      "metadata": {},
      "outputs": [],
      "source": [
        "import random as random "
      ]
    },
    {
      "cell_type": "code",
      "execution_count": 83,
      "metadata": {},
      "outputs": [
        {
          "data": {
            "text/plain": [
              "9"
            ]
          },
          "execution_count": 83,
          "metadata": {},
          "output_type": "execute_result"
        }
      ],
      "source": [
        "y = random.randint(0,33)\n",
        "y"
      ]
    },
    {
      "cell_type": "code",
      "execution_count": 99,
      "metadata": {
        "id": "xSFrx7r0aPQb"
      },
      "outputs": [
        {
          "name": "stdout",
          "output_type": "stream",
          "text": [
            "[1, 8, 9, 30, 28, 29, 3, 19, 24, 25, 1, 30, 1, 8, 31, 24, 13, 30, 25, 17, 27, 14, 14, 8, 28, 1, 11, 4, 9, 15, 9, 31, 6, 7, 23, 23, 13, 21, 22, 24, 2, 5, 1, 22, 17, 21, 31, 28, 26, 29, 31, 2, 3, 3, 31, 11, 18, 14, 20, 17, 29, 24, 30, 21, 11, 24, 4, 16, 9, 20, 9, 23, 0, 23, 21, 28, 17, 25, 6, 14, 12, 22, 14, 24, 32, 2, 27, 27, 12, 26, 19, 16, 28, 17, 15, 17, 10, 4, 18, 17]\n",
            "{0, 1, 2, 3, 4, 5, 6, 7, 8, 9, 10, 11, 12, 13, 14, 15, 16, 17, 18, 19, 20, 21, 22, 23, 24, 25, 26, 27, 28, 29, 30, 31, 32}\n",
            "33\n"
          ]
        }
      ],
      "source": [
        "random.seed(765)\n",
        "x = list(random.choices(range(0,33),k=100))\n",
        "print(x)\n",
        "s = set()\n",
        "for i in x:\n",
        "    s.add(i)\n",
        "print(s)\n",
        "print(len(s))"
      ]
    }
  ],
  "metadata": {
    "colab": {
      "name": "03-FunctionsMethodsLoops_Lab.ipynb",
      "provenance": []
    },
    "kernelspec": {
      "display_name": "Python 3",
      "name": "python3"
    },
    "language_info": {
      "name": "python"
    }
  },
  "nbformat": 4,
  "nbformat_minor": 0
}