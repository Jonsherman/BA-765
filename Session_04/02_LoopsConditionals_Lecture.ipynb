{
  "cells": [
    {
      "cell_type": "markdown",
      "metadata": {
        "id": "buZDoj1ODwRT"
      },
      "source": [
        "# Controlling the Execution Flow\n",
        "Loops and Conditionals\n",
        "<br>Session 4 - part 2\n",
        "<br>07/15/2021\n",
        "\n",
        "Learning Objectives:\n",
        "\n",
        "1.  `for` and `while` loops\n",
        "1.  `if` statements\n",
        "\n",
        "\n",
        "Above allow us to control the flow of our code, and provide a pathway for us to create more advanced functions to control our code logic.\n"
      ]
    },
    {
      "cell_type": "markdown",
      "metadata": {
        "id": "8_quLbBkm4ZZ"
      },
      "source": [
        "# Looping: `for` and `while`\n",
        "\n",
        "Computers shine at repetitive tasks. There will be times where you want to evaluate each entry in a object, or execute code until a certain codition is met.  \n",
        "\n",
        "For loop tutorial:  https://realpython.com/python-for-loop/  \n",
        "While loop tutorial:   https://realpython.com/python-while-loop/"
      ]
    },
    {
      "cell_type": "markdown",
      "metadata": {
        "id": "8Niws9_LqqqZ"
      },
      "source": [
        "## For loops"
      ]
    },
    {
      "cell_type": "markdown",
      "metadata": {
        "id": "8aQePGAL1Vr-"
      },
      "source": [
        "\n",
        "![loop](https://www.learnbyexample.org/wp-content/uploads/python/Python-for-Loop-Syntax.png)\n",
        "\n",
        "<br>\n",
        "\n"
      ]
    },
    {
      "cell_type": "code",
      "execution_count": 6,
      "metadata": {
        "id": "CZ2n2bOmotKq"
      },
      "outputs": [
        {
          "name": "stdout",
          "output_type": "stream",
          "text": [
            "1\n",
            "2\n",
            "3\n",
            "a\n"
          ]
        }
      ],
      "source": [
        "# print elements in a list\n",
        "mylist = [1,2,3,'a']\n",
        "\n",
        "for i in mylist:\n",
        "  print(i)"
      ]
    },
    {
      "cell_type": "code",
      "execution_count": 7,
      "metadata": {
        "id": "ghyCyTXHaGYV"
      },
      "outputs": [
        {
          "name": "stdout",
          "output_type": "stream",
          "text": [
            "Hello, World!\n",
            "Hello, World!\n",
            "Hello, World!\n",
            "Hello, World!\n"
          ]
        }
      ],
      "source": [
        "for i in mylist:\n",
        "  print(\"Hello, World!\")"
      ]
    },
    {
      "cell_type": "markdown",
      "metadata": {
        "id": "ojjokRWpo23v"
      },
      "source": [
        "> What just happened?  We iterated over the values in `mylist`, and for each value, we set the value of `i` to that entry, and printed it to output.  We don't have to always use `i`, but it is a rather standard convention for historical reasons."
      ]
    },
    {
      "cell_type": "markdown",
      "metadata": {
        "id": "covQpaE_E_5e"
      },
      "source": [
        "Remember the range function? It is perfect for these kind of repetitive tasks:"
      ]
    },
    {
      "cell_type": "code",
      "execution_count": 8,
      "metadata": {
        "id": "OmXIta1KpMO4"
      },
      "outputs": [
        {
          "name": "stdout",
          "output_type": "stream",
          "text": [
            "1\n",
            "2\n",
            "3\n",
            "4\n",
            "5\n",
            "6\n",
            "7\n",
            "8\n",
            "9\n",
            "10\n"
          ]
        }
      ],
      "source": [
        "# a second for loop\n",
        "for num in range(1,11):\n",
        "  print(num)"
      ]
    },
    {
      "cell_type": "markdown",
      "metadata": {
        "id": "5q8hZZhVqj4V"
      },
      "source": [
        "\n",
        "For help on range, see this article:  https://pynative.com/python-range-function/"
      ]
    },
    {
      "cell_type": "code",
      "execution_count": 13,
      "metadata": {
        "id": "xxEEw1C4pVrz"
      },
      "outputs": [
        {
          "name": "stdout",
          "output_type": "stream",
          "text": [
            "1 1\n",
            "2 4\n",
            "3 9\n",
            "4 16\n",
            "5 25\n",
            "6 36\n",
            "7 49\n",
            "8 64\n",
            "9 81\n",
            "10 100\n"
          ]
        }
      ],
      "source": [
        "# let's copy above, but this time, perform an operation on each entry\n",
        "# square the values\n",
        "for num in range(1, 11):\n",
        "  print(num,num**2)"
      ]
    },
    {
      "cell_type": "markdown",
      "metadata": {
        "id": "CyNlj_T7FMje"
      },
      "source": [
        "## Quick Exercise:"
      ]
    },
    {
      "cell_type": "code",
      "execution_count": 19,
      "metadata": {
        "id": "O2LF6Ranm4Tg"
      },
      "outputs": [
        {
          "name": "stdout",
          "output_type": "stream",
          "text": [
            "[6, 7, 8, 9, 10, 11, 12, 13, 14, 15]\n"
          ]
        }
      ],
      "source": [
        "# for each number 1 through 10, add 5 to the number, and add it to a list called\n",
        "# modifed_nums\n",
        "modified_nums = []\n",
        "for num in range(1,11):\n",
        "    modified_nums.append(num+5)\n",
        "print(modified_nums)"
      ]
    },
    {
      "cell_type": "code",
      "execution_count": null,
      "metadata": {
        "id": "AG_2NOSNdKuC"
      },
      "outputs": [],
      "source": []
    },
    {
      "cell_type": "markdown",
      "metadata": {
        "id": "bFHYveHym4RX"
      },
      "source": [
        "## While loops\n",
        "\n",
        "![while](https://www.learnbyexample.org/wp-content/uploads/python/Python-while-Loop-Syntax.png)\n",
        "\n",
        "Unlike `for` loops, `while` loops will always try to execute the code blocks until the condition is no longer `True`.  These can be infinite loops."
      ]
    },
    {
      "cell_type": "code",
      "execution_count": 20,
      "metadata": {
        "id": "oYRxxud7m4Xt"
      },
      "outputs": [],
      "source": [
        "# lets import the random library \n",
        "import random\n"
      ]
    },
    {
      "cell_type": "code",
      "execution_count": 22,
      "metadata": {
        "id": "BBzcw3sEm4PP"
      },
      "outputs": [
        {
          "name": "stdout",
          "output_type": "stream",
          "text": [
            "1\n",
            "2\n",
            "3\n",
            "4\n"
          ]
        }
      ],
      "source": [
        "# starter loop\n",
        "x = 1\n",
        "while x < 5:\n",
        "  print(x)\n",
        "  x = x + 1"
      ]
    },
    {
      "cell_type": "code",
      "execution_count": null,
      "metadata": {},
      "outputs": [],
      "source": [
        "# as mentioned above, these can be infinite loops,\n",
        "# we will need to interrupt the execution otherwise it will run forever:\n",
        "# Runtime  > interrupt execution\n",
        "while True:\n",
        "  print(random.randint(1,100))"
      ]
    },
    {
      "cell_type": "markdown",
      "metadata": {
        "id": "DCRHb7BQG14z"
      },
      "source": []
    },
    {
      "cell_type": "markdown",
      "metadata": {
        "id": "JRhYwNCdFoKt"
      },
      "source": [
        "## Quick exercise"
      ]
    },
    {
      "cell_type": "code",
      "execution_count": 57,
      "metadata": {
        "id": "Nub3Ba0Dm4EP"
      },
      "outputs": [
        {
          "name": "stdout",
          "output_type": "stream",
          "text": [
            "50\n",
            "46\n",
            "43\n",
            "41\n",
            "37\n",
            "33\n",
            "31\n",
            "29\n",
            "26\n",
            "23\n",
            "18\n",
            "14\n",
            "12\n"
          ]
        }
      ],
      "source": [
        "# QUICK EXERCISE:\n",
        "# define x to be 50\n",
        "# use a while loop that executes as long as x > 10\n",
        "# inside the while loop, update the value of x to be:\n",
        "# (its current value - a random integer between 1 and 5)\n",
        "x = 50 \n",
        "while x > 10:\n",
        "    print(x)\n",
        "    x = x-random.randint(1,5)"
      ]
    },
    {
      "cell_type": "markdown",
      "metadata": {
        "id": "JTdjmAcD1eNT"
      },
      "source": [
        "# `if` statements\n",
        "\n",
        "If statements execute _if_ the conditional statement is `True`.  \n",
        "\n",
        "Tutorial:  https://realpython.com/python-conditional-statements/"
      ]
    },
    {
      "cell_type": "code",
      "execution_count": null,
      "metadata": {
        "id": "BUZV8PKu1exn"
      },
      "outputs": [],
      "source": [
        "# let's start simple\n",
        "# but learn a few interesting things at the same time\n",
        "# below is how to ask user for live input:\n",
        "x = input('enter an integer value for x:')\n",
        "x = int(x)\n",
        "if x > 0:\n",
        "  print('x is greater than zero')"
      ]
    },
    {
      "cell_type": "markdown",
      "metadata": {
        "id": "jvcRD3OLlk9d"
      },
      "source": [
        "> Note 1:  Take note of the indentation.  This is a key principle in writing code in python.  For various features, like if statements, python will require us to indent our code.  Change indentation of the `print` so that it is in the same level of `if` line and see the result!\n",
        "\n",
        "\n",
        "> Note 2: Above we use are using standard python's `input` to get input from the user. It comes back in the form a string, so we convert it to an integer."
      ]
    },
    {
      "cell_type": "code",
      "execution_count": 61,
      "metadata": {
        "id": "e60ErhXc1ez1"
      },
      "outputs": [
        {
          "name": "stdout",
          "output_type": "stream",
          "text": [
            "x is zero\n"
          ]
        }
      ],
      "source": [
        "# lets copy and paste the cell above, to handle other flows\n",
        "# handle other cases\n",
        "x = input('enter a integer value for x:')\n",
        "x = int(x)\n",
        "if x > 0:\n",
        "  print('x is greater than zero')\n",
        "elif x == 0:\n",
        "  print('x is zero')\n",
        "else:\n",
        "  print('x is negative')\n"
      ]
    },
    {
      "cell_type": "markdown",
      "metadata": {
        "id": "4m9KG1yr1e2x"
      },
      "source": [
        "> What happens when we enter zero? "
      ]
    },
    {
      "cell_type": "code",
      "execution_count": 62,
      "metadata": {
        "id": "ywsPgRAx1e6v"
      },
      "outputs": [
        {
          "name": "stdout",
          "output_type": "stream",
          "text": [
            "x is equal to zero\n"
          ]
        }
      ],
      "source": [
        "# let's round this out\n",
        "x = input('enter a integer value for x:')\n",
        "x = int(x)\n",
        "if x > 0:\n",
        "  print('x is greater than zero')\n",
        "elif x < 0:\n",
        "  print('x is negative')\n",
        "else:\n",
        "  print('x is equal to zero')"
      ]
    },
    {
      "cell_type": "markdown",
      "metadata": {
        "id": "ePwpiYCt1e9F"
      },
      "source": [
        "> What did we learn above about the syntax?"
      ]
    },
    {
      "cell_type": "markdown",
      "metadata": {
        "id": "5-5syKcZ0SKX"
      },
      "source": [
        "## Iterating over Lists"
      ]
    },
    {
      "cell_type": "code",
      "execution_count": 68,
      "metadata": {
        "id": "np05Wptj0SNc"
      },
      "outputs": [
        {
          "data": {
            "text/plain": [
              "[2, 4, 6, 8, 10, 12, 14, 16, 18, 20]"
            ]
          },
          "execution_count": 68,
          "metadata": {},
          "output_type": "execute_result"
        }
      ],
      "source": [
        "x = list(range(2, 22, 2))\n",
        "x"
      ]
    },
    {
      "cell_type": "code",
      "execution_count": 69,
      "metadata": {
        "id": "whaCzJX42GAQ"
      },
      "outputs": [
        {
          "data": {
            "text/plain": [
              "10"
            ]
          },
          "execution_count": 69,
          "metadata": {},
          "output_type": "execute_result"
        }
      ],
      "source": [
        "# len\n",
        "len(x)"
      ]
    },
    {
      "cell_type": "code",
      "execution_count": 70,
      "metadata": {
        "id": "9000z58y2MQW"
      },
      "outputs": [
        {
          "name": "stdout",
          "output_type": "stream",
          "text": [
            "2\n",
            "4\n",
            "6\n",
            "8\n",
            "10\n",
            "12\n",
            "14\n",
            "16\n",
            "18\n",
            "20\n"
          ]
        }
      ],
      "source": [
        "for val in x:\n",
        "  print(val)"
      ]
    },
    {
      "cell_type": "code",
      "execution_count": 71,
      "metadata": {
        "id": "HU8qUyY82NAK"
      },
      "outputs": [
        {
          "name": "stdout",
          "output_type": "stream",
          "text": [
            "0 2\n",
            "1 4\n",
            "2 6\n",
            "3 8\n",
            "4 10\n",
            "5 12\n",
            "6 14\n",
            "7 16\n",
            "8 18\n",
            "9 20\n"
          ]
        }
      ],
      "source": [
        "# have both the index and value\n",
        "for index, value in enumerate(x):\n",
        "  print(index, value)"
      ]
    },
    {
      "cell_type": "code",
      "execution_count": 72,
      "metadata": {
        "id": "RTwxAxcc2NDg"
      },
      "outputs": [
        {
          "data": {
            "text/plain": [
              "[2, 4, 6, 8, 10]"
            ]
          },
          "execution_count": 72,
          "metadata": {},
          "output_type": "execute_result"
        }
      ],
      "source": [
        "# confirm\n",
        "x[:5]"
      ]
    },
    {
      "cell_type": "code",
      "execution_count": 77,
      "metadata": {
        "id": "pgmCBiJr2NGQ"
      },
      "outputs": [],
      "source": [
        "# lets go from a list to a dictionary\n",
        "d = {}\n",
        "\n",
        "for index, value in enumerate(x):\n",
        "  d[index] = value\n",
        "\n"
      ]
    },
    {
      "cell_type": "code",
      "execution_count": 74,
      "metadata": {
        "id": "UEDPGMbD2mQD"
      },
      "outputs": [
        {
          "data": {
            "text/plain": [
              "{0: 2, 1: 4, 2: 6, 3: 8, 4: 10, 5: 12, 6: 14, 7: 16, 8: 18, 9: 20}"
            ]
          },
          "execution_count": 74,
          "metadata": {},
          "output_type": "execute_result"
        }
      ],
      "source": [
        "d"
      ]
    },
    {
      "cell_type": "code",
      "execution_count": 78,
      "metadata": {
        "id": "_k8wDjxf2uL8"
      },
      "outputs": [
        {
          "data": {
            "text/plain": [
              "[0, 1, 2, 3, 4, 5, 6, 7, 8, 9]"
            ]
          },
          "execution_count": 78,
          "metadata": {},
          "output_type": "execute_result"
        }
      ],
      "source": [
        "list(d.keys())"
      ]
    },
    {
      "cell_type": "markdown",
      "metadata": {
        "id": "87OC0IBy28cp"
      },
      "source": [
        "## Dictionaries"
      ]
    },
    {
      "cell_type": "code",
      "execution_count": 79,
      "metadata": {
        "id": "nxTx4WFY3Cws"
      },
      "outputs": [
        {
          "data": {
            "text/plain": [
              "True"
            ]
          },
          "execution_count": 79,
          "metadata": {},
          "output_type": "execute_result"
        }
      ],
      "source": [
        "# command that checks if key is in dict\n",
        "0 in d"
      ]
    },
    {
      "cell_type": "code",
      "execution_count": null,
      "metadata": {
        "id": "Yb3DkFw_k2kg"
      },
      "outputs": [],
      "source": [
        "d"
      ]
    },
    {
      "cell_type": "code",
      "execution_count": 80,
      "metadata": {
        "id": "kuY-JNPt3Lj8"
      },
      "outputs": [
        {
          "name": "stdout",
          "output_type": "stream",
          "text": [
            "0\n",
            "1\n",
            "2\n",
            "3\n",
            "4\n",
            "5\n",
            "6\n",
            "7\n",
            "8\n",
            "9\n"
          ]
        }
      ],
      "source": [
        "# check every key\n",
        "for key in d:\n",
        "  print(key)"
      ]
    },
    {
      "cell_type": "code",
      "execution_count": 81,
      "metadata": {
        "id": "PS8MMmUC3O7V"
      },
      "outputs": [
        {
          "name": "stdout",
          "output_type": "stream",
          "text": [
            "2\n",
            "4\n",
            "6\n",
            "8\n",
            "10\n",
            "12\n",
            "14\n",
            "16\n",
            "18\n",
            "20\n"
          ]
        }
      ],
      "source": [
        "# check every value\n",
        "for value in d.values():\n",
        "  print(value)"
      ]
    },
    {
      "cell_type": "code",
      "execution_count": 82,
      "metadata": {
        "id": "Mo3ticRX3Tlt"
      },
      "outputs": [
        {
          "name": "stdout",
          "output_type": "stream",
          "text": [
            "0\n",
            "1\n",
            "2\n",
            "3\n",
            "4\n",
            "5\n",
            "6\n",
            "7\n",
            "8\n",
            "9\n"
          ]
        }
      ],
      "source": [
        "# by default I was obtaining an iterable of keys, but we could state it explicitly\n",
        "for key in d.keys():\n",
        "  print(key)"
      ]
    },
    {
      "cell_type": "code",
      "execution_count": 83,
      "metadata": {
        "id": "OTSBN9lf3W5Y"
      },
      "outputs": [
        {
          "name": "stdout",
          "output_type": "stream",
          "text": [
            "(0, 2)\n",
            "(1, 4)\n",
            "(2, 6)\n",
            "(3, 8)\n",
            "(4, 10)\n",
            "(5, 12)\n",
            "(6, 14)\n",
            "(7, 16)\n",
            "(8, 18)\n",
            "(9, 20)\n"
          ]
        }
      ],
      "source": [
        "# lets start by looking at items\n",
        "for item in d.items():\n",
        "  print(item)"
      ]
    },
    {
      "cell_type": "code",
      "execution_count": 85,
      "metadata": {
        "id": "MvE4SBGT3XCQ"
      },
      "outputs": [
        {
          "name": "stdout",
          "output_type": "stream",
          "text": [
            "<class 'tuple'>\n",
            "<class 'tuple'>\n",
            "<class 'tuple'>\n",
            "<class 'tuple'>\n",
            "<class 'tuple'>\n",
            "<class 'tuple'>\n",
            "<class 'tuple'>\n",
            "<class 'tuple'>\n",
            "<class 'tuple'>\n",
            "<class 'tuple'>\n"
          ]
        }
      ],
      "source": [
        "# lets confirm a tuple\n",
        "for item in d.items():\n",
        "  #print(item)\n",
        "  print(type(item))"
      ]
    },
    {
      "cell_type": "code",
      "execution_count": 89,
      "metadata": {
        "id": "RRSqAh7o3XFg"
      },
      "outputs": [
        {
          "name": "stdout",
          "output_type": "stream",
          "text": [
            "0 2\n",
            "=====\n",
            "1 4\n",
            "=====\n",
            "2 6\n",
            "=====\n",
            "3 8\n",
            "=====\n",
            "4 10\n",
            "=====\n",
            "5 12\n",
            "=====\n",
            "6 14\n",
            "=====\n",
            "7 16\n",
            "=====\n",
            "8 18\n",
            "=====\n",
            "9 20\n",
            "=====\n"
          ]
        }
      ],
      "source": [
        "# lets extract the key and the value\n",
        "for key, value in d.items():\n",
        "  print(key, value)\n",
        "  # print(value)\n",
        "  print(\"=\"*5)"
      ]
    },
    {
      "cell_type": "code",
      "execution_count": 92,
      "metadata": {
        "id": "tjpKPMtE3XJR"
      },
      "outputs": [
        {
          "data": {
            "text/plain": [
              "{2: 0, 4: 1, 6: 2, 8: 3, 10: 4, 12: 5, 14: 6, 16: 7, 18: 8, 20: 9}"
            ]
          },
          "execution_count": 92,
          "metadata": {},
          "output_type": "execute_result"
        }
      ],
      "source": [
        "# reverse the dictionary\n",
        "d2 = {}\n",
        "\n",
        "for key, value in d.items():\n",
        "  d2[value] = key\n",
        "\n",
        "d2\n"
      ]
    },
    {
      "cell_type": "markdown",
      "metadata": {
        "id": "qDeoOUDg1e_r"
      },
      "source": [
        "# Exercise A:\n",
        "\n",
        "You are provided some code below to get you started. We are creating a list of grades for 500 students.  \n",
        "\n",
        "Given `grades`, create a new list called `passing_grade` and only include the entries from `grades` where the value is greater than or equal to 70.  After that has been completed, print out the percentage of grades that are considered passing."
      ]
    },
    {
      "cell_type": "code",
      "execution_count": 94,
      "metadata": {
        "id": "PE7Ol9WwuNdz"
      },
      "outputs": [],
      "source": [
        "# STARTER CODE BELOW\n",
        "import numpy as np\n",
        "np.random.seed(834)\n",
        "\n",
        "# create a set of 500\n",
        "grades = np.random.randint(0,100, size=500).tolist()"
      ]
    },
    {
      "cell_type": "code",
      "execution_count": 96,
      "metadata": {
        "id": "zjpHPEddkzRb"
      },
      "outputs": [
        {
          "name": "stdout",
          "output_type": "stream",
          "text": [
            "[93, 94, 84, 72, 98, 94, 71, 81, 88, 76, 81, 97, 86, 91, 89, 97, 88, 76, 76, 94, 92, 93, 76, 95, 82, 82, 86, 87, 82, 82, 88, 97, 82, 99, 87, 75, 81, 94, 88, 76, 84, 70, 72, 71, 88, 79, 75, 97, 94, 85, 95, 89, 91, 97, 92, 99, 83, 89, 82, 77, 79, 90, 91, 72, 93, 87, 71, 97, 91, 85, 89, 77, 82, 96, 74, 79, 81, 81, 92, 98, 88, 88, 99, 92, 71, 83, 94, 90, 76, 74, 82, 99, 84, 90, 76, 91, 83, 70, 93, 81, 89, 74, 76, 90, 78, 99, 78, 98, 76, 82, 81, 99, 71, 80, 70, 96, 89, 70, 77, 72, 80, 72, 83, 72, 92, 98, 90, 79, 79, 95, 73, 75, 91, 91, 90, 93, 88, 79, 94, 89, 78, 75, 91, 75, 84, 77, 80, 82, 72, 97]\n"
          ]
        }
      ],
      "source": [
        "# Q1:  Create a list called passing_grade , and populate it with passing grades\n",
        "# from the overall grades list\n",
        "# remember the passing grades are greater or equal to 70.\n",
        "passing_grade = []\n",
        "for i in grades:\n",
        "    if i >= 70:\n",
        "        passing_grade.append(i)\n",
        "print(passing_grade)\n"
      ]
    },
    {
      "cell_type": "code",
      "execution_count": 100,
      "metadata": {
        "id": "5CoJSby4lA1t"
      },
      "outputs": [
        {
          "name": "stdout",
          "output_type": "stream",
          "text": [
            "30.0 percent of students passed the class.\n"
          ]
        }
      ],
      "source": [
        "# Q2:  What % of the 500 entries in `grades` passed?\n",
        "# Return your result as a string in the format of XX%\n",
        "grades_length = len(grades)\n",
        "passing_grade_length = len(passing_grade)\n",
        "\n",
        "perc_grades_passed = (passing_grade_length/grades_length)*100\n",
        "\n",
        "print(perc_grades_passed, 'percent of students passed the class.')"
      ]
    },
    {
      "cell_type": "code",
      "execution_count": 108,
      "metadata": {
        "id": "QfktXEkimSy0"
      },
      "outputs": [
        {
          "name": "stdout",
          "output_type": "stream",
          "text": [
            "[99, 99, 99, 99, 99, 99, 98, 98, 98, 98, 97, 97, 97, 97, 97, 97, 97, 96, 96, 95, 95, 95, 94, 94, 94, 94, 94, 94, 94, 93, 93, 93, 93, 93, 92, 92, 92, 92, 92, 91, 91, 91, 91, 91, 91, 91, 91, 90, 90, 90, 90, 90, 90, 89, 89, 89, 89, 89, 89, 89, 88, 88, 88, 88, 88, 88, 88, 88, 87, 87, 87, 86, 86, 85, 85, 84, 84, 84, 84, 83, 83, 83, 83, 82, 82, 82, 82, 82, 82, 82, 82, 82, 82, 81, 81, 81, 81, 81, 81, 81, 80, 80, 80, 79, 79, 79, 79, 79, 79, 78, 78, 78, 77, 77, 77, 77, 76, 76, 76, 76, 76, 76, 76, 76, 76, 75, 75, 75, 75, 75, 74, 74, 74, 73, 72, 72, 72, 72, 72, 72, 72, 71, 71, 71, 71, 71, 70, 70, 70, 70]\n"
          ]
        }
      ],
      "source": [
        "# Q3: Bonus - can you sort the passing_grade list to find the highest passing grades \n",
        "# in this sample?\n",
        "passing_grade.sort(reverse=True)\n",
        "print(passing_grade)"
      ]
    },
    {
      "cell_type": "markdown",
      "metadata": {
        "id": "od-L3S0_Syel"
      },
      "source": [
        "# Exercise B: \n",
        "\n",
        "Let's add our knowledge of functions here too:\n",
        "\n",
        "Create a function that takes a string as input, and returns a list that only includes the letters from the input that are in upper case ('B', not 'b')\n",
        "\n",
        "> Hint: reviewing string methods might help here while checking upper case!\n",
        "\n",
        "\n",
        "> Bonus: add an optional argument to functional called \"collapsed\" such that when it is `True` (default being `False`), your function also returns a collapsed version of the entry so the letters appear together as just a string, e.g. likethisbunchofwords"
      ]
    },
    {
      "cell_type": "code",
      "execution_count": 115,
      "metadata": {
        "id": "MvPELlIEXmfQ"
      },
      "outputs": [],
      "source": [
        "def upper_cas_func(x, collapsed = false):\n",
        "    upper_case_list = []\n",
        "    for i in x:\n",
        "        if i.isupper() == True:\n",
        "            upper_case_list.append(i)\n",
        "    return upper_case_list\n",
        "\n",
        "            "
      ]
    },
    {
      "cell_type": "code",
      "execution_count": 116,
      "metadata": {
        "id": "Pp2HzgobwLaZ"
      },
      "outputs": [
        {
          "data": {
            "text/plain": [
              "['B', 'A', 'T', 'I', 'F', 'U', 'L']"
            ]
          },
          "execution_count": 116,
          "metadata": {},
          "output_type": "execute_result"
        }
      ],
      "source": [
        "upper_cas_func('BeAuTIFULs')"
      ]
    },
    {
      "cell_type": "code",
      "execution_count": 117,
      "metadata": {},
      "outputs": [
        {
          "name": "stdout",
          "output_type": "stream",
          "text": [
            "['H', 'M', 'N', 'I', 'L']\n",
            "HMNIL\n"
          ]
        }
      ],
      "source": [
        "def func(s,collapsed = False):\n",
        "  l = []\n",
        "  for i in s:\n",
        "    if i.isupper() == True:\n",
        "      l.append(i)\n",
        "  if collapsed == True:\n",
        "    l =''.join(l)\n",
        "  return(l)\n",
        "\n",
        "print(func(\"Hello My Name Is Luke\", False))\n",
        "print(func(\"Hello My Name Is Luke\", True))"
      ]
    }
  ],
  "metadata": {
    "colab": {
      "name": "02-LoopsConditionals_Lecture.ipynb",
      "provenance": []
    },
    "kernelspec": {
      "display_name": "Python 3",
      "name": "python3"
    },
    "language_info": {
      "name": "python"
    }
  },
  "nbformat": 4,
  "nbformat_minor": 0
}