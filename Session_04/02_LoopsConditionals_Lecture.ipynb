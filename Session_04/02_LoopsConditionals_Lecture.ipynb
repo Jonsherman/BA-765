{
  "nbformat": 4,
  "nbformat_minor": 0,
  "metadata": {
    "colab": {
      "name": "02-LoopsConditionals_Lecture.ipynb",
      "provenance": []
    },
    "kernelspec": {
      "name": "python3",
      "display_name": "Python 3"
    },
    "language_info": {
      "name": "python"
    }
  },
  "cells": [
    {
      "cell_type": "markdown",
      "metadata": {
        "id": "buZDoj1ODwRT"
      },
      "source": [
        "# Controlling the Execution Flow\n",
        "Loops and Conditionals\n",
        "<br>Session 4 - part 2\n",
        "<br>07/15/2021\n",
        "\n",
        "Learning Objectives:\n",
        "\n",
        "1.  `for` and `while` loops\n",
        "1.  `if` statements\n",
        "\n",
        "\n",
        "Above allow us to control the flow of our code, and provide a pathway for us to create more advanced functions to control our code logic.\n"
      ]
    },
    {
      "cell_type": "markdown",
      "metadata": {
        "id": "8_quLbBkm4ZZ"
      },
      "source": [
        "# Looping: `for` and `while`\n",
        "\n",
        "Computers shine at repetitive tasks. There will be times where you want to evaluate each entry in a object, or execute code until a certain codition is met.  \n",
        "\n",
        "For loop tutorial:  https://realpython.com/python-for-loop/  \n",
        "While loop tutorial:   https://realpython.com/python-while-loop/"
      ]
    },
    {
      "cell_type": "markdown",
      "metadata": {
        "id": "8Niws9_LqqqZ"
      },
      "source": [
        "## For loops"
      ]
    },
    {
      "cell_type": "markdown",
      "metadata": {
        "id": "8aQePGAL1Vr-"
      },
      "source": [
        "\n",
        "![loop](https://www.learnbyexample.org/wp-content/uploads/python/Python-for-Loop-Syntax.png)\n",
        "\n",
        "<br>\n",
        "\n"
      ]
    },
    {
      "cell_type": "code",
      "metadata": {
        "id": "CZ2n2bOmotKq"
      },
      "source": [
        "# print elements in a list\n",
        "mylist = [1,2,3,'a']\n",
        "\n",
        "for i in mylist:\n",
        "  print(i)"
      ],
      "execution_count": null,
      "outputs": []
    },
    {
      "cell_type": "code",
      "metadata": {
        "id": "ghyCyTXHaGYV"
      },
      "source": [
        "for i in mylist:\n",
        "  print(\"Hello, World!\")"
      ],
      "execution_count": null,
      "outputs": []
    },
    {
      "cell_type": "markdown",
      "metadata": {
        "id": "ojjokRWpo23v"
      },
      "source": [
        "> What just happened?  We iterated over the values in `mylist`, and for each value, we set the value of `i` to that entry, and printed it to output.  We don't have to always use `i`, but it is a rather standard convention for historical reasons."
      ]
    },
    {
      "cell_type": "markdown",
      "metadata": {
        "id": "covQpaE_E_5e"
      },
      "source": [
        "Remember the range function? It is perfect for these kind of repetitive tasks:"
      ]
    },
    {
      "cell_type": "code",
      "metadata": {
        "id": "OmXIta1KpMO4"
      },
      "source": [
        "# a second for loop\n",
        "for num in range(1,11):\n",
        "  print(num)"
      ],
      "execution_count": null,
      "outputs": []
    },
    {
      "cell_type": "markdown",
      "metadata": {
        "id": "5q8hZZhVqj4V"
      },
      "source": [
        "\n",
        "For help on range, see this article:  https://pynative.com/python-range-function/"
      ]
    },
    {
      "cell_type": "code",
      "metadata": {
        "id": "xxEEw1C4pVrz"
      },
      "source": [
        "# let's copy above, but this time, perform an operation on each entry\n",
        "# square the values\n",
        "for num in range(1, 11):\n",
        "  print(num**2)"
      ],
      "execution_count": null,
      "outputs": []
    },
    {
      "cell_type": "markdown",
      "metadata": {
        "id": "CyNlj_T7FMje"
      },
      "source": [
        "## Quick Exercise:"
      ]
    },
    {
      "cell_type": "code",
      "metadata": {
        "id": "O2LF6Ranm4Tg"
      },
      "source": [
        "# for each number 1 through 10, add 5 to the number, and add it to a list called\n",
        "# modifed_nums\n",
        "# "
      ],
      "execution_count": null,
      "outputs": []
    },
    {
      "cell_type": "code",
      "metadata": {
        "id": "AG_2NOSNdKuC"
      },
      "source": [
        ""
      ],
      "execution_count": null,
      "outputs": []
    },
    {
      "cell_type": "markdown",
      "metadata": {
        "id": "bFHYveHym4RX"
      },
      "source": [
        "## While loops\n",
        "\n",
        "![while](https://www.learnbyexample.org/wp-content/uploads/python/Python-while-Loop-Syntax.png)\n",
        "\n",
        "Unlike `for` loops, `while` loops will always try to execute the code blocks until the condition is no longer `True`.  These can be infinite loops."
      ]
    },
    {
      "cell_type": "code",
      "metadata": {
        "id": "oYRxxud7m4Xt"
      },
      "source": [
        "# lets import the random library \n",
        "import random\n"
      ],
      "execution_count": null,
      "outputs": []
    },
    {
      "cell_type": "code",
      "metadata": {
        "id": "BBzcw3sEm4PP"
      },
      "source": [
        "# starter loop\n",
        "x = 1\n",
        "while x < 5:\n",
        "  print(x)\n",
        "  x = x + 1"
      ],
      "execution_count": null,
      "outputs": []
    },
    {
      "cell_type": "code",
      "metadata": {
        "id": "GJA0056Mm4MQ"
      },
      "source": [
        "# as mentioned above, these can be infinite loops,\n",
        "# we will need to interrupt the execution otherwise it will run forever:\n",
        "# Runtime  > interrupt execution\n",
        "while True:\n",
        "  print(random.randint(1,100))"
      ],
      "execution_count": null,
      "outputs": []
    },
    {
      "cell_type": "markdown",
      "metadata": {
        "id": "JRhYwNCdFoKt"
      },
      "source": [
        "## Quick exercise"
      ]
    },
    {
      "cell_type": "code",
      "metadata": {
        "id": "Nub3Ba0Dm4EP"
      },
      "source": [
        "# QUICK EXERCISE:\n",
        "# define x to be 50\n",
        "# use a while loop that executes as long as x > 10\n",
        "# inside the while loop, update the value of x to be:\n",
        "# (its current value - a random integer between 1 and 5)\n"
      ],
      "execution_count": null,
      "outputs": []
    },
    {
      "cell_type": "markdown",
      "metadata": {
        "id": "JTdjmAcD1eNT"
      },
      "source": [
        "# `if` statements\n",
        "\n",
        "If statements execute _if_ the conditional statement is `True`.  \n",
        "\n",
        "Tutorial:  https://realpython.com/python-conditional-statements/"
      ]
    },
    {
      "cell_type": "code",
      "metadata": {
        "id": "BUZV8PKu1exn"
      },
      "source": [
        "# let's start simple\n",
        "# but learn a few interesting things at the same time\n",
        "# below is how to ask user for live input:\n",
        "x = input('enter an integer value for x:')\n",
        "x = int(x)\n",
        "if x > 0:\n",
        "  print('x is greater than zero')"
      ],
      "execution_count": null,
      "outputs": []
    },
    {
      "cell_type": "markdown",
      "metadata": {
        "id": "jvcRD3OLlk9d"
      },
      "source": [
        "> Note 1:  Take note of the indentation.  This is a key principle in writing code in python.  For various features, like if statements, python will require us to indent our code.  Change indentation of the `print` so that it is in the same level of `if` line and see the result!\n",
        "\n",
        "\n",
        "> Note 2: Above we use are using standard python's `input` to get input from the user. It comes back in the form a string, so we convert it to an integer."
      ]
    },
    {
      "cell_type": "code",
      "metadata": {
        "id": "e60ErhXc1ez1"
      },
      "source": [
        "# lets copy and paste the cell above, to handle other flows\n",
        "# handle other cases\n",
        "x = input('enter a integer value for x:')\n",
        "x = int(x)\n",
        "if x > 0:\n",
        "  print('x is greater than zero')\n",
        "else:\n",
        "  print('x is negative')\n"
      ],
      "execution_count": null,
      "outputs": []
    },
    {
      "cell_type": "markdown",
      "metadata": {
        "id": "4m9KG1yr1e2x"
      },
      "source": [
        "> What happens when we enter zero? "
      ]
    },
    {
      "cell_type": "code",
      "metadata": {
        "id": "ywsPgRAx1e6v"
      },
      "source": [
        "# let's round this out\n",
        "x = input('enter a integer value for x:')\n",
        "x = int(x)\n",
        "if x > 0:\n",
        "  print('x is greater than zero')\n",
        "elif x < 0:\n",
        "  print('x is negative')\n",
        "else:\n",
        "  print('x is equal to zero')"
      ],
      "execution_count": null,
      "outputs": []
    },
    {
      "cell_type": "markdown",
      "metadata": {
        "id": "ePwpiYCt1e9F"
      },
      "source": [
        "> What did we learn above about the syntax?"
      ]
    },
    {
      "cell_type": "markdown",
      "metadata": {
        "id": "5-5syKcZ0SKX"
      },
      "source": [
        "## Iterating over Lists"
      ]
    },
    {
      "cell_type": "code",
      "metadata": {
        "id": "np05Wptj0SNc"
      },
      "source": [
        "x = list(range(2, 22, 2))\n",
        "x"
      ],
      "execution_count": null,
      "outputs": []
    },
    {
      "cell_type": "code",
      "metadata": {
        "id": "whaCzJX42GAQ"
      },
      "source": [
        "# len\n",
        "len(x)"
      ],
      "execution_count": null,
      "outputs": []
    },
    {
      "cell_type": "code",
      "metadata": {
        "id": "9000z58y2MQW"
      },
      "source": [
        "for val in x:\n",
        "  print(val)"
      ],
      "execution_count": null,
      "outputs": []
    },
    {
      "cell_type": "code",
      "metadata": {
        "id": "HU8qUyY82NAK"
      },
      "source": [
        "# have both the index and value\n",
        "for index, value in enumerate(x):\n",
        "  print(index, value)"
      ],
      "execution_count": null,
      "outputs": []
    },
    {
      "cell_type": "code",
      "metadata": {
        "id": "RTwxAxcc2NDg"
      },
      "source": [
        "# confirm\n",
        "x[:5]"
      ],
      "execution_count": null,
      "outputs": []
    },
    {
      "cell_type": "code",
      "metadata": {
        "id": "pgmCBiJr2NGQ"
      },
      "source": [
        "# lets go from a list to a dictionary\n",
        "d = {}\n",
        "\n",
        "for index, value in enumerate(x):\n",
        "  d[index] = value\n",
        "\n"
      ],
      "execution_count": null,
      "outputs": []
    },
    {
      "cell_type": "code",
      "metadata": {
        "id": "UEDPGMbD2mQD"
      },
      "source": [
        "d"
      ],
      "execution_count": null,
      "outputs": []
    },
    {
      "cell_type": "code",
      "metadata": {
        "id": "_k8wDjxf2uL8"
      },
      "source": [
        "list(d.keys())"
      ],
      "execution_count": null,
      "outputs": []
    },
    {
      "cell_type": "markdown",
      "metadata": {
        "id": "87OC0IBy28cp"
      },
      "source": [
        "## Dictionaries"
      ]
    },
    {
      "cell_type": "code",
      "metadata": {
        "id": "nxTx4WFY3Cws"
      },
      "source": [
        "# command that checks if key is in dict\n",
        "0 in d"
      ],
      "execution_count": null,
      "outputs": []
    },
    {
      "cell_type": "code",
      "metadata": {
        "id": "Yb3DkFw_k2kg"
      },
      "source": [
        "d"
      ],
      "execution_count": null,
      "outputs": []
    },
    {
      "cell_type": "code",
      "metadata": {
        "id": "kuY-JNPt3Lj8"
      },
      "source": [
        "# check every key\n",
        "for key in d:\n",
        "  print(key)"
      ],
      "execution_count": null,
      "outputs": []
    },
    {
      "cell_type": "code",
      "metadata": {
        "id": "PS8MMmUC3O7V"
      },
      "source": [
        "# check every value\n",
        "for value in d.values():\n",
        "  print(value)"
      ],
      "execution_count": null,
      "outputs": []
    },
    {
      "cell_type": "code",
      "metadata": {
        "id": "Mo3ticRX3Tlt"
      },
      "source": [
        "# by default I was obtaining an iterable of keys, but we could state it explicitly\n",
        "for key in d.keys():\n",
        "  print(key)"
      ],
      "execution_count": null,
      "outputs": []
    },
    {
      "cell_type": "code",
      "metadata": {
        "id": "OTSBN9lf3W5Y"
      },
      "source": [
        "# lets start by looking at items\n",
        "for item in d.items():\n",
        "  print(item)"
      ],
      "execution_count": null,
      "outputs": []
    },
    {
      "cell_type": "code",
      "metadata": {
        "id": "MvE4SBGT3XCQ"
      },
      "source": [
        "# lets confirm a tuple\n",
        "for item in d.items():\n",
        "  print(item)\n",
        "  print(type(item))"
      ],
      "execution_count": null,
      "outputs": []
    },
    {
      "cell_type": "code",
      "metadata": {
        "id": "RRSqAh7o3XFg"
      },
      "source": [
        "# lets extract the key and the value\n",
        "for key, value in d.items():\n",
        "  print(key, value)\n",
        "  # print(value)\n",
        "  print(\"=\"*10)"
      ],
      "execution_count": null,
      "outputs": []
    },
    {
      "cell_type": "code",
      "metadata": {
        "id": "tjpKPMtE3XJR"
      },
      "source": [
        "# reverse the dictionary\n",
        "d2 = {}\n",
        "\n",
        "for key, value in d.items():\n",
        "  d2[value] = key\n",
        "\n",
        "d2\n"
      ],
      "execution_count": null,
      "outputs": []
    },
    {
      "cell_type": "markdown",
      "metadata": {
        "id": "qDeoOUDg1e_r"
      },
      "source": [
        "# Exercise A:\n",
        "\n",
        "You are provided some code below to get you started. We are creating a list of grades for 500 students.  \n",
        "\n",
        "Given `grades`, create a new list called `passing_grade` and only include the entries from `grades` where the value is greater than or equal to 70.  After that has been completed, print out the percentage of grades that are considered passing."
      ]
    },
    {
      "cell_type": "code",
      "metadata": {
        "id": "PE7Ol9WwuNdz"
      },
      "source": [
        "# STARTER CODE BELOW\n",
        "import numpy as np\n",
        "np.random.seed(834)\n",
        "\n",
        "# create a set of 500\n",
        "grades = np.random.randint(0,100, size=500).tolist()"
      ],
      "execution_count": null,
      "outputs": []
    },
    {
      "cell_type": "code",
      "metadata": {
        "id": "zjpHPEddkzRb"
      },
      "source": [
        "# Q1:  Create a list called passing_grade , and populate it with passing grades\n",
        "# from the overall grades list\n",
        "# remember the passing grades are greater or equal to 70.\n",
        "\n"
      ],
      "execution_count": null,
      "outputs": []
    },
    {
      "cell_type": "code",
      "metadata": {
        "id": "5CoJSby4lA1t"
      },
      "source": [
        "# Q2:  What % of the 500 entries in `grades` passed?\n",
        "# Return your result as a string in the format of XX%\n"
      ],
      "execution_count": null,
      "outputs": []
    },
    {
      "cell_type": "code",
      "metadata": {
        "id": "QfktXEkimSy0"
      },
      "source": [
        "# Q3: Bonus - can you sort the passing_grade list to find the highest passing grades \n",
        "# in this sample?"
      ],
      "execution_count": null,
      "outputs": []
    },
    {
      "cell_type": "markdown",
      "metadata": {
        "id": "od-L3S0_Syel"
      },
      "source": [
        "# Exercise B: \n",
        "\n",
        "Let's add our knowledge of functions here too:\n",
        "\n",
        "Create a function that takes a string as input, and returns a list that only includes the letters from the input that are in upper case ('B', not 'b')\n",
        "\n",
        "> Hint: reviewing string methods might help here while checking upper case!\n",
        "\n",
        "\n",
        "> Bonus: add an optional argument to functional called \"collapsed\" such that when it is `True` (default being `False`), your function also returns a collapsed version of the entry so the letters appear together as just a string, e.g. likethisbunchofwords"
      ]
    },
    {
      "cell_type": "code",
      "metadata": {
        "id": "MvPELlIEXmfQ"
      },
      "source": [
        ""
      ],
      "execution_count": null,
      "outputs": []
    },
    {
      "cell_type": "code",
      "metadata": {
        "id": "Pp2HzgobwLaZ"
      },
      "source": [
        ""
      ],
      "execution_count": null,
      "outputs": []
    }
  ]
}