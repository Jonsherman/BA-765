{
  "cells": [
    {
      "cell_type": "code",
      "execution_count": null,
      "metadata": {
        "id": "zLRyEYusSCgc"
      },
      "outputs": [],
      "source": []
    },
    {
      "cell_type": "markdown",
      "metadata": {
        "id": "Nv45O7jn2Nm4"
      },
      "source": [
        "# About\n",
        "\n",
        "![numpy](https://upload.wikimedia.org/wikipedia/commons/thumb/3/31/NumPy_logo_2020.svg/1200px-NumPy_logo_2020.svg.png)\n",
        "\n",
        "\n",
        "In this notebook we will run through an introduction to [numpy](https://numpy.org/), or numerical python, which is the foundation for the core data analytics and data science ecosystem.\n",
        "\n",
        "\n",
        "\n"
      ]
    },
    {
      "cell_type": "code",
      "execution_count": 2,
      "metadata": {
        "id": "EjN_pZ7frWT7"
      },
      "outputs": [],
      "source": [
        "# import the library to get started\n",
        "import numpy as np"
      ]
    },
    {
      "cell_type": "markdown",
      "metadata": {
        "id": "9Ttnwfh1o4pR"
      },
      "source": [
        "Numpy is the workhorse underneath a number of our tools that we will be using.  At the core, numpy **arrays** look a lot like `lists` that we worked through last week, except that they have additional properties:\n",
        "\n",
        "1.  numpy arrays can be multi-dimensional \n",
        "\n",
        "2.  numpy arrays allow us to do calculations on each element  at the same time (we can't do this with lists).  This is **element wise** calculations.\n",
        "\n",
        "3.  unlike lists, numpy arrays hold a single **type**\n",
        "\n",
        ">  ***From above, you see that I imported numpy as np.  This is the standard convention.***"
      ]
    },
    {
      "cell_type": "markdown",
      "metadata": {
        "id": "MuaqGkiPK8Ni"
      },
      "source": [
        "# Lists to numpy arrays"
      ]
    },
    {
      "cell_type": "code",
      "execution_count": 3,
      "metadata": {
        "colab": {
          "base_uri": "https://localhost:8080/"
        },
        "id": "qYhheUZ2sZne",
        "outputId": "2fb7ff66-5b70-40d8-f18b-244c3c9906ba"
      },
      "outputs": [
        {
          "name": "stdout",
          "output_type": "stream",
          "text": [
            "<class 'list'>\n",
            "[1, 2, 4, 5, 6, 7]\n"
          ]
        }
      ],
      "source": [
        "# create a normal list\n",
        "my_list = [1,2,4,5,6,7]\n",
        "\n",
        "## print out the type and the values\n",
        "print(type(my_list))\n",
        "print(my_list)"
      ]
    },
    {
      "cell_type": "code",
      "execution_count": 4,
      "metadata": {
        "colab": {
          "base_uri": "https://localhost:8080/"
        },
        "id": "JtXD2wbttH_z",
        "outputId": "d1973815-fced-4ef3-d974-ea927d7362c1"
      },
      "outputs": [
        {
          "name": "stdout",
          "output_type": "stream",
          "text": [
            "[2, 4, 6]\n"
          ]
        }
      ],
      "source": [
        "# create a new list and perform some math on it\n",
        "new_list = [1,2,3]\n",
        "new_list = [ i *2 for i in new_list]\n",
        "print(new_list)"
      ]
    },
    {
      "cell_type": "code",
      "execution_count": 5,
      "metadata": {
        "colab": {
          "base_uri": "https://localhost:8080/"
        },
        "id": "KTVUDIPStafv",
        "outputId": "507e42d5-4acf-4ddd-d452-4cd40208fc4c"
      },
      "outputs": [
        {
          "data": {
            "text/plain": [
              "[2, 4, 6, 2, 4, 6, 2, 4, 6]"
            ]
          },
          "execution_count": 5,
          "metadata": {},
          "output_type": "execute_result"
        }
      ],
      "source": [
        "# multiple the list by 3\n",
        "new_list *3"
      ]
    },
    {
      "cell_type": "code",
      "execution_count": 6,
      "metadata": {
        "colab": {
          "base_uri": "https://localhost:8080/",
          "height": 35
        },
        "id": "MVtHqNxDVjyu",
        "outputId": "28a4b9f5-7def-40f1-b1be-9a6027b04abf"
      },
      "outputs": [
        {
          "data": {
            "text/plain": [
              "'ba765ba765ba765'"
            ]
          },
          "execution_count": 6,
          "metadata": {},
          "output_type": "execute_result"
        }
      ],
      "source": [
        "\"ba765\"*3"
      ]
    },
    {
      "cell_type": "markdown",
      "metadata": {
        "id": "edu7vQ1StufZ"
      },
      "source": [
        "Above shows that just like with `+`, we can repeat the list with `*`"
      ]
    },
    {
      "cell_type": "code",
      "execution_count": 11,
      "metadata": {
        "colab": {
          "base_uri": "https://localhost:8080/"
        },
        "id": "UHGc1qpGuCD-",
        "outputId": "26274755-d6c2-4688-e1db-de773d1103af"
      },
      "outputs": [
        {
          "data": {
            "text/plain": [
              "array([2, 4, 6])"
            ]
          },
          "execution_count": 11,
          "metadata": {},
          "output_type": "execute_result"
        }
      ],
      "source": [
        "# numpy to the rescue\n",
        "np_arr = np.array(new_list)\n",
        "np_arr"
      ]
    },
    {
      "cell_type": "code",
      "execution_count": 10,
      "metadata": {
        "colab": {
          "base_uri": "https://localhost:8080/"
        },
        "id": "-s-FX4QqVwfi",
        "outputId": "d5f0d7c7-9120-4b57-b12c-73c9e2fca0fd"
      },
      "outputs": [
        {
          "data": {
            "text/plain": [
              "numpy.ndarray"
            ]
          },
          "execution_count": 10,
          "metadata": {},
          "output_type": "execute_result"
        }
      ],
      "source": [
        "type(np_arr)"
      ]
    },
    {
      "cell_type": "code",
      "execution_count": 12,
      "metadata": {
        "colab": {
          "base_uri": "https://localhost:8080/"
        },
        "id": "1LKRnfHVuK-8",
        "outputId": "3d0cd2ff-5cfc-4de0-97b6-9a409ba4b6d9"
      },
      "outputs": [
        {
          "data": {
            "text/plain": [
              "array([ 6, 12, 18])"
            ]
          },
          "execution_count": 12,
          "metadata": {},
          "output_type": "execute_result"
        }
      ],
      "source": [
        "# we converted our list to an numpy array. now lets try it\n",
        "np_arr * 3"
      ]
    },
    {
      "cell_type": "markdown",
      "metadata": {
        "id": "aCixKikfuRaI"
      },
      "source": [
        "While lists and tuples are powerful in base python, and we will use them later in the course, when it really comes to analyzing data, the foundations of the tools that we will use are in **numpy**.\n",
        "\n",
        "Simply, the higher level tools use numpy under the hood, but it's important for us to have a baseline understanding of numpy before we dive into **pandas**."
      ]
    },
    {
      "cell_type": "markdown",
      "metadata": {
        "id": "PGatVu69LHe9"
      },
      "source": [
        "# Numpy Arrays - Single Type Only"
      ]
    },
    {
      "cell_type": "markdown",
      "metadata": {
        "id": "zRXelIi1utYz"
      },
      "source": [
        "Because numpy arrays are built to do calculations, helping us with analyzing data, each array must be of a single type. "
      ]
    },
    {
      "cell_type": "code",
      "execution_count": 13,
      "metadata": {
        "colab": {
          "base_uri": "https://localhost:8080/"
        },
        "id": "pyGtpNFiu8Q-",
        "outputId": "798b0401-aa84-4e55-e1f3-a16a74c88b8d"
      },
      "outputs": [
        {
          "data": {
            "text/plain": [
              "[1, 'a', True]"
            ]
          },
          "execution_count": 13,
          "metadata": {},
          "output_type": "execute_result"
        }
      ],
      "source": [
        "# create a normal list\n",
        "normal_list = [1, 'a', True]\n",
        "normal_list"
      ]
    },
    {
      "cell_type": "markdown",
      "metadata": {
        "id": "6tyArjH1vC5i"
      },
      "source": [
        "This does what we expected, it printed a list, and if we wanted, we could even have a list within a list, as we learned last week."
      ]
    },
    {
      "cell_type": "code",
      "execution_count": 14,
      "metadata": {
        "colab": {
          "base_uri": "https://localhost:8080/"
        },
        "id": "W75FXmbkvUQ8",
        "outputId": "af00b681-a810-4d28-f331-7ca7d2b1b1c3"
      },
      "outputs": [
        {
          "data": {
            "text/plain": [
              "array(['1', 'a', 'True'], dtype='<U21')"
            ]
          },
          "execution_count": 14,
          "metadata": {},
          "output_type": "execute_result"
        }
      ],
      "source": [
        "# convert the list to numpy, as we saw above with np.array(<list>)\n",
        "np_convert = np.array(normal_list)\n",
        "np_convert"
      ]
    },
    {
      "cell_type": "code",
      "execution_count": 15,
      "metadata": {
        "colab": {
          "base_uri": "https://localhost:8080/"
        },
        "id": "NMqoJWcnWFgZ",
        "outputId": "8741ffcc-f15e-4965-a39a-330a4fadb07b"
      },
      "outputs": [
        {
          "data": {
            "text/plain": [
              "numpy.ndarray"
            ]
          },
          "execution_count": 15,
          "metadata": {},
          "output_type": "execute_result"
        }
      ],
      "source": [
        "type(np_convert)"
      ]
    },
    {
      "cell_type": "markdown",
      "metadata": {
        "id": "Mh9NGwVHLT5i"
      },
      "source": [
        "\n",
        "\n",
        "\n",
        "Look at what we have above.  Numpy needs to have all elements in an array be of the same type.  But it didn't error out, nor it did exclude some elements. What did numpy do?"
      ]
    },
    {
      "cell_type": "markdown",
      "metadata": {
        "id": "ZPSjvWdGLca5"
      },
      "source": [
        "# Core numpy features"
      ]
    },
    {
      "cell_type": "markdown",
      "metadata": {
        "id": "lc6mI8l5xxnC"
      },
      "source": [
        "## nd arrays"
      ]
    },
    {
      "cell_type": "code",
      "execution_count": 16,
      "metadata": {
        "colab": {
          "base_uri": "https://localhost:8080/"
        },
        "id": "V4316W5uxd5z",
        "outputId": "70017535-d25a-4b32-b507-d5d7d82c19a3"
      },
      "outputs": [
        {
          "data": {
            "text/plain": [
              "[[1, 2], [3, 4], [5, 6]]"
            ]
          },
          "execution_count": 16,
          "metadata": {},
          "output_type": "execute_result"
        }
      ],
      "source": [
        "# remember a list of lists?\n",
        "lol = [ [1,2], [3,4], [5,6] ]\n",
        "lol"
      ]
    },
    {
      "cell_type": "code",
      "execution_count": 17,
      "metadata": {
        "colab": {
          "base_uri": "https://localhost:8080/"
        },
        "id": "Oq8eLKNeWfTj",
        "outputId": "93c00aa4-0731-4500-a8fa-8dd4fbc06f41"
      },
      "outputs": [
        {
          "data": {
            "text/plain": [
              "2"
            ]
          },
          "execution_count": 17,
          "metadata": {},
          "output_type": "execute_result"
        }
      ],
      "source": [
        "lol[0][1]"
      ]
    },
    {
      "cell_type": "code",
      "execution_count": 20,
      "metadata": {},
      "outputs": [
        {
          "data": {
            "text/plain": [
              "(2,)"
            ]
          },
          "execution_count": 20,
          "metadata": {},
          "output_type": "execute_result"
        }
      ],
      "source": [
        "test_shape = np.array([1,2])\n",
        "test_shape.shape"
      ]
    },
    {
      "cell_type": "code",
      "execution_count": 21,
      "metadata": {
        "colab": {
          "base_uri": "https://localhost:8080/"
        },
        "id": "KpX9retqxkDZ",
        "outputId": "1dcd29ea-6d1b-461c-8c0d-e8c6f8dd47f0"
      },
      "outputs": [
        {
          "data": {
            "text/plain": [
              "array([[1, 2],\n",
              "       [3, 4],\n",
              "       [5, 6]])"
            ]
          },
          "execution_count": 21,
          "metadata": {},
          "output_type": "execute_result"
        }
      ],
      "source": [
        "# bring this into numpy array\n",
        "lol_np = np.array(lol)\n",
        "lol_np"
      ]
    },
    {
      "cell_type": "code",
      "execution_count": 22,
      "metadata": {
        "colab": {
          "base_uri": "https://localhost:8080/"
        },
        "id": "cO66oc8AxZ95",
        "outputId": "46fb37fb-93e4-4353-f8bb-6afeffe3a4a4"
      },
      "outputs": [
        {
          "data": {
            "text/plain": [
              "(3, 2)"
            ]
          },
          "execution_count": 22,
          "metadata": {},
          "output_type": "execute_result"
        }
      ],
      "source": [
        "# what shape is our array\n",
        "lol_np.shape"
      ]
    },
    {
      "cell_type": "markdown",
      "metadata": {
        "id": "dLkMkUITx_Pq"
      },
      "source": [
        "> It's not exactly the same, but for now, we can think of this as a 3 row / 2 column Excel worksheet.  The `shape` attribute is something we are going to use quite a bit!\n",
        "\n"
      ]
    },
    {
      "cell_type": "code",
      "execution_count": 23,
      "metadata": {
        "colab": {
          "base_uri": "https://localhost:8080/"
        },
        "id": "j2gJ6L7cx_qJ",
        "outputId": "8a3bf819-98ab-4721-80cc-9b4ef50582d6"
      },
      "outputs": [
        {
          "data": {
            "text/plain": [
              "2"
            ]
          },
          "execution_count": 23,
          "metadata": {},
          "output_type": "execute_result"
        }
      ],
      "source": [
        "# how many dimensions within the array\n",
        "lol_np.ndim"
      ]
    },
    {
      "cell_type": "code",
      "execution_count": 24,
      "metadata": {
        "colab": {
          "base_uri": "https://localhost:8080/"
        },
        "id": "uuGyUxcHx_1F",
        "outputId": "b8be6b26-c190-40be-9579-f9143ad68c20"
      },
      "outputs": [
        {
          "data": {
            "text/plain": [
              "6"
            ]
          },
          "execution_count": 24,
          "metadata": {},
          "output_type": "execute_result"
        }
      ],
      "source": [
        "# how many elements total, or the size\n",
        "lol_np.size"
      ]
    },
    {
      "cell_type": "code",
      "execution_count": 25,
      "metadata": {
        "id": "BHT9cNdFx_9B"
      },
      "outputs": [],
      "source": [
        "# remember, we can always get help\n",
        "#lol_np?"
      ]
    },
    {
      "cell_type": "markdown",
      "metadata": {
        "id": "QhBquSRz0C5S"
      },
      "source": [
        "\n",
        "\n",
        "## Slicing"
      ]
    },
    {
      "cell_type": "code",
      "execution_count": 26,
      "metadata": {
        "id": "FGjame-lXkAw"
      },
      "outputs": [
        {
          "data": {
            "text/plain": [
              "array([[1, 2],\n",
              "       [3, 4],\n",
              "       [5, 6]])"
            ]
          },
          "execution_count": 26,
          "metadata": {},
          "output_type": "execute_result"
        }
      ],
      "source": [
        "lol_np"
      ]
    },
    {
      "cell_type": "code",
      "execution_count": 27,
      "metadata": {
        "colab": {
          "base_uri": "https://localhost:8080/"
        },
        "id": "hnVVDAbUXm_U",
        "outputId": "48317c5b-ac53-4467-f244-47011a77e203"
      },
      "outputs": [
        {
          "data": {
            "text/plain": [
              "(3, 2)"
            ]
          },
          "execution_count": 27,
          "metadata": {},
          "output_type": "execute_result"
        }
      ],
      "source": [
        "lol_np.shape"
      ]
    },
    {
      "cell_type": "code",
      "execution_count": 28,
      "metadata": {
        "colab": {
          "base_uri": "https://localhost:8080/"
        },
        "id": "dJgmb8Ku0xFb",
        "outputId": "c7adc9a4-35dc-42cd-ddf3-0799bb101a6f"
      },
      "outputs": [
        {
          "data": {
            "text/plain": [
              "array([1, 2])"
            ]
          },
          "execution_count": 28,
          "metadata": {},
          "output_type": "execute_result"
        }
      ],
      "source": [
        "# lets slice the array - include everything\n",
        "lol_np[0]"
      ]
    },
    {
      "cell_type": "code",
      "execution_count": 29,
      "metadata": {
        "colab": {
          "base_uri": "https://localhost:8080/"
        },
        "id": "w58Nkbbt2D_Q",
        "outputId": "b2e988ad-7946-48a6-bfee-3b0f5617e783"
      },
      "outputs": [
        {
          "data": {
            "text/plain": [
              "6"
            ]
          },
          "execution_count": 29,
          "metadata": {},
          "output_type": "execute_result"
        }
      ],
      "source": [
        "# get just the first array\n",
        "lol_np[2,1]"
      ]
    },
    {
      "cell_type": "markdown",
      "metadata": {
        "id": "yeZth8wI1kKv"
      },
      "source": [
        "Multidimenstional arrays can be sliced using a comma separated set of tuples"
      ]
    },
    {
      "cell_type": "code",
      "execution_count": 30,
      "metadata": {
        "colab": {
          "base_uri": "https://localhost:8080/"
        },
        "id": "kwU_tqyi01q0",
        "outputId": "bb9f0ae4-15e2-4bba-a0f4-bbb86a01f0ef"
      },
      "outputs": [
        {
          "data": {
            "text/plain": [
              "5"
            ]
          },
          "execution_count": 30,
          "metadata": {},
          "output_type": "execute_result"
        }
      ],
      "source": [
        "# return just 5 \n",
        "lol_np[2, 0]"
      ]
    },
    {
      "cell_type": "markdown",
      "metadata": {
        "id": "msfs09Rr3si_"
      },
      "source": [
        "lets look at a larger nd array"
      ]
    },
    {
      "cell_type": "code",
      "execution_count": 31,
      "metadata": {
        "colab": {
          "base_uri": "https://localhost:8080/"
        },
        "id": "AMGI7fuJ0_K3",
        "outputId": "e33b6b9b-52f1-4ec9-fc55-7c69368a9343"
      },
      "outputs": [
        {
          "data": {
            "text/plain": [
              "array([[14, 11, 16, 13],\n",
              "       [10, 16, 13, 12],\n",
              "       [11, 10, 17, 14]])"
            ]
          },
          "execution_count": 31,
          "metadata": {},
          "output_type": "execute_result"
        }
      ],
      "source": [
        "# generate a larger array\n",
        "np.random.seed(765) # for reproducing example\n",
        "x2 = np.random.randint(10, 20, size=(3, 4))\n",
        "x2"
      ]
    },
    {
      "cell_type": "code",
      "execution_count": 32,
      "metadata": {
        "colab": {
          "base_uri": "https://localhost:8080/"
        },
        "id": "dh6UKaRE0x3n",
        "outputId": "a5c7e5cc-1231-4a11-97d5-fccf3ee74bc5"
      },
      "outputs": [
        {
          "data": {
            "text/plain": [
              "(3, 4)"
            ]
          },
          "execution_count": 32,
          "metadata": {},
          "output_type": "execute_result"
        }
      ],
      "source": [
        "# rows/columns\n",
        "x2.shape"
      ]
    },
    {
      "cell_type": "code",
      "execution_count": 34,
      "metadata": {
        "colab": {
          "base_uri": "https://localhost:8080/"
        },
        "id": "pFjKfkCy3VWF",
        "outputId": "e63b769c-b728-410e-ce0b-6613d1840a93"
      },
      "outputs": [
        {
          "data": {
            "text/plain": [
              "array([14, 10, 11])"
            ]
          },
          "execution_count": 34,
          "metadata": {},
          "output_type": "execute_result"
        }
      ],
      "source": [
        "# all \"rows\" and first \"column\"\n",
        "x2[0:, 0]"
      ]
    },
    {
      "cell_type": "code",
      "execution_count": 35,
      "metadata": {
        "colab": {
          "base_uri": "https://localhost:8080/"
        },
        "id": "tZ4LvXn13gwg",
        "outputId": "24dff32c-76d5-4b69-d85e-8c070690ade1"
      },
      "outputs": [
        {
          "data": {
            "text/plain": [
              "array([[14, 11, 16],\n",
              "       [10, 16, 13]])"
            ]
          },
          "execution_count": 35,
          "metadata": {},
          "output_type": "execute_result"
        }
      ],
      "source": [
        "# 2 rows, 3 cols\n",
        "x2[:2, :3]"
      ]
    },
    {
      "cell_type": "code",
      "execution_count": 36,
      "metadata": {
        "colab": {
          "base_uri": "https://localhost:8080/"
        },
        "id": "2HlD1XIq4Bvm",
        "outputId": "5523ad7d-a142-458d-b9c3-fa3a2c6f2344"
      },
      "outputs": [
        {
          "data": {
            "text/plain": [
              "array([14, 11, 16, 13])"
            ]
          },
          "execution_count": 36,
          "metadata": {},
          "output_type": "execute_result"
        }
      ],
      "source": [
        "# just get one row\n",
        "x2[0]"
      ]
    },
    {
      "cell_type": "code",
      "execution_count": 37,
      "metadata": {
        "colab": {
          "base_uri": "https://localhost:8080/"
        },
        "id": "WDz-3zFJ4WRU",
        "outputId": "87b092ec-ec8d-4daf-a4b0-a993c892603b"
      },
      "outputs": [
        {
          "data": {
            "text/plain": [
              "array([[14, 17, 10, 11],\n",
              "       [12, 13, 16, 10],\n",
              "       [13, 16, 11, 14]])"
            ]
          },
          "execution_count": 37,
          "metadata": {},
          "output_type": "execute_result"
        }
      ],
      "source": [
        "# want to reverse?\n",
        "x2[::-1, ::-1]\n"
      ]
    },
    {
      "cell_type": "code",
      "execution_count": 38,
      "metadata": {
        "colab": {
          "base_uri": "https://localhost:8080/"
        },
        "id": "pWxqI_J_ZAPu",
        "outputId": "f2fe0ab7-6065-41bc-fb0a-709729f3166d"
      },
      "outputs": [
        {
          "data": {
            "text/plain": [
              "array([[14, 11, 16, 13],\n",
              "       [10, 16, 13, 12],\n",
              "       [11, 10, 17, 14]])"
            ]
          },
          "execution_count": 38,
          "metadata": {},
          "output_type": "execute_result"
        }
      ],
      "source": [
        "x2"
      ]
    },
    {
      "cell_type": "code",
      "execution_count": 39,
      "metadata": {
        "colab": {
          "base_uri": "https://localhost:8080/"
        },
        "id": "pT_SUj3UX0H9",
        "outputId": "a5e220e4-740b-4385-9ac2-908c1767ec95"
      },
      "outputs": [
        {
          "name": "stdout",
          "output_type": "stream",
          "text": [
            "13.083333333333334\n",
            "2.289771944005681\n",
            "17\n"
          ]
        }
      ],
      "source": [
        "# we can also do math!\n",
        "print(x2.mean())   #mean\n",
        "print(x2.std())    #standard deviation\n",
        "print(x2.max())    #max\n"
      ]
    },
    {
      "cell_type": "markdown",
      "metadata": {
        "id": "CD_wgRTmL9OD"
      },
      "source": [
        "---\n"
      ]
    },
    {
      "cell_type": "markdown",
      "metadata": {
        "id": "11EG0KPi4s1o"
      },
      "source": [
        "# Useful methods"
      ]
    },
    {
      "cell_type": "code",
      "execution_count": 46,
      "metadata": {
        "colab": {
          "base_uri": "https://localhost:8080/"
        },
        "id": "SbPyHBnUAAbt",
        "outputId": "347f0325-3809-4e4c-fa4a-d2001de32fe5"
      },
      "outputs": [
        {
          "data": {
            "text/plain": [
              "array([2, 4, 6, 8])"
            ]
          },
          "execution_count": 46,
          "metadata": {},
          "output_type": "execute_result"
        }
      ],
      "source": [
        "# arange: like range, generate an array of numbers with bounds and spacing\n",
        "x = np.arange(2, 10, 2)\n",
        "x"
      ]
    },
    {
      "cell_type": "code",
      "execution_count": 47,
      "metadata": {
        "colab": {
          "base_uri": "https://localhost:8080/"
        },
        "id": "R8bHq99FAEMo",
        "outputId": "91f43e12-47e3-4eae-d4b7-2465aa4d1bea"
      },
      "outputs": [
        {
          "name": "stdout",
          "output_type": "stream",
          "text": [
            "the mean of the array is 5.0\n",
            "the largest value in the array is 8\n",
            "the index for the largest value in the array is 3\n"
          ]
        }
      ],
      "source": [
        "# do some math and finding locations\n",
        "print(\"the mean of the array is {}\".format(str( x.mean() )))   # x.mean()\n",
        "print(\"the largest value in the array is {}\".format(str( x.max() )))   # x.max()\n",
        "print(\"the index for the largest value in the array is {}\".format(str( x.argmax() )))   # x.argmax()\n"
      ]
    },
    {
      "cell_type": "code",
      "execution_count": 48,
      "metadata": {
        "colab": {
          "base_uri": "https://localhost:8080/"
        },
        "id": "7scepTyDXOnl",
        "outputId": "66461c24-3ba8-4785-d048-2337da6e90ef"
      },
      "outputs": [
        {
          "data": {
            "text/plain": [
              "array([2, 4, 6, 8])"
            ]
          },
          "execution_count": 48,
          "metadata": {},
          "output_type": "execute_result"
        }
      ],
      "source": [
        "x"
      ]
    },
    {
      "cell_type": "code",
      "execution_count": 49,
      "metadata": {
        "colab": {
          "base_uri": "https://localhost:8080/"
        },
        "id": "b25qWL2n74Fm",
        "outputId": "c9d50b20-b304-49a6-f6a3-4e931c9d83b3"
      },
      "outputs": [
        {
          "data": {
            "text/plain": [
              "array([False, False,  True,  True])"
            ]
          },
          "execution_count": 49,
          "metadata": {},
          "output_type": "execute_result"
        }
      ],
      "source": [
        "# we can generate an array of booleans for subsetting \n",
        "x > 5"
      ]
    },
    {
      "cell_type": "code",
      "execution_count": 50,
      "metadata": {
        "colab": {
          "base_uri": "https://localhost:8080/"
        },
        "id": "rs6MUNHE8hXP",
        "outputId": "8f807e94-2942-4f54-96c7-2d74c4dbf3f2"
      },
      "outputs": [
        {
          "data": {
            "text/plain": [
              "array([ True,  True, False, False])"
            ]
          },
          "execution_count": 50,
          "metadata": {},
          "output_type": "execute_result"
        }
      ],
      "source": [
        "# we can also do complex logic - logical and\n",
        "np.logical_and(x > 0, x <5)"
      ]
    },
    {
      "cell_type": "code",
      "execution_count": 51,
      "metadata": {
        "colab": {
          "base_uri": "https://localhost:8080/"
        },
        "id": "EUu4QI9n8vMA",
        "outputId": "afb5ab46-ca20-47c4-a530-3d3eacec289d"
      },
      "outputs": [
        {
          "data": {
            "text/plain": [
              "array([ True,  True,  True,  True])"
            ]
          },
          "execution_count": 51,
          "metadata": {},
          "output_type": "execute_result"
        }
      ],
      "source": [
        "# logical or\n",
        "np.logical_or(x > 5, x <7)"
      ]
    },
    {
      "cell_type": "markdown",
      "metadata": {
        "id": "q3lPw6PXSaWa"
      },
      "source": [
        "---"
      ]
    },
    {
      "cell_type": "markdown",
      "metadata": {
        "id": "XZRaQ4aCB26V"
      },
      "source": [
        "#### Discussion on logical_and/or\n",
        "\n",
        "The concept of booleans across our arrays is a really important concept to understand.  This is the foundation for how we filter rows/columns in our data analysis in python (pandas, more specifically).  When slicing (i.e. filtering) our data, we keep the `True` elements.\n",
        "\n",
        "\n"
      ]
    },
    {
      "cell_type": "code",
      "execution_count": 53,
      "metadata": {
        "colab": {
          "base_uri": "https://localhost:8080/"
        },
        "id": "mmEtdU7LRh2s",
        "outputId": "0ee93129-b93c-42e6-fee5-109b13875747"
      },
      "outputs": [
        {
          "name": "stdout",
          "output_type": "stream",
          "text": [
            "(100,)\n"
          ]
        },
        {
          "data": {
            "text/plain": [
              "array([2, 0, 3, 0, 8])"
            ]
          },
          "execution_count": 53,
          "metadata": {},
          "output_type": "execute_result"
        }
      ],
      "source": [
        "# Let's see this in action\n",
        "x = np.random.randint(0, 10, size=100)\n",
        "print(x.shape)\n",
        "x[:5]"
      ]
    },
    {
      "cell_type": "code",
      "execution_count": 55,
      "metadata": {
        "colab": {
          "base_uri": "https://localhost:8080/"
        },
        "id": "dfxplAuOcXYB",
        "outputId": "5a97232e-cc58-4281-d8a1-f36593b1de34"
      },
      "outputs": [
        {
          "data": {
            "text/plain": [
              "1"
            ]
          },
          "execution_count": 55,
          "metadata": {},
          "output_type": "execute_result"
        }
      ],
      "source": [
        "x.ndim"
      ]
    },
    {
      "cell_type": "code",
      "execution_count": 56,
      "metadata": {
        "colab": {
          "base_uri": "https://localhost:8080/"
        },
        "id": "C5N_u0dZRhyK",
        "outputId": "4d50fefc-8327-42c6-f751-ad94fb931e24"
      },
      "outputs": [
        {
          "data": {
            "text/plain": [
              "array([False, False, False, False,  True])"
            ]
          },
          "execution_count": 56,
          "metadata": {},
          "output_type": "execute_result"
        }
      ],
      "source": [
        "# save a variable to store our test results\n",
        "tests = x >= 7\n",
        "tests[:5]"
      ]
    },
    {
      "cell_type": "code",
      "execution_count": 57,
      "metadata": {
        "colab": {
          "base_uri": "https://localhost:8080/"
        },
        "id": "Lmwza2xmRhuu",
        "outputId": "73a14224-3124-4e12-e22f-a76c1f08038c"
      },
      "outputs": [
        {
          "data": {
            "text/plain": [
              "True"
            ]
          },
          "execution_count": 57,
          "metadata": {},
          "output_type": "execute_result"
        }
      ],
      "source": [
        "# confirm that they are the same shape\n",
        "x.shape == tests.shape"
      ]
    },
    {
      "cell_type": "code",
      "execution_count": 59,
      "metadata": {
        "colab": {
          "base_uri": "https://localhost:8080/"
        },
        "id": "72cxkAHLR_Xf",
        "outputId": "836faa90-b67a-4b1c-e18a-fd1124ef0e8f"
      },
      "outputs": [
        {
          "name": "stdout",
          "output_type": "stream",
          "text": [
            "[8 8 7 8 8 8 7 8 8 9 9 7 7 8 8 7 8 8 7 9 7 9 8 9 7 9 7]\n"
          ]
        },
        {
          "data": {
            "text/plain": [
              "(27,)"
            ]
          },
          "execution_count": 59,
          "metadata": {},
          "output_type": "execute_result"
        }
      ],
      "source": [
        "# finally, keep just those that meet our criteria\n",
        "# WE ONLY KEEP THE TRUE\n",
        "keep = x[tests]\n",
        "print(keep)\n",
        "keep.shape"
      ]
    },
    {
      "cell_type": "code",
      "execution_count": 60,
      "metadata": {
        "colab": {
          "base_uri": "https://localhost:8080/"
        },
        "id": "DFS4JIVsc1JQ",
        "outputId": "d931a951-9e6d-461e-b3e2-1c6164d09da6"
      },
      "outputs": [
        {
          "data": {
            "text/plain": [
              "array([8, 8, 7, 8, 8, 8, 7, 8, 8, 9, 9, 7, 7, 8, 8, 7, 8, 8, 7, 9, 7, 9,\n",
              "       8, 9, 7, 9, 7])"
            ]
          },
          "execution_count": 60,
          "metadata": {},
          "output_type": "execute_result"
        }
      ],
      "source": [
        "keep"
      ]
    },
    {
      "cell_type": "markdown",
      "metadata": {
        "id": "r6uvNor8TBYJ"
      },
      "source": [
        "> To see a much larger list of what is possible for logical check in numpy, here are the docs:  https://numpy.org/doc/stable/reference/routines.logic.html"
      ]
    },
    {
      "cell_type": "markdown",
      "metadata": {
        "id": "ArQIfWIbR_Rc"
      },
      "source": [
        "-----\n",
        "-----"
      ]
    },
    {
      "cell_type": "markdown",
      "metadata": {
        "id": "HaG-8wQqZqV-"
      },
      "source": [
        "## Mathematical Operations on Axis\n",
        "\n",
        "Helpful resource:  https://www.sharpsightlabs.com/blog/numpy-axes-explained/\n",
        "\n",
        "![axis](https://i.imgur.com/4aL45nA.png)\n",
        "\n",
        "<br>\n",
        "\n",
        "### What is really happening?\n",
        "\n",
        "<br>\n",
        "\n",
        "Axis 0 = we collapse/summarize *across* the rows\n",
        "\n",
        "![axis0](https://vrzkj25a871bpq7t1ugcgmn9-wpengine.netdna-ssl.com/wp-content/uploads/2018/12/numpy-axes-np-sum-axis-0.png)\n",
        "\n",
        "Axis 1 = we collapse/summarize *across* the columns\n",
        "\n",
        "\n",
        "![axis1](https://vrzkj25a871bpq7t1ugcgmn9-wpengine.netdna-ssl.com/wp-content/uploads/2018/11/numpy-axes-np-sum-axis-1.png)\n"
      ]
    },
    {
      "cell_type": "code",
      "execution_count": 62,
      "metadata": {
        "id": "jZ8gdeE4Zyma"
      },
      "outputs": [],
      "source": [
        "a = np.random.randint(0, 100, size=(3, 7))"
      ]
    },
    {
      "cell_type": "code",
      "execution_count": 63,
      "metadata": {
        "id": "tufg79roCypq"
      },
      "outputs": [
        {
          "data": {
            "text/plain": [
              "array([[56, 33, 77, 40, 88, 99, 32],\n",
              "       [ 9,  3, 68, 10, 80, 18, 44],\n",
              "       [77, 38, 93, 43,  9,  9, 40]])"
            ]
          },
          "execution_count": 63,
          "metadata": {},
          "output_type": "execute_result"
        }
      ],
      "source": [
        "a"
      ]
    },
    {
      "cell_type": "code",
      "execution_count": 64,
      "metadata": {
        "id": "IaLOjQ_bCyuc"
      },
      "outputs": [
        {
          "data": {
            "text/plain": [
              "numpy.ndarray"
            ]
          },
          "execution_count": 64,
          "metadata": {},
          "output_type": "execute_result"
        }
      ],
      "source": [
        "type(a)"
      ]
    },
    {
      "cell_type": "code",
      "execution_count": 65,
      "metadata": {
        "id": "MZwAyXI2Cyxt"
      },
      "outputs": [
        {
          "data": {
            "text/plain": [
              "(3, 7)"
            ]
          },
          "execution_count": 65,
          "metadata": {},
          "output_type": "execute_result"
        }
      ],
      "source": [
        "a.shape"
      ]
    },
    {
      "cell_type": "code",
      "execution_count": 66,
      "metadata": {
        "id": "5p-qCHDgDAi-"
      },
      "outputs": [
        {
          "data": {
            "text/plain": [
              "2"
            ]
          },
          "execution_count": 66,
          "metadata": {},
          "output_type": "execute_result"
        }
      ],
      "source": [
        "a.ndim"
      ]
    },
    {
      "cell_type": "code",
      "execution_count": 67,
      "metadata": {
        "id": "ZUd_tb-vDAnL"
      },
      "outputs": [
        {
          "data": {
            "text/plain": [
              "46.0"
            ]
          },
          "execution_count": 67,
          "metadata": {},
          "output_type": "execute_result"
        }
      ],
      "source": [
        "a.mean()"
      ]
    },
    {
      "cell_type": "code",
      "execution_count": 68,
      "metadata": {
        "id": "QycZFRjuDJXW"
      },
      "outputs": [
        {
          "data": {
            "text/plain": [
              "966"
            ]
          },
          "execution_count": 68,
          "metadata": {},
          "output_type": "execute_result"
        }
      ],
      "source": [
        "a.sum()"
      ]
    },
    {
      "cell_type": "code",
      "execution_count": 69,
      "metadata": {
        "id": "5l02dCyyDJdt"
      },
      "outputs": [
        {
          "data": {
            "text/plain": [
              "99"
            ]
          },
          "execution_count": 69,
          "metadata": {},
          "output_type": "execute_result"
        }
      ],
      "source": [
        "a.max()"
      ]
    },
    {
      "cell_type": "code",
      "execution_count": 70,
      "metadata": {
        "id": "-Sjy-V8ZDJgt"
      },
      "outputs": [
        {
          "data": {
            "text/plain": [
              "3"
            ]
          },
          "execution_count": 70,
          "metadata": {},
          "output_type": "execute_result"
        }
      ],
      "source": [
        "a.min()"
      ]
    },
    {
      "cell_type": "code",
      "execution_count": 73,
      "metadata": {
        "id": "wD6nB3CIDAqE"
      },
      "outputs": [
        {
          "data": {
            "text/plain": [
              "array([142,  74, 238,  93, 177, 126, 116])"
            ]
          },
          "execution_count": 73,
          "metadata": {},
          "output_type": "execute_result"
        }
      ],
      "source": [
        "a.sum(axis=0)"
      ]
    },
    {
      "cell_type": "code",
      "execution_count": 74,
      "metadata": {
        "id": "5hIE4sP7DZGB"
      },
      "outputs": [
        {
          "data": {
            "text/plain": [
              "7"
            ]
          },
          "execution_count": 74,
          "metadata": {},
          "output_type": "execute_result"
        }
      ],
      "source": [
        "len(a.sum(axis=0))"
      ]
    },
    {
      "cell_type": "code",
      "execution_count": 75,
      "metadata": {
        "id": "meQpVBYwDZJ_"
      },
      "outputs": [
        {
          "data": {
            "text/plain": [
              "array([425, 232, 309])"
            ]
          },
          "execution_count": 75,
          "metadata": {},
          "output_type": "execute_result"
        }
      ],
      "source": [
        "a.sum(axis=1)"
      ]
    },
    {
      "cell_type": "code",
      "execution_count": 76,
      "metadata": {
        "id": "SHCGUbAUDZNv"
      },
      "outputs": [
        {
          "name": "stdout",
          "output_type": "stream",
          "text": [
            "[0 7 5 5 2 3 8 9 8 7]\n",
            "[26 30 62 32 71 84 25 48 25 70]\n"
          ]
        }
      ],
      "source": [
        "# array ops\n",
        "x = np.random.randint(0, 10, size=(10))\n",
        "y = np.random.randint(20, 100, size=(10))\n",
        "print(x)\n",
        "print(y)"
      ]
    },
    {
      "cell_type": "code",
      "execution_count": 77,
      "metadata": {
        "id": "e0Yyu0IYDZSM"
      },
      "outputs": [
        {
          "data": {
            "text/plain": [
              "array([-26, -23, -57, -27, -69, -81, -17, -39, -17, -63])"
            ]
          },
          "execution_count": 77,
          "metadata": {},
          "output_type": "execute_result"
        }
      ],
      "source": [
        "x - y"
      ]
    },
    {
      "cell_type": "code",
      "execution_count": 78,
      "metadata": {
        "id": "YRM8-7pBCy0f"
      },
      "outputs": [
        {
          "data": {
            "text/plain": [
              "array([  0, 210, 310, 160, 142, 252, 200, 432, 200, 490])"
            ]
          },
          "execution_count": 78,
          "metadata": {},
          "output_type": "execute_result"
        }
      ],
      "source": [
        "x *y"
      ]
    },
    {
      "cell_type": "code",
      "execution_count": 81,
      "metadata": {
        "id": "yYjuIa3bZvLw"
      },
      "outputs": [
        {
          "name": "stdout",
          "output_type": "stream",
          "text": [
            "[9 1 0 2 2 4 2 9 6]\n",
            "[37 53 63 44 87 48 23 69 73 95]\n"
          ]
        }
      ],
      "source": [
        "x = np.random.randint(0, 10, size=(9))\n",
        "y = np.random.randint(20, 100, size=(10))\n",
        "print(x)\n",
        "print(y)"
      ]
    },
    {
      "cell_type": "code",
      "execution_count": 82,
      "metadata": {
        "id": "Fix4kt7SFjls"
      },
      "outputs": [
        {
          "ename": "ValueError",
          "evalue": "operands could not be broadcast together with shapes (9,) (10,) ",
          "output_type": "error",
          "traceback": [
            "\u001b[0;31m---------------------------------------------------------------------------\u001b[0m",
            "\u001b[0;31mValueError\u001b[0m                                Traceback (most recent call last)",
            "\u001b[0;32m<ipython-input-82-86286c876b5e>\u001b[0m in \u001b[0;36m<module>\u001b[0;34m\u001b[0m\n\u001b[0;32m----> 1\u001b[0;31m \u001b[0mx\u001b[0m \u001b[0;34m-\u001b[0m \u001b[0my\u001b[0m\u001b[0;34m\u001b[0m\u001b[0;34m\u001b[0m\u001b[0m\n\u001b[0m",
            "\u001b[0;31mValueError\u001b[0m: operands could not be broadcast together with shapes (9,) (10,) "
          ]
        }
      ],
      "source": [
        "x - y"
      ]
    },
    {
      "cell_type": "code",
      "execution_count": 83,
      "metadata": {
        "id": "Uy9rD2_OFjuL"
      },
      "outputs": [
        {
          "name": "stdout",
          "output_type": "stream",
          "text": [
            "[9 1 0 2 2 4 2 9 6]\n"
          ]
        }
      ],
      "source": [
        "print(x)"
      ]
    },
    {
      "cell_type": "code",
      "execution_count": 84,
      "metadata": {
        "id": "QBtLw-IBF-Qx"
      },
      "outputs": [
        {
          "data": {
            "text/plain": [
              "array([9, 1, 0, 2, 2, 4, 2, 9, 6])"
            ]
          },
          "execution_count": 84,
          "metadata": {},
          "output_type": "execute_result"
        }
      ],
      "source": [
        "x"
      ]
    },
    {
      "cell_type": "code",
      "execution_count": 86,
      "metadata": {
        "id": "D_AcprxtFjw0"
      },
      "outputs": [
        {
          "data": {
            "text/plain": [
              "2"
            ]
          },
          "execution_count": 86,
          "metadata": {},
          "output_type": "execute_result"
        }
      ],
      "source": [
        "x.argmin()"
      ]
    },
    {
      "cell_type": "code",
      "execution_count": 87,
      "metadata": {
        "id": "W-hfuX0JF82C"
      },
      "outputs": [
        {
          "data": {
            "text/plain": [
              "array([9, 1, 0, 2, 2, 4, 2, 9, 6])"
            ]
          },
          "execution_count": 87,
          "metadata": {},
          "output_type": "execute_result"
        }
      ],
      "source": [
        "# np where\n",
        "x"
      ]
    },
    {
      "cell_type": "code",
      "execution_count": 93,
      "metadata": {
        "id": "rX-eB3FeF8wa"
      },
      "outputs": [
        {
          "data": {
            "text/plain": [
              "array([1, 0, 0, 0, 0, 0, 0, 1, 1])"
            ]
          },
          "execution_count": 93,
          "metadata": {},
          "output_type": "execute_result"
        }
      ],
      "source": [
        "np.where(x >  4, 1, 0)"
      ]
    },
    {
      "cell_type": "markdown",
      "metadata": {
        "id": "idtzMAmLF8ss"
      },
      "source": [
        "\n",
        "> NP where is great for feature engineering because we can evaluate our values and recode the columns however we want"
      ]
    },
    {
      "cell_type": "code",
      "execution_count": 91,
      "metadata": {
        "id": "YjSSRJmoGjfZ"
      },
      "outputs": [
        {
          "data": {
            "text/plain": [
              "(array([0, 7, 8]),)"
            ]
          },
          "execution_count": 91,
          "metadata": {},
          "output_type": "execute_result"
        }
      ],
      "source": [
        "np.where(x > 4)"
      ]
    },
    {
      "cell_type": "markdown",
      "metadata": {
        "id": "nmdnq6SC6irC"
      },
      "source": [
        "# Summary"
      ]
    },
    {
      "cell_type": "markdown",
      "metadata": {
        "id": "9FLjbbWS7TaI"
      },
      "source": [
        "In this notebook, we learned \n",
        "\n",
        "- numpy generates arrays that are very powerful for analysis, and can be thought of enhanced lists\n",
        "\n",
        "- numpy arrays must be of one type, else they will be converted to a singular type\n",
        "\n",
        "- numpy arrays can be multidimensional\n",
        "\n",
        "- numpy arrays can be sliced just like lists, with dimensional slicing occuring `[:, :]`\n",
        "\n",
        "- we can perform mathematical operations using numpy"
      ]
    }
  ],
  "metadata": {
    "colab": {
      "name": "04-IntroToNumpy_Lecture.ipynb",
      "provenance": []
    },
    "interpreter": {
      "hash": "d54f36650e22a68b1e16ad067c04252fc93b1d0cce2a522804985f8fa0dd3c9b"
    },
    "kernelspec": {
      "display_name": "Python 3.9.1 64-bit (conda)",
      "name": "python3"
    },
    "language_info": {
      "codemirror_mode": {
        "name": "ipython",
        "version": 3
      },
      "file_extension": ".py",
      "mimetype": "text/x-python",
      "name": "python",
      "nbconvert_exporter": "python",
      "pygments_lexer": "ipython3",
      "version": "3.9.1"
    }
  },
  "nbformat": 4,
  "nbformat_minor": 0
}