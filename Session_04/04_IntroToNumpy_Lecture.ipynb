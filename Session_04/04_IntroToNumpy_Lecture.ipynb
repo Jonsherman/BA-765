{
  "nbformat": 4,
  "nbformat_minor": 0,
  "metadata": {
    "colab": {
      "name": "04-IntroToNumpy_Lecture.ipynb",
      "provenance": []
    },
    "kernelspec": {
      "name": "python3",
      "display_name": "Python 3"
    },
    "language_info": {
      "name": "python"
    }
  },
  "cells": [
    {
      "cell_type": "code",
      "metadata": {
        "id": "zLRyEYusSCgc"
      },
      "source": [
        ""
      ],
      "execution_count": null,
      "outputs": []
    },
    {
      "cell_type": "markdown",
      "metadata": {
        "id": "Nv45O7jn2Nm4"
      },
      "source": [
        "# About\n",
        "\n",
        "![numpy](https://upload.wikimedia.org/wikipedia/commons/thumb/3/31/NumPy_logo_2020.svg/1200px-NumPy_logo_2020.svg.png)\n",
        "\n",
        "\n",
        "In this notebook we will run through an introduction to [numpy](https://numpy.org/), or numerical python, which is the foundation for the core data analytics and data science ecosystem.\n",
        "\n",
        "\n",
        "\n"
      ]
    },
    {
      "cell_type": "code",
      "metadata": {
        "id": "EjN_pZ7frWT7"
      },
      "source": [
        "# import the library to get started\n",
        "import numpy as np"
      ],
      "execution_count": null,
      "outputs": []
    },
    {
      "cell_type": "markdown",
      "metadata": {
        "id": "9Ttnwfh1o4pR"
      },
      "source": [
        "Numpy is the workhorse underneath a number of our tools that we will be using.  At the core, numpy **arrays** look a lot like `lists` that we worked through last week, except that they have additional properties:\n",
        "\n",
        "1.  numpy arrays can be multi-dimensional \n",
        "\n",
        "2.  numpy arrays allow us to do calculations on each element  at the same time (we can't do this with lists).  This is **element wise** calculations.\n",
        "\n",
        "3.  unlike lists, numpy arrays hold a single **type**\n",
        "\n",
        ">  ***From above, you see that I imported numpy as np.  This is the standard convention.***"
      ]
    },
    {
      "cell_type": "markdown",
      "metadata": {
        "id": "MuaqGkiPK8Ni"
      },
      "source": [
        "# Lists to numpy arrays"
      ]
    },
    {
      "cell_type": "code",
      "metadata": {
        "id": "qYhheUZ2sZne",
        "colab": {
          "base_uri": "https://localhost:8080/"
        },
        "outputId": "2fb7ff66-5b70-40d8-f18b-244c3c9906ba"
      },
      "source": [
        "# create a normal list\n",
        "my_list = [1,2,4,5,6,7]\n",
        "\n",
        "## print out the type and the values\n",
        "print(type(my_list))\n",
        "print(my_list)"
      ],
      "execution_count": null,
      "outputs": [
        {
          "output_type": "stream",
          "text": [
            "<class 'list'>\n",
            "[1, 2, 4, 5, 6, 7]\n"
          ],
          "name": "stdout"
        }
      ]
    },
    {
      "cell_type": "code",
      "metadata": {
        "id": "JtXD2wbttH_z",
        "colab": {
          "base_uri": "https://localhost:8080/"
        },
        "outputId": "d1973815-fced-4ef3-d974-ea927d7362c1"
      },
      "source": [
        "# create a new list and perform some math on it\n",
        "new_list = [1,2,3]\n",
        "new_list"
      ],
      "execution_count": null,
      "outputs": [
        {
          "output_type": "execute_result",
          "data": {
            "text/plain": [
              "[1, 2, 3]"
            ]
          },
          "metadata": {
            "tags": []
          },
          "execution_count": 3
        }
      ]
    },
    {
      "cell_type": "code",
      "metadata": {
        "id": "KTVUDIPStafv",
        "colab": {
          "base_uri": "https://localhost:8080/"
        },
        "outputId": "507e42d5-4acf-4ddd-d452-4cd40208fc4c"
      },
      "source": [
        "# multiple the list by 3\n",
        "new_list * 3"
      ],
      "execution_count": null,
      "outputs": [
        {
          "output_type": "execute_result",
          "data": {
            "text/plain": [
              "[1, 2, 3, 1, 2, 3, 1, 2, 3]"
            ]
          },
          "metadata": {
            "tags": []
          },
          "execution_count": 4
        }
      ]
    },
    {
      "cell_type": "code",
      "metadata": {
        "id": "MVtHqNxDVjyu",
        "colab": {
          "base_uri": "https://localhost:8080/",
          "height": 35
        },
        "outputId": "28a4b9f5-7def-40f1-b1be-9a6027b04abf"
      },
      "source": [
        "\"ba765\"*3"
      ],
      "execution_count": null,
      "outputs": [
        {
          "output_type": "execute_result",
          "data": {
            "application/vnd.google.colaboratory.intrinsic+json": {
              "type": "string"
            },
            "text/plain": [
              "'ba765ba765ba765'"
            ]
          },
          "metadata": {
            "tags": []
          },
          "execution_count": 5
        }
      ]
    },
    {
      "cell_type": "markdown",
      "metadata": {
        "id": "edu7vQ1StufZ"
      },
      "source": [
        "Above shows that just like with `+`, we can repeat the list with `*`"
      ]
    },
    {
      "cell_type": "code",
      "metadata": {
        "id": "UHGc1qpGuCD-",
        "colab": {
          "base_uri": "https://localhost:8080/"
        },
        "outputId": "26274755-d6c2-4688-e1db-de773d1103af"
      },
      "source": [
        "# numpy to the rescue\n",
        "np_arr = np.array(new_list)\n",
        "np_arr"
      ],
      "execution_count": null,
      "outputs": [
        {
          "output_type": "execute_result",
          "data": {
            "text/plain": [
              "array([1, 2, 3])"
            ]
          },
          "metadata": {
            "tags": []
          },
          "execution_count": 11
        }
      ]
    },
    {
      "cell_type": "code",
      "metadata": {
        "id": "-s-FX4QqVwfi",
        "colab": {
          "base_uri": "https://localhost:8080/"
        },
        "outputId": "d5f0d7c7-9120-4b57-b12c-73c9e2fca0fd"
      },
      "source": [
        "type(np_arr)"
      ],
      "execution_count": null,
      "outputs": [
        {
          "output_type": "execute_result",
          "data": {
            "text/plain": [
              "numpy.ndarray"
            ]
          },
          "metadata": {
            "tags": []
          },
          "execution_count": 12
        }
      ]
    },
    {
      "cell_type": "code",
      "metadata": {
        "id": "1LKRnfHVuK-8",
        "colab": {
          "base_uri": "https://localhost:8080/"
        },
        "outputId": "3d0cd2ff-5cfc-4de0-97b6-9a409ba4b6d9"
      },
      "source": [
        "# we converted our list to an numpy array. now lets try it\n",
        "np_arr * 3"
      ],
      "execution_count": null,
      "outputs": [
        {
          "output_type": "execute_result",
          "data": {
            "text/plain": [
              "array([3, 6, 9])"
            ]
          },
          "metadata": {
            "tags": []
          },
          "execution_count": 13
        }
      ]
    },
    {
      "cell_type": "markdown",
      "metadata": {
        "id": "aCixKikfuRaI"
      },
      "source": [
        "While lists and tuples are powerful in base python, and we will use them later in the course, when it really comes to analyzing data, the foundations of the tools that we will use are in **numpy**.\n",
        "\n",
        "Simply, the higher level tools use numpy under the hood, but it's important for us to have a baseline understanding of numpy before we dive into **pandas**."
      ]
    },
    {
      "cell_type": "markdown",
      "metadata": {
        "id": "PGatVu69LHe9"
      },
      "source": [
        "# Numpy Arrays - Single Type Only"
      ]
    },
    {
      "cell_type": "markdown",
      "metadata": {
        "id": "zRXelIi1utYz"
      },
      "source": [
        "Because numpy arrays are built to do calculations, helping us with analyzing data, each array must be of a single type. "
      ]
    },
    {
      "cell_type": "code",
      "metadata": {
        "id": "pyGtpNFiu8Q-",
        "colab": {
          "base_uri": "https://localhost:8080/"
        },
        "outputId": "798b0401-aa84-4e55-e1f3-a16a74c88b8d"
      },
      "source": [
        "# create a normal list\n",
        "normal_list = [1, 'a', True]\n",
        "normal_list"
      ],
      "execution_count": null,
      "outputs": [
        {
          "output_type": "execute_result",
          "data": {
            "text/plain": [
              "[1, 'a', True]"
            ]
          },
          "metadata": {
            "tags": []
          },
          "execution_count": 14
        }
      ]
    },
    {
      "cell_type": "markdown",
      "metadata": {
        "id": "6tyArjH1vC5i"
      },
      "source": [
        "This does what we expected, it printed a list, and if we wanted, we could even have a list within a list, as we learned last week."
      ]
    },
    {
      "cell_type": "code",
      "metadata": {
        "id": "W75FXmbkvUQ8",
        "colab": {
          "base_uri": "https://localhost:8080/"
        },
        "outputId": "af00b681-a810-4d28-f331-7ca7d2b1b1c3"
      },
      "source": [
        "# convert the list to numpy, as we saw above with np.array(<list>)\n",
        "np_convert = np.array(normal_list)\n",
        "np_convert"
      ],
      "execution_count": null,
      "outputs": [
        {
          "output_type": "execute_result",
          "data": {
            "text/plain": [
              "array(['1', 'a', 'True'], dtype='<U21')"
            ]
          },
          "metadata": {
            "tags": []
          },
          "execution_count": 15
        }
      ]
    },
    {
      "cell_type": "code",
      "metadata": {
        "id": "NMqoJWcnWFgZ",
        "colab": {
          "base_uri": "https://localhost:8080/"
        },
        "outputId": "8741ffcc-f15e-4965-a39a-330a4fadb07b"
      },
      "source": [
        "type(np_convert)"
      ],
      "execution_count": null,
      "outputs": [
        {
          "output_type": "execute_result",
          "data": {
            "text/plain": [
              "numpy.ndarray"
            ]
          },
          "metadata": {
            "tags": []
          },
          "execution_count": 16
        }
      ]
    },
    {
      "cell_type": "markdown",
      "metadata": {
        "id": "Mh9NGwVHLT5i"
      },
      "source": [
        "\n",
        "\n",
        "\n",
        "Look at what we have above.  Numpy needs to have all elements in an array be of the same type.  But it didn't error out, nor it did exclude some elements. What did numpy do?"
      ]
    },
    {
      "cell_type": "markdown",
      "metadata": {
        "id": "ZPSjvWdGLca5"
      },
      "source": [
        "# Core numpy features"
      ]
    },
    {
      "cell_type": "markdown",
      "metadata": {
        "id": "lc6mI8l5xxnC"
      },
      "source": [
        "## nd arrays"
      ]
    },
    {
      "cell_type": "code",
      "metadata": {
        "id": "V4316W5uxd5z",
        "colab": {
          "base_uri": "https://localhost:8080/"
        },
        "outputId": "70017535-d25a-4b32-b507-d5d7d82c19a3"
      },
      "source": [
        "# remember a list of lists?\n",
        "lol = [ [1,2], [3,4], [5,6] ]\n",
        "lol"
      ],
      "execution_count": null,
      "outputs": [
        {
          "output_type": "execute_result",
          "data": {
            "text/plain": [
              "[[1, 2], [3, 4], [5, 6]]"
            ]
          },
          "metadata": {
            "tags": []
          },
          "execution_count": 17
        }
      ]
    },
    {
      "cell_type": "code",
      "metadata": {
        "id": "Oq8eLKNeWfTj",
        "colab": {
          "base_uri": "https://localhost:8080/"
        },
        "outputId": "93c00aa4-0731-4500-a8fa-8dd4fbc06f41"
      },
      "source": [
        "lol[0][1]"
      ],
      "execution_count": null,
      "outputs": [
        {
          "output_type": "execute_result",
          "data": {
            "text/plain": [
              "2"
            ]
          },
          "metadata": {
            "tags": []
          },
          "execution_count": 18
        }
      ]
    },
    {
      "cell_type": "code",
      "metadata": {
        "id": "KpX9retqxkDZ",
        "colab": {
          "base_uri": "https://localhost:8080/"
        },
        "outputId": "1dcd29ea-6d1b-461c-8c0d-e8c6f8dd47f0"
      },
      "source": [
        "# bring this into numpy array\n",
        "lol_np = np.array(lol)\n",
        "lol_np"
      ],
      "execution_count": null,
      "outputs": [
        {
          "output_type": "execute_result",
          "data": {
            "text/plain": [
              "array([[1, 2],\n",
              "       [3, 4],\n",
              "       [5, 6]])"
            ]
          },
          "metadata": {
            "tags": []
          },
          "execution_count": 19
        }
      ]
    },
    {
      "cell_type": "code",
      "metadata": {
        "id": "cO66oc8AxZ95",
        "colab": {
          "base_uri": "https://localhost:8080/"
        },
        "outputId": "46fb37fb-93e4-4353-f8bb-6afeffe3a4a4"
      },
      "source": [
        "# what shape is our array\n",
        "lol_np.shape"
      ],
      "execution_count": null,
      "outputs": [
        {
          "output_type": "execute_result",
          "data": {
            "text/plain": [
              "(3, 2)"
            ]
          },
          "metadata": {
            "tags": []
          },
          "execution_count": 20
        }
      ]
    },
    {
      "cell_type": "markdown",
      "metadata": {
        "id": "dLkMkUITx_Pq"
      },
      "source": [
        "> It's not exactly the same, but for now, we can think of this as a 3 row / 2 column Excel worksheet.  The `shape` attribute is something we are going to use quite a bit!\n",
        "\n"
      ]
    },
    {
      "cell_type": "code",
      "metadata": {
        "id": "j2gJ6L7cx_qJ",
        "colab": {
          "base_uri": "https://localhost:8080/"
        },
        "outputId": "8a3bf819-98ab-4721-80cc-9b4ef50582d6"
      },
      "source": [
        "# how many dimensions within the array\n",
        "lol_np.ndim"
      ],
      "execution_count": null,
      "outputs": [
        {
          "output_type": "execute_result",
          "data": {
            "text/plain": [
              "2"
            ]
          },
          "metadata": {
            "tags": []
          },
          "execution_count": 21
        }
      ]
    },
    {
      "cell_type": "code",
      "metadata": {
        "id": "uuGyUxcHx_1F",
        "colab": {
          "base_uri": "https://localhost:8080/"
        },
        "outputId": "b8be6b26-c190-40be-9579-f9143ad68c20"
      },
      "source": [
        "# how many elements total, or the size\n",
        "lol_np.size"
      ],
      "execution_count": null,
      "outputs": [
        {
          "output_type": "execute_result",
          "data": {
            "text/plain": [
              "6"
            ]
          },
          "metadata": {
            "tags": []
          },
          "execution_count": 24
        }
      ]
    },
    {
      "cell_type": "code",
      "metadata": {
        "id": "BHT9cNdFx_9B"
      },
      "source": [
        "# remember, we can always get help\n",
        "lol_np?"
      ],
      "execution_count": null,
      "outputs": []
    },
    {
      "cell_type": "markdown",
      "metadata": {
        "id": "QhBquSRz0C5S"
      },
      "source": [
        "\n",
        "\n",
        "## Slicing"
      ]
    },
    {
      "cell_type": "code",
      "metadata": {
        "id": "FGjame-lXkAw"
      },
      "source": [
        "lol_np"
      ],
      "execution_count": null,
      "outputs": []
    },
    {
      "cell_type": "code",
      "metadata": {
        "id": "hnVVDAbUXm_U",
        "colab": {
          "base_uri": "https://localhost:8080/"
        },
        "outputId": "48317c5b-ac53-4467-f244-47011a77e203"
      },
      "source": [
        "lol_np.shape"
      ],
      "execution_count": null,
      "outputs": [
        {
          "output_type": "execute_result",
          "data": {
            "text/plain": [
              "(3, 2)"
            ]
          },
          "metadata": {
            "tags": []
          },
          "execution_count": 26
        }
      ]
    },
    {
      "cell_type": "code",
      "metadata": {
        "id": "dJgmb8Ku0xFb",
        "colab": {
          "base_uri": "https://localhost:8080/"
        },
        "outputId": "c7adc9a4-35dc-42cd-ddf3-0799bb101a6f"
      },
      "source": [
        "# lets slice the array - include everything\n",
        "lol_np[:]"
      ],
      "execution_count": null,
      "outputs": [
        {
          "output_type": "execute_result",
          "data": {
            "text/plain": [
              "array([[1, 2],\n",
              "       [3, 4],\n",
              "       [5, 6]])"
            ]
          },
          "metadata": {
            "tags": []
          },
          "execution_count": 27
        }
      ]
    },
    {
      "cell_type": "code",
      "metadata": {
        "id": "w58Nkbbt2D_Q",
        "colab": {
          "base_uri": "https://localhost:8080/"
        },
        "outputId": "b2e988ad-7946-48a6-bfee-3b0f5617e783"
      },
      "source": [
        "# get just the first array\n",
        "lol_np[0]"
      ],
      "execution_count": null,
      "outputs": [
        {
          "output_type": "execute_result",
          "data": {
            "text/plain": [
              "array([1, 2])"
            ]
          },
          "metadata": {
            "tags": []
          },
          "execution_count": 28
        }
      ]
    },
    {
      "cell_type": "markdown",
      "metadata": {
        "id": "yeZth8wI1kKv"
      },
      "source": [
        "Multidimenstional arrays can be sliced using a comma separated set of tuples"
      ]
    },
    {
      "cell_type": "code",
      "metadata": {
        "id": "kwU_tqyi01q0",
        "colab": {
          "base_uri": "https://localhost:8080/"
        },
        "outputId": "bb9f0ae4-15e2-4bba-a0f4-bbb86a01f0ef"
      },
      "source": [
        "# return just 5 \n",
        "lol_np[2, 0]"
      ],
      "execution_count": null,
      "outputs": [
        {
          "output_type": "execute_result",
          "data": {
            "text/plain": [
              "5"
            ]
          },
          "metadata": {
            "tags": []
          },
          "execution_count": 29
        }
      ]
    },
    {
      "cell_type": "markdown",
      "metadata": {
        "id": "msfs09Rr3si_"
      },
      "source": [
        "lets look at a larger nd array"
      ]
    },
    {
      "cell_type": "code",
      "metadata": {
        "id": "AMGI7fuJ0_K3",
        "colab": {
          "base_uri": "https://localhost:8080/"
        },
        "outputId": "e33b6b9b-52f1-4ec9-fc55-7c69368a9343"
      },
      "source": [
        "# generate a larger array\n",
        "np.random.seed(765) # for reproducing example\n",
        "x2 = np.random.randint(10, 20, size=(3, 4))\n",
        "x2"
      ],
      "execution_count": null,
      "outputs": [
        {
          "output_type": "execute_result",
          "data": {
            "text/plain": [
              "array([[14, 11, 16, 13],\n",
              "       [10, 16, 13, 12],\n",
              "       [11, 10, 17, 14]])"
            ]
          },
          "metadata": {
            "tags": []
          },
          "execution_count": 30
        }
      ]
    },
    {
      "cell_type": "code",
      "metadata": {
        "id": "dh6UKaRE0x3n",
        "colab": {
          "base_uri": "https://localhost:8080/"
        },
        "outputId": "a5c7e5cc-1231-4a11-97d5-fccf3ee74bc5"
      },
      "source": [
        "# rows/columns\n",
        "x2.shape"
      ],
      "execution_count": null,
      "outputs": [
        {
          "output_type": "execute_result",
          "data": {
            "text/plain": [
              "(3, 4)"
            ]
          },
          "metadata": {
            "tags": []
          },
          "execution_count": 31
        }
      ]
    },
    {
      "cell_type": "code",
      "metadata": {
        "id": "pFjKfkCy3VWF",
        "colab": {
          "base_uri": "https://localhost:8080/"
        },
        "outputId": "e63b769c-b728-410e-ce0b-6613d1840a93"
      },
      "source": [
        "# all \"rows\" and first \"column\"\n",
        "x2[:, 0]"
      ],
      "execution_count": null,
      "outputs": [
        {
          "output_type": "execute_result",
          "data": {
            "text/plain": [
              "array([14, 10, 11])"
            ]
          },
          "metadata": {
            "tags": []
          },
          "execution_count": 32
        }
      ]
    },
    {
      "cell_type": "code",
      "metadata": {
        "id": "tZ4LvXn13gwg",
        "colab": {
          "base_uri": "https://localhost:8080/"
        },
        "outputId": "24dff32c-76d5-4b69-d85e-8c070690ade1"
      },
      "source": [
        "# 2 rows, 3 cols\n",
        "x2[:2, :3]"
      ],
      "execution_count": null,
      "outputs": [
        {
          "output_type": "execute_result",
          "data": {
            "text/plain": [
              "array([[14, 11, 16],\n",
              "       [10, 16, 13]])"
            ]
          },
          "metadata": {
            "tags": []
          },
          "execution_count": 33
        }
      ]
    },
    {
      "cell_type": "code",
      "metadata": {
        "id": "2HlD1XIq4Bvm",
        "colab": {
          "base_uri": "https://localhost:8080/"
        },
        "outputId": "5523ad7d-a142-458d-b9c3-fa3a2c6f2344"
      },
      "source": [
        "# just get one row\n",
        "x2[0]"
      ],
      "execution_count": null,
      "outputs": [
        {
          "output_type": "execute_result",
          "data": {
            "text/plain": [
              "array([14, 11, 16, 13])"
            ]
          },
          "metadata": {
            "tags": []
          },
          "execution_count": 34
        }
      ]
    },
    {
      "cell_type": "code",
      "metadata": {
        "id": "WDz-3zFJ4WRU",
        "colab": {
          "base_uri": "https://localhost:8080/"
        },
        "outputId": "87b092ec-ec8d-4daf-a4b0-a993c892603b"
      },
      "source": [
        "# want to reverse?\n",
        "x2[::-1, ::-1]\n"
      ],
      "execution_count": null,
      "outputs": [
        {
          "output_type": "execute_result",
          "data": {
            "text/plain": [
              "array([[14, 17, 10, 11],\n",
              "       [12, 13, 16, 10],\n",
              "       [13, 16, 11, 14]])"
            ]
          },
          "metadata": {
            "tags": []
          },
          "execution_count": 35
        }
      ]
    },
    {
      "cell_type": "code",
      "metadata": {
        "id": "pWxqI_J_ZAPu",
        "colab": {
          "base_uri": "https://localhost:8080/"
        },
        "outputId": "f2fe0ab7-6065-41bc-fb0a-709729f3166d"
      },
      "source": [
        "x2"
      ],
      "execution_count": null,
      "outputs": [
        {
          "output_type": "execute_result",
          "data": {
            "text/plain": [
              "array([[14, 11, 16, 13],\n",
              "       [10, 16, 13, 12],\n",
              "       [11, 10, 17, 14]])"
            ]
          },
          "metadata": {
            "tags": []
          },
          "execution_count": 36
        }
      ]
    },
    {
      "cell_type": "code",
      "metadata": {
        "id": "pT_SUj3UX0H9",
        "colab": {
          "base_uri": "https://localhost:8080/"
        },
        "outputId": "a5e220e4-740b-4385-9ac2-908c1767ec95"
      },
      "source": [
        "# we can also do math!\n",
        "print(x2.mean())   #mean\n",
        "print(x2.std())    #standard deviation\n",
        "print(x2.max())    #max\n"
      ],
      "execution_count": null,
      "outputs": [
        {
          "output_type": "stream",
          "text": [
            "13.083333333333334\n",
            "2.289771944005681\n",
            "17\n"
          ],
          "name": "stdout"
        }
      ]
    },
    {
      "cell_type": "markdown",
      "metadata": {
        "id": "CD_wgRTmL9OD"
      },
      "source": [
        "---\n"
      ]
    },
    {
      "cell_type": "markdown",
      "metadata": {
        "id": "11EG0KPi4s1o"
      },
      "source": [
        "# Useful methods"
      ]
    },
    {
      "cell_type": "code",
      "metadata": {
        "id": "SbPyHBnUAAbt",
        "colab": {
          "base_uri": "https://localhost:8080/"
        },
        "outputId": "347f0325-3809-4e4c-fa4a-d2001de32fe5"
      },
      "source": [
        "# arange: like range, generate an array of numbers with bounds and spacing\n",
        "x = np.arange(2, 10, 2)\n",
        "x"
      ],
      "execution_count": null,
      "outputs": [
        {
          "output_type": "execute_result",
          "data": {
            "text/plain": [
              "array([2, 4, 6, 8])"
            ]
          },
          "metadata": {
            "tags": []
          },
          "execution_count": 38
        }
      ]
    },
    {
      "cell_type": "code",
      "metadata": {
        "id": "R8bHq99FAEMo",
        "colab": {
          "base_uri": "https://localhost:8080/"
        },
        "outputId": "91f43e12-47e3-4eae-d4b7-2465aa4d1bea"
      },
      "source": [
        "# do some math and finding locations\n",
        "print(\"the mean of the array is {}\".format(str( x.mean() )))   # x.mean()\n",
        "print(\"the largest value in the array is {}\".format(str( x.max() )))   # x.max()\n",
        "print(\"the index for the largest value in the array is {}\".format(str( x.argmax() )))   # x.argmax()\n"
      ],
      "execution_count": null,
      "outputs": [
        {
          "output_type": "stream",
          "text": [
            "the mean of the array is 5.0\n",
            "the largest value in the array is 8\n",
            "the index for the largest value in the array is 3\n"
          ],
          "name": "stdout"
        }
      ]
    },
    {
      "cell_type": "code",
      "metadata": {
        "id": "7scepTyDXOnl",
        "colab": {
          "base_uri": "https://localhost:8080/"
        },
        "outputId": "66461c24-3ba8-4785-d048-2337da6e90ef"
      },
      "source": [
        "x"
      ],
      "execution_count": null,
      "outputs": [
        {
          "output_type": "execute_result",
          "data": {
            "text/plain": [
              "array([2, 4, 6, 8])"
            ]
          },
          "metadata": {
            "tags": []
          },
          "execution_count": 40
        }
      ]
    },
    {
      "cell_type": "code",
      "metadata": {
        "id": "b25qWL2n74Fm",
        "colab": {
          "base_uri": "https://localhost:8080/"
        },
        "outputId": "c9d50b20-b304-49a6-f6a3-4e931c9d83b3"
      },
      "source": [
        "# we can generate an array of booleans for subsetting \n",
        "x > 5"
      ],
      "execution_count": null,
      "outputs": [
        {
          "output_type": "execute_result",
          "data": {
            "text/plain": [
              "array([False, False,  True,  True])"
            ]
          },
          "metadata": {
            "tags": []
          },
          "execution_count": 41
        }
      ]
    },
    {
      "cell_type": "code",
      "metadata": {
        "id": "rs6MUNHE8hXP",
        "colab": {
          "base_uri": "https://localhost:8080/"
        },
        "outputId": "8f807e94-2942-4f54-96c7-2d74c4dbf3f2"
      },
      "source": [
        "# we can also do complex logic - logical and\n",
        "np.logical_and(x > 0, x <5)"
      ],
      "execution_count": null,
      "outputs": [
        {
          "output_type": "execute_result",
          "data": {
            "text/plain": [
              "array([ True,  True, False, False])"
            ]
          },
          "metadata": {
            "tags": []
          },
          "execution_count": 42
        }
      ]
    },
    {
      "cell_type": "code",
      "metadata": {
        "id": "EUu4QI9n8vMA",
        "colab": {
          "base_uri": "https://localhost:8080/"
        },
        "outputId": "afb5ab46-ca20-47c4-a530-3d3eacec289d"
      },
      "source": [
        "# logical or\n",
        "np.logical_or(x > 5, x <7)"
      ],
      "execution_count": null,
      "outputs": [
        {
          "output_type": "execute_result",
          "data": {
            "text/plain": [
              "array([ True,  True,  True,  True])"
            ]
          },
          "metadata": {
            "tags": []
          },
          "execution_count": 43
        }
      ]
    },
    {
      "cell_type": "markdown",
      "metadata": {
        "id": "q3lPw6PXSaWa"
      },
      "source": [
        "---"
      ]
    },
    {
      "cell_type": "markdown",
      "metadata": {
        "id": "XZRaQ4aCB26V"
      },
      "source": [
        "#### Discussion on logical_and/or\n",
        "\n",
        "The concept of booleans across our arrays is a really important concept to understand.  This is the foundation for how we filter rows/columns in our data analysis in python (pandas, more specifically).  When slicing (i.e. filtering) our data, we keep the `True` elements.\n",
        "\n",
        "\n"
      ]
    },
    {
      "cell_type": "code",
      "metadata": {
        "id": "mmEtdU7LRh2s",
        "colab": {
          "base_uri": "https://localhost:8080/"
        },
        "outputId": "0ee93129-b93c-42e6-fee5-109b13875747"
      },
      "source": [
        "# Let's see this in action\n",
        "x = np.random.randint(0, 10, size=100)\n",
        "print(x.shape)\n",
        "x[:5]"
      ],
      "execution_count": null,
      "outputs": [
        {
          "output_type": "stream",
          "text": [
            "(100,)\n"
          ],
          "name": "stdout"
        },
        {
          "output_type": "execute_result",
          "data": {
            "text/plain": [
              "array([4, 0, 1, 8, 3])"
            ]
          },
          "metadata": {
            "tags": []
          },
          "execution_count": 44
        }
      ]
    },
    {
      "cell_type": "code",
      "metadata": {
        "id": "dfxplAuOcXYB",
        "colab": {
          "base_uri": "https://localhost:8080/"
        },
        "outputId": "5a97232e-cc58-4281-d8a1-f36593b1de34"
      },
      "source": [
        "x.ndim"
      ],
      "execution_count": null,
      "outputs": [
        {
          "output_type": "execute_result",
          "data": {
            "text/plain": [
              "1"
            ]
          },
          "metadata": {
            "tags": []
          },
          "execution_count": 45
        }
      ]
    },
    {
      "cell_type": "code",
      "metadata": {
        "id": "C5N_u0dZRhyK",
        "colab": {
          "base_uri": "https://localhost:8080/"
        },
        "outputId": "4d50fefc-8327-42c6-f751-ad94fb931e24"
      },
      "source": [
        "# save a variable to store our test results\n",
        "tests = x >= 7\n",
        "tests[:5]"
      ],
      "execution_count": null,
      "outputs": [
        {
          "output_type": "execute_result",
          "data": {
            "text/plain": [
              "array([False, False, False,  True, False])"
            ]
          },
          "metadata": {
            "tags": []
          },
          "execution_count": 46
        }
      ]
    },
    {
      "cell_type": "code",
      "metadata": {
        "id": "Lmwza2xmRhuu",
        "colab": {
          "base_uri": "https://localhost:8080/"
        },
        "outputId": "73a14224-3124-4e12-e22f-a76c1f08038c"
      },
      "source": [
        "# confirm that they are the same shape\n",
        "x.shape == tests.shape"
      ],
      "execution_count": null,
      "outputs": [
        {
          "output_type": "execute_result",
          "data": {
            "text/plain": [
              "True"
            ]
          },
          "metadata": {
            "tags": []
          },
          "execution_count": 47
        }
      ]
    },
    {
      "cell_type": "code",
      "metadata": {
        "id": "72cxkAHLR_Xf",
        "colab": {
          "base_uri": "https://localhost:8080/"
        },
        "outputId": "836faa90-b67a-4b1c-e18a-fd1124ef0e8f"
      },
      "source": [
        "# finally, keep just those that meet our criteria\n",
        "# WE ONLY KEEP THE TRUE\n",
        "keep = x[tests]\n",
        "keep.shape"
      ],
      "execution_count": null,
      "outputs": [
        {
          "output_type": "execute_result",
          "data": {
            "text/plain": [
              "(27,)"
            ]
          },
          "metadata": {
            "tags": []
          },
          "execution_count": 48
        }
      ]
    },
    {
      "cell_type": "code",
      "metadata": {
        "id": "DFS4JIVsc1JQ",
        "colab": {
          "base_uri": "https://localhost:8080/"
        },
        "outputId": "d931a951-9e6d-461e-b3e2-1c6164d09da6"
      },
      "source": [
        "keep"
      ],
      "execution_count": null,
      "outputs": [
        {
          "output_type": "execute_result",
          "data": {
            "text/plain": [
              "array([8, 7, 8, 7, 7, 8, 8, 8, 9, 7, 9, 8, 9, 8, 7, 7, 7, 8, 8, 8, 8, 7,\n",
              "       8, 9, 7, 9, 7])"
            ]
          },
          "metadata": {
            "tags": []
          },
          "execution_count": 49
        }
      ]
    },
    {
      "cell_type": "markdown",
      "metadata": {
        "id": "r6uvNor8TBYJ"
      },
      "source": [
        "> To see a much larger list of what is possible for logical check in numpy, here are the docs:  https://numpy.org/doc/stable/reference/routines.logic.html"
      ]
    },
    {
      "cell_type": "markdown",
      "metadata": {
        "id": "ArQIfWIbR_Rc"
      },
      "source": [
        "-----\n",
        "-----"
      ]
    },
    {
      "cell_type": "markdown",
      "metadata": {
        "id": "HaG-8wQqZqV-"
      },
      "source": [
        "## Mathematical Operations on Axis\n",
        "\n",
        "Helpful resource:  https://www.sharpsightlabs.com/blog/numpy-axes-explained/\n",
        "\n",
        "![axis](https://i.imgur.com/4aL45nA.png)\n",
        "\n",
        "<br>\n",
        "\n",
        "### What is really happening?\n",
        "\n",
        "<br>\n",
        "\n",
        "Axis 0 = we collapse/summarize *across* the rows\n",
        "\n",
        "![axis0](https://vrzkj25a871bpq7t1ugcgmn9-wpengine.netdna-ssl.com/wp-content/uploads/2018/12/numpy-axes-np-sum-axis-0.png)\n",
        "\n",
        "Axis 1 = we collapse/summarize *across* the columns\n",
        "\n",
        "\n",
        "![axis1](https://vrzkj25a871bpq7t1ugcgmn9-wpengine.netdna-ssl.com/wp-content/uploads/2018/11/numpy-axes-np-sum-axis-1.png)\n"
      ]
    },
    {
      "cell_type": "code",
      "metadata": {
        "id": "jZ8gdeE4Zyma"
      },
      "source": [
        "a = np.random.randint(0, 100, size=(3, 7))"
      ],
      "execution_count": null,
      "outputs": []
    },
    {
      "cell_type": "code",
      "metadata": {
        "id": "tufg79roCypq"
      },
      "source": [
        "a"
      ],
      "execution_count": null,
      "outputs": []
    },
    {
      "cell_type": "code",
      "metadata": {
        "id": "IaLOjQ_bCyuc"
      },
      "source": [
        "type(a)"
      ],
      "execution_count": null,
      "outputs": []
    },
    {
      "cell_type": "code",
      "metadata": {
        "id": "MZwAyXI2Cyxt"
      },
      "source": [
        "a.shape"
      ],
      "execution_count": null,
      "outputs": []
    },
    {
      "cell_type": "code",
      "metadata": {
        "id": "5p-qCHDgDAi-"
      },
      "source": [
        "a.ndim"
      ],
      "execution_count": null,
      "outputs": []
    },
    {
      "cell_type": "code",
      "metadata": {
        "id": "ZUd_tb-vDAnL"
      },
      "source": [
        "a.mean()"
      ],
      "execution_count": null,
      "outputs": []
    },
    {
      "cell_type": "code",
      "metadata": {
        "id": "QycZFRjuDJXW"
      },
      "source": [
        "a.sum()"
      ],
      "execution_count": null,
      "outputs": []
    },
    {
      "cell_type": "code",
      "metadata": {
        "id": "5l02dCyyDJdt"
      },
      "source": [
        "a.max()"
      ],
      "execution_count": null,
      "outputs": []
    },
    {
      "cell_type": "code",
      "metadata": {
        "id": "-Sjy-V8ZDJgt"
      },
      "source": [
        "a.min()"
      ],
      "execution_count": null,
      "outputs": []
    },
    {
      "cell_type": "code",
      "metadata": {
        "id": "wD6nB3CIDAqE"
      },
      "source": [
        "a.sum(axis=0)"
      ],
      "execution_count": null,
      "outputs": []
    },
    {
      "cell_type": "code",
      "metadata": {
        "id": "5hIE4sP7DZGB"
      },
      "source": [
        "len(a.sum(axis=0))"
      ],
      "execution_count": null,
      "outputs": []
    },
    {
      "cell_type": "code",
      "metadata": {
        "id": "meQpVBYwDZJ_"
      },
      "source": [
        "a.sum(axis=1)"
      ],
      "execution_count": null,
      "outputs": []
    },
    {
      "cell_type": "code",
      "metadata": {
        "id": "SHCGUbAUDZNv"
      },
      "source": [
        "# array ops\n",
        "x = np.random.randint(0, 10, size=(10))\n",
        "y = np.random.randint(20, 100, size=(10))\n",
        "print(x)\n",
        "print(y)"
      ],
      "execution_count": null,
      "outputs": []
    },
    {
      "cell_type": "code",
      "metadata": {
        "id": "e0Yyu0IYDZSM"
      },
      "source": [
        "x - y"
      ],
      "execution_count": null,
      "outputs": []
    },
    {
      "cell_type": "code",
      "metadata": {
        "id": "YRM8-7pBCy0f"
      },
      "source": [
        "x *y"
      ],
      "execution_count": null,
      "outputs": []
    },
    {
      "cell_type": "code",
      "metadata": {
        "id": "yYjuIa3bZvLw"
      },
      "source": [
        "x = np.random.randint(0, 10, size=(9))\n",
        "y = np.random.randint(20, 100, size=(10))"
      ],
      "execution_count": null,
      "outputs": []
    },
    {
      "cell_type": "code",
      "metadata": {
        "id": "Fix4kt7SFjls"
      },
      "source": [
        "x - y"
      ],
      "execution_count": null,
      "outputs": []
    },
    {
      "cell_type": "code",
      "metadata": {
        "id": "Uy9rD2_OFjuL"
      },
      "source": [
        "print(x)"
      ],
      "execution_count": null,
      "outputs": []
    },
    {
      "cell_type": "code",
      "metadata": {
        "id": "QBtLw-IBF-Qx"
      },
      "source": [
        "x"
      ],
      "execution_count": null,
      "outputs": []
    },
    {
      "cell_type": "code",
      "metadata": {
        "id": "D_AcprxtFjw0"
      },
      "source": [
        "x.argmax()"
      ],
      "execution_count": null,
      "outputs": []
    },
    {
      "cell_type": "code",
      "metadata": {
        "id": "W-hfuX0JF82C"
      },
      "source": [
        "# np where\n",
        "x"
      ],
      "execution_count": null,
      "outputs": []
    },
    {
      "cell_type": "code",
      "metadata": {
        "id": "rX-eB3FeF8wa"
      },
      "source": [
        "np.where(x >  4, 1, 0)"
      ],
      "execution_count": null,
      "outputs": []
    },
    {
      "cell_type": "markdown",
      "metadata": {
        "id": "idtzMAmLF8ss"
      },
      "source": [
        "\n",
        "> NP where is great for feature engineering because we can evaluate our values and recode the columns however we want"
      ]
    },
    {
      "cell_type": "code",
      "metadata": {
        "id": "YjSSRJmoGjfZ"
      },
      "source": [
        "np.where(x > 4)"
      ],
      "execution_count": null,
      "outputs": []
    },
    {
      "cell_type": "markdown",
      "metadata": {
        "id": "nmdnq6SC6irC"
      },
      "source": [
        "# Summary"
      ]
    },
    {
      "cell_type": "markdown",
      "metadata": {
        "id": "9FLjbbWS7TaI"
      },
      "source": [
        "In this notebook, we learned \n",
        "\n",
        "- numpy generates arrays that are very powerful for analysis, and can be thought of enhanced lists\n",
        "\n",
        "- numpy arrays must be of one type, else they will be converted to a singular type\n",
        "\n",
        "- numpy arrays can be multidimensional\n",
        "\n",
        "- numpy arrays can be sliced just like lists, with dimensional slicing occuring `[:, :]`\n",
        "\n",
        "- we can perform mathematical operations using numpy"
      ]
    }
  ]
}